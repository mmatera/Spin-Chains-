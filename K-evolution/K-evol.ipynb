{
 "cells": [
  {
   "cell_type": "code",
   "execution_count": 1,
   "id": "49fe5b4d",
   "metadata": {},
   "outputs": [],
   "source": [
    "import qutip\n",
    "import matplotlib.pyplot as plt \n",
    "import numpy as np\n",
    "import scipy.optimize as opt \n",
    "import scipy.linalg as linalg\n",
    "import pickle\n",
    "import time as time\n",
    "import math, cmath\n",
    "import auxiliary_library as me\n",
    "\n",
    "from IPython.display import display, Math, Latex"
   ]
  },
  {
   "cell_type": "code",
   "execution_count": 68,
   "id": "b1a08dd1",
   "metadata": {},
   "outputs": [],
   "source": [
    "def H_ij_matrix(size, chain_type, Hamiltonian_parameters, basis):\n",
    "    \n",
    "    one_body_biglist = me.one_body_spin_ops(N)\n",
    "    H_H = me.Heisenberg_Hamiltonian(one_body_biglist, chain_type, size, False, \n",
    "                                    Hamiltonian_parameters[0], Hamiltonian_parameters[1], Hamiltonian_parameters[2], \n",
    "                                    Hamiltonian_parameters[3])\n",
    "    \n",
    "    basis = []\n",
    "    for i in range(len(one_body_biglist)):\n",
    "        for j in range(len(one_body_biglist[i])):\n",
    "            basis.append(one_body_biglist[i][j])\n",
    "    \n",
    "    coeffs_list = [me.mod_HS_inner_prod(op1, commutator(H_H, op2)) for op1 in basis for op2 in basis]\n",
    "        \n",
    "    # convert list to numpy array\n",
    "    coeffs_matrix = np.asarray(coeffs_list)\n",
    "    # reshape array into 4 rows x 2 columns, and transpose the result\n",
    "    coeffs_matrix = coeffs_matrix.reshape(len(basis), len(basis))\n",
    "    \n",
    "    return coeffs_matrix\n",
    "    "
   ]
  },
  {
   "cell_type": "code",
   "execution_count": 83,
   "id": "1a952936",
   "metadata": {},
   "outputs": [
    {
     "data": {
      "text/plain": [
       "array([[0.+0.j        , 0.+0.j        , 0.+0.j        , 0.+0.j        ,\n",
       "        0.+0.j        , 0.+0.j        , 0.+0.j        , 0.+0.j        ],\n",
       "       [0.+0.j        , 0.+0.j        , 0.+0.j        , 0.+0.j        ,\n",
       "        0.+0.j        , 0.+0.j        , 0.+0.j        , 0.+0.j        ],\n",
       "       [0.+0.j        , 0.+0.j        , 0.+0.j        , 0.+0.j        ,\n",
       "        0.+1.57079633j, 0.+0.j        , 0.+0.j        , 0.+0.j        ],\n",
       "       [0.+0.j        , 0.+0.j        , 0.+0.j        , 0.+0.j        ,\n",
       "        0.+0.j        , 0.+1.57079633j, 0.+0.j        , 0.+0.j        ],\n",
       "       [0.+0.j        , 0.+0.j        , 0.-1.57079633j, 0.+0.j        ,\n",
       "        0.+0.j        , 0.+0.j        , 0.+0.j        , 0.+0.j        ],\n",
       "       [0.+0.j        , 0.+0.j        , 0.+0.j        , 0.-1.57079633j,\n",
       "        0.+0.j        , 0.+0.j        , 0.+0.j        , 0.+0.j        ],\n",
       "       [0.+0.j        , 0.+0.j        , 0.+0.j        , 0.+0.j        ,\n",
       "        0.+0.j        , 0.+0.j        , 0.+0.j        , 0.+0.j        ],\n",
       "       [0.+0.j        , 0.+0.j        , 0.+0.j        , 0.+0.j        ,\n",
       "        0.+0.j        , 0.+0.j        , 0.+0.j        , 0.+0.j        ]])"
      ]
     },
     "execution_count": 83,
     "metadata": {},
     "output_type": "execute_result"
    }
   ],
   "source": [
    "N = 2\n",
    "Hparameters = [.15, .25, .1, 1.]\n",
    "one_body_biglist = me.one_body_spin_ops(N)\n",
    "hij = H_ij_matrix(N, \"XYZ\", Hparameters, one_body_biglist)"
   ]
  },
  {
   "cell_type": "code",
   "execution_count": 104,
   "id": "9eae005b",
   "metadata": {},
   "outputs": [
    {
     "data": {
      "text/plain": [
       "[array([0.+0.j]),\n",
       " array([0.+0.j]),\n",
       " array([0.+1.57079633j]),\n",
       " array([0.+1.57079633j]),\n",
       " array([0.-1.57079633j]),\n",
       " array([0.-1.57079633j]),\n",
       " array([0.+0.j]),\n",
       " array([0.+0.j])]"
      ]
     },
     "execution_count": 104,
     "metadata": {},
     "output_type": "execute_result"
    }
   ],
   "source": [
    "def dPhidt(dmatrix):\n",
    "    \n",
    "    vector = np.full((8,1),1)\n",
    "\n",
    "    Lmu = []\n",
    "\n",
    "    for i in range(len(dmatrix)):\n",
    "        Lmu.append(sum(dmatrix[i][b] * vector[b] for b in range(len(hij[0]))))\n",
    "    \n",
    "    return Lmu\n",
    "\n",
    "dPhidt(hij)\n"
   ]
  },
  {
   "cell_type": "code",
   "execution_count": 106,
   "id": "0fcc782a",
   "metadata": {},
   "outputs": [
    {
     "ename": "error",
     "evalue": "The function and its Jacobian must be callable functions.",
     "output_type": "error",
     "traceback": [
      "\u001b[1;31m---------------------------------------------------------------------------\u001b[0m",
      "\u001b[1;31merror\u001b[0m                                     Traceback (most recent call last)",
      "Input \u001b[1;32mIn [106]\u001b[0m, in \u001b[0;36m<cell line: 7>\u001b[1;34m()\u001b[0m\n\u001b[0;32m      4\u001b[0m vector1 \u001b[38;5;241m=\u001b[39m (\u001b[38;5;241m0\u001b[39m,\u001b[38;5;241m0\u001b[39m,\u001b[38;5;241m1\u001b[39m,\u001b[38;5;241m-\u001b[39m\u001b[38;5;241m1\u001b[39m,\u001b[38;5;241m-\u001b[39m\u001b[38;5;241m1\u001b[39m,\u001b[38;5;241m0\u001b[39m,\u001b[38;5;241m0\u001b[39m)\n\u001b[0;32m      6\u001b[0m x \u001b[38;5;241m=\u001b[39m np\u001b[38;5;241m.\u001b[39mlinspace(\u001b[38;5;241m0\u001b[39m, \u001b[38;5;241m1\u001b[39m, \u001b[38;5;241m100\u001b[39m)\n\u001b[1;32m----> 7\u001b[0m sol \u001b[38;5;241m=\u001b[39m \u001b[43modeint\u001b[49m\u001b[43m(\u001b[49m\u001b[43mdPhidt\u001b[49m\u001b[43m(\u001b[49m\u001b[43mhij\u001b[49m\u001b[43m)\u001b[49m\u001b[43m,\u001b[49m\u001b[43m \u001b[49m\u001b[43my0\u001b[49m\u001b[43m \u001b[49m\u001b[38;5;241;43m=\u001b[39;49m\u001b[43m \u001b[49m\u001b[43mvector1\u001b[49m\u001b[43m,\u001b[49m\u001b[43m \u001b[49m\u001b[43mt\u001b[49m\u001b[43m \u001b[49m\u001b[38;5;241;43m=\u001b[39;49m\u001b[43m \u001b[49m\u001b[43mx\u001b[49m\u001b[43m,\u001b[49m\u001b[43m \u001b[49m\u001b[43mtfirst\u001b[49m\u001b[43m \u001b[49m\u001b[38;5;241;43m=\u001b[39;49m\u001b[43m \u001b[49m\u001b[38;5;28;43;01mTrue\u001b[39;49;00m\u001b[43m)\u001b[49m\n",
      "File \u001b[1;32m~\\anaconda3\\lib\\site-packages\\scipy\\integrate\\odepack.py:241\u001b[0m, in \u001b[0;36modeint\u001b[1;34m(func, y0, t, args, Dfun, col_deriv, full_output, ml, mu, rtol, atol, tcrit, h0, hmax, hmin, ixpr, mxstep, mxhnil, mxordn, mxords, printmessg, tfirst)\u001b[0m\n\u001b[0;32m    239\u001b[0m t \u001b[38;5;241m=\u001b[39m copy(t)\n\u001b[0;32m    240\u001b[0m y0 \u001b[38;5;241m=\u001b[39m copy(y0)\n\u001b[1;32m--> 241\u001b[0m output \u001b[38;5;241m=\u001b[39m \u001b[43m_odepack\u001b[49m\u001b[38;5;241;43m.\u001b[39;49m\u001b[43modeint\u001b[49m\u001b[43m(\u001b[49m\u001b[43mfunc\u001b[49m\u001b[43m,\u001b[49m\u001b[43m \u001b[49m\u001b[43my0\u001b[49m\u001b[43m,\u001b[49m\u001b[43m \u001b[49m\u001b[43mt\u001b[49m\u001b[43m,\u001b[49m\u001b[43m \u001b[49m\u001b[43margs\u001b[49m\u001b[43m,\u001b[49m\u001b[43m \u001b[49m\u001b[43mDfun\u001b[49m\u001b[43m,\u001b[49m\u001b[43m \u001b[49m\u001b[43mcol_deriv\u001b[49m\u001b[43m,\u001b[49m\u001b[43m \u001b[49m\u001b[43mml\u001b[49m\u001b[43m,\u001b[49m\u001b[43m \u001b[49m\u001b[43mmu\u001b[49m\u001b[43m,\u001b[49m\n\u001b[0;32m    242\u001b[0m \u001b[43m                         \u001b[49m\u001b[43mfull_output\u001b[49m\u001b[43m,\u001b[49m\u001b[43m \u001b[49m\u001b[43mrtol\u001b[49m\u001b[43m,\u001b[49m\u001b[43m \u001b[49m\u001b[43matol\u001b[49m\u001b[43m,\u001b[49m\u001b[43m \u001b[49m\u001b[43mtcrit\u001b[49m\u001b[43m,\u001b[49m\u001b[43m \u001b[49m\u001b[43mh0\u001b[49m\u001b[43m,\u001b[49m\u001b[43m \u001b[49m\u001b[43mhmax\u001b[49m\u001b[43m,\u001b[49m\u001b[43m \u001b[49m\u001b[43mhmin\u001b[49m\u001b[43m,\u001b[49m\n\u001b[0;32m    243\u001b[0m \u001b[43m                         \u001b[49m\u001b[43mixpr\u001b[49m\u001b[43m,\u001b[49m\u001b[43m \u001b[49m\u001b[43mmxstep\u001b[49m\u001b[43m,\u001b[49m\u001b[43m \u001b[49m\u001b[43mmxhnil\u001b[49m\u001b[43m,\u001b[49m\u001b[43m \u001b[49m\u001b[43mmxordn\u001b[49m\u001b[43m,\u001b[49m\u001b[43m \u001b[49m\u001b[43mmxords\u001b[49m\u001b[43m,\u001b[49m\n\u001b[0;32m    244\u001b[0m \u001b[43m                         \u001b[49m\u001b[38;5;28;43mint\u001b[39;49m\u001b[43m(\u001b[49m\u001b[38;5;28;43mbool\u001b[39;49m\u001b[43m(\u001b[49m\u001b[43mtfirst\u001b[49m\u001b[43m)\u001b[49m\u001b[43m)\u001b[49m\u001b[43m)\u001b[49m\n\u001b[0;32m    245\u001b[0m \u001b[38;5;28;01mif\u001b[39;00m output[\u001b[38;5;241m-\u001b[39m\u001b[38;5;241m1\u001b[39m] \u001b[38;5;241m<\u001b[39m \u001b[38;5;241m0\u001b[39m:\n\u001b[0;32m    246\u001b[0m     warning_msg \u001b[38;5;241m=\u001b[39m _msgs[output[\u001b[38;5;241m-\u001b[39m\u001b[38;5;241m1\u001b[39m]] \u001b[38;5;241m+\u001b[39m \u001b[38;5;124m\"\u001b[39m\u001b[38;5;124m Run with full_output = 1 to get quantitative information.\u001b[39m\u001b[38;5;124m\"\u001b[39m\n",
      "\u001b[1;31merror\u001b[0m: The function and its Jacobian must be callable functions."
     ]
    }
   ],
   "source": [
    "from scipy.integrate import odeint\n",
    "from scipy.integrate import solve_ivp\n",
    "\n",
    "vector1 = (0,0,1,-1,-1,0,0)\n",
    "\n",
    "x = np.linspace(0, 1, 100)\n",
    "sol = odeint(dPhidt(hij), y0 = vector1, t = x, tfirst = True)"
   ]
  },
  {
   "cell_type": "code",
   "execution_count": 72,
   "id": "98f5edbd",
   "metadata": {
    "scrolled": true
   },
   "outputs": [
    {
     "data": {
      "text/plain": [
       "16"
      ]
     },
     "execution_count": 72,
     "metadata": {},
     "output_type": "execute_result"
    }
   ],
   "source": [
    "N = 4\n",
    "Hparameters = [.15, .25, .1, 1.]a\n",
    "one_body_biglist = me.one_body_spin_ops(N)\n",
    "hij = H_ij_matrix(N, \"XYZ\", Hparameters, one_body_biglist)\n",
    "len(hij)"
   ]
  },
  {
   "cell_type": "code",
   "execution_count": 53,
   "id": "c605a45c",
   "metadata": {
    "scrolled": true
   },
   "outputs": [
    {
     "data": {
      "text/latex": [
       "Quantum object: dims = [[2, 2], [2, 2]], shape = (4, 4), type = oper, isherm = True\\begin{equation*}\\left(\\begin{array}{*{11}c}1.0 & 0.0 & 0.0 & 0.0\\\\0.0 & 1.0 & 0.0 & 0.0\\\\0.0 & 0.0 & 1.0 & 0.0\\\\0.0 & 0.0 & 0.0 & 1.0\\\\\\end{array}\\right)\\end{equation*}"
      ],
      "text/plain": [
       "Quantum object: dims = [[2, 2], [2, 2]], shape = (4, 4), type = oper, isherm = True\n",
       "Qobj data =\n",
       "[[1. 0. 0. 0.]\n",
       " [0. 1. 0. 0.]\n",
       " [0. 0. 1. 0.]\n",
       " [0. 0. 0. 1.]]"
      ]
     },
     "execution_count": 53,
     "metadata": {},
     "output_type": "execute_result"
    }
   ],
   "source": [
    "N = 2 \n",
    "Jx = .15; Jy = .25; Jz = .1; h = 1.\n",
    "\n",
    "one_body_biglist = me.one_body_spin_ops(N)\n",
    "two_body_biglist = me.two_body_spin_ops(one_body_biglist, N, True)\n",
    "H_H = me.Heisenberg_Hamiltonian(one_body_biglist, \"XYZ\", N, False, Jx, Jy, Jz, h)\n",
    "\n",
    "def commutator(A, B):\n",
    "    result = 0\n",
    "    #if A.dims[0][0] == B.dims[0][0]: \n",
    "    #    pass\n",
    "    #else:\n",
    "    #    raise Exception(\"Incompatible Qobj dimensions\")\n",
    "    result = A*B-B*A\n",
    "\n",
    "    return result\n",
    "\n",
    "one_body_biglist[0][0]"
   ]
  },
  {
   "cell_type": "code",
   "execution_count": 61,
   "id": "7d4b4f0b",
   "metadata": {},
   "outputs": [
    {
     "data": {
      "text/plain": [
       "8"
      ]
     },
     "execution_count": 61,
     "metadata": {},
     "output_type": "execute_result"
    }
   ],
   "source": [
    "len(basis)"
   ]
  },
  {
   "cell_type": "code",
   "execution_count": 67,
   "id": "0166ae93",
   "metadata": {},
   "outputs": [
    {
     "data": {
      "text/plain": [
       "array([[0.+0.j        , 0.+0.j        , 0.+0.j        , 0.+0.j        ,\n",
       "        0.+0.j        , 0.+0.j        , 0.+0.j        , 0.+0.j        ],\n",
       "       [0.+0.j        , 0.+0.j        , 0.+0.j        , 0.+0.j        ,\n",
       "        0.+0.j        , 0.+0.j        , 0.+0.j        , 0.+0.j        ],\n",
       "       [0.+0.j        , 0.+0.j        , 0.+0.j        , 0.+0.j        ,\n",
       "        0.-3.14159265j, 0.+0.j        , 0.+0.j        , 0.+0.j        ],\n",
       "       [0.+0.j        , 0.+0.j        , 0.+0.j        , 0.+0.j        ,\n",
       "        0.+0.j        , 0.-3.14159265j, 0.+0.j        , 0.+0.j        ],\n",
       "       [0.+0.j        , 0.+0.j        , 0.+3.14159265j, 0.+0.j        ,\n",
       "        0.+0.j        , 0.+0.j        , 0.+0.j        , 0.+0.j        ],\n",
       "       [0.+0.j        , 0.+0.j        , 0.+0.j        , 0.+3.14159265j,\n",
       "        0.+0.j        , 0.+0.j        , 0.+0.j        , 0.+0.j        ],\n",
       "       [0.+0.j        , 0.+0.j        , 0.+0.j        , 0.+0.j        ,\n",
       "        0.+0.j        , 0.+0.j        , 0.+0.j        , 0.+0.j        ],\n",
       "       [0.+0.j        , 0.+0.j        , 0.+0.j        , 0.+0.j        ,\n",
       "        0.+0.j        , 0.+0.j        , 0.+0.j        , 0.+0.j        ]])"
      ]
     },
     "execution_count": 67,
     "metadata": {},
     "output_type": "execute_result"
    }
   ],
   "source": [
    "basis = []\n",
    "for i in range(len(one_body_biglist)):\n",
    "    for j in range(len(one_body_biglist[i])):\n",
    "        basis.append(one_body_biglist[i][j])\n",
    "\n",
    "coeffs_list = [me.mod_HS_inner_prod(op1, commutator(H_H, op2)) for op1 in basis for op2 in basis]\n",
    "coeffs_list\n",
    "\n",
    "# convert list to numpy array\n",
    "coeffs_matrix = np.asarray(coeffs_list)\n",
    "# reshape array into 4 rows x 2 columns, and transpose the result\n",
    "coeffs_matrix = coeffs_matrix.reshape(8, 8).T \n",
    "coeffs_matrix * np.full((8,8), 2)"
   ]
  },
  {
   "cell_type": "code",
   "execution_count": 32,
   "id": "41d9d2d4",
   "metadata": {},
   "outputs": [],
   "source": [
    "N = 2\n",
    "coeff_matrix = [(\"<O\",i, \"[H, Q\", j,\"]>\") for i in range(N) for j in range(N)]\n",
    "coeffs_matrix = [i*j for i in range(N) for j in range(N)]"
   ]
  },
  {
   "cell_type": "code",
   "execution_count": 40,
   "id": "f7318c95",
   "metadata": {
    "scrolled": false
   },
   "outputs": [
    {
     "data": {
      "text/plain": [
       "array([0, 2, 7, 6])"
      ]
     },
     "execution_count": 40,
     "metadata": {},
     "output_type": "execute_result"
    }
   ],
   "source": [
    "data = np.array( [0, 2, 7, 6] )\n",
    "shape = ( 2, 2 )\n",
    "data.reshape( shape )\n",
    "data\n"
   ]
  },
  {
   "cell_type": "code",
   "execution_count": 27,
   "id": "2de24a35",
   "metadata": {
    "scrolled": true
   },
   "outputs": [
    {
     "data": {
      "text/plain": [
       "array([[   2,   10,   20],\n",
       "       [ 200, 4000,  500]])"
      ]
     },
     "execution_count": 27,
     "metadata": {},
     "output_type": "execute_result"
    }
   ],
   "source": [
    "np.array(mat)"
   ]
  },
  {
   "cell_type": "code",
   "execution_count": null,
   "id": "0e69cb68",
   "metadata": {},
   "outputs": [],
   "source": []
  }
 ],
 "metadata": {
  "kernelspec": {
   "display_name": "Python 3 (ipykernel)",
   "language": "python",
   "name": "python3"
  },
  "language_info": {
   "codemirror_mode": {
    "name": "ipython",
    "version": 3
   },
   "file_extension": ".py",
   "mimetype": "text/x-python",
   "name": "python",
   "nbconvert_exporter": "python",
   "pygments_lexer": "ipython3",
   "version": "3.9.12"
  }
 },
 "nbformat": 4,
 "nbformat_minor": 5
}
