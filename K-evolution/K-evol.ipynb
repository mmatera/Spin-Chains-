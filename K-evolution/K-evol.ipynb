{
 "cells": [
  {
   "cell_type": "code",
   "execution_count": 2,
   "id": "49fe5b4d",
   "metadata": {},
   "outputs": [],
   "source": [
    "import qutip\n",
    "import matplotlib.pyplot as plt \n",
    "import numpy as np\n",
    "import scipy.optimize as opt \n",
    "import scipy.linalg as linalg\n",
    "import pickle\n",
    "import time as time\n",
    "import math, cmath\n",
    "import sys\n",
    "import auxiliary_library as me\n",
    "\n",
    "from IPython.display import display, Math, Latex"
   ]
  },
  {
   "cell_type": "code",
   "execution_count": 22,
   "id": "a0c6cc68",
   "metadata": {
    "scrolled": false
   },
   "outputs": [],
   "source": [
    "N = 5\n",
    "\n",
    "spin_ops_list = me.one_body_spin_ops(N)\n",
    "seed_op1 = Mz = sum(spin_ops_list[3][i] for i in range(N))\n",
    "seed_op2 = Sx0Sx1 = spin_ops_list[1][0]*spin_ops_list[1][0+1] + spin_ops_list[1][1]*spin_ops_list[1][0] \n",
    "\n",
    "K = .4*seed_op2\n",
    "rho0 = K.expm()\n",
    "rho0 = rho0/rho0.tr()\n",
    "\n",
    "chain_type = \"XYZ\"\n",
    "Hamiltonian_paras = [.15, .15, .2, 1.]\n",
    "H_H = me.Heisenberg_Hamiltonian(spin_ops_list, \"XYZ\", N, False, Hamiltonian_paras)\n",
    "\n",
    "mk_basis = me.recursive_basis(N, 4, H_H, seed_op2)\n",
    "mk_basis = me.base_orth(mk_basis, rho0)\n",
    "\n",
    "hij_tensor = me.H_ij_matrix(H_H, mk_basis, rho0)"
   ]
  },
  {
   "cell_type": "code",
   "execution_count": 15,
   "id": "d649b31e",
   "metadata": {},
   "outputs": [],
   "source": [
    "from scipy.integrate import odeint\n",
    "\n",
    "def F(y, t, HH):\n",
    "    return HH.dot(y)"
   ]
  },
  {
   "cell_type": "code",
   "execution_count": 27,
   "id": "0c5d13d5",
   "metadata": {
    "scrolled": true
   },
   "outputs": [
    {
     "ename": "ValueError",
     "evalue": "shapes (4,4) and (5,) not aligned: 4 (dim 1) != 5 (dim 0)",
     "output_type": "error",
     "traceback": [
      "\u001b[1;31m---------------------------------------------------------------------------\u001b[0m",
      "\u001b[1;31mValueError\u001b[0m                                Traceback (most recent call last)",
      "Input \u001b[1;32mIn [27]\u001b[0m, in \u001b[0;36m<cell line: 5>\u001b[1;34m()\u001b[0m\n\u001b[0;32m      2\u001b[0m Phi0_vec \u001b[38;5;241m=\u001b[39m [\u001b[38;5;241m.4\u001b[39m] \u001b[38;5;241m+\u001b[39m zero_list\n\u001b[0;32m      4\u001b[0m ts\u001b[38;5;241m=\u001b[39mnp\u001b[38;5;241m.\u001b[39mlinspace(\u001b[38;5;241m0\u001b[39m,\u001b[38;5;241m100\u001b[39m,\u001b[38;5;241m100\u001b[39m)\n\u001b[1;32m----> 5\u001b[0m result \u001b[38;5;241m=\u001b[39m \u001b[43modeint\u001b[49m\u001b[43m(\u001b[49m\u001b[43mfunc\u001b[49m\u001b[38;5;241;43m=\u001b[39;49m\u001b[43mF\u001b[49m\u001b[43m,\u001b[49m\u001b[43m \u001b[49m\u001b[43my0\u001b[49m\u001b[38;5;241;43m=\u001b[39;49m\u001b[43mPhi0_vec\u001b[49m\u001b[43m,\u001b[49m\u001b[43mt\u001b[49m\u001b[38;5;241;43m=\u001b[39;49m\u001b[43mts\u001b[49m\u001b[43m,\u001b[49m\u001b[43margs\u001b[49m\u001b[38;5;241;43m=\u001b[39;49m\u001b[43m(\u001b[49m\u001b[43mhij_tensor\u001b[49m\u001b[43m,\u001b[49m\u001b[43m)\u001b[49m\u001b[43m)\u001b[49m\n\u001b[0;32m      6\u001b[0m plt\u001b[38;5;241m.\u001b[39mfigure(figsize\u001b[38;5;241m=\u001b[39m(\u001b[38;5;241m10\u001b[39m, \u001b[38;5;241m8\u001b[39m))\n\u001b[0;32m      8\u001b[0m \u001b[38;5;66;03m#for i in range(len(markov_basis)):\u001b[39;00m\n\u001b[0;32m      9\u001b[0m \u001b[38;5;66;03m#    plt.plot(result[i], label=r'$\\phi_{(%d)}(t)$'%i)\u001b[39;00m\n",
      "File \u001b[1;32m~\\anaconda3\\lib\\site-packages\\scipy\\integrate\\odepack.py:241\u001b[0m, in \u001b[0;36modeint\u001b[1;34m(func, y0, t, args, Dfun, col_deriv, full_output, ml, mu, rtol, atol, tcrit, h0, hmax, hmin, ixpr, mxstep, mxhnil, mxordn, mxords, printmessg, tfirst)\u001b[0m\n\u001b[0;32m    239\u001b[0m t \u001b[38;5;241m=\u001b[39m copy(t)\n\u001b[0;32m    240\u001b[0m y0 \u001b[38;5;241m=\u001b[39m copy(y0)\n\u001b[1;32m--> 241\u001b[0m output \u001b[38;5;241m=\u001b[39m \u001b[43m_odepack\u001b[49m\u001b[38;5;241;43m.\u001b[39;49m\u001b[43modeint\u001b[49m\u001b[43m(\u001b[49m\u001b[43mfunc\u001b[49m\u001b[43m,\u001b[49m\u001b[43m \u001b[49m\u001b[43my0\u001b[49m\u001b[43m,\u001b[49m\u001b[43m \u001b[49m\u001b[43mt\u001b[49m\u001b[43m,\u001b[49m\u001b[43m \u001b[49m\u001b[43margs\u001b[49m\u001b[43m,\u001b[49m\u001b[43m \u001b[49m\u001b[43mDfun\u001b[49m\u001b[43m,\u001b[49m\u001b[43m \u001b[49m\u001b[43mcol_deriv\u001b[49m\u001b[43m,\u001b[49m\u001b[43m \u001b[49m\u001b[43mml\u001b[49m\u001b[43m,\u001b[49m\u001b[43m \u001b[49m\u001b[43mmu\u001b[49m\u001b[43m,\u001b[49m\n\u001b[0;32m    242\u001b[0m \u001b[43m                         \u001b[49m\u001b[43mfull_output\u001b[49m\u001b[43m,\u001b[49m\u001b[43m \u001b[49m\u001b[43mrtol\u001b[49m\u001b[43m,\u001b[49m\u001b[43m \u001b[49m\u001b[43matol\u001b[49m\u001b[43m,\u001b[49m\u001b[43m \u001b[49m\u001b[43mtcrit\u001b[49m\u001b[43m,\u001b[49m\u001b[43m \u001b[49m\u001b[43mh0\u001b[49m\u001b[43m,\u001b[49m\u001b[43m \u001b[49m\u001b[43mhmax\u001b[49m\u001b[43m,\u001b[49m\u001b[43m \u001b[49m\u001b[43mhmin\u001b[49m\u001b[43m,\u001b[49m\n\u001b[0;32m    243\u001b[0m \u001b[43m                         \u001b[49m\u001b[43mixpr\u001b[49m\u001b[43m,\u001b[49m\u001b[43m \u001b[49m\u001b[43mmxstep\u001b[49m\u001b[43m,\u001b[49m\u001b[43m \u001b[49m\u001b[43mmxhnil\u001b[49m\u001b[43m,\u001b[49m\u001b[43m \u001b[49m\u001b[43mmxordn\u001b[49m\u001b[43m,\u001b[49m\u001b[43m \u001b[49m\u001b[43mmxords\u001b[49m\u001b[43m,\u001b[49m\n\u001b[0;32m    244\u001b[0m \u001b[43m                         \u001b[49m\u001b[38;5;28;43mint\u001b[39;49m\u001b[43m(\u001b[49m\u001b[38;5;28;43mbool\u001b[39;49m\u001b[43m(\u001b[49m\u001b[43mtfirst\u001b[49m\u001b[43m)\u001b[49m\u001b[43m)\u001b[49m\u001b[43m)\u001b[49m\n\u001b[0;32m    245\u001b[0m \u001b[38;5;28;01mif\u001b[39;00m output[\u001b[38;5;241m-\u001b[39m\u001b[38;5;241m1\u001b[39m] \u001b[38;5;241m<\u001b[39m \u001b[38;5;241m0\u001b[39m:\n\u001b[0;32m    246\u001b[0m     warning_msg \u001b[38;5;241m=\u001b[39m _msgs[output[\u001b[38;5;241m-\u001b[39m\u001b[38;5;241m1\u001b[39m]] \u001b[38;5;241m+\u001b[39m \u001b[38;5;124m\"\u001b[39m\u001b[38;5;124m Run with full_output = 1 to get quantitative information.\u001b[39m\u001b[38;5;124m\"\u001b[39m\n",
      "Input \u001b[1;32mIn [15]\u001b[0m, in \u001b[0;36mF\u001b[1;34m(y, t, HH)\u001b[0m\n\u001b[0;32m      3\u001b[0m \u001b[38;5;28;01mdef\u001b[39;00m \u001b[38;5;21mF\u001b[39m(y, t, HH):\n\u001b[1;32m----> 4\u001b[0m     \u001b[38;5;28;01mreturn\u001b[39;00m \u001b[43mHH\u001b[49m\u001b[38;5;241;43m.\u001b[39;49m\u001b[43mdot\u001b[49m\u001b[43m(\u001b[49m\u001b[43my\u001b[49m\u001b[43m)\u001b[49m\n",
      "\u001b[1;31mValueError\u001b[0m: shapes (4,4) and (5,) not aligned: 4 (dim 1) != 5 (dim 0)"
     ]
    }
   ],
   "source": [
    "zero_list = [0 for i in range(len(mk_basis))]\n",
    "Phi0_vec = [.4] + zero_list\n",
    "\n",
    "ts=np.linspace(0,100,100)\n",
    "result = odeint(func=F, y0=Phi0_vec,t=ts,args=(hij_tensor,))\n",
    "plt.figure(figsize=(10, 8))\n",
    "\n",
    "#for i in range(len(markov_basis)):\n",
    "#    plt.plot(result[i], label=r'$\\phi_{(%d)}(t)$'%i)\n",
    "\n",
    "plt.plot(result)\n",
    "\n",
    "plt.xlabel(\"t\")\n",
    "plt.ylabel(\"Phi(t)\")\n",
    "plt.legend()"
   ]
  },
  {
   "cell_type": "code",
   "execution_count": null,
   "id": "31e10ca6",
   "metadata": {},
   "outputs": [],
   "source": []
  },
  {
   "cell_type": "code",
   "execution_count": null,
   "id": "d453d424",
   "metadata": {},
   "outputs": [],
   "source": []
  },
  {
   "cell_type": "code",
   "execution_count": 111,
   "id": "8046f117",
   "metadata": {},
   "outputs": [],
   "source": []
  },
  {
   "cell_type": "code",
   "execution_count": 15,
   "id": "3522e729",
   "metadata": {},
   "outputs": [
    {
     "data": {
      "text/plain": [
       "[[2, 2, 2], [2, 2, 2]]"
      ]
     },
     "execution_count": 15,
     "metadata": {},
     "output_type": "execute_result"
    }
   ],
   "source": [
    "basis = recursive_basis(5, H_H, Sx0Sx1)\n",
    "basis[0] == Sx0Sx1\n",
    "basis[1] == me.commutator(H_H, Sx0Sx1)\n",
    "basis[2] == me.commutator(H_H, me.commutator(H_H, Sx0Sx1))\n",
    "basis[3] == me.commutator(H_H, me.commutator(H_H, me.commutator(H_H, Sx0Sx1)))\n",
    "basis[4] == me.commutator(H_H, me.commutator(H_H, me.commutator(H_H, me.commutator(H_H, Sx0Sx1))))"
   ]
  },
  {
   "cell_type": "code",
   "execution_count": null,
   "id": "171431e5",
   "metadata": {},
   "outputs": [],
   "source": []
  },
  {
   "cell_type": "code",
   "execution_count": null,
   "id": "a764b659",
   "metadata": {},
   "outputs": [],
   "source": []
  },
  {
   "cell_type": "code",
   "execution_count": 124,
   "id": "74776754",
   "metadata": {},
   "outputs": [
    {
     "data": {
      "text/plain": [
       "True"
      ]
     },
     "execution_count": 124,
     "metadata": {},
     "output_type": "execute_result"
    }
   ],
   "source": [
    "basis = mk_basis\n",
    "basis[0] == Sx0Sx1\n",
    "basis[1] == me.commutator(H_H, Sx0Sx1)\n",
    "basis[2] == me.commutator(H_H, me.commutator(H_H, Sx0Sx1))\n",
    "basis[3] == me.commutator(H_H, me.commutator(H_H, me.commutator(H_H, Sx0Sx1)))\n",
    "basis[4] == me.commutator(H_H, me.commutator(H_H, me.commutator(H_H, me.commutator(H_H, Sx0Sx1))))"
   ]
  },
  {
   "cell_type": "code",
   "execution_count": 2,
   "id": "2d81c7c7",
   "metadata": {},
   "outputs": [],
   "source": [
    "N = 3\n",
    "\n",
    "spin_ops_list = me.one_body_spin_ops(N)\n",
    "\n",
    "Mz = sum(spin_ops_list[3][i] for i in range(N))\n",
    "Sx0Sx1 = spin_ops_list[1][0]*spin_ops_list[1][0+1] + spin_ops_list[1][1]*spin_ops_list[1][0] \n",
    "\n",
    "K = .5*Mz + .5*Sx0Sx1\n",
    "rho0 = K.expm()\n",
    "\n",
    "chain_type = \"XYZ\"\n",
    "Hamiltonian_paras = [.15, .15, .2, 1.]\n",
    "\n",
    "#H_H, markov_basis = me.Hamiltonian_and_basis_obs(N, spin_ops_list, chain_type, Hamiltonian_paras, True)\n",
    "\n",
    "H_H = me.Heisenberg_Hamiltonian(spin_ops_list, \"XYZ\", N, False, Hamiltonian_paras)\n",
    "\n",
    "markov_basis = [Mz, Sx0Sx1]\n",
    "markov_basis = me.base_orth(markov_basis, rho0)\n",
    "\n",
    "t0_weights, rho0 = me.initial_conditions(markov_basis)\n",
    "hij_tensor = me.H_ij_matrix(H_H, markov_basis, rho0)\n",
    "hij_tensor"
   ]
  },
  {
   "cell_type": "code",
   "execution_count": 3,
   "id": "ff2e2a7d",
   "metadata": {},
   "outputs": [
    {
     "data": {
      "text/plain": [
       "array([[ 0.00000000e+00,  0.00000000e+00],\n",
       "       [ 1.04083409e-17, -3.25260652e-19]])"
      ]
     },
     "execution_count": 3,
     "metadata": {},
     "output_type": "execute_result"
    }
   ],
   "source": [
    "hij_tensor"
   ]
  },
  {
   "cell_type": "code",
   "execution_count": 50,
   "id": "0498a4a0",
   "metadata": {},
   "outputs": [],
   "source": [
    "N = 4\n",
    "chain_type = \"XXZ\"\n",
    "\n",
    "#sx_list = me.one_body_spin_ops(N)[1]\n",
    "#sz_list = me.one_body_spin_ops(N)[3]\n",
    "\n",
    "big_list = me.one_body_spin_ops(N)\n",
    "Hamiltonian_paras = [.15, .15, .2, 1.]\n",
    "\n",
    "H_H, markov_basis = me.Hamiltonian_and_basis_obs(N, big_list, chain_type, Hamiltonian_paras, True)\n",
    "t0_weights, rho0 = me.initial_conditions(markov_basis)\n",
    "hij_tensor = me.H_ij_matrix(H_H, markov_basis, rho0)\n",
    "\n",
    "#y0 = np.array([np.random.rand() for i in hij_tensor])\n",
    "ts=np.linspace(0,100,100)"
   ]
  },
  {
   "cell_type": "code",
   "execution_count": 51,
   "id": "4fdba520",
   "metadata": {},
   "outputs": [],
   "source": [
    "from scipy.integrate import odeint\n",
    "\n",
    "def F(y, t, HH):\n",
    "    return HH.dot(y)\n",
    "\n",
    "result = odeint(func=F, y0=t0_weights,t=ts,args=(hij_tensor,))"
   ]
  },
  {
   "cell_type": "code",
   "execution_count": 62,
   "id": "f10a1e35",
   "metadata": {},
   "outputs": [
    {
     "data": {
      "text/plain": [
       "array([0.35624577, 0.35624577, 0.35624577, 0.35624577, 0.35624577,\n",
       "       0.35624577, 0.35624577, 0.35624577, 0.35624577, 0.35624577,\n",
       "       0.35624577, 0.35624577, 0.35624577, 0.35624577, 0.35624577,\n",
       "       0.35624577, 0.35624577, 0.35624577, 0.35624577, 0.35624577,\n",
       "       0.35624577, 0.35624577, 0.35624577, 0.35624577, 0.35624577,\n",
       "       0.35624577, 0.35624577, 0.35624577, 0.35624577, 0.35624577,\n",
       "       0.35624577, 0.35624577, 0.35624577, 0.35624577, 0.35624577,\n",
       "       0.35624577, 0.35624577, 0.35624577, 0.35624577, 0.35624577,\n",
       "       0.35624577, 0.35624577, 0.35624577, 0.35624577, 0.35624577,\n",
       "       0.35624577, 0.35624577, 0.35624577, 0.35624577, 0.35624577,\n",
       "       0.35624577, 0.35624577, 0.35624577, 0.35624577, 0.35624577,\n",
       "       0.35624577, 0.35624577, 0.35624577, 0.35624577, 0.35624577,\n",
       "       0.35624577, 0.35624577, 0.35624577, 0.35624577, 0.35624577,\n",
       "       0.35624577, 0.35624577, 0.35624577, 0.35624577, 0.35624577,\n",
       "       0.35624577, 0.35624577, 0.35624577, 0.35624577, 0.35624577,\n",
       "       0.35624577, 0.35624577, 0.35624577, 0.35624577, 0.35624577,\n",
       "       0.35624577, 0.35624577, 0.35624577, 0.35624577, 0.35624577,\n",
       "       0.35624577, 0.35624577, 0.35624577, 0.35624577, 0.35624577,\n",
       "       0.35624577, 0.35624577, 0.35624577, 0.35624577, 0.35624577,\n",
       "       0.35624577, 0.35624577, 0.35624577, 0.35624577, 0.35624577])"
      ]
     },
     "execution_count": 62,
     "metadata": {},
     "output_type": "execute_result"
    }
   ],
   "source": [
    "result[:,0]"
   ]
  },
  {
   "cell_type": "code",
   "execution_count": 59,
   "id": "3ac5b35f",
   "metadata": {
    "scrolled": true
   },
   "outputs": [
    {
     "name": "stderr",
     "output_type": "stream",
     "text": [
      "WARNING:matplotlib.legend:No artists with labels found to put in legend.  Note that artists whose label start with an underscore are ignored when legend() is called with no argument.\n"
     ]
    },
    {
     "data": {
      "text/plain": [
       "<matplotlib.legend.Legend at 0x18ae9560cd0>"
      ]
     },
     "execution_count": 59,
     "metadata": {},
     "output_type": "execute_result"
    },
    {
     "data": {
      "image/png": "[encoded data removed]",
      "text/plain": [
       "<Figure size 720x576 with 1 Axes>"
      ]
     },
     "metadata": {
      "needs_background": "light"
     },
     "output_type": "display_data"
    }
   ],
   "source": [
    "from scipy.integrate import odeint\n",
    "\n",
    "def F(y, t, HH):\n",
    "    return HH.dot(y)\n",
    "\n",
    "result = odeint(func=F, y0=t0_weights,t=ts,args=(hij_tensor,))\n",
    "plt.figure(figsize=(10, 8))\n",
    "\n",
    "#for i in range(len(markov_basis)):\n",
    "#    plt.plot(result[i], label=r'$\\phi_{(%d)}(t)$'%i)\n",
    "\n",
    "plt.plot(result)\n",
    "\n",
    "plt.xlabel(\"t\")\n",
    "plt.ylabel(\"Phi(t)\")\n",
    "plt.legend()"
   ]
  },
  {
   "cell_type": "code",
   "execution_count": 58,
   "id": "c2067aec",
   "metadata": {},
   "outputs": [
    {
     "data": {
      "text/plain": [
       "array([ True, False,  True,  True,  True, False, False, False, False])"
      ]
     },
     "execution_count": 58,
     "metadata": {},
     "output_type": "execute_result"
    }
   ],
   "source": []
  },
  {
   "cell_type": "code",
   "execution_count": 42,
   "id": "4fafb9e4",
   "metadata": {},
   "outputs": [],
   "source": [
    "def rhot_ev(coeff_t_ev, basis):\n",
    "    \n",
    "    rhot = []\n",
    "\n",
    "    for t in range(len(result[1])):\n",
    "        rho_at_time_t = 0\n",
    "        rho_at_time_t += sum(result[n][1] * markov_basis[n] for n in range(len(result)))\n",
    "        rhot.append(rho_at_time_t)\n",
    "    \n",
    "    return rhot\n",
    "        "
   ]
  },
  {
   "cell_type": "code",
   "execution_count": 33,
   "id": "5660f715",
   "metadata": {
    "scrolled": true
   },
   "outputs": [
    {
     "ename": "IndexError",
     "evalue": "list index out of range",
     "output_type": "error",
     "traceback": [
      "\u001b[1;31m---------------------------------------------------------------------------\u001b[0m",
      "\u001b[1;31mIndexError\u001b[0m                                Traceback (most recent call last)",
      "Input \u001b[1;32mIn [33]\u001b[0m, in \u001b[0;36m<cell line: 1>\u001b[1;34m()\u001b[0m\n\u001b[1;32m----> 1\u001b[0m \u001b[43mrhot_ev\u001b[49m\u001b[43m(\u001b[49m\u001b[43mresult\u001b[49m\u001b[43m,\u001b[49m\u001b[43m \u001b[49m\u001b[43mmarkov_basis\u001b[49m\u001b[43m)\u001b[49m\n",
      "Input \u001b[1;32mIn [32]\u001b[0m, in \u001b[0;36mrhot_ev\u001b[1;34m(coeff_t_ev, basis)\u001b[0m\n\u001b[0;32m      5\u001b[0m \u001b[38;5;28;01mfor\u001b[39;00m t \u001b[38;5;129;01min\u001b[39;00m \u001b[38;5;28mrange\u001b[39m(\u001b[38;5;28mlen\u001b[39m(result[\u001b[38;5;241m1\u001b[39m])):\n\u001b[0;32m      6\u001b[0m     rho_at_time_t \u001b[38;5;241m=\u001b[39m \u001b[38;5;241m0\u001b[39m\n\u001b[1;32m----> 7\u001b[0m     rho_at_time_t \u001b[38;5;241m+\u001b[39m\u001b[38;5;241m=\u001b[39m \u001b[38;5;28;43msum\u001b[39;49m\u001b[43m(\u001b[49m\u001b[43mresult\u001b[49m\u001b[43m[\u001b[49m\u001b[43mn\u001b[49m\u001b[43m]\u001b[49m\u001b[43m[\u001b[49m\u001b[38;5;241;43m1\u001b[39;49m\u001b[43m]\u001b[49m\u001b[43m \u001b[49m\u001b[38;5;241;43m*\u001b[39;49m\u001b[43m \u001b[49m\u001b[43mmarkov_basis\u001b[49m\u001b[43m[\u001b[49m\u001b[43mn\u001b[49m\u001b[43m]\u001b[49m\u001b[43m \u001b[49m\u001b[38;5;28;43;01mfor\u001b[39;49;00m\u001b[43m \u001b[49m\u001b[43mn\u001b[49m\u001b[43m \u001b[49m\u001b[38;5;129;43;01min\u001b[39;49;00m\u001b[43m \u001b[49m\u001b[38;5;28;43mrange\u001b[39;49m\u001b[43m(\u001b[49m\u001b[38;5;28;43mlen\u001b[39;49m\u001b[43m(\u001b[49m\u001b[43mresult\u001b[49m\u001b[43m)\u001b[49m\u001b[43m)\u001b[49m\u001b[43m)\u001b[49m\n\u001b[0;32m      8\u001b[0m     rhot\u001b[38;5;241m.\u001b[39mappend(rho_at_time_t)\n\u001b[0;32m     10\u001b[0m \u001b[38;5;28;01mreturn\u001b[39;00m rhot\n",
      "Input \u001b[1;32mIn [32]\u001b[0m, in \u001b[0;36m<genexpr>\u001b[1;34m(.0)\u001b[0m\n\u001b[0;32m      5\u001b[0m \u001b[38;5;28;01mfor\u001b[39;00m t \u001b[38;5;129;01min\u001b[39;00m \u001b[38;5;28mrange\u001b[39m(\u001b[38;5;28mlen\u001b[39m(result[\u001b[38;5;241m1\u001b[39m])):\n\u001b[0;32m      6\u001b[0m     rho_at_time_t \u001b[38;5;241m=\u001b[39m \u001b[38;5;241m0\u001b[39m\n\u001b[1;32m----> 7\u001b[0m     rho_at_time_t \u001b[38;5;241m+\u001b[39m\u001b[38;5;241m=\u001b[39m \u001b[38;5;28msum\u001b[39m(result[n][\u001b[38;5;241m1\u001b[39m] \u001b[38;5;241m*\u001b[39m \u001b[43mmarkov_basis\u001b[49m\u001b[43m[\u001b[49m\u001b[43mn\u001b[49m\u001b[43m]\u001b[49m \u001b[38;5;28;01mfor\u001b[39;00m n \u001b[38;5;129;01min\u001b[39;00m \u001b[38;5;28mrange\u001b[39m(\u001b[38;5;28mlen\u001b[39m(result)))\n\u001b[0;32m      8\u001b[0m     rhot\u001b[38;5;241m.\u001b[39mappend(rho_at_time_t)\n\u001b[0;32m     10\u001b[0m \u001b[38;5;28;01mreturn\u001b[39;00m rhot\n",
      "\u001b[1;31mIndexError\u001b[0m: list index out of range"
     ]
    }
   ],
   "source": [
    "rhot_ev(result, markov_basis)"
   ]
  },
  {
   "cell_type": "code",
   "execution_count": null,
   "id": "cb71eff8",
   "metadata": {
    "scrolled": false
   },
   "outputs": [],
   "source": [
    "<O>(t)\n",
    "\n",
    "d/dt <O> = <[H,O]>\n",
    "d/dt <[H,O]> = <[H, [H,O]]>\n",
    "d/dt <[H,[H,O]]> = <[H, [H,[H,O]]>\n"
   ]
  },
  {
   "cell_type": "code",
   "execution_count": null,
   "id": "877aa9c5",
   "metadata": {},
   "outputs": [],
   "source": []
  },
  {
   "cell_type": "code",
   "execution_count": 72,
   "id": "0c1a7064",
   "metadata": {},
   "outputs": [
    {
     "data": {
      "text/plain": [
       "[Quantum object: dims = [[2, 2], [2, 2]], shape = (4, 4), type = oper, isherm = True\n",
       " Qobj data =\n",
       " [[1. 0. 0. 0.]\n",
       "  [0. 1. 0. 0.]\n",
       "  [0. 0. 1. 0.]\n",
       "  [0. 0. 0. 1.]],\n",
       " Quantum object: dims = [[2, 2], [2, 2]], shape = (4, 4), type = oper, isherm = True\n",
       " Qobj data =\n",
       " [[1. 0. 0. 0.]\n",
       "  [0. 1. 0. 0.]\n",
       "  [0. 0. 1. 0.]\n",
       "  [0. 0. 0. 1.]]]"
      ]
     },
     "execution_count": 72,
     "metadata": {},
     "output_type": "execute_result"
    }
   ],
   "source": [
    "spin_big_list = me.one_body_spin_ops(2)\n",
    "spin_big_list[0]"
   ]
  },
  {
   "cell_type": "code",
   "execution_count": 2,
   "id": "86c0bfb1",
   "metadata": {},
   "outputs": [
    {
     "ename": "AttributeError",
     "evalue": "module 'auxiliary_library' has no attribute 'classical_spin_ops'",
     "output_type": "error",
     "traceback": [
      "\u001b[1;31m---------------------------------------------------------------------------\u001b[0m",
      "\u001b[1;31mAttributeError\u001b[0m                            Traceback (most recent call last)",
      "Input \u001b[1;32mIn [2]\u001b[0m, in \u001b[0;36m<cell line: 1>\u001b[1;34m()\u001b[0m\n\u001b[1;32m----> 1\u001b[0m \u001b[43mme\u001b[49m\u001b[38;5;241;43m.\u001b[39;49m\u001b[43mclassical_spin_ops\u001b[49m\n",
      "\u001b[1;31mAttributeError\u001b[0m: module 'auxiliary_library' has no attribute 'classical_spin_ops'"
     ]
    }
   ],
   "source": [
    "me.classical_spin_ops"
   ]
  },
  {
   "cell_type": "code",
   "execution_count": 4,
   "id": "6725379b",
   "metadata": {},
   "outputs": [
    {
     "name": "stdout",
     "output_type": "stream",
     "text": [
      "Two-body Gaussian initial state chosen\n",
      "two-body operator chosen\n",
      "Closed evolution chosen\n",
      "sampling: 300\n",
      "--- 22.87425947189331 seconds ---\n",
      "Two-body Gaussian initial state chosen\n",
      "two-body operator chosen\n",
      "Closed evolution chosen\n",
      "sampling: 300\n",
      "--- 43.025468587875366 seconds ---\n"
     ]
    },
    {
     "data": {
      "text/plain": [
       "<matplotlib.legend.Legend at 0x22cfa7d0af0>"
      ]
     },
     "execution_count": 4,
     "metadata": {},
     "output_type": "execute_result"
    },
    {
     "data": {
      "image/png": "[encoded data removed]",
      "text/plain": [
       "<Figure size 720x576 with 1 Axes>"
      ]
     },
     "metadata": {
      "needs_background": "light"
     },
     "output_type": "display_data"
    }
   ],
   "source": [
    "start_time = time.time()\n",
    "H_paras = [.15, .25, .1, 1.]\n",
    "size = 5\n",
    "\n",
    "resultsA, title = me.spin_chain_ev(size = size, chain_type = \"XYZ\", Hamiltonian_paras = H_paras, \n",
    "                                omega_1=3., omega_2=3., temp=1, tmax = 150, deltat = 10,  \n",
    "                                two_body_basis = True, unitary_ev = True, gamma = 3*np.pi*-1,\n",
    "                                gaussian = True, gr = 2, xng = .7, do_project = True)\n",
    "\n",
    "print(\"--- %s seconds ---\" % (time.time() - start_time))\n",
    "\n",
    "resultsB, title = me.spin_chain_ev(size = size, chain_type = \"XYZ\", Hamiltonian_paras = H_paras, \n",
    "                                omega_1=3., omega_2=3., temp=1, tmax = 150, deltat = 10,  \n",
    "                                two_body_basis = True, unitary_ev = True, gamma = 3*np.pi*-1,\n",
    "                                gaussian = True, gr = 2, xng = .7, do_project = False)\n",
    "\n",
    "print(\"--- %s seconds ---\" % (time.time() - start_time))\n",
    "\n",
    "plt.figure(figsize=(10, 8))\n",
    "plt.plot(resultsA[\"ts\"], resultsA[\"averages\"][:,0], label=\"x Projected\", color = \"blue\")\n",
    "plt.scatter(resultsB[\"ts\"], resultsB[\"averages\"][:,0], label=\"x exact\", color = \"red\")\n",
    "\n",
    "plt.xlabel(\"t\")\n",
    "plt.ylabel(\"Avgs\")\n",
    "\n",
    "plt.title(title)\n",
    "plt.legend()"
   ]
  },
  {
   "cell_type": "markdown",
   "id": "3870a237",
   "metadata": {},
   "source": [
    "# https://stackoverflow.com/questions/52317000/how-to-reshape-a-2d-numpy-array-or-qobj-into-dims-2-2-2-2\n"
   ]
  },
  {
   "cell_type": "code",
   "execution_count": null,
   "id": "e310ca1c",
   "metadata": {},
   "outputs": [],
   "source": [
    "s2 = q.Qobj(q.maximally_mixed_dm(4).data.toarray().reshape((4,4)),\n",
    "            dims=[[2,2],[2,2]])"
   ]
  },
  {
   "cell_type": "code",
   "execution_count": 28,
   "id": "4322fe7d",
   "metadata": {},
   "outputs": [
    {
     "data": {
      "text/latex": [
       "Quantum object: dims = [[2, 2, 2, 2, 2], [2, 2, 2, 2, 2]], shape = (32, 32), type = oper, isherm = True\\begin{equation*}\\left(\\begin{array}{*{11}c}1.0 & 0.0 & 0.0 & 0.0 & 0.0 & \\cdots & 0.0 & 0.0 & 0.0 & 0.0 & 0.0\\\\0.0 & 1.0 & 0.0 & 0.0 & 0.0 & \\cdots & 0.0 & 0.0 & 0.0 & 0.0 & 0.0\\\\0.0 & 0.0 & 1.0 & 0.0 & 0.0 & \\cdots & 0.0 & 0.0 & 0.0 & 0.0 & 0.0\\\\0.0 & 0.0 & 0.0 & 1.0 & 0.0 & \\cdots & 0.0 & 0.0 & 0.0 & 0.0 & 0.0\\\\0.0 & 0.0 & 0.0 & 0.0 & 1.0 & \\cdots & 0.0 & 0.0 & 0.0 & 0.0 & 0.0\\\\\\vdots & \\vdots & \\vdots & \\vdots & \\vdots & \\ddots & \\vdots & \\vdots & \\vdots & \\vdots & \\vdots\\\\0.0 & 0.0 & 0.0 & 0.0 & 0.0 & \\cdots & 1.0 & 0.0 & 0.0 & 0.0 & 0.0\\\\0.0 & 0.0 & 0.0 & 0.0 & 0.0 & \\cdots & 0.0 & 1.0 & 0.0 & 0.0 & 0.0\\\\0.0 & 0.0 & 0.0 & 0.0 & 0.0 & \\cdots & 0.0 & 0.0 & 1.0 & 0.0 & 0.0\\\\0.0 & 0.0 & 0.0 & 0.0 & 0.0 & \\cdots & 0.0 & 0.0 & 0.0 & 1.0 & 0.0\\\\0.0 & 0.0 & 0.0 & 0.0 & 0.0 & \\cdots & 0.0 & 0.0 & 0.0 & 0.0 & 1.0\\\\\\end{array}\\right)\\end{equation*}"
      ],
      "text/plain": [
       "Quantum object: dims = [[2, 2, 2, 2, 2], [2, 2, 2, 2, 2]], shape = (32, 32), type = oper, isherm = True\n",
       "Qobj data =\n",
       "[[1. 0. 0. ... 0. 0. 0.]\n",
       " [0. 1. 0. ... 0. 0. 0.]\n",
       " [0. 0. 1. ... 0. 0. 0.]\n",
       " ...\n",
       " [0. 0. 0. ... 1. 0. 0.]\n",
       " [0. 0. 0. ... 0. 1. 0.]\n",
       " [0. 0. 0. ... 0. 0. 1.]]"
      ]
     },
     "execution_count": 28,
     "metadata": {},
     "output_type": "execute_result"
    }
   ],
   "source": [
    "loc_globalid = qutip.tensor([qutip.qeye(2) for k in range(5)])\n",
    "loc_globalid"
   ]
  },
  {
   "cell_type": "code",
   "execution_count": 29,
   "id": "a9db5dcc",
   "metadata": {
    "scrolled": true
   },
   "outputs": [
    {
     "ename": "ValueError",
     "evalue": "cannot reshape array of size 32 into shape (32,32)",
     "output_type": "error",
     "traceback": [
      "\u001b[1;31m---------------------------------------------------------------------------\u001b[0m",
      "\u001b[1;31mValueError\u001b[0m                                Traceback (most recent call last)",
      "Input \u001b[1;32mIn [29]\u001b[0m, in \u001b[0;36m<cell line: 2>\u001b[1;34m()\u001b[0m\n\u001b[0;32m      1\u001b[0m rho1 \u001b[38;5;241m=\u001b[39m resultsA[\u001b[38;5;124m\"\u001b[39m\u001b[38;5;124mState ev\u001b[39m\u001b[38;5;124m\"\u001b[39m][\u001b[38;5;241m1\u001b[39m]\n\u001b[1;32m----> 2\u001b[0m \u001b[43mrho1\u001b[49m\u001b[38;5;241;43m.\u001b[39;49m\u001b[43mreshape\u001b[49m\u001b[43m(\u001b[49m\u001b[38;5;241;43m32\u001b[39;49m\u001b[43m,\u001b[49m\u001b[38;5;241;43m32\u001b[39;49m\u001b[43m)\u001b[49m\n",
      "\u001b[1;31mValueError\u001b[0m: cannot reshape array of size 32 into shape (32,32)"
     ]
    }
   ],
   "source": [
    "rho1 = resultsA[\"State ev\"][1]\n",
    "rho1.reshape(32,32)"
   ]
  },
  {
   "cell_type": "code",
   "execution_count": 15,
   "id": "9b5c38de",
   "metadata": {
    "scrolled": true
   },
   "outputs": [
    {
     "ename": "AttributeError",
     "evalue": "'numpy.ndarray' object has no attribute 'Qobj'",
     "output_type": "error",
     "traceback": [
      "\u001b[1;31m---------------------------------------------------------------------------\u001b[0m",
      "\u001b[1;31mAttributeError\u001b[0m                            Traceback (most recent call last)",
      "Input \u001b[1;32mIn [15]\u001b[0m, in \u001b[0;36m<cell line: 1>\u001b[1;34m()\u001b[0m\n\u001b[1;32m----> 1\u001b[0m rho0 \u001b[38;5;241m=\u001b[39m \u001b[43mrho0\u001b[49m\u001b[38;5;241;43m.\u001b[39;49m\u001b[43mQobj\u001b[49m(rho0\u001b[38;5;241m.\u001b[39mdata\u001b[38;5;241m.\u001b[39mtoarray()\u001b[38;5;241m.\u001b[39mreshape((\u001b[38;5;241m4\u001b[39m,\u001b[38;5;241m4\u001b[39m)), dims \u001b[38;5;241m=\u001b[39m [[\u001b[38;5;241m2\u001b[39m,\u001b[38;5;241m2\u001b[39m,\u001b[38;5;241m2\u001b[39m,\u001b[38;5;241m2\u001b[39m,\u001b[38;5;241m2\u001b[39m],[\u001b[38;5;241m2\u001b[39m,\u001b[38;5;241m2\u001b[39m,\u001b[38;5;241m2\u001b[39m,\u001b[38;5;241m2\u001b[39m,\u001b[38;5;241m2\u001b[39m]])\n",
      "\u001b[1;31mAttributeError\u001b[0m: 'numpy.ndarray' object has no attribute 'Qobj'"
     ]
    }
   ],
   "source": [
    "rho0 = rho0.Qobj(rho0.data.toarray().reshape((4,4)), dims = [[2,2,2,2,2],[2,2,2,2,2]])"
   ]
  },
  {
   "cell_type": "code",
   "execution_count": 6,
   "id": "bfcc9863",
   "metadata": {},
   "outputs": [
    {
     "data": {
      "text/plain": [
       "<matplotlib.legend.Legend at 0x200440f3880>"
      ]
     },
     "execution_count": 6,
     "metadata": {},
     "output_type": "execute_result"
    },
    {
     "data": {
      "image/png": "[encoded data removed]",
      "text/plain": [
       "<Figure size 720x576 with 1 Axes>"
      ]
     },
     "metadata": {
      "needs_background": "light"
     },
     "output_type": "display_data"
    }
   ],
   "source": [
    "plot_labels = [\"p \", \"Comm-xp \", \"Corr-xp \", \"p_dot \"]\n",
    "\n",
    "plt.figure(figsize=(10, 8))\n",
    "for n in range(4):\n",
    "    plt.plot(resultsA[\"ts\"], resultsA[\"averages\"][:,n+1], label=plot_labels[n] + \"Projected\")\n",
    "    plt.scatter(resultsB[\"ts\"], resultsB[\"averages\"][:,n+1], label=plot_labels[n] + \"Exact\")\n",
    "    \n",
    "plt.xlabel(\"t\")\n",
    "plt.ylabel(\"Avgs\")\n",
    "plt.title(title)\n",
    "plt.legend()"
   ]
  },
  {
   "cell_type": "code",
   "execution_count": null,
   "id": "699ee55d",
   "metadata": {},
   "outputs": [],
   "source": []
  }
 ],
 "metadata": {
  "kernelspec": {
   "display_name": "Python 3 (ipykernel)",
   "language": "python",
   "name": "python3"
  },
  "language_info": {
   "codemirror_mode": {
    "name": "ipython",
    "version": 3
   },
   "file_extension": ".py",
   "mimetype": "text/x-python",
   "name": "python",
   "nbconvert_exporter": "python",
   "pygments_lexer": "ipython3",
   "version": "3.9.12"
  }
 },
 "nbformat": 4,
 "nbformat_minor": 5
}
