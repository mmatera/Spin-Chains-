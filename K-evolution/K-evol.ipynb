{
 "cells": [
  {
   "cell_type": "code",
   "execution_count": 1,
   "id": "49fe5b4d",
   "metadata": {},
   "outputs": [],
   "source": [
    "import qutip\n",
    "import matplotlib.pyplot as plt \n",
    "import numpy as np\n",
    "import scipy.optimize as opt \n",
    "import scipy.linalg as linalg\n",
    "import pickle\n",
    "import time as time\n",
    "import math, cmath\n",
    "import sys\n",
    "import auxiliary_library as me\n",
    "\n",
    "from IPython.display import display, Math, Latex"
   ]
  },
  {
   "cell_type": "code",
   "execution_count": 2,
   "id": "97ff62ab",
   "metadata": {},
   "outputs": [
    {
     "data": {
      "text/latex": [
       "$\\langle \\sigma^x_0 \\sigma^x_1 \\rangle^\\rho = .5 Tr \\bigg(\\rho (A^\\dagger A + A A^\\dagger)\\bigg)$"
      ],
      "text/plain": [
       "<IPython.core.display.Latex object>"
      ]
     },
     "metadata": {},
     "output_type": "display_data"
    }
   ],
   "source": [
    "### 1. armar un test que chequee que la base sea ortonormal y hermÃ­tica y que den \n",
    "       ## reales los productos. \n",
    "### 2. chequar que la semilla y la identidad no cambien en lo posible.\n",
    "### 3. fijarse de agregar un coeficiente inicial a la base que acompaÃ±e a la identidad global \n",
    "### 4. \n",
    "\n",
    "display(Latex(f'$\\\\langle \\\\sigma^x_0 \\\\sigma^x_1 \\\\rangle^\\\\rho = .5 Tr \\\\bigg(\\\\rho (A^\\\\dagger A + A A^\\\\dagger)\\\\bigg)$')) "
   ]
  },
  {
   "cell_type": "code",
   "execution_count": 94,
   "id": "d571b45a",
   "metadata": {
    "scrolled": true
   },
   "outputs": [
    {
     "data": {
      "text/latex": [
       "Quantum object: dims = [[2, 2, 2, 2], [2, 2, 2, 2]], shape = (16, 16), type = oper, isherm = False\\begin{equation*}\\left(\\begin{array}{*{11}c}0.0 & 0.0 & 0.0 & 0.079 & 0.0 & \\cdots & 0.0 & 0.079 & 0.0 & 0.0 & 0.0\\\\0.0 & 0.0 & 0.0 & 0.0 & 0.0 & \\cdots & 0.0 & 0.0 & 0.079 & 0.0 & 0.0\\\\0.0 & 0.0 & 0.0 & 0.0 & 0.0 & \\cdots & 0.0 & 0.0 & 0.0 & 0.079 & 0.0\\\\-0.079 & 0.0 & 0.0 & 0.0 & 0.0 & \\cdots & 0.0 & 0.0 & 0.0 & 0.0 & 0.079\\\\0.0 & 0.0 & 0.0 & 0.0 & 0.0 & \\cdots & 0.0 & 0.0 & 0.0 & 0.0 & 0.0\\\\\\vdots & \\vdots & \\vdots & \\vdots & \\vdots & \\ddots & \\vdots & \\vdots & \\vdots & \\vdots & \\vdots\\\\0.0 & 0.0 & 0.0 & 0.0 & 0.0 & \\cdots & 0.0 & 0.0 & 0.0 & 0.0 & 0.0\\\\-0.079 & 0.0 & 0.0 & 0.0 & 0.0 & \\cdots & 0.0 & 0.0 & 0.0 & 0.0 & 0.079\\\\0.0 & -0.079 & 0.0 & 0.0 & 0.0 & \\cdots & 0.0 & 0.0 & 0.0 & 0.0 & 0.0\\\\0.0 & 0.0 & -0.079 & 0.0 & 0.0 & \\cdots & 0.0 & 0.0 & 0.0 & 0.0 & 0.0\\\\0.0 & 0.0 & 0.0 & -0.079 & 0.0 & \\cdots & 0.0 & -0.079 & 0.0 & 0.0 & 0.0\\\\\\end{array}\\right)\\end{equation*}"
      ],
      "text/plain": [
       "Quantum object: dims = [[2, 2, 2, 2], [2, 2, 2, 2]], shape = (16, 16), type = oper, isherm = False\n",
       "Qobj data =\n",
       "[[ 0.          0.          0.          0.07853982  0.          0.\n",
       "   0.07853982  0.          0.          0.          0.          0.\n",
       "   0.07853982  0.          0.          0.        ]\n",
       " [ 0.          0.          0.          0.          0.          0.\n",
       "   0.          0.07853982  0.          0.          0.          0.\n",
       "   0.          0.07853982  0.          0.        ]\n",
       " [ 0.          0.          0.          0.          0.          0.\n",
       "   0.          0.          0.          0.          0.          0.\n",
       "   0.          0.          0.07853982  0.        ]\n",
       " [-0.07853982  0.          0.          0.          0.          0.\n",
       "   0.          0.          0.          0.          0.          0.\n",
       "   0.          0.          0.          0.07853982]\n",
       " [ 0.          0.          0.          0.          0.          0.\n",
       "   0.          0.07853982  0.          0.          0.          0.\n",
       "   0.          0.          0.          0.        ]\n",
       " [ 0.          0.          0.          0.          0.          0.\n",
       "   0.          0.          0.          0.          0.          0.\n",
       "   0.          0.          0.          0.        ]\n",
       " [-0.07853982  0.          0.          0.          0.          0.\n",
       "   0.          0.          0.          0.          0.          0.\n",
       "   0.          0.          0.          0.        ]\n",
       " [ 0.         -0.07853982  0.          0.         -0.07853982  0.\n",
       "   0.          0.          0.          0.          0.          0.\n",
       "   0.          0.          0.          0.        ]\n",
       " [ 0.          0.          0.          0.          0.          0.\n",
       "   0.          0.          0.          0.          0.          0.07853982\n",
       "   0.          0.          0.07853982  0.        ]\n",
       " [ 0.          0.          0.          0.          0.          0.\n",
       "   0.          0.          0.          0.          0.          0.\n",
       "   0.          0.          0.          0.07853982]\n",
       " [ 0.          0.          0.          0.          0.          0.\n",
       "   0.          0.          0.          0.          0.          0.\n",
       "   0.          0.          0.          0.        ]\n",
       " [ 0.          0.          0.          0.          0.          0.\n",
       "   0.          0.         -0.07853982  0.          0.          0.\n",
       "   0.          0.          0.          0.        ]\n",
       " [-0.07853982  0.          0.          0.          0.          0.\n",
       "   0.          0.          0.          0.          0.          0.\n",
       "   0.          0.          0.          0.07853982]\n",
       " [ 0.         -0.07853982  0.          0.          0.          0.\n",
       "   0.          0.          0.          0.          0.          0.\n",
       "   0.          0.          0.          0.        ]\n",
       " [ 0.          0.         -0.07853982  0.          0.          0.\n",
       "   0.          0.         -0.07853982  0.          0.          0.\n",
       "   0.          0.          0.          0.        ]\n",
       " [ 0.          0.          0.         -0.07853982  0.          0.\n",
       "   0.          0.          0.         -0.07853982  0.          0.\n",
       "  -0.07853982  0.          0.          0.        ]]"
      ]
     },
     "execution_count": 94,
     "metadata": {},
     "output_type": "execute_result"
    }
   ],
   "source": [
    "global_magnetization * H_H - H_H * global_magnetization"
   ]
  },
  {
   "cell_type": "code",
   "execution_count": 93,
   "id": "3ca37e13",
   "metadata": {},
   "outputs": [
    {
     "name": "stdout",
     "output_type": "stream",
     "text": [
      "Seed operator is hermitian\n",
      "<sx0sx1>_rhoF =  0.031088250442899076\n",
      "<new(sx0sx1)>_rhoF =  0.0\n",
      "At this step, the (non-orthonormal)-basis has 5 non-zero operators\n",
      "At this step, the orthonormal-basis has 4 non-zero operators\n",
      "The 3 -th operator is non-hermitian \n",
      "\n",
      "Not mean-normalized operator at 1 -th level\n",
      "1.4142135623730956\n",
      "<rhoF * mk_basis[ 0 ] > =  0.0\n",
      "<rhoF * mk_basis[ 1 ] > =  1.4142135623730956\n",
      "<rhoF * mk_basis[ 2 ] > =  0.0\n",
      "<rhoF * mk_basis[ 3 ] > =  -1.3877787807814457e-16\n"
     ]
    }
   ],
   "source": [
    "N = 4\n",
    "modified_HS_prod = False\n",
    "basis_depth = 3\n",
    "\n",
    "spin_ops_list = me.one_body_spin_ops(N)\n",
    "globalid = spin_ops_list[0][0]\n",
    "normalized_globalid = globalid/globalid.tr()\n",
    "\n",
    "global_magnetization = sum(spin_ops_list[3][a] for a in range(len(spin_ops_list[3])))\n",
    "Neel_operator = sum((-1)**(a) * spin_ops_list[3][a] for a in range(len(spin_ops_list[3])))\n",
    "\n",
    "chain_type = \"XXX\"\n",
    "Hamiltonian_paras = [.1, .15, .2, 0]\n",
    "H_H = me.Heisenberg_Hamiltonian(spin_ops_list, \"XYZ\", N, False, Hamiltonian_paras)\n",
    "\n",
    "### Hypothesized final density state\n",
    "\n",
    "sx0sx1 = spin_ops_list[1][0] * spin_ops_list[1][1]\n",
    "\n",
    "if qutip.isherm(sx0sx1):\n",
    "    print(\"Seed operator is hermitian\")\n",
    "else:\n",
    "    print(\"Seed operator not hermitian\")\n",
    "\n",
    "x = .5\n",
    "K = (x * sx0sx1 + (1-x) * globalid)\n",
    "rhoF = K.expm()\n",
    "rhoF = rhoF/rhoF.tr()\n",
    "inv_rhoF = (-K).expm()\n",
    "inv_rhoF = inv_rhoF/inv_rhoF.tr()\n",
    "\n",
    "if (me.is_density_op(rhoF)):\n",
    "    pass\n",
    "else:\n",
    "    sys.exit(\"rhoF is not a density op\") \n",
    "    \n",
    "if (me.is_density_op(inv_rhoF)):\n",
    "    pass\n",
    "else:\n",
    "    sys.exit(\"inv_rhoF is not a density op\") \n",
    "\n",
    "### Checking if the sx0sx1's rhoF-weighted average is zero:\n",
    "\n",
    "print(\"<sx0sx1>_rhoF = \", (rhoF * sx0sx1).tr())\n",
    "\n",
    "### It is not, so then I redefine it so that it has zero rhoF-weighted average\n",
    "\n",
    "sx0sx1 = (rhoF * sx0sx1).tr() - sx0sx1\n",
    "\n",
    "print(\"<new(sx0sx1)>_rhoF = \", (rhoF * sx0sx1).tr())\n",
    "\n",
    "### Then, the seed operator has zero rhoF-weighted average and sigma=1-standard deviation.\n",
    "### It's then chosen to be the seed operator\n",
    "\n",
    "seed_op = sx0sx1\n",
    "basis = []\n",
    "basis.append(seed_op)\n",
    "basis.append(globalid)\n",
    "\n",
    "basis += me.recursive_basis(N, basis_depth, H_H, seed_op, rhoF)\n",
    "print(\"At this step, the (non-orthonormal)-basis has\", len(basis), \"non-zero operators\")\n",
    "\n",
    "mk_basis = me.base_orth(basis, rhoF)\n",
    "\n",
    "print(\"At this step, the orthonormal-basis has\", len(mk_basis), \"non-zero operators\")\n",
    "\n",
    "gram_matrix = me.basis_orthonormality_check(mk_basis, rhoF)\n",
    "\n",
    "for i in range(len(mk_basis)):\n",
    "    print(\"<rhoF * mk_basis[\", i, \"] > = \",(mk_basis[i] * rhoF).tr())\n",
    "\n",
    "hij_tensor = me.H_ij_matrix(H_H, mk_basis, rhoF)[1]"
   ]
  },
  {
   "cell_type": "code",
   "execution_count": 6,
   "id": "52f4b834",
   "metadata": {},
   "outputs": [
    {
     "data": {
      "text/plain": [
       "-4.425584264998356j"
      ]
     },
     "execution_count": 6,
     "metadata": {},
     "output_type": "execute_result"
    }
   ],
   "source": [
    "(me.HS_inner_prod(mk_basis[0], me.commutator(H_H, mk_basis[2]), rhoF))"
   ]
  },
  {
   "cell_type": "code",
   "execution_count": 91,
   "id": "c1987332",
   "metadata": {},
   "outputs": [
    {
     "data": {
      "text/plain": [
       "0.0"
      ]
     },
     "execution_count": 91,
     "metadata": {},
     "output_type": "execute_result"
    }
   ],
   "source": [
    "(rho0 * (H_H.dag() * mk_basis[2] + mk_basis[2] * H_H.dag())).tr()"
   ]
  },
  {
   "cell_type": "code",
   "execution_count": 11,
   "id": "318d9f8c",
   "metadata": {
    "scrolled": true
   },
   "outputs": [],
   "source": [
    "#basis\n",
    "mk_basis0_control = []\n",
    "rho0 = rhoF\n",
    "mk_basis0_control.append([me.HS_inner_prod(mk_basis[0], me.commutator(H_H, op2), rho0) for op2 in mk_basis])\n",
    "mk_basis0_control.append([me.HS_inner_prod(mk_basis[1], me.commutator(H_H, op2), rho0) for op2 in mk_basis])\n",
    "mk_basis0_control.append([me.HS_inner_prod(mk_basis[2], me.commutator(H_H, op2), rho0) for op2 in mk_basis])\n",
    "mk_basis0_control.append( [me.HS_inner_prod(mk_basis[3], me.commutator(H_H, op2), rho0) for op2 in mk_basis])\n",
    "#mk_basis0_control.append( [me.mod_HS_inner_prod(basis[4], me.commutator(H_H, op2), rho0) for op2 in basis])"
   ]
  },
  {
   "cell_type": "code",
   "execution_count": 12,
   "id": "f4b088e4",
   "metadata": {},
   "outputs": [
    {
     "data": {
      "text/plain": [
       "[[0.0, 0.0, -4.425584264998356j, 0.009399788139638598],\n",
       " [0.0, 0.0, 0.5546397789058013j, -0.0011780357357024512],\n",
       " [4.495094925269287j, 0.0, -0.009539530247869576, 4.49137728779385j],\n",
       " [6.661338147750939e-16, 0.0, -4.49137728779385j, 0.009423772420693699]]"
      ]
     },
     "execution_count": 12,
     "metadata": {},
     "output_type": "execute_result"
    }
   ],
   "source": [
    "mk_basis0_control"
   ]
  },
  {
   "cell_type": "code",
   "execution_count": 7,
   "id": "eab6322c",
   "metadata": {
    "scrolled": true
   },
   "outputs": [
    {
     "data": {
      "text/latex": [
       "Quantum object: dims = [[4], [4]], shape = (4, 4), type = oper, isherm = False\\begin{equation*}\\left(\\begin{array}{*{11}c}0.0 & 0.0 & -4.426j & 0.009\\\\0.0 & 0.0 & 0.555j & -0.001\\\\4.495j & 0.0 & -0.010 & 4.491j\\\\6.661\\times10^{-16} & 0.0 & -4.491j & 0.009\\\\\\end{array}\\right)\\end{equation*}"
      ],
      "text/plain": [
       "Quantum object: dims = [[4], [4]], shape = (4, 4), type = oper, isherm = False\n",
       "Qobj data =\n",
       "[[ 0.00000000e+00+0.j          0.00000000e+00+0.j\n",
       "   0.00000000e+00-4.42558426j  9.39978814e-03+0.j        ]\n",
       " [ 0.00000000e+00+0.j          0.00000000e+00+0.j\n",
       "   0.00000000e+00+0.55463978j -1.17803574e-03+0.j        ]\n",
       " [ 0.00000000e+00+4.49509493j  0.00000000e+00+0.j\n",
       "  -9.53953025e-03+0.j          0.00000000e+00+4.49137729j]\n",
       " [ 6.66133815e-16+0.j          0.00000000e+00+0.j\n",
       "   0.00000000e+00-4.49137729j  9.42377242e-03+0.j        ]]"
      ]
     },
     "execution_count": 7,
     "metadata": {},
     "output_type": "execute_result"
    }
   ],
   "source": [
    "qutip.Qobj(hij_tensor)"
   ]
  },
  {
   "cell_type": "code",
   "execution_count": 20,
   "id": "85df4821",
   "metadata": {},
   "outputs": [],
   "source": [
    "real_hij_tensor = (np.real(hij_tensor))"
   ]
  },
  {
   "cell_type": "code",
   "execution_count": 21,
   "id": "d649b31e",
   "metadata": {},
   "outputs": [],
   "source": [
    "from scipy.integrate import odeint\n",
    "\n",
    "def F(y, t, H_tensor):\n",
    "    return H_tensor.dot(y)"
   ]
  },
  {
   "cell_type": "code",
   "execution_count": 42,
   "id": "afe3c6ba",
   "metadata": {},
   "outputs": [
    {
     "data": {
      "text/plain": [
       "array([[ 5.00000000e-01,  0.00000000e+00,  0.00000000e+00,\n",
       "         0.00000000e+00],\n",
       "       [ 5.00000000e-01, -4.96829257e-20,  0.00000000e+00,\n",
       "         1.67767747e-16],\n",
       "       [ 5.00000000e-01, -1.98906651e-19,  0.00000000e+00,\n",
       "         3.36331777e-16],\n",
       "       [ 5.00000000e-01, -4.26098316e-19,  0.00000000e+00,\n",
       "         5.05519516e-16],\n",
       "       [ 5.00000000e-01, -1.20763858e-18,  0.00000000e+00,\n",
       "         6.79141803e-16],\n",
       "       [ 5.00000000e-01, -2.80429631e-18,  0.00000000e+00,\n",
       "         8.59284674e-16],\n",
       "       [ 5.00000000e-01, -4.40095405e-18,  0.00000000e+00,\n",
       "         1.03942755e-15],\n",
       "       [ 5.00000000e-01, -5.99761179e-18,  0.00000000e+00,\n",
       "         1.21957042e-15],\n",
       "       [ 5.00000000e-01, -7.59426953e-18,  0.00000000e+00,\n",
       "         1.39971329e-15],\n",
       "       [ 5.00000000e-01, -9.19092726e-18,  0.00000000e+00,\n",
       "         1.57985616e-15],\n",
       "       [ 5.00000000e-01, -1.07875850e-17,  0.00000000e+00,\n",
       "         1.75999903e-15],\n",
       "       [ 5.00000000e-01, -1.23842427e-17,  0.00000000e+00,\n",
       "         1.94014190e-15],\n",
       "       [ 5.00000000e-01, -1.39809005e-17,  0.00000000e+00,\n",
       "         2.12028477e-15],\n",
       "       [ 5.00000000e-01, -1.55775582e-17,  0.00000000e+00,\n",
       "         2.30042764e-15],\n",
       "       [ 5.00000000e-01, -1.71742160e-17,  0.00000000e+00,\n",
       "         2.48057052e-15],\n",
       "       [ 5.00000000e-01, -1.87708737e-17,  0.00000000e+00,\n",
       "         2.66071339e-15],\n",
       "       [ 5.00000000e-01, -2.05468255e-17,  0.00000000e+00,\n",
       "         2.84229053e-15],\n",
       "       [ 5.00000000e-01, -2.35163890e-17,  0.00000000e+00,\n",
       "         3.03341605e-15],\n",
       "       [ 5.00000000e-01, -2.64859525e-17,  0.00000000e+00,\n",
       "         3.22454157e-15],\n",
       "       [ 5.00000000e-01, -2.94555161e-17,  0.00000000e+00,\n",
       "         3.41566709e-15],\n",
       "       [ 5.00000000e-01, -3.24250796e-17,  0.00000000e+00,\n",
       "         3.60679261e-15],\n",
       "       [ 5.00000000e-01, -3.53946431e-17,  0.00000000e+00,\n",
       "         3.79791813e-15],\n",
       "       [ 5.00000000e-01, -3.83642067e-17,  0.00000000e+00,\n",
       "         3.98904365e-15],\n",
       "       [ 5.00000000e-01, -4.13337702e-17,  0.00000000e+00,\n",
       "         4.18016917e-15],\n",
       "       [ 5.00000000e-01, -4.43033337e-17,  0.00000000e+00,\n",
       "         4.37129468e-15],\n",
       "       [ 5.00000000e-01, -4.72728973e-17,  0.00000000e+00,\n",
       "         4.56242020e-15],\n",
       "       [ 5.00000000e-01, -5.02424608e-17,  0.00000000e+00,\n",
       "         4.75354572e-15],\n",
       "       [ 5.00000000e-01, -5.32120243e-17,  0.00000000e+00,\n",
       "         4.94467124e-15],\n",
       "       [ 5.00000000e-01, -5.61815879e-17,  0.00000000e+00,\n",
       "         5.13579676e-15],\n",
       "       [ 5.00000000e-01, -7.93957559e-17,  0.00000000e+00,\n",
       "         5.48887029e-15],\n",
       "       [ 5.00000000e-01, -1.04285801e-16,  0.00000000e+00,\n",
       "         5.85535011e-15],\n",
       "       [ 5.00000000e-01, -1.29175846e-16,  0.00000000e+00,\n",
       "         6.22182993e-15],\n",
       "       [ 5.00000000e-01, -1.54065892e-16,  0.00000000e+00,\n",
       "         6.58830975e-15],\n",
       "       [ 5.00000000e-01, -1.78955937e-16,  0.00000000e+00,\n",
       "         6.95478957e-15],\n",
       "       [ 5.00000000e-01, -2.03845982e-16,  0.00000000e+00,\n",
       "         7.32126938e-15],\n",
       "       [ 5.00000000e-01, -2.28736027e-16,  0.00000000e+00,\n",
       "         7.68774920e-15],\n",
       "       [ 5.00000000e-01, -2.53626073e-16,  0.00000000e+00,\n",
       "         8.05422902e-15],\n",
       "       [ 5.00000000e-01, -2.78516118e-16,  0.00000000e+00,\n",
       "         8.42070884e-15],\n",
       "       [ 5.00000000e-01, -3.03406163e-16,  0.00000000e+00,\n",
       "         8.78718866e-15],\n",
       "       [ 5.00000000e-01, -3.28296208e-16,  0.00000000e+00,\n",
       "         9.15366848e-15],\n",
       "       [ 5.00000000e-01, -3.53186254e-16,  0.00000000e+00,\n",
       "         9.52014830e-15],\n",
       "       [ 5.00000000e-01, -3.78076299e-16,  0.00000000e+00,\n",
       "         9.88662811e-15],\n",
       "       [ 5.00000000e-01, -4.02966344e-16,  0.00000000e+00,\n",
       "         1.02531079e-14],\n",
       "       [ 5.00000000e-01, -4.27856389e-16,  0.00000000e+00,\n",
       "         1.06195878e-14],\n",
       "       [ 5.00000000e-01, -4.52746434e-16,  0.00000000e+00,\n",
       "         1.09860676e-14],\n",
       "       [ 5.00000000e-01, -4.77636480e-16,  0.00000000e+00,\n",
       "         1.13525474e-14],\n",
       "       [ 5.00000000e-01, -5.02526525e-16,  0.00000000e+00,\n",
       "         1.17190272e-14],\n",
       "       [ 5.00000000e-01, -5.27416570e-16,  0.00000000e+00,\n",
       "         1.20855070e-14],\n",
       "       [ 5.00000000e-01, -5.52306615e-16,  0.00000000e+00,\n",
       "         1.24519868e-14],\n",
       "       [ 5.00000000e-01, -5.77196661e-16,  0.00000000e+00,\n",
       "         1.28184667e-14],\n",
       "       [ 5.00000000e-01, -6.02086706e-16,  0.00000000e+00,\n",
       "         1.31849465e-14],\n",
       "       [ 5.00000000e-01, -6.26976751e-16,  0.00000000e+00,\n",
       "         1.35514263e-14],\n",
       "       [ 5.00000000e-01, -6.51866796e-16,  0.00000000e+00,\n",
       "         1.39179061e-14],\n",
       "       [ 5.00000000e-01, -6.76756842e-16,  0.00000000e+00,\n",
       "         1.42843859e-14],\n",
       "       [ 5.00000000e-01, -7.01646887e-16,  0.00000000e+00,\n",
       "         1.46508658e-14],\n",
       "       [ 5.00000000e-01, -7.26536932e-16,  0.00000000e+00,\n",
       "         1.50173456e-14],\n",
       "       [ 5.00000000e-01, -7.51426977e-16,  0.00000000e+00,\n",
       "         1.53838254e-14],\n",
       "       [ 5.00000000e-01, -7.76317023e-16,  0.00000000e+00,\n",
       "         1.57503052e-14],\n",
       "       [ 5.00000000e-01, -8.01207068e-16,  0.00000000e+00,\n",
       "         1.61167850e-14],\n",
       "       [ 5.00000000e-01, -8.26097113e-16,  0.00000000e+00,\n",
       "         1.64832648e-14],\n",
       "       [ 5.00000000e-01, -8.50987158e-16,  0.00000000e+00,\n",
       "         1.68497447e-14],\n",
       "       [ 5.00000000e-01, -8.75877204e-16,  0.00000000e+00,\n",
       "         1.72162245e-14],\n",
       "       [ 5.00000000e-01, -9.00767249e-16,  0.00000000e+00,\n",
       "         1.75827043e-14],\n",
       "       [ 5.00000000e-01, -9.25657294e-16,  0.00000000e+00,\n",
       "         1.79491841e-14],\n",
       "       [ 5.00000000e-01, -9.50547339e-16,  0.00000000e+00,\n",
       "         1.83156639e-14],\n",
       "       [ 5.00000000e-01, -9.75437385e-16,  0.00000000e+00,\n",
       "         1.86821438e-14],\n",
       "       [ 5.00000000e-01, -1.00032743e-15,  0.00000000e+00,\n",
       "         1.90486236e-14],\n",
       "       [ 5.00000000e-01, -1.02521747e-15,  0.00000000e+00,\n",
       "         1.94151034e-14],\n",
       "       [ 5.00000000e-01, -1.05010752e-15,  0.00000000e+00,\n",
       "         1.97815832e-14],\n",
       "       [ 5.00000000e-01, -1.07499757e-15,  0.00000000e+00,\n",
       "         2.01480630e-14],\n",
       "       [ 5.00000000e-01, -1.09988761e-15,  0.00000000e+00,\n",
       "         2.05145428e-14],\n",
       "       [ 5.00000000e-01, -1.12477766e-15,  0.00000000e+00,\n",
       "         2.08810227e-14],\n",
       "       [ 5.00000000e-01, -1.14966770e-15,  0.00000000e+00,\n",
       "         2.12475025e-14],\n",
       "       [ 5.00000000e-01, -1.17455775e-15,  0.00000000e+00,\n",
       "         2.16139823e-14],\n",
       "       [ 5.00000000e-01, -1.19944779e-15,  0.00000000e+00,\n",
       "         2.19804621e-14],\n",
       "       [ 5.00000000e-01, -1.22433784e-15,  0.00000000e+00,\n",
       "         2.23469419e-14],\n",
       "       [ 5.00000000e-01, -1.24922788e-15,  0.00000000e+00,\n",
       "         2.27134218e-14],\n",
       "       [ 5.00000000e-01, -1.27411793e-15,  0.00000000e+00,\n",
       "         2.30799016e-14],\n",
       "       [ 5.00000000e-01, -1.29900797e-15,  0.00000000e+00,\n",
       "         2.34463814e-14],\n",
       "       [ 5.00000000e-01, -1.32389802e-15,  0.00000000e+00,\n",
       "         2.38128612e-14],\n",
       "       [ 5.00000000e-01, -1.34878806e-15,  0.00000000e+00,\n",
       "         2.41793410e-14],\n",
       "       [ 5.00000000e-01, -1.37367811e-15,  0.00000000e+00,\n",
       "         2.45458209e-14],\n",
       "       [ 5.00000000e-01, -1.39856815e-15,  0.00000000e+00,\n",
       "         2.49123007e-14],\n",
       "       [ 5.00000000e-01, -1.42345820e-15,  0.00000000e+00,\n",
       "         2.52787805e-14],\n",
       "       [ 5.00000000e-01, -1.44834824e-15,  0.00000000e+00,\n",
       "         2.56452603e-14],\n",
       "       [ 5.00000000e-01, -1.47323829e-15,  0.00000000e+00,\n",
       "         2.60117401e-14],\n",
       "       [ 5.00000000e-01, -1.49812833e-15,  0.00000000e+00,\n",
       "         2.63782199e-14],\n",
       "       [ 5.00000000e-01, -1.52301838e-15,  0.00000000e+00,\n",
       "         2.67446998e-14],\n",
       "       [ 5.00000000e-01, -1.54790843e-15,  0.00000000e+00,\n",
       "         2.71111796e-14],\n",
       "       [ 5.00000000e-01, -1.57279847e-15,  0.00000000e+00,\n",
       "         2.74776594e-14],\n",
       "       [ 5.00000000e-01, -1.59768852e-15,  0.00000000e+00,\n",
       "         2.78441392e-14],\n",
       "       [ 5.00000000e-01, -1.62257856e-15,  0.00000000e+00,\n",
       "         2.82106190e-14],\n",
       "       [ 5.00000000e-01, -1.64746861e-15,  0.00000000e+00,\n",
       "         2.85770989e-14],\n",
       "       [ 5.00000000e-01, -1.67235865e-15,  0.00000000e+00,\n",
       "         2.89435787e-14],\n",
       "       [ 5.00000000e-01, -1.69724870e-15,  0.00000000e+00,\n",
       "         2.93100585e-14],\n",
       "       [ 5.00000000e-01, -1.72213874e-15,  0.00000000e+00,\n",
       "         2.96765383e-14],\n",
       "       [ 5.00000000e-01, -1.74702879e-15,  0.00000000e+00,\n",
       "         3.00430181e-14],\n",
       "       [ 5.00000000e-01, -1.77191883e-15,  0.00000000e+00,\n",
       "         3.04094979e-14],\n",
       "       [ 5.00000000e-01, -1.79680888e-15,  0.00000000e+00,\n",
       "         3.07759778e-14],\n",
       "       [ 5.00000000e-01, -1.82169892e-15,  0.00000000e+00,\n",
       "         3.11424576e-14],\n",
       "       [ 5.00000000e-01, -1.84658897e-15,  0.00000000e+00,\n",
       "         3.15089374e-14],\n",
       "       [ 5.00000000e-01, -1.87147901e-15,  0.00000000e+00,\n",
       "         3.18754172e-14],\n",
       "       [ 5.00000000e-01, -1.89636906e-15,  0.00000000e+00,\n",
       "         3.22418970e-14],\n",
       "       [ 5.00000000e-01, -1.92125910e-15,  0.00000000e+00,\n",
       "         3.26083769e-14],\n",
       "       [ 5.00000000e-01, -1.94614915e-15,  0.00000000e+00,\n",
       "         3.29748567e-14],\n",
       "       [ 5.00000000e-01, -1.97103919e-15,  0.00000000e+00,\n",
       "         3.33413365e-14],\n",
       "       [ 5.00000000e-01, -1.99592924e-15,  0.00000000e+00,\n",
       "         3.37078163e-14],\n",
       "       [ 5.00000000e-01, -2.02081928e-15,  0.00000000e+00,\n",
       "         3.40742961e-14],\n",
       "       [ 5.00000000e-01, -2.04570933e-15,  0.00000000e+00,\n",
       "         3.44407759e-14],\n",
       "       [ 5.00000000e-01, -2.07059938e-15,  0.00000000e+00,\n",
       "         3.48072558e-14],\n",
       "       [ 5.00000000e-01, -2.09548942e-15,  0.00000000e+00,\n",
       "         3.51737356e-14],\n",
       "       [ 5.00000000e-01, -2.12037947e-15,  0.00000000e+00,\n",
       "         3.55402154e-14],\n",
       "       [ 5.00000000e-01, -2.14526951e-15,  0.00000000e+00,\n",
       "         3.59066952e-14],\n",
       "       [ 5.00000000e-01, -2.17015956e-15,  0.00000000e+00,\n",
       "         3.62731750e-14],\n",
       "       [ 5.00000000e-01, -2.19504960e-15,  0.00000000e+00,\n",
       "         3.66396549e-14],\n",
       "       [ 5.00000000e-01, -2.21993965e-15,  0.00000000e+00,\n",
       "         3.70061347e-14],\n",
       "       [ 5.00000000e-01, -2.24482969e-15,  0.00000000e+00,\n",
       "         3.73726145e-14],\n",
       "       [ 5.00000000e-01, -2.26971974e-15,  0.00000000e+00,\n",
       "         3.77390943e-14],\n",
       "       [ 5.00000000e-01, -2.29460978e-15,  0.00000000e+00,\n",
       "         3.81055741e-14],\n",
       "       [ 5.00000000e-01, -2.31949983e-15,  0.00000000e+00,\n",
       "         3.84720540e-14],\n",
       "       [ 5.00000000e-01, -2.34438987e-15,  0.00000000e+00,\n",
       "         3.88385338e-14],\n",
       "       [ 5.00000000e-01, -2.36927992e-15,  0.00000000e+00,\n",
       "         3.92050136e-14],\n",
       "       [ 5.00000000e-01, -2.39416996e-15,  0.00000000e+00,\n",
       "         3.95714934e-14],\n",
       "       [ 5.00000000e-01, -2.41906001e-15,  0.00000000e+00,\n",
       "         3.99379732e-14],\n",
       "       [ 5.00000000e-01, -2.44395005e-15,  0.00000000e+00,\n",
       "         4.03044530e-14],\n",
       "       [ 5.00000000e-01, -2.46884010e-15,  0.00000000e+00,\n",
       "         4.06709329e-14],\n",
       "       [ 5.00000000e-01, -2.49373014e-15,  0.00000000e+00,\n",
       "         4.10374127e-14],\n",
       "       [ 5.00000000e-01, -2.51862019e-15,  0.00000000e+00,\n",
       "         4.14038925e-14],\n",
       "       [ 5.00000000e-01, -2.54351023e-15,  0.00000000e+00,\n",
       "         4.17703723e-14],\n",
       "       [ 5.00000000e-01, -2.56840028e-15,  0.00000000e+00,\n",
       "         4.21368521e-14],\n",
       "       [ 5.00000000e-01, -2.59329033e-15,  0.00000000e+00,\n",
       "         4.25033320e-14],\n",
       "       [ 5.00000000e-01, -2.61818037e-15,  0.00000000e+00,\n",
       "         4.28698118e-14],\n",
       "       [ 5.00000000e-01, -2.64307042e-15,  0.00000000e+00,\n",
       "         4.32362916e-14],\n",
       "       [ 5.00000000e-01, -2.66796046e-15,  0.00000000e+00,\n",
       "         4.36027714e-14],\n",
       "       [ 5.00000000e-01, -2.69285051e-15,  0.00000000e+00,\n",
       "         4.39692512e-14],\n",
       "       [ 5.00000000e-01, -2.71774055e-15,  0.00000000e+00,\n",
       "         4.43357310e-14],\n",
       "       [ 5.00000000e-01, -2.74263060e-15,  0.00000000e+00,\n",
       "         4.47022109e-14],\n",
       "       [ 5.00000000e-01, -2.76752064e-15,  0.00000000e+00,\n",
       "         4.50686907e-14],\n",
       "       [ 5.00000000e-01, -2.79241069e-15,  0.00000000e+00,\n",
       "         4.54351705e-14],\n",
       "       [ 5.00000000e-01, -2.81730073e-15,  0.00000000e+00,\n",
       "         4.58016503e-14],\n",
       "       [ 5.00000000e-01, -2.84219078e-15,  0.00000000e+00,\n",
       "         4.61681301e-14],\n",
       "       [ 5.00000000e-01, -2.86708082e-15,  0.00000000e+00,\n",
       "         4.65346100e-14],\n",
       "       [ 5.00000000e-01, -2.89197087e-15,  0.00000000e+00,\n",
       "         4.69010898e-14],\n",
       "       [ 5.00000000e-01, -2.91686091e-15,  0.00000000e+00,\n",
       "         4.72675696e-14],\n",
       "       [ 5.00000000e-01, -2.94175096e-15,  0.00000000e+00,\n",
       "         4.76340494e-14],\n",
       "       [ 5.00000000e-01, -2.96664100e-15,  0.00000000e+00,\n",
       "         4.80005292e-14],\n",
       "       [ 5.00000000e-01, -2.99153105e-15,  0.00000000e+00,\n",
       "         4.83670090e-14],\n",
       "       [ 5.00000000e-01, -3.01642109e-15,  0.00000000e+00,\n",
       "         4.87334889e-14],\n",
       "       [ 5.00000000e-01, -3.04131114e-15,  0.00000000e+00,\n",
       "         4.90999687e-14],\n",
       "       [ 5.00000000e-01, -3.06620118e-15,  0.00000000e+00,\n",
       "         4.94664485e-14],\n",
       "       [ 5.00000000e-01, -3.09109123e-15,  0.00000000e+00,\n",
       "         4.98329283e-14],\n",
       "       [ 5.00000000e-01, -3.15788190e-15,  0.00000000e+00,\n",
       "         5.05345949e-14],\n",
       "       [ 5.00000000e-01, -3.23188905e-15,  0.00000000e+00,\n",
       "         5.12939902e-14],\n",
       "       [ 5.00000000e-01, -3.30589621e-15,  0.00000000e+00,\n",
       "         5.20533854e-14],\n",
       "       [ 5.00000000e-01, -3.37990336e-15,  0.00000000e+00,\n",
       "         5.28127807e-14],\n",
       "       [ 5.00000000e-01, -3.45391052e-15,  0.00000000e+00,\n",
       "         5.35721760e-14],\n",
       "       [ 5.00000000e-01, -3.52791767e-15,  0.00000000e+00,\n",
       "         5.43315713e-14],\n",
       "       [ 5.00000000e-01, -3.60192482e-15,  0.00000000e+00,\n",
       "         5.50909666e-14],\n",
       "       [ 5.00000000e-01, -3.67593198e-15,  0.00000000e+00,\n",
       "         5.58503618e-14],\n",
       "       [ 5.00000000e-01, -3.74993913e-15,  0.00000000e+00,\n",
       "         5.66097571e-14],\n",
       "       [ 5.00000000e-01, -3.82394629e-15,  0.00000000e+00,\n",
       "         5.73691524e-14],\n",
       "       [ 5.00000000e-01, -3.89795344e-15,  0.00000000e+00,\n",
       "         5.81285477e-14],\n",
       "       [ 5.00000000e-01, -3.97196059e-15,  0.00000000e+00,\n",
       "         5.88879430e-14],\n",
       "       [ 5.00000000e-01, -4.04596775e-15,  0.00000000e+00,\n",
       "         5.96473382e-14],\n",
       "       [ 5.00000000e-01, -4.11997490e-15,  0.00000000e+00,\n",
       "         6.04067335e-14],\n",
       "       [ 5.00000000e-01, -4.19398206e-15,  0.00000000e+00,\n",
       "         6.11661288e-14],\n",
       "       [ 5.00000000e-01, -4.26798921e-15,  0.00000000e+00,\n",
       "         6.19255241e-14],\n",
       "       [ 5.00000000e-01, -4.34199636e-15,  0.00000000e+00,\n",
       "         6.26849194e-14],\n",
       "       [ 5.00000000e-01, -4.41600352e-15,  0.00000000e+00,\n",
       "         6.34443146e-14],\n",
       "       [ 5.00000000e-01, -4.49001067e-15,  0.00000000e+00,\n",
       "         6.42037099e-14],\n",
       "       [ 5.00000000e-01, -4.56401783e-15,  0.00000000e+00,\n",
       "         6.49631052e-14],\n",
       "       [ 5.00000000e-01, -4.63802498e-15,  0.00000000e+00,\n",
       "         6.57225005e-14],\n",
       "       [ 5.00000000e-01, -4.71203213e-15,  0.00000000e+00,\n",
       "         6.64818958e-14],\n",
       "       [ 5.00000000e-01, -4.78603929e-15,  0.00000000e+00,\n",
       "         6.72412910e-14],\n",
       "       [ 5.00000000e-01, -4.86004644e-15,  0.00000000e+00,\n",
       "         6.80006863e-14],\n",
       "       [ 5.00000000e-01, -4.93405360e-15,  0.00000000e+00,\n",
       "         6.87600816e-14],\n",
       "       [ 5.00000000e-01, -5.00806075e-15,  0.00000000e+00,\n",
       "         6.95194769e-14],\n",
       "       [ 5.00000000e-01, -5.08206791e-15,  0.00000000e+00,\n",
       "         7.02788722e-14],\n",
       "       [ 5.00000000e-01, -5.15607506e-15,  0.00000000e+00,\n",
       "         7.10382674e-14],\n",
       "       [ 5.00000000e-01, -5.23008221e-15,  0.00000000e+00,\n",
       "         7.17976627e-14],\n",
       "       [ 5.00000000e-01, -5.30408937e-15,  0.00000000e+00,\n",
       "         7.25570580e-14],\n",
       "       [ 5.00000000e-01, -5.37809652e-15,  0.00000000e+00,\n",
       "         7.33164533e-14],\n",
       "       [ 5.00000000e-01, -5.45210368e-15,  0.00000000e+00,\n",
       "         7.40758486e-14],\n",
       "       [ 5.00000000e-01, -5.52611083e-15,  0.00000000e+00,\n",
       "         7.48352438e-14],\n",
       "       [ 5.00000000e-01, -5.60011798e-15,  0.00000000e+00,\n",
       "         7.55946391e-14],\n",
       "       [ 5.00000000e-01, -5.67412514e-15,  0.00000000e+00,\n",
       "         7.63540344e-14],\n",
       "       [ 5.00000000e-01, -5.74813229e-15,  0.00000000e+00,\n",
       "         7.71134297e-14],\n",
       "       [ 5.00000000e-01, -5.82213945e-15,  0.00000000e+00,\n",
       "         7.78728250e-14],\n",
       "       [ 5.00000000e-01, -5.89614660e-15,  0.00000000e+00,\n",
       "         7.86322202e-14],\n",
       "       [ 5.00000000e-01, -5.97015375e-15,  0.00000000e+00,\n",
       "         7.93916155e-14],\n",
       "       [ 5.00000000e-01, -6.04416091e-15,  0.00000000e+00,\n",
       "         8.01510108e-14],\n",
       "       [ 5.00000000e-01, -6.11816806e-15,  0.00000000e+00,\n",
       "         8.09104061e-14],\n",
       "       [ 5.00000000e-01, -6.19217522e-15,  0.00000000e+00,\n",
       "         8.16698014e-14],\n",
       "       [ 5.00000000e-01, -6.26618237e-15,  0.00000000e+00,\n",
       "         8.24291966e-14],\n",
       "       [ 5.00000000e-01, -6.34018952e-15,  0.00000000e+00,\n",
       "         8.31885919e-14],\n",
       "       [ 5.00000000e-01, -6.41419668e-15,  0.00000000e+00,\n",
       "         8.39479872e-14],\n",
       "       [ 5.00000000e-01, -6.48820383e-15,  0.00000000e+00,\n",
       "         8.47073825e-14],\n",
       "       [ 5.00000000e-01, -6.56221099e-15,  0.00000000e+00,\n",
       "         8.54667778e-14],\n",
       "       [ 5.00000000e-01, -6.63621814e-15,  0.00000000e+00,\n",
       "         8.62261731e-14],\n",
       "       [ 5.00000000e-01, -6.71022529e-15,  0.00000000e+00,\n",
       "         8.69855683e-14]])"
      ]
     },
     "execution_count": 42,
     "metadata": {},
     "output_type": "execute_result"
    }
   ],
   "source": [
    "result"
   ]
  },
  {
   "cell_type": "code",
   "execution_count": 43,
   "id": "0c5d13d5",
   "metadata": {
    "scrolled": true
   },
   "outputs": [
    {
     "data": {
      "text/plain": [
       "<matplotlib.legend.Legend at 0x2b148787790>"
      ]
     },
     "execution_count": 43,
     "metadata": {},
     "output_type": "execute_result"
    },
    {
     "data": {
      "image/png": "[encoded data removed]",
      "text/plain": [
       "<Figure size 504x288 with 1 Axes>"
      ]
     },
     "metadata": {
      "needs_background": "light"
     },
     "output_type": "display_data"
    }
   ],
   "source": [
    "from scipy.integrate import ode\n",
    "\n",
    "zero_list = [0 for i in range(len(mk_basis) - 1)]\n",
    "Phi0_vec = [.5] + zero_list\n",
    "\n",
    "t0 = 0\n",
    "ts1 = np.linspace(0, 500, 200)\n",
    "\n",
    "result = odeint(func=F, y0=Phi0_vec,t=ts,args=(real_hij_tensor,))\n",
    "plt.figure(figsize=(7, 4))\n",
    "\n",
    "for i in range(len(mk_basis)):\n",
    "    plt.plot(ts, result[:,i], label=r'$\\phi_{(%d)}(t)$'%i)\n",
    "\n",
    "plt.xlabel(\"t\")\n",
    "plt.ylabel(\"Phi(t)\")\n",
    "plt.legend()\n",
    "\n",
    "#r = ode(F).set_integrator('zvode', method='bdf', with_jacobian=None)\n",
    "#r.set_initial_value(Phi0_vec, t0).set_f_params(2.0).set_jac_params(2.0)\n",
    "\n",
    "#t1 = 10\n",
    "#dt = 1\n",
    "\n",
    "#while r.successful() and r.t < t1:\n",
    "#    r.integrate(r.t+dt)\n",
    "#    print(r.t, r.y)"
   ]
  },
  {
   "cell_type": "code",
   "execution_count": 104,
   "id": "17ee5d26",
   "metadata": {},
   "outputs": [],
   "source": [
    "rhos_at_timet = []\n",
    "\n",
    "for i in range(len(result)):\n",
    "    loc_K = sum([result[i][a] * mk_basis[a] for a in range(len(mk_basis))])\n",
    "    rhos_at_timet.append(loc_K.expm())\n",
    "    loc_K = 0"
   ]
  },
  {
   "cell_type": "code",
   "execution_count": 114,
   "id": "70d50556",
   "metadata": {
    "scrolled": false
   },
   "outputs": [
    {
     "name": "stdout",
     "output_type": "stream",
     "text": [
      "At time = 0 density op\n"
     ]
    }
   ],
   "source": [
    "for i in range(len(rhos_at_timet)):\n",
    "    if (me.is_density_op(rhos_at_timet[i])):\n",
    "        print(\"At time =\", i, \"density op\")\n",
    "    else:\n",
    "        pass\n",
    "        #print(\"At time =\", i, \"not density op\")"
   ]
  },
  {
   "cell_type": "code",
   "execution_count": 7,
   "id": "f4e878ff",
   "metadata": {},
   "outputs": [
    {
     "data": {
      "text/plain": [
       "0.007759750761890424"
      ]
     },
     "execution_count": 7,
     "metadata": {},
     "output_type": "execute_result"
    }
   ],
   "source": [
    "def bures(rho, sigma):\n",
    "    if (me.is_density_op(rho) and me.is_density_op(sigma)):\n",
    "        val1 = abs((me.sqrtM(rho)*me.sqrtM(sigma)).tr())\n",
    "        val1 = max(min(val1,1.),-1.)\n",
    "        val1 = np.arccos(val1)/np.pi\n",
    "    else: \n",
    "        sys.exit(\"Singular input matrix\")\n",
    "    return val1\n",
    "\n",
    "rho1 = (.4*Sx0Sx1).expm()\n",
    "rho1 = rho1/rho1.tr()\n",
    "bures(rho0, rho1)"
   ]
  },
  {
   "cell_type": "code",
   "execution_count": 9,
   "id": "a19cfb8a",
   "metadata": {},
   "outputs": [],
   "source": [
    "bures_distance_list = [bures(rho0, resultsB[\"State ev\"][a]) for a in range(len(resultsB[\"State ev\"]))]"
   ]
  },
  {
   "cell_type": "code",
   "execution_count": 10,
   "id": "01259799",
   "metadata": {
    "scrolled": true
   },
   "outputs": [
    {
     "data": {
      "text/plain": [
       "[<matplotlib.lines.Line2D at 0x296e5a30bb0>]"
      ]
     },
     "execution_count": 10,
     "metadata": {},
     "output_type": "execute_result"
    },
    {
     "data": {
      "image/png": "[encoded data removed]",
      "text/plain": [
       "<Figure size 432x288 with 1 Axes>"
      ]
     },
     "metadata": {
      "needs_background": "light"
     },
     "output_type": "display_data"
    }
   ],
   "source": [
    "plt.plot(bures_distance_list)"
   ]
  },
  {
   "cell_type": "code",
   "execution_count": 8,
   "id": "ba04bc1a",
   "metadata": {
    "scrolled": true
   },
   "outputs": [
    {
     "data": {
      "text/plain": [
       "0.01428582964910818"
      ]
     },
     "execution_count": 8,
     "metadata": {},
     "output_type": "execute_result"
    }
   ],
   "source": [
    "bures(rho0, resultsB[\"State ev\"][4499])"
   ]
  },
  {
   "cell_type": "code",
   "execution_count": 64,
   "id": "bf2a5b2e",
   "metadata": {},
   "outputs": [
    {
     "data": {
      "text/latex": [
       "Quantum object: dims = [[2, 2, 2], [2, 2, 2]], shape = (8, 8), type = oper, isherm = True\\begin{equation*}\\left(\\begin{array}{*{11}c}0.125 & 0.0 & 0.0 & 0.0 & 0.0 & -0.007j & (0.031+0.202j) & 0.0\\\\0.0 & 0.125 & 0.0 & 0.0 & 0.007j & 0.0 & 0.0 & (0.031+0.183j)\\\\0.0 & 0.0 & 0.125 & 0.0 & (0.031-0.010j) & 0.0 & 0.0 & 0.007j\\\\0.0 & 0.0 & 0.0 & 0.125 & 0.0 & (0.031+0.010j) & -0.007j & 0.0\\\\0.0 & -0.007j & (0.031+0.010j) & 0.0 & 0.125 & 0.0 & 0.0 & 0.0\\\\0.007j & 0.0 & 0.0 & (0.031-0.010j) & 0.0 & 0.125 & 0.0 & 0.0\\\\(0.031-0.202j) & 0.0 & 0.0 & 0.007j & 0.0 & 0.0 & 0.125 & 0.0\\\\0.0 & (0.031-0.183j) & -0.007j & 0.0 & 0.0 & 0.0 & 0.0 & 0.125\\\\\\end{array}\\right)\\end{equation*}"
      ],
      "text/plain": [
       "Quantum object: dims = [[2, 2, 2], [2, 2, 2]], shape = (8, 8), type = oper, isherm = True\n",
       "Qobj data =\n",
       "[[0.125     +0.j         0.        +0.j         0.        +0.j\n",
       "  0.        +0.j         0.        +0.j         0.        -0.00721345j\n",
       "  0.03061483+0.2019766j  0.        +0.j        ]\n",
       " [0.        +0.j         0.125     +0.j         0.        +0.j\n",
       "  0.        +0.j         0.        +0.00721345j 0.        +0.j\n",
       "  0.        +0.j         0.03061483+0.18274073j]\n",
       " [0.        +0.j         0.        +0.j         0.125     +0.j\n",
       "  0.        +0.j         0.03061483-0.00961793j 0.        +0.j\n",
       "  0.        +0.j         0.        +0.00721345j]\n",
       " [0.        +0.j         0.        +0.j         0.        +0.j\n",
       "  0.125     +0.j         0.        +0.j         0.03061483+0.00961793j\n",
       "  0.        -0.00721345j 0.        +0.j        ]\n",
       " [0.        +0.j         0.        -0.00721345j 0.03061483+0.00961793j\n",
       "  0.        +0.j         0.125     +0.j         0.        +0.j\n",
       "  0.        +0.j         0.        +0.j        ]\n",
       " [0.        +0.00721345j 0.        +0.j         0.        +0.j\n",
       "  0.03061483-0.00961793j 0.        +0.j         0.125     +0.j\n",
       "  0.        +0.j         0.        +0.j        ]\n",
       " [0.03061483-0.2019766j  0.        +0.j         0.        +0.j\n",
       "  0.        +0.00721345j 0.        +0.j         0.        +0.j\n",
       "  0.125     +0.j         0.        +0.j        ]\n",
       " [0.        +0.j         0.03061483-0.18274073j 0.        -0.00721345j\n",
       "  0.        +0.j         0.        +0.j         0.        +0.j\n",
       "  0.        +0.j         0.125     +0.j        ]]"
      ]
     },
     "execution_count": 64,
     "metadata": {},
     "output_type": "execute_result"
    }
   ],
   "source": []
  },
  {
   "cell_type": "code",
   "execution_count": 73,
   "id": "8b9c4c8c",
   "metadata": {
    "scrolled": false
   },
   "outputs": [
    {
     "name": "stdout",
     "output_type": "stream",
     "text": [
      "Processing custom initial state\n",
      "Processing default observable basis\n",
      "sampling: 30\n",
      "Open evolution chosen\n",
      "--- 52.11599588394165 seconds ---\n"
     ]
    },
    {
     "ename": "IndexError",
     "evalue": "index 5 is out of bounds for axis 1 with size 5",
     "output_type": "error",
     "traceback": [
      "\u001b[1;31m---------------------------------------------------------------------------\u001b[0m",
      "\u001b[1;31mIndexError\u001b[0m                                Traceback (most recent call last)",
      "Input \u001b[1;32mIn [73]\u001b[0m, in \u001b[0;36m<cell line: 35>\u001b[1;34m()\u001b[0m\n\u001b[0;32m     33\u001b[0m plot_labels \u001b[38;5;241m=\u001b[39m [\u001b[38;5;124m\"\u001b[39m\u001b[38;5;124mSx0Sx1 \u001b[39m\u001b[38;5;124m\"\u001b[39m, \u001b[38;5;124m\"\u001b[39m\u001b[38;5;124mSx1Sx2 \u001b[39m\u001b[38;5;124m\"\u001b[39m, \u001b[38;5;124m\"\u001b[39m\u001b[38;5;124mSx2Sx3 \u001b[39m\u001b[38;5;124m\"\u001b[39m, \u001b[38;5;124m\"\u001b[39m\u001b[38;5;124mSx3Sx0 \u001b[39m\u001b[38;5;124m\"\u001b[39m]\n\u001b[0;32m     35\u001b[0m \u001b[38;5;28;01mfor\u001b[39;00m n \u001b[38;5;129;01min\u001b[39;00m \u001b[38;5;28mrange\u001b[39m(N\u001b[38;5;241m-\u001b[39m\u001b[38;5;241m1\u001b[39m):\n\u001b[1;32m---> 36\u001b[0m     plt\u001b[38;5;241m.\u001b[39mscatter(resultsB[\u001b[38;5;124m\"\u001b[39m\u001b[38;5;124mts\u001b[39m\u001b[38;5;124m\"\u001b[39m], \u001b[43mresultsB\u001b[49m\u001b[43m[\u001b[49m\u001b[38;5;124;43m\"\u001b[39;49m\u001b[38;5;124;43maverages\u001b[39;49m\u001b[38;5;124;43m\"\u001b[39;49m\u001b[43m]\u001b[49m\u001b[43m[\u001b[49m\u001b[43m:\u001b[49m\u001b[43m,\u001b[49m\u001b[43mn\u001b[49m\u001b[43m]\u001b[49m) \u001b[38;5;66;03m#label=plot_labels[n] + \"Exact\")\u001b[39;00m\n\u001b[0;32m     38\u001b[0m plt\u001b[38;5;241m.\u001b[39mxlabel(\u001b[38;5;124m\"\u001b[39m\u001b[38;5;124mt\u001b[39m\u001b[38;5;124m\"\u001b[39m)\n\u001b[0;32m     39\u001b[0m plt\u001b[38;5;241m.\u001b[39mylabel(\u001b[38;5;124m\"\u001b[39m\u001b[38;5;124mAvgs\u001b[39m\u001b[38;5;124m\"\u001b[39m)\n",
      "\u001b[1;31mIndexError\u001b[0m: index 5 is out of bounds for axis 1 with size 5"
     ]
    },
    {
     "data": {
      "image/png": "[encoded data removed]",
      "text/plain": [
       "<Figure size 576x432 with 1 Axes>"
      ]
     },
     "metadata": {
      "needs_background": "light"
     },
     "output_type": "display_data"
    }
   ],
   "source": [
    "start_time = time.time()\n",
    "unitary_ev = False; gamma = 3*np.pi**-1\n",
    "size = N; gaussian = True; gr = 2; xng = .7\n",
    "\n",
    "spin_ops_list = me.one_body_spin_ops(size)\n",
    "seed_op1 = Mz = sum(spin_ops_list[3][i] for i in range(size))\n",
    "seed_op2 = Sx0Sx1 = spin_ops_list[1][0]*spin_ops_list[1][0+1] + spin_ops_list[1][1]*spin_ops_list[1][0] \n",
    "\n",
    "NN_interactions_on_x = [spin_ops_list[1][a]*spin_ops_list[1][a+1] for a in range(N-1)] \n",
    "NN_interactions_on_x + [spin_ops_list[1][N-1]*spin_ops_list[1][0]] \n",
    "\n",
    "obs_basis = spin_ops_list[2]\n",
    "#NN_interactions_on_x\n",
    "\n",
    "rho0 = (.5 * qutip.tensor([qutip.qeye(2) for k in range(N)]) + .5*seed_op2).expm()\n",
    "rho0 = rho0/rho0.tr()\n",
    "\n",
    "Hamiltonian_paras = [.75, .65, .5, 1.]\n",
    "\n",
    "chain_type = \"XXZ\"\n",
    "\n",
    "title, ev_paras, resultsB = me.spin_chain_ev(size = size, init_state = rho0, chain_type = chain_type, \n",
    "                                             Hamiltonian_paras = Hamiltonian_paras, omega_1=3., omega_2=3., \n",
    "                                             temp=1, tmax = 150, deltat = 1, two_body_basis = True, \n",
    "                                             unitary_ev = unitary_ev, gamma = gamma, gaussian = gaussian, \n",
    "                                             gr = gr, xng = xng, obs_basis = None, do_project = False)\n",
    "\n",
    "print(\"--- %s seconds ---\" % (time.time() - start_time))\n",
    "\n",
    "ev_paras[\"Time elapsed\"] = time.time() - start_time\n",
    "\n",
    "plt.figure(figsize=(8, 6))\n",
    "plot_labels = [\"Sx0Sx1 \", \"Sx1Sx2 \", \"Sx2Sx3 \", \"Sx3Sx0 \"]\n",
    "\n",
    "for n in range(N-1):\n",
    "    plt.scatter(resultsB[\"ts\"], resultsB[\"averages\"][:,n]) #label=plot_labels[n] + \"Exact\")\n",
    "    \n",
    "plt.xlabel(\"t\")\n",
    "plt.ylabel(\"Avgs\")\n",
    "plt.title(title)\n",
    "plt.legend()"
   ]
  },
  {
   "cell_type": "code",
   "execution_count": null,
   "id": "cb71eff8",
   "metadata": {
    "scrolled": false
   },
   "outputs": [],
   "source": [
    "<O>(t)\n",
    "\n",
    "d/dt <O> = <[H,O]>\n",
    "d/dt <[H,O]> = <[H, [H,O]]>\n",
    "d/dt <[H,[H,O]]> = <[H, [H,[H,O]]>\n"
   ]
  }
 ],
 "metadata": {
  "kernelspec": {
   "display_name": "Python 3 (ipykernel)",
   "language": "python",
   "name": "python3"
  },
  "language_info": {
   "codemirror_mode": {
    "name": "ipython",
    "version": 3
   },
   "file_extension": ".py",
   "mimetype": "text/x-python",
   "name": "python",
   "nbconvert_exporter": "python",
   "pygments_lexer": "ipython3",
   "version": "3.9.12"
  }
 },
 "nbformat": 4,
 "nbformat_minor": 5
}
