{
 "cells": [
  {
   "cell_type": "code",
   "execution_count": 1,
   "id": "49fe5b4d",
   "metadata": {},
   "outputs": [],
   "source": [
    "import qutip\n",
    "import matplotlib.pyplot as plt \n",
    "import numpy as np\n",
    "import scipy.optimize as opt \n",
    "import scipy.linalg as linalg\n",
    "import pickle\n",
    "import time as time\n",
    "import math, cmath\n",
    "import sys\n",
    "import auxiliary_library as me\n",
    "\n",
    "from IPython.display import display, Math, Latex"
   ]
  },
  {
   "cell_type": "code",
   "execution_count": 2,
   "id": "97ff62ab",
   "metadata": {},
   "outputs": [
    {
     "data": {
      "text/latex": [
       "$\\langle \\sigma^x_0 \\sigma^x_1 \\rangle^\\rho = .5 Tr \\bigg(\\rho (A^\\dagger A + A A^\\dagger)\\bigg)$"
      ],
      "text/plain": [
       "<IPython.core.display.Latex object>"
      ]
     },
     "metadata": {},
     "output_type": "display_data"
    }
   ],
   "source": [
    "### 1. armar un test que chequee que la base sea ortonormal y hermÃ­tica y que den \n",
    "       ## reales los productos. \n",
    "### 2. chequar que la semilla y la identidad no cambien en lo posible.\n",
    "### 3. fijarse de agregar un coeficiente inicial a la base que acompaÃ±e a la identidad global \n",
    "### 4. \n",
    "\n",
    "display(Latex(f'$\\\\langle \\\\sigma^x_0 \\\\sigma^x_1 \\\\rangle^\\\\rho = .5 Tr \\\\bigg(\\\\rho (A^\\\\dagger A + A A^\\\\dagger)\\\\bigg)$')) "
   ]
  },
  {
   "cell_type": "code",
   "execution_count": 52,
   "id": "3ca37e13",
   "metadata": {},
   "outputs": [
    {
     "name": "stdout",
     "output_type": "stream",
     "text": [
      "Seed operator is hermitian\n",
      "<sx0sx1>_rhoF =  0.02491699865623895\n",
      "<new(sx0sx1)>_rhoF =  0.0\n",
      "At this step, the (non-orthonormal)-basis has 5 non-zero operators\n",
      "At this step, the orthonormal-basis has 4 non-zero operators\n",
      "Not mean-normalized operator at 1 -th level\n",
      "1.0\n",
      "The basis is orthonormal\n",
      "<rhoF * mk_basis[ 0 ] > =  0.0\n",
      "<rhoF * mk_basis[ 1 ] > =  1.0\n",
      "<rhoF * mk_basis[ 2 ] > =  6.938893903907228e-18j\n",
      "<rhoF * mk_basis[ 3 ] > =  3.469446951953614e-18\n"
     ]
    }
   ],
   "source": [
    "N = 3\n",
    "basis_depth = 3\n",
    "\n",
    "spin_ops_list = me.one_body_spin_ops(N)\n",
    "globalid = spin_ops_list[0][0]\n",
    "normalized_globalid = globalid/globalid.tr()\n",
    "\n",
    "chain_type = \"XYZ\"\n",
    "Hamiltonian_paras = [.1, .15, .2, 1.]\n",
    "H_H = me.Heisenberg_Hamiltonian(spin_ops_list, \"XYZ\", N, False, Hamiltonian_paras)\n",
    "\n",
    "### Hypothesized final density state\n",
    "\n",
    "sx0sx1 = spin_ops_list[1][0] * spin_ops_list[1][1]\n",
    "\n",
    "if qutip.isherm(sx0sx1):\n",
    "    print(\"Seed operator is hermitian\")\n",
    "else:\n",
    "    print(\"Seed operator not hermitian\")\n",
    "\n",
    "x = .4\n",
    "K = (x * sx0sx1 + (1-x) * globalid)\n",
    "rhoF = K.expm()\n",
    "rhoF = rhoF/rhoF.tr()\n",
    "inv_rhoF = (-K).expm()\n",
    "inv_rhoF = inv_rhoF/inv_rhoF.tr()\n",
    "\n",
    "if (me.is_density_op(rhoF)):\n",
    "    pass\n",
    "else:\n",
    "    sys.exit(\"rhoF is not a density op\") \n",
    "    \n",
    "if (me.is_density_op(inv_rhoF)):\n",
    "    pass\n",
    "else:\n",
    "    sys.exit(\"inv_rhoF is not a density op\") \n",
    "\n",
    "### Checking if the sx0sx1's rhoF-weighted average is zero:\n",
    "\n",
    "print(\"<sx0sx1>_rhoF = \", (rhoF * sx0sx1).tr())\n",
    "\n",
    "### It is not, so then I redefine it so that it has zero rhoF-weighted average\n",
    "\n",
    "sx0sx1 = (rhoF * sx0sx1).tr() - sx0sx1\n",
    "\n",
    "print(\"<new(sx0sx1)>_rhoF = \", (rhoF * sx0sx1).tr())\n",
    "\n",
    "### Then, the seed operator has zero rhoF-weighted average and sigma=1-standard deviation.\n",
    "### It's then chosen to be the seed operator\n",
    "\n",
    "seed_op = sx0sx1\n",
    "basis = []\n",
    "basis.append(seed_op)\n",
    "basis.append(globalid)\n",
    "\n",
    "basis += me.recursive_basis(N, basis_depth, H_H, seed_op, rhoF)\n",
    "print(\"At this step, the (non-orthonormal)-basis has\", len(basis), \"non-zero operators\")\n",
    "\n",
    "mk_basis = me.base_orth(basis, rhoF)\n",
    "\n",
    "print(\"At this step, the orthonormal-basis has\", len(mk_basis), \"non-zero operators\")\n",
    "\n",
    "gram_matrix = me.basis_orthonormality_check(mk_basis, rhoF)\n",
    "\n",
    "for i in range(len(mk_basis)):\n",
    "    print(\"<rhoF * mk_basis[\", i, \"] > = \",(mk_basis[i] * rhoF).tr())\n",
    "\n",
    "hij_tensor = me.H_ij_matrix(H_H, mk_basis, rhoF)[1]"
   ]
  },
  {
   "cell_type": "code",
   "execution_count": null,
   "id": "4e858553",
   "metadata": {},
   "outputs": [],
   "source": []
  },
  {
   "cell_type": "code",
   "execution_count": 46,
   "id": "eab6322c",
   "metadata": {
    "scrolled": false
   },
   "outputs": [
    {
     "data": {
      "text/latex": [
       "Quantum object: dims = [[4], [4]], shape = (4, 4), type = oper, isherm = False\\begin{equation*}\\left(\\begin{array}{*{11}c}-3.469\\times10^{-18} & 0.0 & -4.438j & -5.204\\times10^{-18}\\\\-4.163\\times10^{-17} & 0.0 & 0.445j & -2.776\\times10^{-17}\\\\4.483j & 0.0 & 0.0 & 4.491j\\\\0.0 & 0.0 & -4.491j & 6.776\\times10^{-21}\\\\\\end{array}\\right)\\end{equation*}"
      ],
      "text/plain": [
       "Quantum object: dims = [[4], [4]], shape = (4, 4), type = oper, isherm = False\n",
       "Qobj data =\n",
       "[[-3.46944695e-18+0.j          0.00000000e+00+0.j\n",
       "   0.00000000e+00-4.43799571j -5.20417043e-18+0.j        ]\n",
       " [-4.16333634e-17+0.j          0.00000000e+00+0.j\n",
       "   0.00000000e+00+0.44453961j -2.77555756e-17+0.j        ]\n",
       " [ 0.00000000e+00+4.4825238j   0.00000000e+00+0.j\n",
       "   0.00000000e+00+0.j          0.00000000e+00+4.49138742j]\n",
       " [ 0.00000000e+00+0.j          0.00000000e+00+0.j\n",
       "   0.00000000e+00-4.49138742j  6.77626358e-21+0.j        ]]"
      ]
     },
     "execution_count": 46,
     "metadata": {},
     "output_type": "execute_result"
    }
   ],
   "source": [
    "qutip.Qobj(hij_tensor)"
   ]
  },
  {
   "cell_type": "code",
   "execution_count": 48,
   "id": "d649b31e",
   "metadata": {},
   "outputs": [],
   "source": [
    "from scipy.integrate import odeint\n",
    "\n",
    "def F(y, t, H_tensor):\n",
    "    return H_tensor.dot(y)"
   ]
  },
  {
   "cell_type": "code",
   "execution_count": 51,
   "id": "e88d5f10",
   "metadata": {
    "scrolled": true
   },
   "outputs": [
    {
     "data": {
      "text/plain": [
       "array([-1.73472348e-18+0.j       , -2.08166817e-17+0.j       ,\n",
       "        0.00000000e+00+2.2412619j,  0.00000000e+00+0.j       ])"
      ]
     },
     "execution_count": 51,
     "metadata": {},
     "output_type": "execute_result"
    }
   ],
   "source": [
    "hij_tensor.dot(Phi0_vec)"
   ]
  },
  {
   "cell_type": "code",
   "execution_count": 50,
   "id": "0c5d13d5",
   "metadata": {
    "scrolled": true
   },
   "outputs": [
    {
     "ename": "AttributeError",
     "evalue": "'float' object has no attribute 'dot'",
     "output_type": "error",
     "traceback": [
      "\u001b[1;31m---------------------------------------------------------------------------\u001b[0m",
      "\u001b[1;31mAttributeError\u001b[0m                            Traceback (most recent call last)",
      "Input \u001b[1;32mIn [50]\u001b[0m, in \u001b[0;36m<cell line: 14>\u001b[1;34m()\u001b[0m\n\u001b[0;32m     12\u001b[0m dt \u001b[38;5;241m=\u001b[39m \u001b[38;5;241m1\u001b[39m\n\u001b[0;32m     14\u001b[0m \u001b[38;5;28;01mwhile\u001b[39;00m r\u001b[38;5;241m.\u001b[39msuccessful() \u001b[38;5;129;01mand\u001b[39;00m r\u001b[38;5;241m.\u001b[39mt \u001b[38;5;241m<\u001b[39m t1:\n\u001b[1;32m---> 15\u001b[0m     \u001b[43mr\u001b[49m\u001b[38;5;241;43m.\u001b[39;49m\u001b[43mintegrate\u001b[49m\u001b[43m(\u001b[49m\u001b[43mr\u001b[49m\u001b[38;5;241;43m.\u001b[39;49m\u001b[43mt\u001b[49m\u001b[38;5;241;43m+\u001b[39;49m\u001b[43mdt\u001b[49m\u001b[43m)\u001b[49m\n\u001b[0;32m     16\u001b[0m     \u001b[38;5;28mprint\u001b[39m(r\u001b[38;5;241m.\u001b[39mt, r\u001b[38;5;241m.\u001b[39my)\n",
      "File \u001b[1;32m~\\anaconda3\\lib\\site-packages\\scipy\\integrate\\_ode.py:433\u001b[0m, in \u001b[0;36mode.integrate\u001b[1;34m(self, t, step, relax)\u001b[0m\n\u001b[0;32m    430\u001b[0m     mth \u001b[38;5;241m=\u001b[39m \u001b[38;5;28mself\u001b[39m\u001b[38;5;241m.\u001b[39m_integrator\u001b[38;5;241m.\u001b[39mrun\n\u001b[0;32m    432\u001b[0m \u001b[38;5;28;01mtry\u001b[39;00m:\n\u001b[1;32m--> 433\u001b[0m     \u001b[38;5;28mself\u001b[39m\u001b[38;5;241m.\u001b[39m_y, \u001b[38;5;28mself\u001b[39m\u001b[38;5;241m.\u001b[39mt \u001b[38;5;241m=\u001b[39m \u001b[43mmth\u001b[49m\u001b[43m(\u001b[49m\u001b[38;5;28;43mself\u001b[39;49m\u001b[38;5;241;43m.\u001b[39;49m\u001b[43mf\u001b[49m\u001b[43m,\u001b[49m\u001b[43m \u001b[49m\u001b[38;5;28;43mself\u001b[39;49m\u001b[38;5;241;43m.\u001b[39;49m\u001b[43mjac\u001b[49m\u001b[43m \u001b[49m\u001b[38;5;129;43;01mor\u001b[39;49;00m\u001b[43m \u001b[49m\u001b[43m(\u001b[49m\u001b[38;5;28;43;01mlambda\u001b[39;49;00m\u001b[43m:\u001b[49m\u001b[43m \u001b[49m\u001b[38;5;28;43;01mNone\u001b[39;49;00m\u001b[43m)\u001b[49m\u001b[43m,\u001b[49m\n\u001b[0;32m    434\u001b[0m \u001b[43m                          \u001b[49m\u001b[38;5;28;43mself\u001b[39;49m\u001b[38;5;241;43m.\u001b[39;49m\u001b[43m_y\u001b[49m\u001b[43m,\u001b[49m\u001b[43m \u001b[49m\u001b[38;5;28;43mself\u001b[39;49m\u001b[38;5;241;43m.\u001b[39;49m\u001b[43mt\u001b[49m\u001b[43m,\u001b[49m\u001b[43m \u001b[49m\u001b[43mt\u001b[49m\u001b[43m,\u001b[49m\n\u001b[0;32m    435\u001b[0m \u001b[43m                          \u001b[49m\u001b[38;5;28;43mself\u001b[39;49m\u001b[38;5;241;43m.\u001b[39;49m\u001b[43mf_params\u001b[49m\u001b[43m,\u001b[49m\u001b[43m \u001b[49m\u001b[38;5;28;43mself\u001b[39;49m\u001b[38;5;241;43m.\u001b[39;49m\u001b[43mjac_params\u001b[49m\u001b[43m)\u001b[49m\n\u001b[0;32m    436\u001b[0m \u001b[38;5;28;01mexcept\u001b[39;00m \u001b[38;5;167;01mSystemError\u001b[39;00m \u001b[38;5;28;01mas\u001b[39;00m e:\n\u001b[0;32m    437\u001b[0m     \u001b[38;5;66;03m# f2py issue with tuple returns, see ticket 1187.\u001b[39;00m\n\u001b[0;32m    438\u001b[0m     \u001b[38;5;28;01mraise\u001b[39;00m \u001b[38;5;167;01mValueError\u001b[39;00m(\n\u001b[0;32m    439\u001b[0m         \u001b[38;5;124m'\u001b[39m\u001b[38;5;124mFunction to integrate must not return a tuple.\u001b[39m\u001b[38;5;124m'\u001b[39m\n\u001b[0;32m    440\u001b[0m     ) \u001b[38;5;28;01mfrom\u001b[39;00m \u001b[38;5;21;01me\u001b[39;00m\n",
      "File \u001b[1;32m~\\anaconda3\\lib\\site-packages\\scipy\\integrate\\_ode.py:1009\u001b[0m, in \u001b[0;36mvode.run\u001b[1;34m(self, f, jac, y0, t0, t1, f_params, jac_params)\u001b[0m\n\u001b[0;32m   1005\u001b[0m     jac \u001b[38;5;241m=\u001b[39m _vode_banded_jac_wrapper(jac, \u001b[38;5;28mself\u001b[39m\u001b[38;5;241m.\u001b[39mml, jac_params)\n\u001b[0;32m   1007\u001b[0m args \u001b[38;5;241m=\u001b[39m ((f, jac, y0, t0, t1) \u001b[38;5;241m+\u001b[39m \u001b[38;5;28mtuple\u001b[39m(\u001b[38;5;28mself\u001b[39m\u001b[38;5;241m.\u001b[39mcall_args) \u001b[38;5;241m+\u001b[39m\n\u001b[0;32m   1008\u001b[0m         (f_params, jac_params))\n\u001b[1;32m-> 1009\u001b[0m y1, t, istate \u001b[38;5;241m=\u001b[39m \u001b[38;5;28;43mself\u001b[39;49m\u001b[38;5;241;43m.\u001b[39;49m\u001b[43mrunner\u001b[49m\u001b[43m(\u001b[49m\u001b[38;5;241;43m*\u001b[39;49m\u001b[43margs\u001b[49m\u001b[43m)\u001b[49m\n\u001b[0;32m   1010\u001b[0m \u001b[38;5;28mself\u001b[39m\u001b[38;5;241m.\u001b[39mistate \u001b[38;5;241m=\u001b[39m istate\n\u001b[0;32m   1011\u001b[0m \u001b[38;5;28;01mif\u001b[39;00m istate \u001b[38;5;241m<\u001b[39m \u001b[38;5;241m0\u001b[39m:\n",
      "Input \u001b[1;32mIn [48]\u001b[0m, in \u001b[0;36mF\u001b[1;34m(y, t, H_tensor)\u001b[0m\n\u001b[0;32m      3\u001b[0m \u001b[38;5;28;01mdef\u001b[39;00m \u001b[38;5;21mF\u001b[39m(y, t, H_tensor):\n\u001b[1;32m----> 4\u001b[0m     \u001b[38;5;28;01mreturn\u001b[39;00m \u001b[43mH_tensor\u001b[49m\u001b[38;5;241;43m.\u001b[39;49m\u001b[43mdot\u001b[49m(y)\n",
      "\u001b[1;31mAttributeError\u001b[0m: 'float' object has no attribute 'dot'"
     ]
    }
   ],
   "source": [
    "from scipy.integrate import ode\n",
    "\n",
    "zero_list = [0 for i in range(len(mk_basis) - 1)]\n",
    "Phi0_vec = [.5] + zero_list\n",
    "\n",
    "t0 = 0\n",
    "ts=np.linspace(0,1,200)\n",
    "r = ode(F).set_integrator('zvode', method='bdf', with_jacobian=None)\n",
    "r.set_initial_value(Phi0_vec, t0).set_f_params(2.0).set_jac_params(2.0)\n",
    "\n",
    "t1 = 10\n",
    "dt = 1\n",
    "\n",
    "while r.successful() and r.t < t1:\n",
    "    r.integrate(r.t+dt)\n",
    "    print(r.t, r.y)\n",
    "\n",
    "#result = complex_ode(func=F, y0=Phi0_vec,t=ts,args=(hij_tensor,))\n",
    "#plt.figure(figsize=(4, 3))\n",
    "\n",
    "#for i in range(len(markov_basis)):\n",
    "#    plt.plot(result[i], label=r'$\\phi_{(%d)}(t)$'%i)\n",
    "\n",
    "#plt.plot(r)\n",
    "\n",
    "#plt.xlabel(\"t\")\n",
    "#plt.ylabel(\"Phi(t)\")\n",
    "#plt.legend()"
   ]
  },
  {
   "cell_type": "code",
   "execution_count": 38,
   "id": "00e3a596",
   "metadata": {
    "scrolled": false
   },
   "outputs": [
    {
     "name": "stdout",
     "output_type": "stream",
     "text": [
      "<scipy.integrate._ode.ode object at 0x00000200F0764DF0>\n"
     ]
    }
   ],
   "source": [
    "r[0]"
   ]
  },
  {
   "cell_type": "code",
   "execution_count": 104,
   "id": "17ee5d26",
   "metadata": {},
   "outputs": [],
   "source": [
    "rhos_at_timet = []\n",
    "\n",
    "for i in range(len(result)):\n",
    "    loc_K = sum([result[i][a] * mk_basis[a] for a in range(len(mk_basis))])\n",
    "    rhos_at_timet.append(loc_K.expm())\n",
    "    loc_K = 0"
   ]
  },
  {
   "cell_type": "code",
   "execution_count": 12,
   "id": "67d1dd27",
   "metadata": {
    "scrolled": false
   },
   "outputs": [
    {
     "ename": "NameError",
     "evalue": "name 'rhos_at_timet' is not defined",
     "output_type": "error",
     "traceback": [
      "\u001b[1;31m---------------------------------------------------------------------------\u001b[0m",
      "\u001b[1;31mNameError\u001b[0m                                 Traceback (most recent call last)",
      "Input \u001b[1;32mIn [12]\u001b[0m, in \u001b[0;36m<cell line: 1>\u001b[1;34m()\u001b[0m\n\u001b[1;32m----> 1\u001b[0m \u001b[38;5;28;01mfor\u001b[39;00m i \u001b[38;5;129;01min\u001b[39;00m \u001b[38;5;28mrange\u001b[39m(\u001b[38;5;28mlen\u001b[39m(\u001b[43mrhos_at_timet\u001b[49m)):\n\u001b[0;32m      2\u001b[0m     \u001b[38;5;28mprint\u001b[39m(me\u001b[38;5;241m.\u001b[39mis_density_op(rhos_at_timet[i]))\n\u001b[0;32m      3\u001b[0m     \u001b[38;5;66;03m#print(me.ev_checks(rhos_at_timet[i]))\u001b[39;00m\n",
      "\u001b[1;31mNameError\u001b[0m: name 'rhos_at_timet' is not defined"
     ]
    }
   ],
   "source": [
    "for i in range(len(rhos_at_timet)):\n",
    "    print(me.is_density_op(rhos_at_timet[i]))\n",
    "    #print(me.ev_checks(rhos_at_timet[i]))\n",
    "    pass"
   ]
  },
  {
   "cell_type": "code",
   "execution_count": 114,
   "id": "70d50556",
   "metadata": {
    "scrolled": false
   },
   "outputs": [
    {
     "name": "stdout",
     "output_type": "stream",
     "text": [
      "At time = 0 density op\n"
     ]
    }
   ],
   "source": [
    "for i in range(len(rhos_at_timet)):\n",
    "    if (me.is_density_op(rhos_at_timet[i])):\n",
    "        print(\"At time =\", i, \"density op\")\n",
    "    else:\n",
    "        pass\n",
    "        #print(\"At time =\", i, \"not density op\")"
   ]
  },
  {
   "cell_type": "code",
   "execution_count": 61,
   "id": "a0c6cc68",
   "metadata": {
    "scrolled": false
   },
   "outputs": [],
   "source": [
    "N = 4\n",
    "depth = 3\n",
    "\n",
    "K = .5*seed_op2\n",
    "rho0 = K.expm()\n",
    "rho0 = rho0/rho0.tr()\n",
    "\n",
    "\n",
    "spin_ops_list = me.one_body_spin_ops(N)\n",
    "N_site_globalid = \n",
    "Mz = sum(spin_ops_list[3][i] for i in range(N))\n",
    "Sx0Sx1 = HS_normalize_op(spin_ops_list[1][0]*spin_ops_list[1][0+1] + spin_ops_list[1][1]*spin_ops_list[1][0], rho0)\n",
    "Sx0Sx1 = Sx0Sx1 - (Sx0Sx1 * rho0).tr() * N_site_globalid\n",
    "\n",
    "\n",
    "chain_type = \"XYZ\"\n",
    "Hamiltonian_paras = [.1, .15, .2, 1.]\n",
    "H_H = me.Heisenberg_Hamiltonian(spin_ops_list, \"XYZ\", N, False, Hamiltonian_paras)\n",
    "\n",
    "basis = []\n",
    "basis.append(N_site_globalid/np.sqrt(me.mod_HS_inner_prod(N_site_globalid, N_site_globalid)))\n",
    "basis += me.recursive_basis(N, depth, H_H, seed_op2)\n",
    "#mk_basis = [.5 * basis[a] + basis[a].dag() for a in range(len(basis))]\n",
    "mk_basis = me.base_orth(basis, rho0)\n",
    "\n",
    "#for i in range(len(mk_basis)):\n",
    "#A = [me.mod_HS_inner_prod(mk_basis[3], mk_basis[a], rho0) for a in range(len(mk_basis))]\n",
    "#A\n",
    "\n",
    "# acÃƒÂ¡ un temita: \n",
    "# 1. yo me defino el estado inicial con algÃƒÂºn seed operator\n",
    "# 2. pero despuÃƒÂ©s yo me cambio el seed operator cuando haga la ortonormalizaciÃƒÂ³n de GS\n",
    "\n",
    "hij_tensor = me.H_ij_matrix(H_H, mk_basis, rho0)\n",
    "\n",
    "# Operadores no hermÃƒÂ­ticos. Veo de hacerlos hermÃƒÂ­ticos la fuerza"
   ]
  },
  {
   "cell_type": "code",
   "execution_count": 7,
   "id": "f4e878ff",
   "metadata": {},
   "outputs": [
    {
     "data": {
      "text/plain": [
       "0.007759750761890424"
      ]
     },
     "execution_count": 7,
     "metadata": {},
     "output_type": "execute_result"
    }
   ],
   "source": [
    "def bures(rho, sigma):\n",
    "    if (me.is_density_op(rho) and me.is_density_op(sigma)):\n",
    "        val1 = abs((me.sqrtM(rho)*me.sqrtM(sigma)).tr())\n",
    "        val1 = max(min(val1,1.),-1.)\n",
    "        val1 = np.arccos(val1)/np.pi\n",
    "    else: \n",
    "        sys.exit(\"Singular input matrix\")\n",
    "    return val1\n",
    "\n",
    "rho1 = (.4*Sx0Sx1).expm()\n",
    "rho1 = rho1/rho1.tr()\n",
    "bures(rho0, rho1)"
   ]
  },
  {
   "cell_type": "code",
   "execution_count": 9,
   "id": "a19cfb8a",
   "metadata": {},
   "outputs": [],
   "source": [
    "bures_distance_list = [bures(rho0, resultsB[\"State ev\"][a]) for a in range(len(resultsB[\"State ev\"]))]"
   ]
  },
  {
   "cell_type": "code",
   "execution_count": 10,
   "id": "01259799",
   "metadata": {},
   "outputs": [
    {
     "data": {
      "text/plain": [
       "[<matplotlib.lines.Line2D at 0x296e5a30bb0>]"
      ]
     },
     "execution_count": 10,
     "metadata": {},
     "output_type": "execute_result"
    },
    {
     "data": {
      "image/png": "[encoded data removed]",
      "text/plain": [
       "<Figure size 432x288 with 1 Axes>"
      ]
     },
     "metadata": {
      "needs_background": "light"
     },
     "output_type": "display_data"
    }
   ],
   "source": [
    "plt.plot(bures_distance_list)"
   ]
  },
  {
   "cell_type": "code",
   "execution_count": 8,
   "id": "ba04bc1a",
   "metadata": {
    "scrolled": true
   },
   "outputs": [
    {
     "data": {
      "text/plain": [
       "0.01428582964910818"
      ]
     },
     "execution_count": 8,
     "metadata": {},
     "output_type": "execute_result"
    }
   ],
   "source": [
    "bures(rho0, resultsB[\"State ev\"][4499])"
   ]
  },
  {
   "cell_type": "code",
   "execution_count": null,
   "id": "902eefbd",
   "metadata": {},
   "outputs": [],
   "source": []
  },
  {
   "cell_type": "code",
   "execution_count": 118,
   "id": "8b9c4c8c",
   "metadata": {
    "scrolled": true
   },
   "outputs": [
    {
     "name": "stdout",
     "output_type": "stream",
     "text": [
      "Processing custom initial state\n",
      "Quantum object: dims = [[2, 2, 2, 2], [2, 2, 2, 2]], shape = (16, 16), type = oper, isherm = True\n",
      "Qobj data =\n",
      "[[0.0625   0.       0.       0.       0.       0.       0.       0.\n",
      "  0.       0.       0.       0.       0.015625 0.       0.       0.      ]\n",
      " [0.       0.0625   0.       0.       0.       0.       0.       0.\n",
      "  0.       0.       0.       0.       0.       0.015625 0.       0.      ]\n",
      " [0.       0.       0.0625   0.       0.       0.       0.       0.\n",
      "  0.       0.       0.       0.       0.       0.       0.015625 0.      ]\n",
      " [0.       0.       0.       0.0625   0.       0.       0.       0.\n",
      "  0.       0.       0.       0.       0.       0.       0.       0.015625]\n",
      " [0.       0.       0.       0.       0.0625   0.       0.       0.\n",
      "  0.015625 0.       0.       0.       0.       0.       0.       0.      ]\n",
      " [0.       0.       0.       0.       0.       0.0625   0.       0.\n",
      "  0.       0.015625 0.       0.       0.       0.       0.       0.      ]\n",
      " [0.       0.       0.       0.       0.       0.       0.0625   0.\n",
      "  0.       0.       0.015625 0.       0.       0.       0.       0.      ]\n",
      " [0.       0.       0.       0.       0.       0.       0.       0.0625\n",
      "  0.       0.       0.       0.015625 0.       0.       0.       0.      ]\n",
      " [0.       0.       0.       0.       0.015625 0.       0.       0.\n",
      "  0.0625   0.       0.       0.       0.       0.       0.       0.      ]\n",
      " [0.       0.       0.       0.       0.       0.015625 0.       0.\n",
      "  0.       0.0625   0.       0.       0.       0.       0.       0.      ]\n",
      " [0.       0.       0.       0.       0.       0.       0.015625 0.\n",
      "  0.       0.       0.0625   0.       0.       0.       0.       0.      ]\n",
      " [0.       0.       0.       0.       0.       0.       0.       0.015625\n",
      "  0.       0.       0.       0.0625   0.       0.       0.       0.      ]\n",
      " [0.015625 0.       0.       0.       0.       0.       0.       0.\n",
      "  0.       0.       0.       0.       0.0625   0.       0.       0.      ]\n",
      " [0.       0.015625 0.       0.       0.       0.       0.       0.\n",
      "  0.       0.       0.       0.       0.       0.0625   0.       0.      ]\n",
      " [0.       0.       0.015625 0.       0.       0.       0.       0.\n",
      "  0.       0.       0.       0.       0.       0.       0.0625   0.      ]\n",
      " [0.       0.       0.       0.015625 0.       0.       0.       0.\n",
      "  0.       0.       0.       0.       0.       0.       0.       0.0625  ]]\n",
      "two-body operator chosen\n",
      "Processing two-body basis\n",
      "Processing custom observable basis\n",
      "Open evolution chosen\n",
      "type rho=<class 'qutip.qobj.Qobj'>\n",
      "sampling: 30\n",
      "--- 9.352566480636597 seconds ---\n"
     ]
    },
    {
     "data": {
      "text/plain": [
       "<matplotlib.legend.Legend at 0x7fd6661682b0>"
      ]
     },
     "execution_count": 118,
     "metadata": {},
     "output_type": "execute_result"
    },
    {
     "data": {
      "image/png": "[encoded data removed]",
      "text/plain": [
       "<Figure size 576x432 with 1 Axes>"
      ]
     },
     "metadata": {
      "needs_background": "light"
     },
     "output_type": "display_data"
    }
   ],
   "source": [
    "start_time = time.time()\n",
    "unitary_ev = False; gamma = 3*np.pi**-1\n",
    "size = N; gaussian = True; gr = 2; xng = .7\n",
    "\n",
    "spin_ops_list = me.one_body_spin_ops(size)\n",
    "seed_op1 = Mz = sum(spin_ops_list[3][i] for i in range(size))\n",
    "seed_op2 = Sx0Sx1 = spin_ops_list[1][0]*spin_ops_list[1][0+1] + spin_ops_list[1][1]*spin_ops_list[1][0] \n",
    "\n",
    "NN_interactions_on_x = [spin_ops_list[1][a]*spin_ops_list[1][a+1] for a in range(N-1)] \n",
    "NN_interactions_on_x + [spin_ops_list[1][N-1]*spin_ops_list[1][0]] \n",
    "\n",
    "obs_basis = NN_interactions_on_x\n",
    "rho0 = (qutip.tensor([qutip.qeye(2) for k in range(N)]) + .5*seed_op2)\n",
    "rho0 = rho0/rho0.tr()\n",
    "\n",
    "chain_type = \"XYZ\"\n",
    "\n",
    "title, ev_paras, resultsB = me.spin_chain_ev(size = size, init_state = rho0, chain_type = chain_type, \n",
    "                                             Hamiltonian_paras = Hamiltonian_paras, omega_1=3., omega_2=3., \n",
    "                                             temp=1, tmax = 150, deltat = 1, two_body_basis = True, \n",
    "                                             unitary_ev = unitary_ev, gamma = gamma, gaussian = gaussian, \n",
    "                                             gr = gr, xng = xng, obs_basis = obs_basis, do_project = False)\n",
    "\n",
    "print(\"--- %s seconds ---\" % (time.time() - start_time))\n",
    "\n",
    "ev_paras[\"Time elapsed\"] = time.time() - start_time\n",
    "\n",
    "plt.figure(figsize=(8, 6))\n",
    "plot_labels = [\"Sx0Sx1 \", \"Sx1Sx2 \", \"Sx2Sx3 \", \"Sx3Sx0 \"]\n",
    "\n",
    "for n in range(N-1):\n",
    "    plt.scatter(resultsB[\"ts\"], resultsB[\"averages\"][:,n], label=plot_labels[n] + \"Exact\")\n",
    "    \n",
    "plt.xlabel(\"t\")\n",
    "plt.ylabel(\"Avgs\")\n",
    "plt.title(title)\n",
    "plt.legend()"
   ]
  },
  {
   "cell_type": "code",
   "execution_count": null,
   "id": "171431e5",
   "metadata": {},
   "outputs": [],
   "source": []
  },
  {
   "cell_type": "code",
   "execution_count": null,
   "id": "a764b659",
   "metadata": {},
   "outputs": [],
   "source": []
  },
  {
   "cell_type": "code",
   "execution_count": 124,
   "id": "74776754",
   "metadata": {},
   "outputs": [
    {
     "data": {
      "text/plain": [
       "True"
      ]
     },
     "execution_count": 124,
     "metadata": {},
     "output_type": "execute_result"
    }
   ],
   "source": [
    "basis = mk_basis\n",
    "basis[0] == Sx0Sx1\n",
    "basis[1] == me.commutator(H_H, Sx0Sx1)\n",
    "basis[2] == me.commutator(H_H, me.commutator(H_H, Sx0Sx1))\n",
    "basis[3] == me.commutator(H_H, me.commutator(H_H, me.commutator(H_H, Sx0Sx1)))\n",
    "basis[4] == me.commutator(H_H, me.commutator(H_H, me.commutator(H_H, me.commutator(H_H, Sx0Sx1))))"
   ]
  },
  {
   "cell_type": "code",
   "execution_count": null,
   "id": "cb71eff8",
   "metadata": {
    "scrolled": false
   },
   "outputs": [],
   "source": [
    "<O>(t)\n",
    "\n",
    "d/dt <O> = <[H,O]>\n",
    "d/dt <[H,O]> = <[H, [H,O]]>\n",
    "d/dt <[H,[H,O]]> = <[H, [H,[H,O]]>\n"
   ]
  }
 ],
 "metadata": {
  "kernelspec": {
   "display_name": "Python 3 (ipykernel)",
   "language": "python",
   "name": "python3"
  },
  "language_info": {
   "codemirror_mode": {
    "name": "ipython",
    "version": 3
   },
   "file_extension": ".py",
   "mimetype": "text/x-python",
   "name": "python",
   "nbconvert_exporter": "python",
   "pygments_lexer": "ipython3",
   "version": "3.9.12"
  }
 },
 "nbformat": 4,
 "nbformat_minor": 5
}
