{
 "cells": [
  {
   "cell_type": "code",
   "execution_count": 4,
   "id": "49fe5b4d",
   "metadata": {
    "scrolled": true
   },
   "outputs": [],
   "source": [
    "import qutip\n",
    "import matplotlib.pyplot as plt \n",
    "import numpy as np\n",
    "import scipy.optimize as opt \n",
    "import scipy.linalg as linalg\n",
    "import pickle\n",
    "import time as time\n",
    "import math, cmath\n",
    "import sys\n",
    "import auxiliary_library as me\n",
    "\n",
    "from IPython.display import display, Math, Latex"
   ]
  },
  {
   "cell_type": "code",
   "execution_count": 27,
   "id": "97ff62ab",
   "metadata": {},
   "outputs": [
    {
     "data": {
      "text/latex": [
       "$\\langle \\sigma^x_0 \\sigma^x_1 \\rangle^\\rho = .5 Tr \\bigg(\\rho (A^\\dagger A + A A^\\dagger)\\bigg)$"
      ],
      "text/plain": [
       "<IPython.core.display.Latex object>"
      ]
     },
     "metadata": {},
     "output_type": "display_data"
    }
   ],
   "source": [
    "### 1. armar un test que chequee que la base sea ortonormal y hermÃ­tica y que den \n",
    "       ## reales los productos. \n",
    "### 2. chequar que la semilla y la identidad no cambien en lo posible.\n",
    "### 3. fijarse de agregar un coeficiente inicial a la base que acompaÃ±e a la identidad global \n",
    "### 4. \n",
    "\n",
    "display(Latex(f'$\\\\langle \\\\sigma^x_0 \\\\sigma^x_1 \\\\rangle^\\\\rho = .5 Tr \\\\bigg(\\\\rho (A^\\\\dagger A + A A^\\\\dagger)\\\\bigg)$')) "
   ]
  },
  {
   "cell_type": "code",
   "execution_count": 86,
   "id": "be409184",
   "metadata": {},
   "outputs": [
    {
     "data": {
      "text/latex": [
       "Quantum object: dims = [[2, 2, 2], [2, 2, 2]], shape = (8, 8), type = oper, isherm = False\\begin{equation*}\\left(\\begin{array}{*{11}c}0.0 & 0.0 & 0.0 & 0.628 & 0.0 & 0.0 & 0.157 & 0.0\\\\0.0 & 0.0 & 0.0 & 0.0 & 0.0 & 0.0 & 0.0 & 0.157\\\\0.0 & 0.0 & 0.0 & 0.0 & 0.0 & 0.0 & 0.0 & 0.0\\\\-0.628 & 0.0 & 0.0 & 0.0 & 0.0 & 0.0 & 0.0 & 0.0\\\\0.0 & 0.0 & 0.0 & 0.0 & 0.0 & 0.0 & 0.0 & 0.628\\\\0.0 & 0.0 & 0.0 & 0.0 & 0.0 & 0.0 & 0.0 & 0.0\\\\-0.157 & 0.0 & 0.0 & 0.0 & 0.0 & 0.0 & 0.0 & 0.0\\\\0.0 & -0.157 & 0.0 & 0.0 & -0.628 & 0.0 & 0.0 & 0.0\\\\\\end{array}\\right)\\end{equation*}"
      ],
      "text/plain": [
       "Quantum object: dims = [[2, 2, 2], [2, 2, 2]], shape = (8, 8), type = oper, isherm = False\n",
       "Qobj data =\n",
       "[[ 0.          0.          0.          0.62831853  0.          0.\n",
       "   0.15707963  0.        ]\n",
       " [ 0.          0.          0.          0.          0.          0.\n",
       "   0.          0.15707963]\n",
       " [ 0.          0.          0.          0.          0.          0.\n",
       "   0.          0.        ]\n",
       " [-0.62831853  0.          0.          0.          0.          0.\n",
       "   0.          0.        ]\n",
       " [ 0.          0.          0.          0.          0.          0.\n",
       "   0.          0.62831853]\n",
       " [ 0.          0.          0.          0.          0.          0.\n",
       "   0.          0.        ]\n",
       " [-0.15707963  0.          0.          0.          0.          0.\n",
       "   0.          0.        ]\n",
       " [ 0.         -0.15707963  0.          0.         -0.62831853  0.\n",
       "   0.          0.        ]]"
      ]
     },
     "execution_count": 86,
     "metadata": {},
     "output_type": "execute_result"
    }
   ],
   "source": [
    "me.commutator(H_H, global_magnetization)"
   ]
  },
  {
   "cell_type": "code",
   "execution_count": 82,
   "id": "41b7ad47",
   "metadata": {},
   "outputs": [
    {
     "name": "stdout",
     "output_type": "stream",
     "text": [
      "[]\n",
      "[0.015544125221449519]\n",
      "[-0.03173323965780021, -0.015050859770526406]\n",
      "[0.0, 0.0, 0.0]\n",
      "[0.6312827079778254, 0.2994130954100976, -0.6067436380012634, -3.3306690738754696e-16j]\n",
      "[0.0, -1.734723475976807e-18j, 0.0, -25.306374115259416, 0.0]\n",
      "[-25.69770350942332, -12.188246019495962, 24.698788543615585, 1.4210854715202004e-14j, -1058.8681600000457, 1.7053025658242404e-13j]\n"
     ]
    }
   ],
   "source": [
    "def base_orth(ops, rho0):\n",
    "    if isinstance(ops[0], list):\n",
    "        ops = [op for op1l in ops for op in op1l]\n",
    "    dim = ops[0].dims[0][0]\n",
    "    basis = []\n",
    "    for i, op in enumerate(ops): \n",
    "        alpha = [me.HS_inner_prod(op2, op, rho0) for op2 in basis]\n",
    "        op_mod = op - sum([c*op2 for c, op2, in zip(alpha, basis)])\n",
    "        op_norm = np.sqrt(me.HS_inner_prod(op_mod,op_mod,rho0))\n",
    "        if op_norm<1.e-12:\n",
    "            #pass\n",
    "            continue\n",
    "        #op_mod = op_mod/(op_norm)\n",
    "        basis.append(op_mod)\n",
    "        print(alpha)\n",
    "        \n",
    "    return basis\n",
    "\n",
    "seed_op = sx0sx1\n",
    "basis = []basis \n",
    "basis.append(seed_op)\n",
    "basis.append(globalid)\n",
    "\n",
    "basis += me.recursive_basis(N, basis_depth, H_H, seed_op, rhoF)\n",
    "mk_basis = base_orth(basis, None)"
   ]
  },
  {
   "cell_type": "code",
   "execution_count": 85,
   "id": "3ca37e13",
   "metadata": {
    "scrolled": true
   },
   "outputs": [
    {
     "name": "stdout",
     "output_type": "stream",
     "text": [
      "Seed operator is hermitian\n",
      "<sx0sx1>_rhoF =  0.03108825044289904\n",
      "<new(sx0sx1)>_rhoF =  0.0\n",
      "At this step, the (non-orthonormal)-basis has 7 non-zero operators\n",
      "At this step, the orthonormal-basis has 6 non-zero operators\n",
      "The 3 -th operator is non-hermitian \n",
      "\n",
      "The 4 -th operator is non-hermitian \n",
      "\n",
      "The 5 -th operator is non-hermitian \n",
      "\n",
      "Not mean-normalized operator at 1 -th level\n",
      "1.414213562373095\n",
      "<rhoF * mk_basis[ 0 ] > =  0.0\n",
      "<rhoF * mk_basis[ 1 ] > =  1.414213562373095\n",
      "<rhoF * mk_basis[ 2 ] > =  0.0\n",
      "<rhoF * mk_basis[ 3 ] > =  4.85722573273506e-17\n",
      "<rhoF * mk_basis[ 4 ] > =  1.0408340855860843e-17j\n",
      "<rhoF * mk_basis[ 5 ] > =  1.6653345369377348e-16\n"
     ]
    }
   ],
   "source": [
    "N = 3\n",
    "modified_HS_prod = False\n",
    "basis_depth = 5\n",
    "\n",
    "spin_ops_list = me.one_body_spin_ops(N)\n",
    "globalid = spin_ops_list[0][0]\n",
    "normalized_globalid = globalid/globalid.tr()\n",
    "\n",
    "global_magnetization = sum(spin_ops_list[3][a] for a in range(len(spin_ops_list[3])))\n",
    "Neel_operator = sum((-1)**(a) * spin_ops_list[3][a] for a in range(len(spin_ops_list[3])))\n",
    "\n",
    "chain_type = \"XXX\"\n",
    "Hamiltonian_paras = [.3, .2, .15, 1.]\n",
    "H_H = me.Heisenberg_Hamiltonian(spin_ops_list, \"XYZ\", N, False, Hamiltonian_paras, True)\n",
    "\n",
    "### Hypothesized final density state\n",
    "\n",
    "sx0sx1 = spin_ops_list[1][0] * spin_ops_list[1][1]\n",
    "\n",
    "if qutip.isherm(sx0sx1):\n",
    "    print(\"Seed operator is hermitian\")\n",
    "else:\n",
    "    sys.exit(\"Seed operator not hermitian\")\n",
    "\n",
    "x = .5; K = (x * sx0sx1 + (1-x) * globalid)\n",
    "rhoF = K.expm(); rhoF = rhoF/rhoF.tr()\n",
    "inv_rhoF = (-K).expm(); inv_rhoF = inv_rhoF/inv_rhoF.tr()\n",
    "\n",
    "if (me.is_density_op(rhoF)):\n",
    "    pass\n",
    "else:\n",
    "    sys.exit(\"rhoF is not a density op\") \n",
    "    \n",
    "### Checking if the sx0sx1's rhoF-weighted average is zero:\n",
    "\n",
    "print(\"<sx0sx1>_rhoF = \", (rhoF * sx0sx1).tr())\n",
    "\n",
    "### It is not, so then I redefine it so that it has zero rhoF-weighted average\n",
    "\n",
    "sx0sx1 = (rhoF * sx0sx1).tr() - sx0sx1\n",
    "\n",
    "print(\"<new(sx0sx1)>_rhoF = \", (rhoF * sx0sx1).tr())\n",
    "\n",
    "### Then, the seed operator has zero rhoF-weighted average and sigma=1-standard deviation.\n",
    "### It's then chosen to be the seed operator\n",
    "\n",
    "seed_op = sx0sx1\n",
    "basis = []\n",
    "basis.append(seed_op)\n",
    "basis.append(globalid)\n",
    "\n",
    "basis += me.recursive_basis(N, basis_depth, H_H, seed_op, rhoF)\n",
    "print(\"At this step, the (non-orthonormal)-basis has\", len(basis), \"non-zero operators\")\n",
    "\n",
    "mk_basis = me.base_orth(basis, rhoF)\n",
    "\n",
    "print(\"At this step, the orthonormal-basis has\", len(mk_basis), \"non-zero operators\")\n",
    "\n",
    "gram_matrix = me.basis_orthonormality_check(mk_basis, rhoF)\n",
    "\n",
    "for i in range(len(mk_basis)):\n",
    "    print(\"<rhoF * mk_basis[\", i, \"] > = \",(mk_basis[i] * rhoF).tr())\n",
    "\n",
    "hij_tensor = me.H_ij_matrix(H_H, mk_basis, rhoF)[1]"
   ]
  },
  {
   "cell_type": "code",
   "execution_count": 31,
   "id": "7e8aac72",
   "metadata": {},
   "outputs": [
    {
     "data": {
      "text/latex": [
       "Quantum object: dims = [[6], [6]], shape = (6, 6), type = oper, isherm = False\\begin{equation*}\\left(\\begin{array}{*{11}c}0.0 & 0.0 & -4.426j & -0.019 & 3.208\\times10^{-05}j & -0.001\\\\0.0 & 0.0 & 0.555j & 0.002 & -4.020\\times10^{-06}j & 1.435\\times10^{-04}\\\\4.495j & 0.0 & 0.020 & 4.562j & 4.163\\times10^{-15} & -9.360\\times10^{-04}j\\\\1.110\\times10^{-16} & 0.0 & -4.562j & -0.016 & 2.076j & -0.006\\\\0.0 & 0.0 & 4.274\\times10^{-15} & -2.076j & 0.044 & 5.496j\\\\8.882\\times10^{-16} & 0.0 & 0.0 & -6.245\\times10^{-15} & -5.495j & 0.014\\\\\\end{array}\\right)\\end{equation*}"
      ],
      "text/plain": [
       "Quantum object: dims = [[6], [6]], shape = (6, 6), type = oper, isherm = False\n",
       "Qobj data =\n",
       "[[ 0.00000000e+00+0.00000000e+00j  0.00000000e+00+0.00000000e+00j\n",
       "   0.00000000e+00-4.42558426e+00j -1.92423355e-02+0.00000000e+00j\n",
       "   0.00000000e+00+3.20781047e-05j -1.14476255e-03+0.00000000e+00j]\n",
       " [ 0.00000000e+00+0.00000000e+00j  0.00000000e+00+0.00000000e+00j\n",
       "   0.00000000e+00+5.54639779e-01j  2.41156061e-03+0.00000000e+00j\n",
       "   0.00000000e+00-4.02021334e-06j  1.43468254e-04+0.00000000e+00j]\n",
       " [ 0.00000000e+00+4.49509493e+00j  0.00000000e+00+0.00000000e+00j\n",
       "   1.98361661e-02+0.00000000e+00j  0.00000000e+00+4.56216059e+00j\n",
       "   4.16333634e-15+0.00000000e+00j  0.00000000e+00-9.35997566e-04j]\n",
       " [ 1.11022302e-16+0.00000000e+00j  0.00000000e+00+0.00000000e+00j\n",
       "   0.00000000e+00-4.56216059e+00j -1.63759267e-02+0.00000000e+00j\n",
       "   0.00000000e+00+2.07621898e+00j -6.02581765e-03+0.00000000e+00j]\n",
       " [ 0.00000000e+00+4.44089210e-16j  0.00000000e+00+0.00000000e+00j\n",
       "   4.27435864e-15+0.00000000e+00j  0.00000000e+00-2.07565524e+00j\n",
       "   4.38376306e-02+0.00000000e+00j  0.00000000e+00+5.49570160e+00j]\n",
       " [ 8.88178420e-16+0.00000000e+00j  0.00000000e+00+0.00000000e+00j\n",
       "   0.00000000e+00-7.77156117e-15j -6.24500451e-15+0.00000000e+00j\n",
       "   0.00000000e+00-5.49543262e+00j  1.43620256e-02+0.00000000e+00j]]"
      ]
     },
     "execution_count": 31,
     "metadata": {},
     "output_type": "execute_result"
    }
   ],
   "source": [
    "qutip.Qobj(hij_tensor)"
   ]
  },
  {
   "cell_type": "code",
   "execution_count": 34,
   "id": "318d9f8c",
   "metadata": {
    "scrolled": true
   },
   "outputs": [
    {
     "data": {
      "text/latex": [
       "Quantum object: dims = [[6], [6]], shape = (6, 6), type = oper, isherm = False\\begin{equation*}\\left(\\begin{array}{*{11}c}0.0 & 0.0 & -4.426j & -0.019 & 3.208\\times10^{-05}j & -0.001\\\\0.0 & 0.0 & 0.555j & 0.002 & -4.020\\times10^{-06}j & 1.435\\times10^{-04}\\\\4.495j & 0.0 & 0.020 & 4.562j & 4.163\\times10^{-15} & -9.360\\times10^{-04}j\\\\1.110\\times10^{-16} & 0.0 & -4.562j & -0.016 & 2.076j & -0.006\\\\0.0 & 0.0 & 4.274\\times10^{-15} & -2.076j & 0.044 & 5.496j\\\\8.882\\times10^{-16} & 0.0 & 0.0 & -6.245\\times10^{-15} & -5.495j & 0.014\\\\\\end{array}\\right)\\end{equation*}"
      ],
      "text/plain": [
       "Quantum object: dims = [[6], [6]], shape = (6, 6), type = oper, isherm = False\n",
       "Qobj data =\n",
       "[[ 0.00000000e+00+0.00000000e+00j  0.00000000e+00+0.00000000e+00j\n",
       "   0.00000000e+00-4.42558426e+00j -1.92423355e-02+0.00000000e+00j\n",
       "   0.00000000e+00+3.20781047e-05j -1.14476255e-03+0.00000000e+00j]\n",
       " [ 0.00000000e+00+0.00000000e+00j  0.00000000e+00+0.00000000e+00j\n",
       "   0.00000000e+00+5.54639779e-01j  2.41156061e-03+0.00000000e+00j\n",
       "   0.00000000e+00-4.02021334e-06j  1.43468254e-04+0.00000000e+00j]\n",
       " [ 0.00000000e+00+4.49509493e+00j  0.00000000e+00+0.00000000e+00j\n",
       "   1.98361661e-02+0.00000000e+00j  0.00000000e+00+4.56216059e+00j\n",
       "   4.16333634e-15+0.00000000e+00j  0.00000000e+00-9.35997566e-04j]\n",
       " [ 1.11022302e-16+0.00000000e+00j  0.00000000e+00+0.00000000e+00j\n",
       "   0.00000000e+00-4.56216059e+00j -1.63759267e-02+0.00000000e+00j\n",
       "   0.00000000e+00+2.07621898e+00j -6.02581765e-03+0.00000000e+00j]\n",
       " [ 0.00000000e+00+4.44089210e-16j  0.00000000e+00+0.00000000e+00j\n",
       "   4.27435864e-15+0.00000000e+00j  0.00000000e+00-2.07565524e+00j\n",
       "   4.38376306e-02+0.00000000e+00j  0.00000000e+00+5.49570160e+00j]\n",
       " [ 8.88178420e-16+0.00000000e+00j  0.00000000e+00+0.00000000e+00j\n",
       "   0.00000000e+00-7.77156117e-15j -6.24500451e-15+0.00000000e+00j\n",
       "   0.00000000e+00-5.49543262e+00j  1.43620256e-02+0.00000000e+00j]]"
      ]
     },
     "execution_count": 34,
     "metadata": {},
     "output_type": "execute_result"
    }
   ],
   "source": [
    "#basis\n",
    "mk_basis0_control = []\n",
    "rho0 = rhoF\n",
    "mk_basis0_control.append([me.HS_inner_prod(mk_basis[0], me.commutator(H_H, op2), rho0) for op2 in mk_basis])\n",
    "mk_basis0_control.append([me.HS_inner_prod(mk_basis[1], me.commutator(H_H, op2), rho0) for op2 in mk_basis])\n",
    "mk_basis0_control.append([me.HS_inner_prod(mk_basis[2], me.commutator(H_H, op2), rho0) for op2 in mk_basis])\n",
    "mk_basis0_control.append( [me.HS_inner_prod(mk_basis[3], me.commutator(H_H, op2), rho0) for op2 in mk_basis])\n",
    "mk_basis0_control.append([me.HS_inner_prod(mk_basis[4], me.commutator(H_H, op2), rho0) for op2 in mk_basis])\n",
    "mk_basis0_control.append( [me.HS_inner_prod(mk_basis[5], me.commutator(H_H, op2), rho0) for op2 in mk_basis])\n",
    "qutip.Qobj(mk_basis0_control)"
   ]
  },
  {
   "cell_type": "code",
   "execution_count": 87,
   "id": "3fea86f9",
   "metadata": {},
   "outputs": [
    {
     "data": {
      "text/latex": [
       "Quantum object: dims = [[6], [6]], shape = (6, 6), type = oper, isherm = False\\begin{equation*}\\left(\\begin{array}{*{11}c}0.0 & 0.0 & -4.426 & 0.0 & 3.208\\times10^{-05} & 0.0\\\\0.0 & 0.0 & 0.555 & 0.0 & -4.020\\times10^{-06} & 0.0\\\\4.495 & 0.0 & 0.0 & 4.562 & 0.0 & -9.360\\times10^{-04}\\\\0.0 & 0.0 & -4.562 & 0.0 & 2.076 & 0.0\\\\4.441\\times10^{-16} & 0.0 & 0.0 & -2.076 & 0.0 & 5.496\\\\0.0 & 0.0 & -7.772\\times10^{-15} & 0.0 & -5.495 & 0.0\\\\\\end{array}\\right)\\end{equation*}"
      ],
      "text/plain": [
       "Quantum object: dims = [[6], [6]], shape = (6, 6), type = oper, isherm = False\n",
       "Qobj data =\n",
       "[[ 0.00000000e+00  0.00000000e+00 -4.42558426e+00  0.00000000e+00\n",
       "   3.20781047e-05  0.00000000e+00]\n",
       " [ 0.00000000e+00  0.00000000e+00  5.54639779e-01  0.00000000e+00\n",
       "  -4.02021334e-06  0.00000000e+00]\n",
       " [ 4.49509493e+00  0.00000000e+00  0.00000000e+00  4.56216059e+00\n",
       "   0.00000000e+00 -9.35997566e-04]\n",
       " [ 0.00000000e+00  0.00000000e+00 -4.56216059e+00  0.00000000e+00\n",
       "   2.07621898e+00  0.00000000e+00]\n",
       " [ 4.44089210e-16  0.00000000e+00  0.00000000e+00 -2.07565524e+00\n",
       "   0.00000000e+00  5.49570160e+00]\n",
       " [ 0.00000000e+00  0.00000000e+00 -7.77156117e-15  0.00000000e+00\n",
       "  -5.49543262e+00  0.00000000e+00]]"
      ]
     },
     "execution_count": 87,
     "metadata": {},
     "output_type": "execute_result"
    }
   ],
   "source": [
    "qutip.Qobj(np.imag(hij_tensor))"
   ]
  },
  {
   "cell_type": "code",
   "execution_count": 35,
   "id": "eab6322c",
   "metadata": {
    "scrolled": true
   },
   "outputs": [
    {
     "data": {
      "text/latex": [
       "Quantum object: dims = [[6], [6]], shape = (6, 6), type = oper, isherm = False\\begin{equation*}\\left(\\begin{array}{*{11}c}0.0 & 0.0 & 0.0 & -0.019 & 0.0 & -0.001\\\\0.0 & 0.0 & 0.0 & 0.002 & 0.0 & 1.435\\times10^{-04}\\\\0.0 & 0.0 & 0.020 & 0.0 & 4.163\\times10^{-15} & 0.0\\\\1.110\\times10^{-16} & 0.0 & 0.0 & -0.016 & 0.0 & -0.006\\\\0.0 & 0.0 & 4.274\\times10^{-15} & 0.0 & 0.044 & 0.0\\\\8.882\\times10^{-16} & 0.0 & 0.0 & -6.245\\times10^{-15} & 0.0 & 0.014\\\\\\end{array}\\right)\\end{equation*}"
      ],
      "text/plain": [
       "Quantum object: dims = [[6], [6]], shape = (6, 6), type = oper, isherm = False\n",
       "Qobj data =\n",
       "[[ 0.00000000e+00  0.00000000e+00  0.00000000e+00 -1.92423355e-02\n",
       "   0.00000000e+00 -1.14476255e-03]\n",
       " [ 0.00000000e+00  0.00000000e+00  0.00000000e+00  2.41156061e-03\n",
       "   0.00000000e+00  1.43468254e-04]\n",
       " [ 0.00000000e+00  0.00000000e+00  1.98361661e-02  0.00000000e+00\n",
       "   4.16333634e-15  0.00000000e+00]\n",
       " [ 1.11022302e-16  0.00000000e+00  0.00000000e+00 -1.63759267e-02\n",
       "   0.00000000e+00 -6.02581765e-03]\n",
       " [ 0.00000000e+00  0.00000000e+00  4.27435864e-15  0.00000000e+00\n",
       "   4.38376306e-02  0.00000000e+00]\n",
       " [ 8.88178420e-16  0.00000000e+00  0.00000000e+00 -6.24500451e-15\n",
       "   0.00000000e+00  1.43620256e-02]]"
      ]
     },
     "execution_count": 35,
     "metadata": {},
     "output_type": "execute_result"
    }
   ],
   "source": [
    "qutip.Qobj(np.real(hij_tensor))"
   ]
  },
  {
   "cell_type": "code",
   "execution_count": 56,
   "id": "0c5d13d5",
   "metadata": {
    "scrolled": true
   },
   "outputs": [
    {
     "data": {
      "text/plain": [
       "<matplotlib.legend.Legend at 0x7f184bd7c910>"
      ]
     },
     "execution_count": 56,
     "metadata": {},
     "output_type": "execute_result"
    },
    {
     "data": {
      "image/png": "[encoded data removed]",
      "text/plain": [
       "<Figure size 504x288 with 1 Axes>"
      ]
     },
     "metadata": {
      "needs_background": "light"
     },
     "output_type": "display_data"
    }
   ],
   "source": [
    "from scipy.integrate import ode\n",
    "import random\n",
    "\n",
    "def F(y, t, H_tensor):\n",
    "    return H_tensor.dot(y)\n",
    "\n",
    "real_hij_tensor = (np.real(hij_tensor))\n",
    "zero_list = [random.uniform(0, .5) for i in range(len(mk_basis) - 1)]\n",
    "Phi0_vec = [.5] + zero_list\n",
    "\n",
    "t0 = 0\n",
    "ts1 = np.linspace(0, 500, 200)\n",
    "result = odeint(func=F, y0=Phi0_vec,t=ts1,args=(real_hij_tensor,))\n",
    "plt.figure(figsize=(7, 4))\n",
    "\n",
    "for i in range(len(mk_basis)):\n",
    "    plt.plot(ts1, result[:,i], label=r'$\\phi_{(%d)}(t)$'%i)\n",
    "\n",
    "plt.xlabel(\"t\")\n",
    "plt.ylabel(\"Phi(t)\")\n",
    "plt.legend()\n",
    "\n",
    "#r = ode(F).set_integrator('zvode', method='bdf', with_jacobian=None)\n",
    "#r.set_initial_value(Phi0_vec, t0).set_f_params(2.0).set_jac_params(2.0)\n",
    "\n",
    "#t1 = 10\n",
    "#dt = 1\n",
    "\n",
    "#while r.successful() and r.t < t1:\n",
    "#    r.integrate(r.t+dt)\n",
    "#    print(r.t, r.y)"
   ]
  },
  {
   "cell_type": "code",
   "execution_count": 91,
   "id": "c7a380d2",
   "metadata": {},
   "outputs": [
    {
     "data": {
      "text/plain": [
       "(Quantum object: dims = [[2, 2, 2], [2, 2, 2]], shape = (8, 8), type = oper, isherm = True\n",
       " Qobj data =\n",
       " [[6. 0. 0. 0. 0. 0. 0. 0.]\n",
       "  [0. 3. 0. 0. 0. 0. 0. 0.]\n",
       "  [0. 0. 4. 0. 0. 0. 0. 0.]\n",
       "  [0. 0. 0. 1. 0. 0. 0. 0.]\n",
       "  [0. 0. 0. 0. 5. 0. 0. 0.]\n",
       "  [0. 0. 0. 0. 0. 2. 0. 0.]\n",
       "  [0. 0. 0. 0. 0. 0. 3. 0.]\n",
       "  [0. 0. 0. 0. 0. 0. 0. 0.]],\n",
       " Quantum object: dims = [[2, 2, 2], [2, 2, 2]], shape = (8, 8), type = oper, isherm = True\n",
       " Qobj data =\n",
       " [[0.+0.j        0.+0.j        0.+0.j        0.+0.j        0.+0.j\n",
       "   0.+0.j        0.+0.j        0.+0.j       ]\n",
       "  [0.+0.j        0.+0.j        0.+0.j        0.+0.j        0.+0.j\n",
       "   0.+0.j        0.+0.j        0.+0.j       ]\n",
       "  [0.+0.j        0.+0.j        0.+0.j        0.+0.j        0.+0.4712389j\n",
       "   0.+0.j        0.+0.j        0.+0.j       ]\n",
       "  [0.+0.j        0.+0.j        0.+0.j        0.+0.j        0.+0.j\n",
       "   0.+0.4712389j 0.+0.j        0.+0.j       ]\n",
       "  [0.+0.j        0.+0.j        0.-0.4712389j 0.+0.j        0.+0.j\n",
       "   0.+0.j        0.+0.j        0.+0.j       ]\n",
       "  [0.+0.j        0.+0.j        0.+0.j        0.-0.4712389j 0.+0.j\n",
       "   0.+0.j        0.+0.j        0.+0.j       ]\n",
       "  [0.+0.j        0.+0.j        0.+0.j        0.+0.j        0.+0.j\n",
       "   0.+0.j        0.+0.j        0.+0.j       ]\n",
       "  [0.+0.j        0.+0.j        0.+0.j        0.+0.j        0.+0.j\n",
       "   0.+0.j        0.+0.j        0.+0.j       ]],\n",
       " Quantum object: dims = [[2, 2, 2], [2, 2, 2]], shape = (8, 8), type = oper, isherm = True\n",
       " Qobj data =\n",
       " [[0.+0.j         0.+0.j         0.+0.j         0.+0.j\n",
       "   0.+0.j         0.+0.j         0.+0.j         0.+0.j        ]\n",
       "  [0.+0.j         0.+0.j         0.+0.j         0.+0.j\n",
       "   0.+0.j         0.+0.j         0.+0.j         0.+0.j        ]\n",
       "  [0.+0.j         0.+0.j         0.+0.j         0.+0.j\n",
       "   0.+2.12057504j 0.+0.j         0.+0.j         0.+0.j        ]\n",
       "  [0.+0.j         0.+0.j         0.+0.j         0.+0.j\n",
       "   0.+0.j         0.+0.70685835j 0.+0.j         0.+0.j        ]\n",
       "  [0.+0.j         0.+0.j         0.-2.12057504j 0.+0.j\n",
       "   0.+0.j         0.+0.j         0.+0.j         0.+0.j        ]\n",
       "  [0.+0.j         0.+0.j         0.+0.j         0.-0.70685835j\n",
       "   0.+0.j         0.+0.j         0.+0.j         0.+0.j        ]\n",
       "  [0.+0.j         0.+0.j         0.+0.j         0.+0.j\n",
       "   0.+0.j         0.+0.j         0.+0.j         0.+0.j        ]\n",
       "  [0.+0.j         0.+0.j         0.+0.j         0.+0.j\n",
       "   0.+0.j         0.+0.j         0.+0.j         0.+0.j        ]],\n",
       " Quantum object: dims = [[2, 2, 2], [2, 2, 2]], shape = (8, 8), type = oper, isherm = True\n",
       " Qobj data =\n",
       " [[ 0.         0.         0.         0.         0.         0.\n",
       "    0.         0.       ]\n",
       "  [ 0.         0.         0.         0.         0.         0.\n",
       "    0.         0.       ]\n",
       "  [ 0.         0.         0.         0.        -0.4712389  0.\n",
       "    0.         0.       ]\n",
       "  [ 0.         0.         0.         0.         0.        -0.4712389\n",
       "    0.         0.       ]\n",
       "  [ 0.         0.        -0.4712389  0.         0.         0.\n",
       "    0.         0.       ]\n",
       "  [ 0.         0.         0.        -0.4712389  0.         0.\n",
       "    0.         0.       ]\n",
       "  [ 0.         0.         0.         0.         0.         0.\n",
       "    0.         0.       ]\n",
       "  [ 0.         0.         0.         0.         0.         0.\n",
       "    0.         0.       ]],\n",
       " Quantum object: dims = [[2, 2, 2], [2, 2, 2]], shape = (8, 8), type = oper, isherm = True\n",
       " Qobj data =\n",
       " [[ 0.         0.         0.         0.         0.         0.\n",
       "    0.         0.       ]\n",
       "  [ 0.         0.         0.         0.         0.         0.\n",
       "    0.         0.       ]\n",
       "  [ 0.         0.        -0.4441322  0.         0.         0.\n",
       "    0.         0.       ]\n",
       "  [ 0.         0.         0.        -0.4441322  0.         0.\n",
       "    0.         0.       ]\n",
       "  [ 0.         0.         0.         0.         0.4441322  0.\n",
       "    0.         0.       ]\n",
       "  [ 0.         0.         0.         0.         0.         0.4441322\n",
       "    0.         0.       ]\n",
       "  [ 0.         0.         0.         0.         0.         0.\n",
       "    0.         0.       ]\n",
       "  [ 0.         0.         0.         0.         0.         0.\n",
       "    0.         0.       ]])"
      ]
     },
     "execution_count": 91,
     "metadata": {},
     "output_type": "execute_result"
    }
   ],
   "source": [
    "classical = me.classical_ops(spin_ops_list, chain_type, N, Hamiltonian_paras)\n",
    "classical"
   ]
  },
  {
   "cell_type": "code",
   "execution_count": 68,
   "id": "17ee5d26",
   "metadata": {},
   "outputs": [],
   "source": [
    "rhos_at_timet = []\n",
    "\n",
    "for i in range(len(result)):\n",
    "    loc_K = sum([result[i][a] * mk_basis[a] for a in range(len(mk_basis))])\n",
    "    rhos_at_timet.append(loc_K.expm())\n",
    "    loc_K = 0"
   ]
  },
  {
   "cell_type": "code",
   "execution_count": 72,
   "id": "70d50556",
   "metadata": {
    "scrolled": false
   },
   "outputs": [],
   "source": [
    "for i in range(len(rhos_at_timet)):\n",
    "    if (me.is_density_op(rhos_at_timet[i])):\n",
    "        print(\"At time =\", i, \"density op\")\n",
    "    else:\n",
    "        pass\n",
    "        #print(\"At time =\", i, \"not density op\")"
   ]
  },
  {
   "cell_type": "code",
   "execution_count": 7,
   "id": "f4e878ff",
   "metadata": {},
   "outputs": [
    {
     "data": {
      "text/plain": [
       "0.007759750761890424"
      ]
     },
     "execution_count": 7,
     "metadata": {},
     "output_type": "execute_result"
    }
   ],
   "source": [
    "def bures(rho, sigma):\n",
    "    if (me.is_density_op(rho) and me.is_density_op(sigma)):\n",
    "        val1 = abs((me.sqrtM(rho)*me.sqrtM(sigma)).tr())\n",
    "        val1 = max(min(val1,1.),-1.)\n",
    "        val1 = np.arccos(val1)/np.pi\n",
    "    else: \n",
    "        sys.exit(\"Singular input matrix\")\n",
    "    return val1\n",
    "\n",
    "rho1 = (.4*Sx0Sx1).expm()\n",
    "rho1 = rho1/rho1.tr()\n",
    "bures(rho0, rho1)"
   ]
  },
  {
   "cell_type": "code",
   "execution_count": 9,
   "id": "a19cfb8a",
   "metadata": {},
   "outputs": [],
   "source": [
    "bures_distance_list = [bures(rho0, resultsB[\"State ev\"][a]) for a in range(len(resultsB[\"State ev\"]))]"
   ]
  },
  {
   "cell_type": "code",
   "execution_count": 10,
   "id": "01259799",
   "metadata": {
    "scrolled": true
   },
   "outputs": [
    {
     "data": {
      "text/plain": [
       "[<matplotlib.lines.Line2D at 0x296e5a30bb0>]"
      ]
     },
     "execution_count": 10,
     "metadata": {},
     "output_type": "execute_result"
    },
    {
     "data": {
      "image/png": "[encoded data removed]",
      "text/plain": [
       "<Figure size 432x288 with 1 Axes>"
      ]
     },
     "metadata": {
      "needs_background": "light"
     },
     "output_type": "display_data"
    }
   ],
   "source": [
    "plt.plot(bures_distance_list)"
   ]
  },
  {
   "cell_type": "code",
   "execution_count": 8,
   "id": "ba04bc1a",
   "metadata": {
    "scrolled": true
   },
   "outputs": [
    {
     "data": {
      "text/plain": [
       "0.01428582964910818"
      ]
     },
     "execution_count": 8,
     "metadata": {},
     "output_type": "execute_result"
    }
   ],
   "source": [
    "bures(rho0, resultsB[\"State ev\"][4499])"
   ]
  },
  {
   "cell_type": "code",
   "execution_count": 64,
   "id": "bf2a5b2e",
   "metadata": {},
   "outputs": [
    {
     "data": {
      "text/latex": [
       "Quantum object: dims = [[2, 2, 2], [2, 2, 2]], shape = (8, 8), type = oper, isherm = True\\begin{equation*}\\left(\\begin{array}{*{11}c}0.125 & 0.0 & 0.0 & 0.0 & 0.0 & -0.007j & (0.031+0.202j) & 0.0\\\\0.0 & 0.125 & 0.0 & 0.0 & 0.007j & 0.0 & 0.0 & (0.031+0.183j)\\\\0.0 & 0.0 & 0.125 & 0.0 & (0.031-0.010j) & 0.0 & 0.0 & 0.007j\\\\0.0 & 0.0 & 0.0 & 0.125 & 0.0 & (0.031+0.010j) & -0.007j & 0.0\\\\0.0 & -0.007j & (0.031+0.010j) & 0.0 & 0.125 & 0.0 & 0.0 & 0.0\\\\0.007j & 0.0 & 0.0 & (0.031-0.010j) & 0.0 & 0.125 & 0.0 & 0.0\\\\(0.031-0.202j) & 0.0 & 0.0 & 0.007j & 0.0 & 0.0 & 0.125 & 0.0\\\\0.0 & (0.031-0.183j) & -0.007j & 0.0 & 0.0 & 0.0 & 0.0 & 0.125\\\\\\end{array}\\right)\\end{equation*}"
      ],
      "text/plain": [
       "Quantum object: dims = [[2, 2, 2], [2, 2, 2]], shape = (8, 8), type = oper, isherm = True\n",
       "Qobj data =\n",
       "[[0.125     +0.j         0.        +0.j         0.        +0.j\n",
       "  0.        +0.j         0.        +0.j         0.        -0.00721345j\n",
       "  0.03061483+0.2019766j  0.        +0.j        ]\n",
       " [0.        +0.j         0.125     +0.j         0.        +0.j\n",
       "  0.        +0.j         0.        +0.00721345j 0.        +0.j\n",
       "  0.        +0.j         0.03061483+0.18274073j]\n",
       " [0.        +0.j         0.        +0.j         0.125     +0.j\n",
       "  0.        +0.j         0.03061483-0.00961793j 0.        +0.j\n",
       "  0.        +0.j         0.        +0.00721345j]\n",
       " [0.        +0.j         0.        +0.j         0.        +0.j\n",
       "  0.125     +0.j         0.        +0.j         0.03061483+0.00961793j\n",
       "  0.        -0.00721345j 0.        +0.j        ]\n",
       " [0.        +0.j         0.        -0.00721345j 0.03061483+0.00961793j\n",
       "  0.        +0.j         0.125     +0.j         0.        +0.j\n",
       "  0.        +0.j         0.        +0.j        ]\n",
       " [0.        +0.00721345j 0.        +0.j         0.        +0.j\n",
       "  0.03061483-0.00961793j 0.        +0.j         0.125     +0.j\n",
       "  0.        +0.j         0.        +0.j        ]\n",
       " [0.03061483-0.2019766j  0.        +0.j         0.        +0.j\n",
       "  0.        +0.00721345j 0.        +0.j         0.        +0.j\n",
       "  0.125     +0.j         0.        +0.j        ]\n",
       " [0.        +0.j         0.03061483-0.18274073j 0.        -0.00721345j\n",
       "  0.        +0.j         0.        +0.j         0.        +0.j\n",
       "  0.        +0.j         0.125     +0.j        ]]"
      ]
     },
     "execution_count": 64,
     "metadata": {},
     "output_type": "execute_result"
    }
   ],
   "source": []
  },
  {
   "cell_type": "code",
   "execution_count": 73,
   "id": "8b9c4c8c",
   "metadata": {
    "scrolled": false
   },
   "outputs": [
    {
     "name": "stdout",
     "output_type": "stream",
     "text": [
      "Processing custom initial state\n",
      "Processing default observable basis\n",
      "sampling: 30\n",
      "Open evolution chosen\n",
      "--- 52.11599588394165 seconds ---\n"
     ]
    },
    {
     "ename": "IndexError",
     "evalue": "index 5 is out of bounds for axis 1 with size 5",
     "output_type": "error",
     "traceback": [
      "\u001b[1;31m---------------------------------------------------------------------------\u001b[0m",
      "\u001b[1;31mIndexError\u001b[0m                                Traceback (most recent call last)",
      "Input \u001b[1;32mIn [73]\u001b[0m, in \u001b[0;36m<cell line: 35>\u001b[1;34m()\u001b[0m\n\u001b[0;32m     33\u001b[0m plot_labels \u001b[38;5;241m=\u001b[39m [\u001b[38;5;124m\"\u001b[39m\u001b[38;5;124mSx0Sx1 \u001b[39m\u001b[38;5;124m\"\u001b[39m, \u001b[38;5;124m\"\u001b[39m\u001b[38;5;124mSx1Sx2 \u001b[39m\u001b[38;5;124m\"\u001b[39m, \u001b[38;5;124m\"\u001b[39m\u001b[38;5;124mSx2Sx3 \u001b[39m\u001b[38;5;124m\"\u001b[39m, \u001b[38;5;124m\"\u001b[39m\u001b[38;5;124mSx3Sx0 \u001b[39m\u001b[38;5;124m\"\u001b[39m]\n\u001b[0;32m     35\u001b[0m \u001b[38;5;28;01mfor\u001b[39;00m n \u001b[38;5;129;01min\u001b[39;00m \u001b[38;5;28mrange\u001b[39m(N\u001b[38;5;241m-\u001b[39m\u001b[38;5;241m1\u001b[39m):\n\u001b[1;32m---> 36\u001b[0m     plt\u001b[38;5;241m.\u001b[39mscatter(resultsB[\u001b[38;5;124m\"\u001b[39m\u001b[38;5;124mts\u001b[39m\u001b[38;5;124m\"\u001b[39m], \u001b[43mresultsB\u001b[49m\u001b[43m[\u001b[49m\u001b[38;5;124;43m\"\u001b[39;49m\u001b[38;5;124;43maverages\u001b[39;49m\u001b[38;5;124;43m\"\u001b[39;49m\u001b[43m]\u001b[49m\u001b[43m[\u001b[49m\u001b[43m:\u001b[49m\u001b[43m,\u001b[49m\u001b[43mn\u001b[49m\u001b[43m]\u001b[49m) \u001b[38;5;66;03m#label=plot_labels[n] + \"Exact\")\u001b[39;00m\n\u001b[0;32m     38\u001b[0m plt\u001b[38;5;241m.\u001b[39mxlabel(\u001b[38;5;124m\"\u001b[39m\u001b[38;5;124mt\u001b[39m\u001b[38;5;124m\"\u001b[39m)\n\u001b[0;32m     39\u001b[0m plt\u001b[38;5;241m.\u001b[39mylabel(\u001b[38;5;124m\"\u001b[39m\u001b[38;5;124mAvgs\u001b[39m\u001b[38;5;124m\"\u001b[39m)\n",
      "\u001b[1;31mIndexError\u001b[0m: index 5 is out of bounds for axis 1 with size 5"
     ]
    },
    {
     "data": {
      "image/png": "[encoded data removed]",
      "text/plain": [
       "<Figure size 576x432 with 1 Axes>"
      ]
     },
     "metadata": {
      "needs_background": "light"
     },
     "output_type": "display_data"
    }
   ],
   "source": [
    "start_time = time.time()\n",
    "unitary_ev = False; gamma = 3*np.pi**-1\n",
    "size = N; gaussian = True; gr = 2; xng = .7\n",
    "\n",
    "spin_ops_list = me.one_body_spin_ops(size)\n",
    "seed_op1 = Mz = sum(spin_ops_list[3][i] for i in range(size))\n",
    "seed_op2 = Sx0Sx1 = spin_ops_list[1][0]*spin_ops_list[1][0+1] + spin_ops_list[1][1]*spin_ops_list[1][0] \n",
    "\n",
    "NN_interactions_on_x = [spin_ops_list[1][a]*spin_ops_list[1][a+1] for a in range(N-1)] \n",
    "NN_interactions_on_x + [spin_ops_list[1][N-1]*spin_ops_list[1][0]] \n",
    "\n",
    "obs_basis = spin_ops_list[2]\n",
    "#NN_interactions_on_x\n",
    "\n",
    "rho0 = (.5 * qutip.tensor([qutip.qeye(2) for k in range(N)]) + .5*seed_op2).expm()\n",
    "rho0 = rho0/rho0.tr()\n",
    "\n",
    "Hamiltonian_paras = [.75, .65, .5, 1.]\n",
    "\n",
    "chain_type = \"XXZ\"\n",
    "\n",
    "title, ev_paras, resultsB = me.spin_chain_ev(size = size, init_state = rho0, chain_type = chain_type, \n",
    "                                             Hamiltonian_paras = Hamiltonian_paras, omega_1=3., omega_2=3., \n",
    "                                             temp=1, tmax = 150, deltat = 1, two_body_basis = True, \n",
    "                                             unitary_ev = unitary_ev, gamma = gamma, gaussian = gaussian, \n",
    "                                             gr = gr, xng = xng, obs_basis = None, do_project = False)\n",
    "\n",
    "print(\"--- %s seconds ---\" % (time.time() - start_time))\n",
    "\n",
    "ev_paras[\"Time elapsed\"] = time.time() - start_time\n",
    "\n",
    "plt.figure(figsize=(8, 6))\n",
    "plot_labels = [\"Sx0Sx1 \", \"Sx1Sx2 \", \"Sx2Sx3 \", \"Sx3Sx0 \"]\n",
    "\n",
    "for n in range(N-1):\n",
    "    plt.scatter(resultsB[\"ts\"], resultsB[\"averages\"][:,n]) #label=plot_labels[n] + \"Exact\")\n",
    "    \n",
    "plt.xlabel(\"t\")\n",
    "plt.ylabel(\"Avgs\")\n",
    "plt.title(title)\n",
    "plt.legend()"
   ]
  },
  {
   "cell_type": "code",
   "execution_count": null,
   "id": "cb71eff8",
   "metadata": {
    "scrolled": false
   },
   "outputs": [],
   "source": [
    "<O>(t)\n",
    "\n",
    "d/dt <O> = <[H,O]>\n",
    "d/dt <[H,O]> = <[H, [H,O]]>\n",
    "d/dt <[H,[H,O]]> = <[H, [H,[H,O]]>\n"
   ]
  }
 ],
 "metadata": {
  "kernelspec": {
   "display_name": "Python 3 (ipykernel)",
   "language": "python",
   "name": "python3"
  },
  "language_info": {
   "codemirror_mode": {
    "name": "ipython",
    "version": 3
   },
   "file_extension": ".py",
   "mimetype": "text/x-python",
   "name": "python",
   "nbconvert_exporter": "python",
   "pygments_lexer": "ipython3",
   "version": "3.10.4"
  }
 },
 "nbformat": 4,
 "nbformat_minor": 5
}
