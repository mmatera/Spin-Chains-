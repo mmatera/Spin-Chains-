{
 "cells": [
  {
   "cell_type": "code",
   "execution_count": 1,
   "id": "49fe5b4d",
   "metadata": {},
   "outputs": [],
   "source": [
    "import qutip\n",
    "import matplotlib.pyplot as plt \n",
    "import numpy as np\n",
    "import scipy.optimize as opt \n",
    "import scipy.linalg as linalg\n",
    "import pickle\n",
    "import time as time\n",
    "import math, cmath\n",
    "import sys\n",
    "import auxiliary_library as me\n",
    "\n",
    "from IPython.display import display, Math, Latex"
   ]
  },
  {
   "cell_type": "code",
   "execution_count": 2,
   "id": "a0c6cc68",
   "metadata": {
    "scrolled": false
   },
   "outputs": [],
   "source": [
    "N = 3\n",
    "\n",
    "spin_ops_list = me.one_body_spin_ops(N)\n",
    "seed_op1 = Mz = sum(spin_ops_list[3][i] for i in range(N))\n",
    "seed_op2 = Sx0Sx1 = spin_ops_list[1][0]*spin_ops_list[1][0+1] + spin_ops_list[1][1]*spin_ops_list[1][0] \n",
    "\n",
    "K = .5*seed_op2\n",
    "rho0 = K.expm()\n",
    "rho0 = rho0/rho0.tr()\n",
    "\n",
    "chain_type = \"XYZ\"\n",
    "Hamiltonian_paras = [.1, .15, .2, 1.]\n",
    "H_H = me.Heisenberg_Hamiltonian(spin_ops_list, \"XYZ\", N, False, Hamiltonian_paras)\n",
    "\n",
    "basis = me.recursive_basis(N, 4, H_H, seed_op2)\n",
    "mk_basis = [.5 * basis[a] + basis[a].dag() for a in range(len(basis))]\n",
    "mk_basis = me.base_orth(basis, rho0)\n",
    "\n",
    "# acÃ¡ un temita: \n",
    "# 1. yo me defino el estado inicial con algÃºn seed operator\n",
    "# 2. pero despuÃ©s yo me cambio el seed operator cuando haga la ortonormalizaciÃ³n de GS\n",
    "\n",
    "hij_tensor = me.H_ij_matrix(H_H, mk_basis, rho0)\n",
    "\n",
    "# Operadores no hermÃ­ticos. Veo de hacerlos hermÃ­ticos la fuerza"
   ]
  },
  {
   "cell_type": "code",
   "execution_count": 14,
   "id": "d649b31e",
   "metadata": {},
   "outputs": [],
   "source": [
    "from scipy.integrate import odeint\n",
    "\n",
    "def F(y, t, HH):\n",
    "    return HH.dot(y)"
   ]
  },
  {
   "cell_type": "code",
   "execution_count": 15,
   "id": "0c5d13d5",
   "metadata": {
    "scrolled": true
   },
   "outputs": [
    {
     "name": "stderr",
     "output_type": "stream",
     "text": [
      "WARNING:matplotlib.legend:No artists with labels found to put in legend.  Note that artists whose label start with an underscore are ignored when legend() is called with no argument.\n"
     ]
    },
    {
     "data": {
      "text/plain": [
       "<matplotlib.legend.Legend at 0x1b8e9ef5970>"
      ]
     },
     "execution_count": 15,
     "metadata": {},
     "output_type": "execute_result"
    },
    {
     "data": {
      "image/png": "[encoded data removed]",
      "text/plain": [
       "<Figure size 288x216 with 1 Axes>"
      ]
     },
     "metadata": {
      "needs_background": "light"
     },
     "output_type": "display_data"
    }
   ],
   "source": [
    "zero_list = [0 for i in range(len(mk_basis) - 1)]\n",
    "Phi0_vec = [.5] + zero_list\n",
    "\n",
    "ts=np.linspace(0,1,200)\n",
    "result = odeint(func=F, y0=Phi0_vec,t=ts,args=(hij_tensor,))\n",
    "plt.figure(figsize=(4, 3))\n",
    "\n",
    "#for i in range(len(markov_basis)):\n",
    "#    plt.plot(result[i], label=r'$\\phi_{(%d)}(t)$'%i)\n",
    "\n",
    "plt.plot(result)\n",
    "\n",
    "plt.xlabel(\"t\")\n",
    "plt.ylabel(\"Phi(t)\")\n",
    "plt.legend()"
   ]
  },
  {
   "cell_type": "code",
   "execution_count": 41,
   "id": "17ee5d26",
   "metadata": {},
   "outputs": [],
   "source": [
    "rhos_at_timet = []\n",
    "\n",
    "for i in range(len(result)):\n",
    "    loc_rho = sum([result[i][a] * mk_basis[a] for a in range(len(mk_basis))])\n",
    "    loc_rho.expm()\n",
    "    rhos_at_timet.append(loc_rho)\n",
    "    loc_rho = 0"
   ]
  },
  {
   "cell_type": "code",
   "execution_count": 42,
   "id": "67d1dd27",
   "metadata": {
    "scrolled": false
   },
   "outputs": [],
   "source": [
    "for i in range(len(rhos_at_timet)):\n",
    "    #print(me.is_density_op(rhos_at_timet[i]))\n",
    "    #print(me.ev_checks(rhos_at_timet[i]))\n",
    "    pass"
   ]
  },
  {
   "cell_type": "code",
   "execution_count": 50,
   "id": "70d50556",
   "metadata": {
    "scrolled": false
   },
   "outputs": [],
   "source": [
    "for i in range(len(rhos_at_timet)):\n",
    "    if (me.is_density_op(rhos_at_timet[i])):\n",
    "        print(\"At time =\", i, \"density op\")\n",
    "    else:\n",
    "        pass\n",
    "        #print(\"At time =\", i, \"not density op\")"
   ]
  },
  {
   "cell_type": "code",
   "execution_count": 7,
   "id": "f4e878ff",
   "metadata": {},
   "outputs": [
    {
     "data": {
      "text/plain": [
       "0.007759750761890424"
      ]
     },
     "execution_count": 7,
     "metadata": {},
     "output_type": "execute_result"
    }
   ],
   "source": [
    "def bures(rho, sigma):\n",
    "    if (me.is_density_op(rho) and me.is_density_op(sigma)):\n",
    "        val1 = abs((me.sqrtM(rho)*me.sqrtM(sigma)).tr())\n",
    "        val1 = max(min(val1,1.),-1.)\n",
    "        val1 = np.arccos(val1)/np.pi\n",
    "    else: \n",
    "        sys.exit(\"Singular input matrix\")\n",
    "    return val1\n",
    "\n",
    "rho1 = (.4*Sx0Sx1).expm()\n",
    "rho1 = rho1/rho1.tr()\n",
    "bures(rho0, rho1)"
   ]
  },
  {
   "cell_type": "code",
   "execution_count": 9,
   "id": "a19cfb8a",
   "metadata": {},
   "outputs": [],
   "source": [
    "bures_distance_list = [bures(rho0, resultsB[\"State ev\"][a]) for a in range(len(resultsB[\"State ev\"]))]"
   ]
  },
  {
   "cell_type": "code",
   "execution_count": 10,
   "id": "01259799",
   "metadata": {},
   "outputs": [
    {
     "data": {
      "text/plain": [
       "[<matplotlib.lines.Line2D at 0x296e5a30bb0>]"
      ]
     },
     "execution_count": 10,
     "metadata": {},
     "output_type": "execute_result"
    },
    {
     "data": {
      "image/png": "[encoded data removed]",
      "text/plain": [
       "<Figure size 432x288 with 1 Axes>"
      ]
     },
     "metadata": {
      "needs_background": "light"
     },
     "output_type": "display_data"
    }
   ],
   "source": [
    "plt.plot(bures_distance_list)"
   ]
  },
  {
   "cell_type": "code",
   "execution_count": 8,
   "id": "ba04bc1a",
   "metadata": {
    "scrolled": true
   },
   "outputs": [
    {
     "data": {
      "text/plain": [
       "0.01428582964910818"
      ]
     },
     "execution_count": 8,
     "metadata": {},
     "output_type": "execute_result"
    }
   ],
   "source": [
    "bures(rho0, resultsB[\"State ev\"][4499])"
   ]
  },
  {
   "cell_type": "code",
   "execution_count": 28,
   "id": "a783d57b",
   "metadata": {},
   "outputs": [
    {
     "name": "stdout",
     "output_type": "stream",
     "text": [
      "Help on function spin_chain_ev in module auxiliary_library:\n",
      "\n",
      "spin_chain_ev(size, init_state, chain_type, Hamiltonian_paras, omega_1=3.0, omega_2=3.0, temp=1, tmax=250, deltat=10, two_body_basis=True, unitary_ev=False, gamma=0.1353352832366127, gaussian=True, gr=2, xng=0.5, obs_basis=None, do_project=True)\n",
      "\n"
     ]
    }
   ],
   "source": []
  },
  {
   "cell_type": "code",
   "execution_count": 12,
   "id": "32700936",
   "metadata": {},
   "outputs": [
    {
     "data": {
      "text/latex": [
       "Quantum object: dims = [[2, 2, 2], [2, 2, 2]], shape = (8, 8), type = oper, isherm = True\\begin{equation*}\\left(\\begin{array}{*{11}c}1.0 & 0.0 & 0.0 & 0.0 & 0.0 & 0.0 & 0.250 & 0.0\\\\0.0 & 1.0 & 0.0 & 0.0 & 0.0 & 0.0 & 0.0 & 0.250\\\\0.0 & 0.0 & 1.0 & 0.0 & 0.250 & 0.0 & 0.0 & 0.0\\\\0.0 & 0.0 & 0.0 & 1.0 & 0.0 & 0.250 & 0.0 & 0.0\\\\0.0 & 0.0 & 0.250 & 0.0 & 1.0 & 0.0 & 0.0 & 0.0\\\\0.0 & 0.0 & 0.0 & 0.250 & 0.0 & 1.0 & 0.0 & 0.0\\\\0.250 & 0.0 & 0.0 & 0.0 & 0.0 & 0.0 & 1.0 & 0.0\\\\0.0 & 0.250 & 0.0 & 0.0 & 0.0 & 0.0 & 0.0 & 1.0\\\\\\end{array}\\right)\\end{equation*}"
      ],
      "text/plain": [
       "Quantum object: dims = [[2, 2, 2], [2, 2, 2]], shape = (8, 8), type = oper, isherm = True\n",
       "Qobj data =\n",
       "[[1.   0.   0.   0.   0.   0.   0.25 0.  ]\n",
       " [0.   1.   0.   0.   0.   0.   0.   0.25]\n",
       " [0.   0.   1.   0.   0.25 0.   0.   0.  ]\n",
       " [0.   0.   0.   1.   0.   0.25 0.   0.  ]\n",
       " [0.   0.   0.25 0.   1.   0.   0.   0.  ]\n",
       " [0.   0.   0.   0.25 0.   1.   0.   0.  ]\n",
       " [0.25 0.   0.   0.   0.   0.   1.   0.  ]\n",
       " [0.   0.25 0.   0.   0.   0.   0.   1.  ]]"
      ]
     },
     "execution_count": 12,
     "metadata": {},
     "output_type": "execute_result"
    }
   ],
   "source": [
    "rho0 = (qutip.tensor([qutip.qeye(2) for k in range(N)]) + .5*seed_op2)\n",
    "rho0"
   ]
  },
  {
   "cell_type": "code",
   "execution_count": 11,
   "id": "8b9c4c8c",
   "metadata": {},
   "outputs": [
    {
     "name": "stdout",
     "output_type": "stream",
     "text": [
      "Processing default initial state\n",
      "Two-body Gaussian initial state chosen\n",
      "Quantum object: dims = [[2, 2, 2], [2, 2, 2]], shape = (8, 8), type = oper, isherm = True\n",
      "Qobj data =\n",
      "[[ 1.25753098e-01+0.00000000e+00j  3.14096598e-04-3.14096598e-04j\n",
      "   3.14096598e-04-3.14096598e-04j  0.00000000e+00-1.26315775e-04j\n",
      "   3.14096598e-04-3.14096598e-04j  0.00000000e+00-1.26315775e-04j\n",
      "   0.00000000e+00-1.26315775e-04j -5.64185785e-07-5.64185785e-07j]\n",
      " [ 3.14096598e-04+3.14096598e-04j  1.25124905e-01+0.00000000e+00j\n",
      "   1.26315775e-04+0.00000000e+00j  1.87780823e-04-1.87780823e-04j\n",
      "   1.26315775e-04+0.00000000e+00j  1.87780823e-04-1.87780823e-04j\n",
      "   5.64185785e-07-5.64185785e-07j  0.00000000e+00-1.25187403e-04j]\n",
      " [ 3.14096598e-04+3.14096598e-04j  1.26315775e-04+0.00000000e+00j\n",
      "   1.25124905e-01+0.00000000e+00j  1.87780823e-04-1.87780823e-04j\n",
      "   1.26315775e-04+0.00000000e+00j  5.64185785e-07-5.64185785e-07j\n",
      "   1.87780823e-04-1.87780823e-04j  0.00000000e+00-1.25187403e-04j]\n",
      " [ 0.00000000e+00+1.26315775e-04j  1.87780823e-04+1.87780823e-04j\n",
      "   1.87780823e-04+1.87780823e-04j  1.24749343e-01+0.00000000e+00j\n",
      "   5.64185785e-07+5.64185785e-07j  1.25187403e-04+0.00000000e+00j\n",
      "   1.25187403e-04+0.00000000e+00j  6.25934200e-05-6.25934200e-05j]\n",
      " [ 3.14096598e-04+3.14096598e-04j  1.26315775e-04+0.00000000e+00j\n",
      "   1.26315775e-04+0.00000000e+00j  5.64185785e-07-5.64185785e-07j\n",
      "   1.25124905e-01+0.00000000e+00j  1.87780823e-04-1.87780823e-04j\n",
      "   1.87780823e-04-1.87780823e-04j  0.00000000e+00-1.25187403e-04j]\n",
      " [ 0.00000000e+00+1.26315775e-04j  1.87780823e-04+1.87780823e-04j\n",
      "   5.64185785e-07+5.64185785e-07j  1.25187403e-04+0.00000000e+00j\n",
      "   1.87780823e-04+1.87780823e-04j  1.24749343e-01+0.00000000e+00j\n",
      "   1.25187403e-04+0.00000000e+00j  6.25934200e-05-6.25934200e-05j]\n",
      " [ 0.00000000e+00+1.26315775e-04j  5.64185785e-07+5.64185785e-07j\n",
      "   1.87780823e-04+1.87780823e-04j  1.25187403e-04+0.00000000e+00j\n",
      "   1.87780823e-04+1.87780823e-04j  1.25187403e-04+0.00000000e+00j\n",
      "   1.24749343e-01+0.00000000e+00j  6.25934200e-05-6.25934200e-05j]\n",
      " [-5.64185785e-07+5.64185785e-07j  0.00000000e+00+1.25187403e-04j\n",
      "   0.00000000e+00+1.25187403e-04j  6.25934200e-05+6.25934200e-05j\n",
      "   0.00000000e+00+1.25187403e-04j  6.25934200e-05+6.25934200e-05j\n",
      "   6.25934200e-05+6.25934200e-05j  1.24624157e-01+0.00000000e+00j]]\n",
      "two-body operator chosen\n",
      "Processing two-body basis\n",
      "Processing custom observable basis\n",
      "Open evolution chosen\n"
     ]
    },
    {
     "ename": "TypeError",
     "evalue": "Arguments must be quantum objects or eseries",
     "output_type": "error",
     "traceback": [
      "\u001b[1;31m---------------------------------------------------------------------------\u001b[0m",
      "\u001b[1;31mTypeError\u001b[0m                                 Traceback (most recent call last)",
      "Input \u001b[1;32mIn [11]\u001b[0m, in \u001b[0;36m<cell line: 18>\u001b[1;34m()\u001b[0m\n\u001b[0;32m     14\u001b[0m rho0 \u001b[38;5;241m=\u001b[39m rho0\u001b[38;5;241m/\u001b[39mrho0\u001b[38;5;241m.\u001b[39mtr()\n\u001b[0;32m     16\u001b[0m chain_type \u001b[38;5;241m=\u001b[39m \u001b[38;5;124m\"\u001b[39m\u001b[38;5;124mXYZ\u001b[39m\u001b[38;5;124m\"\u001b[39m\n\u001b[1;32m---> 18\u001b[0m title, ev_paras, resultsB \u001b[38;5;241m=\u001b[39m \u001b[43mme\u001b[49m\u001b[38;5;241;43m.\u001b[39;49m\u001b[43mspin_chain_ev\u001b[49m\u001b[43m(\u001b[49m\u001b[43msize\u001b[49m\u001b[43m \u001b[49m\u001b[38;5;241;43m=\u001b[39;49m\u001b[43m \u001b[49m\u001b[43msize\u001b[49m\u001b[43m,\u001b[49m\u001b[43m \u001b[49m\u001b[43minit_state\u001b[49m\u001b[43m \u001b[49m\u001b[38;5;241;43m=\u001b[39;49m\u001b[43m \u001b[49m\u001b[38;5;28;43;01mNone\u001b[39;49;00m\u001b[43m,\u001b[49m\u001b[43m \u001b[49m\u001b[43mchain_type\u001b[49m\u001b[43m \u001b[49m\u001b[38;5;241;43m=\u001b[39;49m\u001b[43m \u001b[49m\u001b[43mchain_type\u001b[49m\u001b[43m,\u001b[49m\u001b[43m \u001b[49m\n\u001b[0;32m     19\u001b[0m \u001b[43m                                             \u001b[49m\u001b[43mHamiltonian_paras\u001b[49m\u001b[43m \u001b[49m\u001b[38;5;241;43m=\u001b[39;49m\u001b[43m \u001b[49m\u001b[43mHamiltonian_paras\u001b[49m\u001b[43m,\u001b[49m\u001b[43m \u001b[49m\u001b[43momega_1\u001b[49m\u001b[38;5;241;43m=\u001b[39;49m\u001b[38;5;241;43m3.\u001b[39;49m\u001b[43m,\u001b[49m\u001b[43m \u001b[49m\u001b[43momega_2\u001b[49m\u001b[38;5;241;43m=\u001b[39;49m\u001b[38;5;241;43m3.\u001b[39;49m\u001b[43m,\u001b[49m\u001b[43m \u001b[49m\n\u001b[0;32m     20\u001b[0m \u001b[43m                                             \u001b[49m\u001b[43mtemp\u001b[49m\u001b[38;5;241;43m=\u001b[39;49m\u001b[38;5;241;43m1\u001b[39;49m\u001b[43m,\u001b[49m\u001b[43m \u001b[49m\u001b[43mtmax\u001b[49m\u001b[43m \u001b[49m\u001b[38;5;241;43m=\u001b[39;49m\u001b[43m \u001b[49m\u001b[38;5;241;43m150\u001b[39;49m\u001b[43m,\u001b[49m\u001b[43m \u001b[49m\u001b[43mdeltat\u001b[49m\u001b[43m \u001b[49m\u001b[38;5;241;43m=\u001b[39;49m\u001b[43m \u001b[49m\u001b[38;5;241;43m1\u001b[39;49m\u001b[43m,\u001b[49m\u001b[43m \u001b[49m\u001b[43mtwo_body_basis\u001b[49m\u001b[43m \u001b[49m\u001b[38;5;241;43m=\u001b[39;49m\u001b[43m \u001b[49m\u001b[38;5;28;43;01mTrue\u001b[39;49;00m\u001b[43m,\u001b[49m\u001b[43m \u001b[49m\n\u001b[0;32m     21\u001b[0m \u001b[43m                                             \u001b[49m\u001b[43munitary_ev\u001b[49m\u001b[43m \u001b[49m\u001b[38;5;241;43m=\u001b[39;49m\u001b[43m \u001b[49m\u001b[43munitary_ev\u001b[49m\u001b[43m,\u001b[49m\u001b[43m \u001b[49m\u001b[43mgamma\u001b[49m\u001b[43m \u001b[49m\u001b[38;5;241;43m=\u001b[39;49m\u001b[43m \u001b[49m\u001b[43mgamma\u001b[49m\u001b[43m,\u001b[49m\u001b[43m \u001b[49m\u001b[43mgaussian\u001b[49m\u001b[43m \u001b[49m\u001b[38;5;241;43m=\u001b[39;49m\u001b[43m \u001b[49m\u001b[43mgaussian\u001b[49m\u001b[43m,\u001b[49m\u001b[43m \u001b[49m\n\u001b[0;32m     22\u001b[0m \u001b[43m                                             \u001b[49m\u001b[43mgr\u001b[49m\u001b[43m \u001b[49m\u001b[38;5;241;43m=\u001b[39;49m\u001b[43m \u001b[49m\u001b[43mgr\u001b[49m\u001b[43m,\u001b[49m\u001b[43m \u001b[49m\u001b[43mxng\u001b[49m\u001b[43m \u001b[49m\u001b[38;5;241;43m=\u001b[39;49m\u001b[43m \u001b[49m\u001b[43mxng\u001b[49m\u001b[43m,\u001b[49m\u001b[43m \u001b[49m\u001b[43mobs_basis\u001b[49m\u001b[43m \u001b[49m\u001b[38;5;241;43m=\u001b[39;49m\u001b[43m \u001b[49m\u001b[43mobs_basis\u001b[49m\u001b[43m,\u001b[49m\u001b[43m \u001b[49m\u001b[43mdo_project\u001b[49m\u001b[43m \u001b[49m\u001b[38;5;241;43m=\u001b[39;49m\u001b[43m \u001b[49m\u001b[38;5;28;43;01mFalse\u001b[39;49;00m\u001b[43m)\u001b[49m\n\u001b[0;32m     24\u001b[0m \u001b[38;5;28mprint\u001b[39m(\u001b[38;5;124m\"\u001b[39m\u001b[38;5;124m--- \u001b[39m\u001b[38;5;132;01m%s\u001b[39;00m\u001b[38;5;124m seconds ---\u001b[39m\u001b[38;5;124m\"\u001b[39m \u001b[38;5;241m%\u001b[39m (time\u001b[38;5;241m.\u001b[39mtime() \u001b[38;5;241m-\u001b[39m start_time))\n\u001b[0;32m     26\u001b[0m ev_paras[\u001b[38;5;124m\"\u001b[39m\u001b[38;5;124mTime elapsed\u001b[39m\u001b[38;5;124m\"\u001b[39m] \u001b[38;5;241m=\u001b[39m time\u001b[38;5;241m.\u001b[39mtime() \u001b[38;5;241m-\u001b[39m start_time\n",
      "File \u001b[1;32m~\\PhD Physics\\1st Year\\Spin Chains\\System of diff eqs\\auxiliary_library.py:505\u001b[0m, in \u001b[0;36mspin_chain_ev\u001b[1;34m(size, init_state, chain_type, Hamiltonian_paras, omega_1, omega_2, temp, tmax, deltat, two_body_basis, unitary_ev, gamma, gaussian, gr, xng, obs_basis, do_project)\u001b[0m\n\u001b[0;32m    502\u001b[0m     c_op_list \u001b[38;5;241m=\u001b[39m spin_dephasing(spin_big_list, size, gamma)\n\u001b[0;32m    504\u001b[0m rho \u001b[38;5;241m=\u001b[39m init_state                                                               \u001b[38;5;66;03m## // Ã la Mauricio\u001b[39;00m\n\u001b[1;32m--> 505\u001b[0m approx_exp_vals \u001b[38;5;241m=\u001b[39m [[qutip\u001b[38;5;241m.\u001b[39mexpect(op, rho) \u001b[38;5;28;01mfor\u001b[39;00m op \u001b[38;5;129;01min\u001b[39;00m obs]]\n\u001b[0;32m    506\u001b[0m ts\u001b[38;5;241m=\u001b[39m [\u001b[38;5;241m0\u001b[39m]\n\u001b[0;32m    508\u001b[0m \u001b[38;5;28;01mfor\u001b[39;00m i \u001b[38;5;129;01min\u001b[39;00m \u001b[38;5;28mrange\u001b[39m(\u001b[38;5;28mint\u001b[39m(tmax\u001b[38;5;241m/\u001b[39mdeltat)):\n",
      "File \u001b[1;32m~\\PhD Physics\\1st Year\\Spin Chains\\System of diff eqs\\auxiliary_library.py:505\u001b[0m, in \u001b[0;36m<listcomp>\u001b[1;34m(.0)\u001b[0m\n\u001b[0;32m    502\u001b[0m     c_op_list \u001b[38;5;241m=\u001b[39m spin_dephasing(spin_big_list, size, gamma)\n\u001b[0;32m    504\u001b[0m rho \u001b[38;5;241m=\u001b[39m init_state                                                               \u001b[38;5;66;03m## // Ã la Mauricio\u001b[39;00m\n\u001b[1;32m--> 505\u001b[0m approx_exp_vals \u001b[38;5;241m=\u001b[39m [[\u001b[43mqutip\u001b[49m\u001b[38;5;241;43m.\u001b[39;49m\u001b[43mexpect\u001b[49m\u001b[43m(\u001b[49m\u001b[43mop\u001b[49m\u001b[43m,\u001b[49m\u001b[43m \u001b[49m\u001b[43mrho\u001b[49m\u001b[43m)\u001b[49m \u001b[38;5;28;01mfor\u001b[39;00m op \u001b[38;5;129;01min\u001b[39;00m obs]]\n\u001b[0;32m    506\u001b[0m ts\u001b[38;5;241m=\u001b[39m [\u001b[38;5;241m0\u001b[39m]\n\u001b[0;32m    508\u001b[0m \u001b[38;5;28;01mfor\u001b[39;00m i \u001b[38;5;129;01min\u001b[39;00m \u001b[38;5;28mrange\u001b[39m(\u001b[38;5;28mint\u001b[39m(tmax\u001b[38;5;241m/\u001b[39mdeltat)):\n",
      "File \u001b[1;32m~\\anaconda3\\lib\\site-packages\\qutip\\expect.py:65\u001b[0m, in \u001b[0;36mexpect\u001b[1;34m(oper, state)\u001b[0m\n\u001b[0;32m     62\u001b[0m         \u001b[38;5;28;01mreturn\u001b[39;00m np\u001b[38;5;241m.\u001b[39marray([_single_qobj_expect(oper, x) \u001b[38;5;28;01mfor\u001b[39;00m x \u001b[38;5;129;01min\u001b[39;00m state],\n\u001b[0;32m     63\u001b[0m                         dtype\u001b[38;5;241m=\u001b[39m\u001b[38;5;28mcomplex\u001b[39m)\n\u001b[0;32m     64\u001b[0m \u001b[38;5;28;01melse\u001b[39;00m:\n\u001b[1;32m---> 65\u001b[0m     \u001b[38;5;28;01mraise\u001b[39;00m \u001b[38;5;167;01mTypeError\u001b[39;00m(\u001b[38;5;124m'\u001b[39m\u001b[38;5;124mArguments must be quantum objects or eseries\u001b[39m\u001b[38;5;124m'\u001b[39m)\n",
      "\u001b[1;31mTypeError\u001b[0m: Arguments must be quantum objects or eseries"
     ]
    }
   ],
   "source": [
    "start_time = time.time()\n",
    "unitary_ev = False; gamma = 3*np.pi**-1\n",
    "size = N = 3; gaussian = True; gr = 2; xng = .7\n",
    "\n",
    "spin_ops_list = me.one_body_spin_ops(size)\n",
    "seed_op1 = Mz = sum(spin_ops_list[3][i] for i in range(size))\n",
    "seed_op2 = Sx0Sx1 = spin_ops_list[1][0]*spin_ops_list[1][0+1] + spin_ops_list[1][1]*spin_ops_list[1][0] \n",
    "\n",
    "NN_interactions_on_x = [spin_ops_list[1][a]*spin_ops_list[1][a+1] for a in range(N-1)] \n",
    "NN_interactions_on_x + [spin_ops_list[1][N-1]*spin_ops_list[1][0]] \n",
    "\n",
    "obs_basis = NN_interactions_on_x\n",
    "rho0 = (qutip.tensor([qutip.qeye(2) for k in range(N)]) + .5*seed_op2)\n",
    "rho0 = rho0/rho0.tr()\n",
    "\n",
    "chain_type = \"XYZ\"\n",
    "\n",
    "title, ev_paras, resultsB = me.spin_chain_ev(size = size, init_state = None, chain_type = chain_type, \n",
    "                                             Hamiltonian_paras = Hamiltonian_paras, omega_1=3., omega_2=3., \n",
    "                                             temp=1, tmax = 150, deltat = 1, two_body_basis = True, \n",
    "                                             unitary_ev = unitary_ev, gamma = gamma, gaussian = gaussian, \n",
    "                                             gr = gr, xng = xng, obs_basis = obs_basis, do_project = False)\n",
    "\n",
    "print(\"--- %s seconds ---\" % (time.time() - start_time))\n",
    "\n",
    "ev_paras[\"Time elapsed\"] = time.time() - start_time\n",
    "\n",
    "plt.figure(figsize=(8, 6))\n",
    "plot_labels = [\"Sx0Sx1 \", \"Sx1Sx2\", \"Sx2Sx3 \", \"Sx3Sx0 \"]\n",
    "\n",
    "for n in range(N):\n",
    "    plt.scatter(resultsB[\"ts\"], resultsB[\"averages\"][:,n+1], label=plot_labels[n] + \"Exact\")\n",
    "    \n",
    "plt.xlabel(\"t\")\n",
    "plt.ylabel(\"Avgs\")\n",
    "plt.title(title)\n",
    "plt.legend()"
   ]
  },
  {
   "cell_type": "code",
   "execution_count": 22,
   "id": "3522e729",
   "metadata": {},
   "outputs": [
    {
     "name": "stderr",
     "output_type": "stream",
     "text": [
      "WARNING:matplotlib.legend:No artists with labels found to put in legend.  Note that artists whose label start with an underscore are ignored when legend() is called with no argument.\n"
     ]
    },
    {
     "data": {
      "text/plain": [
       "<matplotlib.legend.Legend at 0x1b6e05dd190>"
      ]
     },
     "execution_count": 22,
     "metadata": {},
     "output_type": "execute_result"
    },
    {
     "data": {
      "image/png": "[encoded data removed]",
      "text/plain": [
       "<Figure size 720x576 with 1 Axes>"
      ]
     },
     "metadata": {
      "needs_background": "light"
     },
     "output_type": "display_data"
    }
   ],
   "source": [
    "### VersiÃ³n vieja con errores\n",
    "\n",
    "\n",
    "N = 5\n",
    "\n",
    "spin_ops_list = me.one_body_spin_ops(N)\n",
    "seed_op1 = Mz = sum(spin_ops_list[3][i] for i in range(N))\n",
    "seed_op2 = Sx0Sx1 = spin_ops_list[1][0]*spin_ops_list[1][0+1] + spin_ops_list[1][1]*spin_ops_list[1][0] \n",
    "\n",
    "K = .4*seed_op2\n",
    "rho0 = K.expm()\n",
    "rho0 = rho0/rho0.tr()\n",
    "\n",
    "chain_type = \"XYZ\"\n",
    "Hamiltonian_paras = [.15, .15, .2, 1.]\n",
    "H_H = me.Heisenberg_Hamiltonian(spin_ops_list, \"XYZ\", N, False, Hamiltonian_paras)\n",
    "\n",
    "mk_basis = me.recursive_basis(N, 4, H_H, seed_op2)\n",
    "mk_basis = me.base_orth(mk_basis, rho0)\n",
    "\n",
    "hij_tensor = me.H_ij_matrix(H_H, mk_basis, rho0)\n",
    "\n",
    "from scipy.integrate import odeint\n",
    "\n",
    "def F(y, t, HH):\n",
    "    return HH.dot(y)\n",
    "\n",
    "zero_list = [0 for i in range(len(mk_basis)-1)]\n",
    "Phi0_vec = [.4] + zero_list\n",
    "\n",
    "ts=np.linspace(0,1,200)\n",
    "result = odeint(func=F, y0=Phi0_vec,t=ts,args=(hij_tensor,))\n",
    "plt.figure(figsize=(10, 8))\n",
    "\n",
    "#for i in range(len(markov_basis)):\n",
    "#    plt.plot(result[i], label=r'$\\phi_{(%d)}(t)$'%i)\n",
    "\n",
    "plt.plot(result)\n",
    "\n",
    "plt.xlabel(\"t\")\n",
    "plt.ylabel(\"Phi(t)\")\n",
    "plt.legend()"
   ]
  },
  {
   "cell_type": "code",
   "execution_count": null,
   "id": "171431e5",
   "metadata": {},
   "outputs": [],
   "source": []
  },
  {
   "cell_type": "code",
   "execution_count": null,
   "id": "a764b659",
   "metadata": {},
   "outputs": [],
   "source": []
  },
  {
   "cell_type": "code",
   "execution_count": 124,
   "id": "74776754",
   "metadata": {},
   "outputs": [
    {
     "data": {
      "text/plain": [
       "True"
      ]
     },
     "execution_count": 124,
     "metadata": {},
     "output_type": "execute_result"
    }
   ],
   "source": [
    "basis = mk_basis\n",
    "basis[0] == Sx0Sx1\n",
    "basis[1] == me.commutator(H_H, Sx0Sx1)\n",
    "basis[2] == me.commutator(H_H, me.commutator(H_H, Sx0Sx1))\n",
    "basis[3] == me.commutator(H_H, me.commutator(H_H, me.commutator(H_H, Sx0Sx1)))\n",
    "basis[4] == me.commutator(H_H, me.commutator(H_H, me.commutator(H_H, me.commutator(H_H, Sx0Sx1))))"
   ]
  },
  {
   "cell_type": "code",
   "execution_count": null,
   "id": "cb71eff8",
   "metadata": {
    "scrolled": false
   },
   "outputs": [],
   "source": [
    "<O>(t)\n",
    "\n",
    "d/dt <O> = <[H,O]>\n",
    "d/dt <[H,O]> = <[H, [H,O]]>\n",
    "d/dt <[H,[H,O]]> = <[H, [H,[H,O]]>\n"
   ]
  },
  {
   "cell_type": "code",
   "execution_count": null,
   "id": "877aa9c5",
   "metadata": {},
   "outputs": [],
   "source": [
    "basis = me.recursive_basis(N, 4, H_H, seed_op2)\n",
    "mk_basis = [basis[a] + basis[a].dag() for a in range(len(basis))]\n",
    "mk_basis = me.base_orth(basis, rho0)\n",
    "mk_basis[0] == basis[0]"
   ]
  },
  {
   "cell_type": "code",
   "execution_count": null,
   "id": "988581cb",
   "metadata": {},
   "outputs": [],
   "source": []
  },
  {
   "cell_type": "code",
   "execution_count": 12,
   "id": "bfcc9863",
   "metadata": {},
   "outputs": [
    {
     "data": {
      "text/plain": [
       "<matplotlib.legend.Legend at 0x2286a8146d0>"
      ]
     },
     "execution_count": 12,
     "metadata": {},
     "output_type": "execute_result"
    },
    {
     "data": {
      "image/png": "[encoded data removed]",
      "text/plain": [
       "<Figure size 720x576 with 1 Axes>"
      ]
     },
     "metadata": {
      "needs_background": "light"
     },
     "output_type": "display_data"
    }
   ],
   "source": [
    "plot_labels = [\"p \", \"Comm-xp \", \"Corr-xp \", \"p_dot \"]\n",
    "\n",
    "plt.figure(figsize=(10, 8))\n",
    "for n in range(4):\n",
    "    plt.plot(resultsA[\"ts\"], resultsA[\"averages\"][:,n+1], label=plot_labels[n] + \"Projected\")\n",
    "    plt.scatter(resultsB[\"ts\"], resultsB[\"averages\"][:,n+1], label=plot_labels[n] + \"Exact\")\n",
    "    \n",
    "plt.xlabel(\"t\")\n",
    "plt.ylabel(\"Avgs\")\n",
    "plt.title(title)\n",
    "plt.legend()"
   ]
  },
  {
   "cell_type": "code",
   "execution_count": null,
   "id": "699ee55d",
   "metadata": {},
   "outputs": [],
   "source": []
  }
 ],
 "metadata": {
  "kernelspec": {
   "display_name": "Python 3 (ipykernel)",
   "language": "python",
   "name": "python3"
  },
  "language_info": {
   "codemirror_mode": {
    "name": "ipython",
    "version": 3
   },
   "file_extension": ".py",
   "mimetype": "text/x-python",
   "name": "python",
   "nbconvert_exporter": "python",
   "pygments_lexer": "ipython3",
   "version": "3.9.12"
  }
 },
 "nbformat": 4,
 "nbformat_minor": 5
}
