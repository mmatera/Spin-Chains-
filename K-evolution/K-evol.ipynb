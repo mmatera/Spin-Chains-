{
 "cells": [
  {
   "cell_type": "code",
   "execution_count": 49,
   "id": "49fe5b4d",
   "metadata": {},
   "outputs": [],
   "source": [
    "import qutip\n",
    "import matplotlib.pyplot as plt \n",
    "import numpy as np\n",
    "import scipy.optimize as opt \n",
    "import scipy.linalg as linalg\n",
    "import pickle\n",
    "import time as time\n",
    "import math, cmath\n",
    "import sys\n",
    "import auxiliary_library as me\n",
    "\n",
    "from IPython.display import display, Math, Latex"
   ]
  },
  {
   "cell_type": "code",
   "execution_count": 170,
   "id": "26b07edf",
   "metadata": {},
   "outputs": [],
   "source": [
    "def hamiltonian_and_basis_obs(size, chain_type, Hamiltonian_parameters, default_ops = False):\n",
    "    \n",
    "    one_body_biglist = me.one_body_spin_ops(N)\n",
    "    \n",
    "    H_H = me.Heisenberg_Hamiltonian(one_body_biglist, chain_type, size, False, \n",
    "                                    Hamiltonian_parameters[0], Hamiltonian_parameters[1], Hamiltonian_parameters[2], \n",
    "                                    Hamiltonian_parameters[3])\n",
    "    \n",
    "    basis = []\n",
    "    if default_ops:\n",
    "        for i in range(len(one_body_biglist)):\n",
    "            for j in range(len(one_body_biglist[i])):\n",
    "                basis.append(one_body_biglist[i][j])\n",
    "    else:\n",
    "        basis = None\n",
    "    \n",
    "    return H_H, basis"
   ]
  },
  {
   "cell_type": "code",
   "execution_count": 174,
   "id": "3b6bb814",
   "metadata": {},
   "outputs": [],
   "source": [
    "def H_ij_matrix(basis, rho0):\n",
    "    \n",
    "    coeffs_list = []\n",
    "    \n",
    "    coeffs_list = [me.mod_HS_inner_prod(op1, (H_H * op2 - op2 * H_H), rho0) for op1 in basis for op2 in basis]\n",
    "        \n",
    "    coeffs_matrix = np.asarray(coeffs_list) # convert list to numpy array\n",
    "    coeffs_matrix = coeffs_matrix.reshape(len(basis), len(basis)) # reshape array into N rows x N columns\n",
    "    \n",
    "    return coeffs_matrix\n",
    "\n",
    "# initial conditions \n",
    "\n",
    "#Phi0_vector = [1 for i in range(len(basis))]"
   ]
  },
  {
   "cell_type": "code",
   "execution_count": 187,
   "id": "55aec283",
   "metadata": {},
   "outputs": [],
   "source": [
    "N = 4\n",
    "chain_type = \"XXZ\"\n",
    "\n",
    "sx_list = me.one_body_spin_ops(N)[1]\n",
    "sz_list = me.one_body_spin_ops(N)[3]\n",
    "\n",
    "Hamiltonian_parameters = [.15, .15, .2, 1.]\n",
    "H_H, basis = hamiltonian_and_basis_obs(N, chain_type, Hamiltonian_parameters, False)\n",
    "\n",
    "NN_correlators_x = [sx_list[i]*sx_list[i+1] + sx_list[i+1]*sx_list[i]  for i in range(3)] \n",
    "NN_correlators_x = NN_correlators_x + [sx_list[3]*sx_list[0]+sx_list[0]*sx_list[3]]\n",
    "\n",
    "#ground_state_corr = [one_body_biglist[3][0] * one_body_biglist[3][j] for j in range(1,N)]\n",
    "Mz = [sum(sz_list[i] for i in range(N))]\n",
    "\n",
    "max_ent_basis = NN_correlators_x + Mz    \n",
    "\n",
    "coeff_list_t0 = [np.random.rand() for i in range(len(max_ent_basis))]\n",
    "rho0 = (sum(np.pi * coeff_list_t0[i] * max_ent_basis[i] for i in range(len(max_ent_basis)))).expm()\n",
    "rho0 = rho0/rho0.tr()\n",
    "\n",
    "if me.is_density_op(rho0):\n",
    "    pass\n",
    "else:\n",
    "    sys.exit(\"Not a density operator\")\n",
    "    \n",
    "hij_tensor = H_ij_matrix(max_ent_basis, rho0)\n"
   ]
  },
  {
   "cell_type": "code",
   "execution_count": 190,
   "id": "b2c7c25e",
   "metadata": {
    "scrolled": true
   },
   "outputs": [
    {
     "data": {
      "text/plain": [
       "array([[ 0.00000000e+00, -2.68882139e-17, -4.16333634e-17,\n",
       "        -1.73472348e-18,  0.00000000e+00],\n",
       "       [ 1.90819582e-17,  0.00000000e+00, -1.95156391e-17,\n",
       "        -9.71445147e-17,  0.00000000e+00],\n",
       "       [ 0.00000000e+00,  1.21430643e-17,  0.00000000e+00,\n",
       "         3.20923843e-17,  0.00000000e+00],\n",
       "       [ 6.50521303e-18,  2.77555756e-17, -3.29597460e-17,\n",
       "         0.00000000e+00,  0.00000000e+00],\n",
       "       [ 3.81639165e-17, -3.12250226e-16, -7.28583860e-17,\n",
       "        -3.74700271e-16,  0.00000000e+00]])"
      ]
     },
     "execution_count": 190,
     "metadata": {},
     "output_type": "execute_result"
    }
   ],
   "source": [
    "hij_tensor"
   ]
  },
  {
   "cell_type": "code",
   "execution_count": 196,
   "id": "99f61569",
   "metadata": {},
   "outputs": [],
   "source": [
    "def dPhi_vector_dt(t, Phi_vector):\n",
    "    phi1, phi2, phi3, phi4, phi5 = Phi_vector\n",
    "    return [hij_tensor[0][0] * phi1 + hij_tensor[0][1] * phi2 + hij_tensor[0][2] * phi3 + hij_tensor[0][3] * phi4 + hij_tensor[0][4] * phi5,\n",
    "            hij_tensor[1][0] * phi1 + hij_tensor[1][1] * phi2 + hij_tensor[1][2] * phi3 + hij_tensor[1][3] * phi4 + hij_tensor[1][4] * phi5,\n",
    "            hij_tensor[2][0] * phi1 + hij_tensor[2][1] * phi2 + hij_tensor[2][2] * phi3 + hij_tensor[2][3] * phi4 + hij_tensor[2][4] * phi5,\n",
    "            hij_tensor[3][0] * phi1 + hij_tensor[3][1] * phi2 + hij_tensor[3][2] * phi3 + hij_tensor[3][3] * phi4 + hij_tensor[3][4] * phi5,\n",
    "            hij_tensor[4][0] * phi1 + hij_tensor[4][1] * phi2 + hij_tensor[4][2] * phi3 + hij_tensor[4][3] * phi4 + hij_tensor[4][4] * phi5,\n",
    "           ]"
   ]
  },
  {
   "cell_type": "code",
   "execution_count": 197,
   "id": "496d0f90",
   "metadata": {},
   "outputs": [
    {
     "data": {
      "image/png": "[encoded data removed]",
      "text/plain": [
       "<Figure size 432x288 with 1 Axes>"
      ]
     },
     "metadata": {
      "needs_background": "light"
     },
     "output_type": "display_data"
    }
   ],
   "source": [
    "from scipy.integrate import odeint\n",
    "\n",
    "x= np.linspace(0, 1, 100)\n",
    "sol = odeint(dPhi_vector_dt, y0 = coeff_list_t0, t=x, tfirst = True)\n",
    "\n",
    "for i in range(4):\n",
    "    plt.plot(x, sol.T[i])\n",
    "    \n",
    "    "
   ]
  },
  {
   "cell_type": "code",
   "execution_count": null,
   "id": "db955619",
   "metadata": {},
   "outputs": [],
   "source": []
  },
  {
   "cell_type": "code",
   "execution_count": null,
   "id": "42ff0228",
   "metadata": {},
   "outputs": [],
   "source": []
  },
  {
   "cell_type": "code",
   "execution_count": null,
   "id": "63a1ad8a",
   "metadata": {},
   "outputs": [],
   "source": []
  },
  {
   "cell_type": "code",
   "execution_count": null,
   "id": "f428f6dc",
   "metadata": {},
   "outputs": [],
   "source": [
    "# in cpp \n",
    "int x[100]; ## // 100 variables, not a \"variable\" number, but maybe useful for you!\n",
    "\n",
    "int *px = new int[n]; ##// n variables, n is known at runtime;\n",
    "\n",
    "# //best\n",
    "std::vector<int> ints; "
   ]
  },
  {
   "cell_type": "code",
   "execution_count": 86,
   "id": "ebb0e469",
   "metadata": {
    "collapsed": true
   },
   "outputs": [
    {
     "data": {
      "text/plain": [
       "[<matplotlib.lines.Line2D at 0x1fbfa3ac880>]"
      ]
     },
     "execution_count": 86,
     "metadata": {},
     "output_type": "execute_result"
    },
    {
     "data": {
      "image/png": "[encoded data removed]",
      "text/plain": [
       "<Figure size 432x288 with 1 Axes>"
      ]
     },
     "metadata": {
      "needs_background": "light"
     },
     "output_type": "display_data"
    }
   ],
   "source": [
    "from scipy.integrate import odeint\n",
    "\n",
    "def dSdx(x, S):\n",
    "    phi1, phi2 = S\n",
    "    return [1*phi1+2*phi2, \n",
    "            2*phi1-1.5*phi2]\n",
    "\n",
    "S_0 = (1,-1)\n",
    "\n",
    "x= np.linspace(0, 1, 100)\n",
    "sol = odeint(dSdx, y0 = S_0, t=x, tfirst = True)\n",
    "\n",
    "plt.plot(x, sol.T[0])\n",
    "plt.plot(x, sol.T[1])\n"
   ]
  },
  {
   "cell_type": "code",
   "execution_count": 96,
   "id": "1ebc4b9f",
   "metadata": {},
   "outputs": [
    {
     "data": {
      "text/plain": [
       "array([[ 0.00000000e+00+0.00000000e+00j,  0.00000000e+00+0.00000000e+00j,\n",
       "         0.00000000e+00+0.00000000e+00j,  0.00000000e+00+0.00000000e+00j,\n",
       "        -9.71445147e-17-9.94461498e-01j,  1.38777878e-17-1.38559690e+00j,\n",
       "        -7.97972799e-17-1.27876019e+00j,  8.67361738e-18-1.06352078e+00j,\n",
       "        -1.11022302e-16+1.36443402e+00j, -2.08166817e-16+1.22259937e+00j,\n",
       "        -2.77555756e-17+4.83951109e-01j,  7.63278329e-17+2.89883300e-01j,\n",
       "        -1.73472348e-18-1.55692518e-02j,  2.60208521e-18-4.96523751e-03j,\n",
       "        -8.23993651e-18+1.69012885e-02j, -3.03576608e-18+3.63320083e-03j],\n",
       "       [ 0.00000000e+00+0.00000000e+00j,  0.00000000e+00+0.00000000e+00j,\n",
       "         0.00000000e+00+0.00000000e+00j,  0.00000000e+00+0.00000000e+00j,\n",
       "        -9.71445147e-17-9.94461498e-01j,  1.38777878e-17-1.38559690e+00j,\n",
       "        -7.97972799e-17-1.27876019e+00j,  8.67361738e-18-1.06352078e+00j,\n",
       "        -1.11022302e-16+1.36443402e+00j, -2.08166817e-16+1.22259937e+00j,\n",
       "        -2.77555756e-17+4.83951109e-01j,  7.63278329e-17+2.89883300e-01j,\n",
       "        -1.73472348e-18-1.55692518e-02j,  2.60208521e-18-4.96523751e-03j,\n",
       "        -8.23993651e-18+1.69012885e-02j, -3.03576608e-18+3.63320083e-03j],\n",
       "       [ 0.00000000e+00+0.00000000e+00j,  0.00000000e+00+0.00000000e+00j,\n",
       "         0.00000000e+00+0.00000000e+00j,  0.00000000e+00+0.00000000e+00j,\n",
       "        -9.71445147e-17-9.94461498e-01j,  1.38777878e-17-1.38559690e+00j,\n",
       "        -7.97972799e-17-1.27876019e+00j,  8.67361738e-18-1.06352078e+00j,\n",
       "        -1.11022302e-16+1.36443402e+00j, -2.08166817e-16+1.22259937e+00j,\n",
       "        -2.77555756e-17+4.83951109e-01j,  7.63278329e-17+2.89883300e-01j,\n",
       "        -1.73472348e-18-1.55692518e-02j,  2.60208521e-18-4.96523751e-03j,\n",
       "        -8.23993651e-18+1.69012885e-02j, -3.03576608e-18+3.63320083e-03j],\n",
       "       [ 0.00000000e+00+0.00000000e+00j,  0.00000000e+00+0.00000000e+00j,\n",
       "         0.00000000e+00+0.00000000e+00j,  0.00000000e+00+0.00000000e+00j,\n",
       "        -9.71445147e-17-9.94461498e-01j,  1.38777878e-17-1.38559690e+00j,\n",
       "        -7.97972799e-17-1.27876019e+00j,  8.67361738e-18-1.06352078e+00j,\n",
       "        -1.11022302e-16+1.36443402e+00j, -2.08166817e-16+1.22259937e+00j,\n",
       "        -2.77555756e-17+4.83951109e-01j,  7.63278329e-17+2.89883300e-01j,\n",
       "        -1.73472348e-18-1.55692518e-02j,  2.60208521e-18-4.96523751e-03j,\n",
       "        -8.23993651e-18+1.69012885e-02j, -3.03576608e-18+3.63320083e-03j],\n",
       "       [ 0.00000000e+00+0.00000000e+00j,  0.00000000e+00+0.00000000e+00j,\n",
       "         0.00000000e+00+0.00000000e+00j,  0.00000000e+00+0.00000000e+00j,\n",
       "         0.00000000e+00+0.00000000e+00j, -1.56125113e-17-2.98065816e-01j,\n",
       "        -3.64291930e-17-2.77191980e-01j,  1.04083409e-17-2.30535352e-01j,\n",
       "         0.00000000e+00+1.58785624e+00j, -6.24500451e-17+2.51061504e-01j,\n",
       "        -3.46944695e-18+1.04904240e-01j,  4.16333634e-17+6.28368997e-02j,\n",
       "        -1.95156391e-18-5.06740530e-02j,  1.51788304e-18+4.62228699e-02j,\n",
       "         3.25260652e-19+3.66362799e-03j, -1.40946282e-18+7.87555115e-04j],\n",
       "       [ 0.00000000e+00+0.00000000e+00j,  0.00000000e+00+0.00000000e+00j,\n",
       "         0.00000000e+00+0.00000000e+00j,  0.00000000e+00+0.00000000e+00j,\n",
       "         7.58941521e-18-1.89122897e-01j,  0.00000000e+00+0.00000000e+00j,\n",
       "         4.42354486e-17-2.44636115e-01j,  3.72965547e-17-2.01614693e-01j,\n",
       "        -6.93889390e-17+2.41921189e-01j,  0.00000000e+00+1.63228063e+00j,\n",
       "        -1.04083409e-17+6.51699610e-02j,  1.04083409e-17+5.49540110e-02j,\n",
       "         3.90312782e-18+3.74109882e-02j, -5.63785130e-18-8.56495406e-02j,\n",
       "         3.79470760e-18+4.75497961e-02j, -1.19262239e-18+6.88756331e-04j],\n",
       "       [ 0.00000000e+00+0.00000000e+00j,  0.00000000e+00+0.00000000e+00j,\n",
       "         0.00000000e+00+0.00000000e+00j,  0.00000000e+00+0.00000000e+00j,\n",
       "        -3.46944695e-18-7.87164844e-02j, -1.38777878e-17-1.07796940e-01j,\n",
       "         0.00000000e+00+0.00000000e+00j, -3.46944695e-18-8.35008569e-02j,\n",
       "         3.46944695e-18+1.08001616e-01j,  1.73472348e-18+8.19123824e-02j,\n",
       "         0.00000000e+00+1.61733095e+00j,  6.93889390e-18+8.13156772e-04j,\n",
       "        -3.25260652e-19-1.23238232e-03j,  1.95156391e-18+5.19064353e-02j,\n",
       "        -2.38524478e-18-9.02329782e-02j, -2.16840434e-19+3.95589252e-02j],\n",
       "       [ 0.00000000e+00+0.00000000e+00j,  0.00000000e+00+0.00000000e+00j,\n",
       "         0.00000000e+00+0.00000000e+00j,  0.00000000e+00+0.00000000e+00j,\n",
       "        -4.33680869e-17-4.58278665e-02j, -3.29597460e-17-6.38525976e-02j,\n",
       "        -2.08166817e-17-5.87403787e-02j,  0.00000000e+00+0.00000000e+00j,\n",
       "         3.64291930e-17+6.28773463e-02j,  1.21430643e-17+5.63411664e-02j,\n",
       "         6.93889390e-18-7.71416174e-03j,  0.00000000e+00+1.61058238e+00j,\n",
       "        -5.42101086e-19-7.17479355e-04j,  3.25260652e-19-2.28813526e-04j,\n",
       "         2.49366500e-18+4.91848453e-02j, -2.05998413e-18-4.82385524e-02j],\n",
       "       [ 0.00000000e+00+0.00000000e+00j,  0.00000000e+00+0.00000000e+00j,\n",
       "         0.00000000e+00+0.00000000e+00j,  0.00000000e+00+0.00000000e+00j,\n",
       "         0.00000000e+00-1.58785624e+00j, -3.46944695e-17-2.05532674e-01j,\n",
       "        -5.20417043e-17-2.03037919e-01j, -4.16333634e-17-1.68862815e-01j,\n",
       "         0.00000000e+00+0.00000000e+00j,  1.82145965e-17+1.93269887e-01j,\n",
       "        -1.73472348e-18+7.68403852e-02j,  5.20417043e-17+4.60268487e-02j,\n",
       "        -7.58941521e-18+4.46670566e-02j,  5.85469173e-18-4.79274646e-02j,\n",
       "         6.50521303e-19+2.68353868e-03j, -7.58941521e-19+5.76869329e-04j],\n",
       "       [ 0.00000000e+00+0.00000000e+00j,  0.00000000e+00+0.00000000e+00j,\n",
       "         0.00000000e+00+0.00000000e+00j,  0.00000000e+00+0.00000000e+00j,\n",
       "        -4.16333634e-17-1.98283180e-01j,  0.00000000e+00-1.63228063e+00j,\n",
       "        -1.73472348e-17-2.47696171e-01j, -1.73472348e-18-2.28728607e-01j,\n",
       "        -6.50521303e-19+2.92917909e-01j,  0.00000000e+00+0.00000000e+00j,\n",
       "        -2.60208521e-18+1.07786745e-01j,  3.38271078e-17+6.23444363e-02j,\n",
       "         2.38524478e-18-5.10743312e-02j,  4.33680869e-18+6.97247613e-02j,\n",
       "         1.95156391e-18-1.94318130e-02j, -7.58941521e-19+7.81382912e-04j],\n",
       "       [ 0.00000000e+00+0.00000000e+00j,  0.00000000e+00+0.00000000e+00j,\n",
       "         0.00000000e+00+0.00000000e+00j,  0.00000000e+00+0.00000000e+00j,\n",
       "        -3.81639165e-17-2.03596873e-01j, -1.21430643e-17-2.66017309e-01j,\n",
       "         0.00000000e+00-1.61733095e+00j, -8.67361738e-18-1.93865419e-01j,\n",
       "         6.93889390e-18+2.79341634e-01j, -4.85722573e-17+2.44956496e-01j,\n",
       "         0.00000000e+00+0.00000000e+00j,  2.42861287e-17+5.92795181e-02j,\n",
       "        -6.50521303e-19-3.18750500e-03j,  5.85469173e-18-4.14795516e-02j,\n",
       "        -3.90312782e-18+5.55251307e-02j, -3.03576608e-18-1.08580741e-02j],\n",
       "       [ 0.00000000e+00+0.00000000e+00j,  0.00000000e+00+0.00000000e+00j,\n",
       "         0.00000000e+00+0.00000000e+00j,  0.00000000e+00+0.00000000e+00j,\n",
       "        -3.64291930e-17-1.66963416e-01j, -1.73472348e-18-2.32632427e-01j,\n",
       "        -1.38777878e-17-1.84167676e-01j,  0.00000000e+00-1.61058238e+00j,\n",
       "        -1.47451495e-17+2.29079321e-01j, -5.03069808e-17+2.05266235e-01j,\n",
       "         1.73472348e-18+8.06087994e-02j,  0.00000000e+00+0.00000000e+00j,\n",
       "         2.16840434e-19-2.61397296e-03j,  1.95156391e-18-8.33630077e-04j,\n",
       "         2.16840434e-19-1.52028271e-02j, -1.95156391e-18+1.86504301e-02j],\n",
       "       [ 0.00000000e+00+0.00000000e+00j,  0.00000000e+00+0.00000000e+00j,\n",
       "         0.00000000e+00+0.00000000e+00j,  0.00000000e+00+0.00000000e+00j,\n",
       "         1.95156391e-18+5.06740530e-02j,  3.81639165e-17-1.62537371e-01j,\n",
       "         1.21430643e-17-8.83209891e-02j, -4.33680869e-18-7.34549040e-02j,\n",
       "         7.58941521e-18-4.46670566e-02j, -1.04083409e-17+1.43627995e-01j,\n",
       "        -1.38777878e-17+3.34253762e-02j,  3.46944695e-18+2.00215646e-02j,\n",
       "         0.00000000e+00+0.00000000e+00j,  3.03576608e-18-1.41826937e-03j,\n",
       "        -6.28837260e-18+1.16733264e-03j,  6.50521303e-19+2.50936722e-04j],\n",
       "       [ 0.00000000e+00+0.00000000e+00j,  0.00000000e+00+0.00000000e+00j,\n",
       "         0.00000000e+00+0.00000000e+00j,  0.00000000e+00+0.00000000e+00j,\n",
       "        -3.46944695e-18-1.04055822e-01j,  5.63785130e-18+8.56495406e-02j,\n",
       "         6.93889390e-18-1.34394410e-01j, -1.47451495e-17-5.77527965e-02j,\n",
       "        -4.68375339e-17+1.42059373e-01j, -4.33680869e-18-6.97247613e-02j,\n",
       "         3.46944695e-18+5.20828388e-02j, -3.81639165e-17+1.57416494e-02j,\n",
       "         0.00000000e+00+0.00000000e+00j,  0.00000000e+00+0.00000000e+00j,\n",
       "        -1.51788304e-18-1.97295165e-04j,  1.51788304e-18+1.97295165e-04j],\n",
       "       [ 0.00000000e+00+0.00000000e+00j,  0.00000000e+00+0.00000000e+00j,\n",
       "         0.00000000e+00+0.00000000e+00j,  0.00000000e+00+0.00000000e+00j,\n",
       "        -2.08166817e-17-1.25941543e-01j,  2.42861287e-17-2.40033890e-01j,\n",
       "         2.38524478e-18+9.02329782e-02j,  1.21430643e-17-1.86341479e-01j,\n",
       "        -4.16333634e-17+1.72795957e-01j, -6.93889390e-17+2.11081974e-01j,\n",
       "         3.90312782e-18-5.55251307e-02j,  3.12250226e-17+5.11467280e-02j,\n",
       "         0.00000000e+00-1.97173607e-03j,  0.00000000e+00+1.97173607e-03j,\n",
       "         0.00000000e+00+0.00000000e+00j,  0.00000000e+00+0.00000000e+00j],\n",
       "       [ 0.00000000e+00+0.00000000e+00j,  0.00000000e+00+0.00000000e+00j,\n",
       "         0.00000000e+00+0.00000000e+00j,  0.00000000e+00+0.00000000e+00j,\n",
       "         7.97972799e-17-9.33012883e-02j,  8.67361738e-17-1.29997970e-01j,\n",
       "        -8.67361738e-18-1.83908036e-01j,  2.05998413e-18+4.82385524e-02j,\n",
       "        -2.08166817e-17+1.28012449e-01j, -5.55111512e-17+1.14705392e-01j,\n",
       "         1.04083409e-17+6.99124664e-02j,  1.95156391e-18-1.86504301e-02j,\n",
       "         1.73472348e-18-1.46072146e-03j, -2.16840434e-18-4.65843130e-04j,\n",
       "        -8.67361738e-19+1.92656459e-03j,  0.00000000e+00+0.00000000e+00j]])"
      ]
     },
     "execution_count": 96,
     "metadata": {},
     "output_type": "execute_result"
    }
   ],
   "source": [
    "hij_tensor * "
   ]
  },
  {
   "cell_type": "code",
   "execution_count": 120,
   "id": "910c6877",
   "metadata": {},
   "outputs": [
    {
     "data": {
      "text/plain": [
       "array([[1],\n",
       "       [2],\n",
       "       [3],\n",
       "       [4]])"
      ]
     },
     "execution_count": 120,
     "metadata": {},
     "output_type": "execute_result"
    }
   ],
   "source": [
    "a = [1,2,3,4]\n",
    "a = np.asarray(a)\n",
    "a = a.reshape(4,1)\n",
    "a"
   ]
  },
  {
   "cell_type": "code",
   "execution_count": null,
   "id": "4f2cd9dc",
   "metadata": {},
   "outputs": [],
   "source": [
    "Phi_list = [phi1, phi2, phi3, phi4, phi5, phi6, phi7, phi8, phi9, phi10, phi11, phi12, phi13, phi14, phi15, phi16]\n",
    "Phi_vector = np.asarray(Phi_list)\n",
    "Phi_vector = Phi_vector.reshape(16,1)\n",
    "    \n",
    "dphidt = dmatrix * Phi_vector "
   ]
  },
  {
   "cell_type": "code",
   "execution_count": 121,
   "id": "b7732268",
   "metadata": {},
   "outputs": [],
   "source": [
    "def system_of_diff_eqs(dmatrix):\n",
    "    \n",
    "    Phi_list = [phi1, phi2, phi3, phi4, phi5, phi6, phi7, phi8, phi9, phi10, phi11, phi12, phi13, phi14, phi15, phi16]\n",
    "    Phi_vector = np.asarray(Phi_list)\n",
    "    Phi_vector = Phi_vector.reshape(16,1)\n",
    "    \n",
    "    dphidt = dmatrix * Phi_vector \n",
    "    \n",
    "    return dphidt"
   ]
  },
  {
   "cell_type": "code",
   "execution_count": 127,
   "id": "153d307d",
   "metadata": {},
   "outputs": [
    {
     "data": {
      "text/plain": [
       "0.8454695379637733"
      ]
     },
     "execution_count": 127,
     "metadata": {},
     "output_type": "execute_result"
    }
   ],
   "source": [
    "a = np.random.rand()\n",
    "a"
   ]
  },
  {
   "cell_type": "code",
   "execution_count": 130,
   "id": "45db5b78",
   "metadata": {},
   "outputs": [
    {
     "ename": "error",
     "evalue": "The function and its Jacobian must be callable functions.",
     "output_type": "error",
     "traceback": [
      "\u001b[1;31m---------------------------------------------------------------------------\u001b[0m",
      "\u001b[1;31merror\u001b[0m                                     Traceback (most recent call last)",
      "Input \u001b[1;32mIn [130]\u001b[0m, in \u001b[0;36m<cell line: 8>\u001b[1;34m()\u001b[0m\n\u001b[0;32m      4\u001b[0m phi13\u001b[38;5;241m=\u001b[39mnp\u001b[38;5;241m.\u001b[39mrandom\u001b[38;5;241m.\u001b[39mrand(); phi14\u001b[38;5;241m=\u001b[39mnp\u001b[38;5;241m.\u001b[39mrandom\u001b[38;5;241m.\u001b[39mrand(); phi15\u001b[38;5;241m=\u001b[39mnp\u001b[38;5;241m.\u001b[39mrandom\u001b[38;5;241m.\u001b[39mrand(); phi16\u001b[38;5;241m=\u001b[39mnp\u001b[38;5;241m.\u001b[39mrandom\u001b[38;5;241m.\u001b[39mrand(); \n\u001b[0;32m      6\u001b[0m x \u001b[38;5;241m=\u001b[39m np\u001b[38;5;241m.\u001b[39mlinspace(\u001b[38;5;241m0\u001b[39m, \u001b[38;5;241m1\u001b[39m, \u001b[38;5;241m100\u001b[39m)\n\u001b[1;32m----> 8\u001b[0m sol \u001b[38;5;241m=\u001b[39m \u001b[43modeint\u001b[49m\u001b[43m(\u001b[49m\u001b[43msystem_of_diff_eqs\u001b[49m\u001b[43m(\u001b[49m\u001b[43mhij_tensor\u001b[49m\u001b[43m)\u001b[49m\u001b[43m,\u001b[49m\u001b[43m \u001b[49m\u001b[43my0\u001b[49m\u001b[43m \u001b[49m\u001b[38;5;241;43m=\u001b[39;49m\u001b[43m \u001b[49m\u001b[43mPhi_vector_t0\u001b[49m\u001b[43m,\u001b[49m\u001b[43m \u001b[49m\u001b[43mt\u001b[49m\u001b[43m \u001b[49m\u001b[38;5;241;43m=\u001b[39;49m\u001b[43m \u001b[49m\u001b[43mx\u001b[49m\u001b[43m,\u001b[49m\u001b[43m \u001b[49m\u001b[43mtfirst\u001b[49m\u001b[43m \u001b[49m\u001b[38;5;241;43m=\u001b[39;49m\u001b[43m \u001b[49m\u001b[38;5;28;43;01mTrue\u001b[39;49;00m\u001b[43m)\u001b[49m\n",
      "File \u001b[1;32m~\\anaconda3\\lib\\site-packages\\scipy\\integrate\\odepack.py:241\u001b[0m, in \u001b[0;36modeint\u001b[1;34m(func, y0, t, args, Dfun, col_deriv, full_output, ml, mu, rtol, atol, tcrit, h0, hmax, hmin, ixpr, mxstep, mxhnil, mxordn, mxords, printmessg, tfirst)\u001b[0m\n\u001b[0;32m    239\u001b[0m t \u001b[38;5;241m=\u001b[39m copy(t)\n\u001b[0;32m    240\u001b[0m y0 \u001b[38;5;241m=\u001b[39m copy(y0)\n\u001b[1;32m--> 241\u001b[0m output \u001b[38;5;241m=\u001b[39m \u001b[43m_odepack\u001b[49m\u001b[38;5;241;43m.\u001b[39;49m\u001b[43modeint\u001b[49m\u001b[43m(\u001b[49m\u001b[43mfunc\u001b[49m\u001b[43m,\u001b[49m\u001b[43m \u001b[49m\u001b[43my0\u001b[49m\u001b[43m,\u001b[49m\u001b[43m \u001b[49m\u001b[43mt\u001b[49m\u001b[43m,\u001b[49m\u001b[43m \u001b[49m\u001b[43margs\u001b[49m\u001b[43m,\u001b[49m\u001b[43m \u001b[49m\u001b[43mDfun\u001b[49m\u001b[43m,\u001b[49m\u001b[43m \u001b[49m\u001b[43mcol_deriv\u001b[49m\u001b[43m,\u001b[49m\u001b[43m \u001b[49m\u001b[43mml\u001b[49m\u001b[43m,\u001b[49m\u001b[43m \u001b[49m\u001b[43mmu\u001b[49m\u001b[43m,\u001b[49m\n\u001b[0;32m    242\u001b[0m \u001b[43m                         \u001b[49m\u001b[43mfull_output\u001b[49m\u001b[43m,\u001b[49m\u001b[43m \u001b[49m\u001b[43mrtol\u001b[49m\u001b[43m,\u001b[49m\u001b[43m \u001b[49m\u001b[43matol\u001b[49m\u001b[43m,\u001b[49m\u001b[43m \u001b[49m\u001b[43mtcrit\u001b[49m\u001b[43m,\u001b[49m\u001b[43m \u001b[49m\u001b[43mh0\u001b[49m\u001b[43m,\u001b[49m\u001b[43m \u001b[49m\u001b[43mhmax\u001b[49m\u001b[43m,\u001b[49m\u001b[43m \u001b[49m\u001b[43mhmin\u001b[49m\u001b[43m,\u001b[49m\n\u001b[0;32m    243\u001b[0m \u001b[43m                         \u001b[49m\u001b[43mixpr\u001b[49m\u001b[43m,\u001b[49m\u001b[43m \u001b[49m\u001b[43mmxstep\u001b[49m\u001b[43m,\u001b[49m\u001b[43m \u001b[49m\u001b[43mmxhnil\u001b[49m\u001b[43m,\u001b[49m\u001b[43m \u001b[49m\u001b[43mmxordn\u001b[49m\u001b[43m,\u001b[49m\u001b[43m \u001b[49m\u001b[43mmxords\u001b[49m\u001b[43m,\u001b[49m\n\u001b[0;32m    244\u001b[0m \u001b[43m                         \u001b[49m\u001b[38;5;28;43mint\u001b[39;49m\u001b[43m(\u001b[49m\u001b[38;5;28;43mbool\u001b[39;49m\u001b[43m(\u001b[49m\u001b[43mtfirst\u001b[49m\u001b[43m)\u001b[49m\u001b[43m)\u001b[49m\u001b[43m)\u001b[49m\n\u001b[0;32m    245\u001b[0m \u001b[38;5;28;01mif\u001b[39;00m output[\u001b[38;5;241m-\u001b[39m\u001b[38;5;241m1\u001b[39m] \u001b[38;5;241m<\u001b[39m \u001b[38;5;241m0\u001b[39m:\n\u001b[0;32m    246\u001b[0m     warning_msg \u001b[38;5;241m=\u001b[39m _msgs[output[\u001b[38;5;241m-\u001b[39m\u001b[38;5;241m1\u001b[39m]] \u001b[38;5;241m+\u001b[39m \u001b[38;5;124m\"\u001b[39m\u001b[38;5;124m Run with full_output = 1 to get quantitative information.\u001b[39m\u001b[38;5;124m\"\u001b[39m\n",
      "\u001b[1;31merror\u001b[0m: The function and its Jacobian must be callable functions."
     ]
    }
   ],
   "source": [
    "phi1 =np.random.rand(); phi2=np.random.rand(); phi3=np.random.rand(); phi4=np.random.rand(); \n",
    "phi5=np.random.rand(); phi6=np.random.rand(); phi7=np.random.rand(); phi8=np.random.rand();\n",
    "phi9=np.random.rand(); phi10=np.random.rand(); phi11=np.random.rand(); phi12=np.random.rand(); \n",
    "phi13=np.random.rand(); phi14=np.random.rand(); phi15=np.random.rand(); phi16=np.random.rand(); \n",
    "\n",
    "x = np.linspace(0, 1, 100)\n",
    "\n",
    "sol = odeint(system_of_diff_eqs(hij_tensor), y0 = Phi_vector_t0, t = x, tfirst = True)"
   ]
  },
  {
   "cell_type": "code",
   "execution_count": 104,
   "id": "9753070f",
   "metadata": {},
   "outputs": [
    {
     "data": {
      "text/plain": [
       "[array([0.+0.j]),\n",
       " array([0.+0.j]),\n",
       " array([0.+1.57079633j]),\n",
       " array([0.+1.57079633j]),\n",
       " array([0.-1.57079633j]),\n",
       " array([0.-1.57079633j]),\n",
       " array([0.+0.j]),\n",
       " array([0.+0.j])]"
      ]
     },
     "execution_count": 104,
     "metadata": {},
     "output_type": "execute_result"
    }
   ],
   "source": [
    "def system_of_diff_eqs(dmatrix):\n",
    "    \n",
    "    vector = np.full((8,1),1)\n",
    "\n",
    "    Lmu = []\n",
    "\n",
    "    for i in range(len(dmatrix)):\n",
    "        Lmu.append(sum(dmatrix[i][b] * vector[b] for b in range(len(hij[0]))))\n",
    "    \n",
    "    return Lmu\n",
    "\n",
    "dPhidt(hij)\n"
   ]
  },
  {
   "cell_type": "code",
   "execution_count": 106,
   "id": "0e101cd0",
   "metadata": {},
   "outputs": [
    {
     "ename": "error",
     "evalue": "The function and its Jacobian must be callable functions.",
     "output_type": "error",
     "traceback": [
      "\u001b[1;31m---------------------------------------------------------------------------\u001b[0m",
      "\u001b[1;31merror\u001b[0m                                     Traceback (most recent call last)",
      "Input \u001b[1;32mIn [106]\u001b[0m, in \u001b[0;36m<cell line: 7>\u001b[1;34m()\u001b[0m\n\u001b[0;32m      4\u001b[0m vector1 \u001b[38;5;241m=\u001b[39m (\u001b[38;5;241m0\u001b[39m,\u001b[38;5;241m0\u001b[39m,\u001b[38;5;241m1\u001b[39m,\u001b[38;5;241m-\u001b[39m\u001b[38;5;241m1\u001b[39m,\u001b[38;5;241m-\u001b[39m\u001b[38;5;241m1\u001b[39m,\u001b[38;5;241m0\u001b[39m,\u001b[38;5;241m0\u001b[39m)\n\u001b[0;32m      6\u001b[0m x \u001b[38;5;241m=\u001b[39m np\u001b[38;5;241m.\u001b[39mlinspace(\u001b[38;5;241m0\u001b[39m, \u001b[38;5;241m1\u001b[39m, \u001b[38;5;241m100\u001b[39m)\n\u001b[1;32m----> 7\u001b[0m sol \u001b[38;5;241m=\u001b[39m \u001b[43modeint\u001b[49m\u001b[43m(\u001b[49m\u001b[43mdPhidt\u001b[49m\u001b[43m(\u001b[49m\u001b[43mhij\u001b[49m\u001b[43m)\u001b[49m\u001b[43m,\u001b[49m\u001b[43m \u001b[49m\u001b[43my0\u001b[49m\u001b[43m \u001b[49m\u001b[38;5;241;43m=\u001b[39;49m\u001b[43m \u001b[49m\u001b[43mvector1\u001b[49m\u001b[43m,\u001b[49m\u001b[43m \u001b[49m\u001b[43mt\u001b[49m\u001b[43m \u001b[49m\u001b[38;5;241;43m=\u001b[39;49m\u001b[43m \u001b[49m\u001b[43mx\u001b[49m\u001b[43m,\u001b[49m\u001b[43m \u001b[49m\u001b[43mtfirst\u001b[49m\u001b[43m \u001b[49m\u001b[38;5;241;43m=\u001b[39;49m\u001b[43m \u001b[49m\u001b[38;5;28;43;01mTrue\u001b[39;49;00m\u001b[43m)\u001b[49m\n",
      "File \u001b[1;32m~\\anaconda3\\lib\\site-packages\\scipy\\integrate\\odepack.py:241\u001b[0m, in \u001b[0;36modeint\u001b[1;34m(func, y0, t, args, Dfun, col_deriv, full_output, ml, mu, rtol, atol, tcrit, h0, hmax, hmin, ixpr, mxstep, mxhnil, mxordn, mxords, printmessg, tfirst)\u001b[0m\n\u001b[0;32m    239\u001b[0m t \u001b[38;5;241m=\u001b[39m copy(t)\n\u001b[0;32m    240\u001b[0m y0 \u001b[38;5;241m=\u001b[39m copy(y0)\n\u001b[1;32m--> 241\u001b[0m output \u001b[38;5;241m=\u001b[39m \u001b[43m_odepack\u001b[49m\u001b[38;5;241;43m.\u001b[39;49m\u001b[43modeint\u001b[49m\u001b[43m(\u001b[49m\u001b[43mfunc\u001b[49m\u001b[43m,\u001b[49m\u001b[43m \u001b[49m\u001b[43my0\u001b[49m\u001b[43m,\u001b[49m\u001b[43m \u001b[49m\u001b[43mt\u001b[49m\u001b[43m,\u001b[49m\u001b[43m \u001b[49m\u001b[43margs\u001b[49m\u001b[43m,\u001b[49m\u001b[43m \u001b[49m\u001b[43mDfun\u001b[49m\u001b[43m,\u001b[49m\u001b[43m \u001b[49m\u001b[43mcol_deriv\u001b[49m\u001b[43m,\u001b[49m\u001b[43m \u001b[49m\u001b[43mml\u001b[49m\u001b[43m,\u001b[49m\u001b[43m \u001b[49m\u001b[43mmu\u001b[49m\u001b[43m,\u001b[49m\n\u001b[0;32m    242\u001b[0m \u001b[43m                         \u001b[49m\u001b[43mfull_output\u001b[49m\u001b[43m,\u001b[49m\u001b[43m \u001b[49m\u001b[43mrtol\u001b[49m\u001b[43m,\u001b[49m\u001b[43m \u001b[49m\u001b[43matol\u001b[49m\u001b[43m,\u001b[49m\u001b[43m \u001b[49m\u001b[43mtcrit\u001b[49m\u001b[43m,\u001b[49m\u001b[43m \u001b[49m\u001b[43mh0\u001b[49m\u001b[43m,\u001b[49m\u001b[43m \u001b[49m\u001b[43mhmax\u001b[49m\u001b[43m,\u001b[49m\u001b[43m \u001b[49m\u001b[43mhmin\u001b[49m\u001b[43m,\u001b[49m\n\u001b[0;32m    243\u001b[0m \u001b[43m                         \u001b[49m\u001b[43mixpr\u001b[49m\u001b[43m,\u001b[49m\u001b[43m \u001b[49m\u001b[43mmxstep\u001b[49m\u001b[43m,\u001b[49m\u001b[43m \u001b[49m\u001b[43mmxhnil\u001b[49m\u001b[43m,\u001b[49m\u001b[43m \u001b[49m\u001b[43mmxordn\u001b[49m\u001b[43m,\u001b[49m\u001b[43m \u001b[49m\u001b[43mmxords\u001b[49m\u001b[43m,\u001b[49m\n\u001b[0;32m    244\u001b[0m \u001b[43m                         \u001b[49m\u001b[38;5;28;43mint\u001b[39;49m\u001b[43m(\u001b[49m\u001b[38;5;28;43mbool\u001b[39;49m\u001b[43m(\u001b[49m\u001b[43mtfirst\u001b[49m\u001b[43m)\u001b[49m\u001b[43m)\u001b[49m\u001b[43m)\u001b[49m\n\u001b[0;32m    245\u001b[0m \u001b[38;5;28;01mif\u001b[39;00m output[\u001b[38;5;241m-\u001b[39m\u001b[38;5;241m1\u001b[39m] \u001b[38;5;241m<\u001b[39m \u001b[38;5;241m0\u001b[39m:\n\u001b[0;32m    246\u001b[0m     warning_msg \u001b[38;5;241m=\u001b[39m _msgs[output[\u001b[38;5;241m-\u001b[39m\u001b[38;5;241m1\u001b[39m]] \u001b[38;5;241m+\u001b[39m \u001b[38;5;124m\"\u001b[39m\u001b[38;5;124m Run with full_output = 1 to get quantitative information.\u001b[39m\u001b[38;5;124m\"\u001b[39m\n",
      "\u001b[1;31merror\u001b[0m: The function and its Jacobian must be callable functions."
     ]
    }
   ],
   "source": [
    "from scipy.integrate import odeint\n",
    "from scipy.integrate import solve_ivp\n",
    "\n",
    "vector1 = (0,0,1,-1,-1,0,0)\n",
    "\n",
    "x = np.linspace(0, 1, 100)\n",
    "sol = odeint(dPhidt(hij), y0 = vector1, t = x, tfirst = True)"
   ]
  },
  {
   "cell_type": "code",
   "execution_count": 72,
   "id": "9a8e2f54",
   "metadata": {
    "scrolled": true
   },
   "outputs": [
    {
     "data": {
      "text/plain": [
       "16"
      ]
     },
     "execution_count": 72,
     "metadata": {},
     "output_type": "execute_result"
    }
   ],
   "source": [
    "N = 4\n",
    "Hparameters = [.15, .25, .1, 1.]a\n",
    "one_body_biglist = me.one_body_spin_ops(N)\n",
    "hij = H_ij_matrix(N, \"XYZ\", Hparameters, one_body_biglist)\n",
    "len(hij)"
   ]
  },
  {
   "cell_type": "code",
   "execution_count": 53,
   "id": "c605a45c",
   "metadata": {
    "scrolled": true
   },
   "outputs": [
    {
     "data": {
      "text/latex": [
       "Quantum object: dims = [[2, 2], [2, 2]], shape = (4, 4), type = oper, isherm = True\\begin{equation*}\\left(\\begin{array}{*{11}c}1.0 & 0.0 & 0.0 & 0.0\\\\0.0 & 1.0 & 0.0 & 0.0\\\\0.0 & 0.0 & 1.0 & 0.0\\\\0.0 & 0.0 & 0.0 & 1.0\\\\\\end{array}\\right)\\end{equation*}"
      ],
      "text/plain": [
       "Quantum object: dims = [[2, 2], [2, 2]], shape = (4, 4), type = oper, isherm = True\n",
       "Qobj data =\n",
       "[[1. 0. 0. 0.]\n",
       " [0. 1. 0. 0.]\n",
       " [0. 0. 1. 0.]\n",
       " [0. 0. 0. 1.]]"
      ]
     },
     "execution_count": 53,
     "metadata": {},
     "output_type": "execute_result"
    }
   ],
   "source": [
    "N = 2 \n",
    "Jx = .15; Jy = .25; Jz = .1; h = 1.\n",
    "\n",
    "one_body_biglist = me.one_body_spin_ops(N)\n",
    "two_body_biglist = me.two_body_spin_ops(one_body_biglist, N, True)\n",
    "H_H = me.Heisenberg_Hamiltonian(one_body_biglist, \"XYZ\", N, False, Jx, Jy, Jz, h)\n",
    "\n",
    "def commutator(A, B):\n",
    "    result = 0\n",
    "    #if A.dims[0][0] == B.dims[0][0]: \n",
    "    #    pass\n",
    "    #else:\n",
    "    #    raise Exception(\"Incompatible Qobj dimensions\")\n",
    "    result = A*B-B*A\n",
    "\n",
    "    return result\n",
    "\n",
    "one_body_biglist[0][0]"
   ]
  },
  {
   "cell_type": "code",
   "execution_count": 61,
   "id": "42baf677",
   "metadata": {},
   "outputs": [
    {
     "data": {
      "text/plain": [
       "8"
      ]
     },
     "execution_count": 61,
     "metadata": {},
     "output_type": "execute_result"
    }
   ],
   "source": [
    "len(basis)"
   ]
  },
  {
   "cell_type": "code",
   "execution_count": 67,
   "id": "0166ae93",
   "metadata": {},
   "outputs": [
    {
     "data": {
      "text/plain": [
       "array([[0.+0.j        , 0.+0.j        , 0.+0.j        , 0.+0.j        ,\n",
       "        0.+0.j        , 0.+0.j        , 0.+0.j        , 0.+0.j        ],\n",
       "       [0.+0.j        , 0.+0.j        , 0.+0.j        , 0.+0.j        ,\n",
       "        0.+0.j        , 0.+0.j        , 0.+0.j        , 0.+0.j        ],\n",
       "       [0.+0.j        , 0.+0.j        , 0.+0.j        , 0.+0.j        ,\n",
       "        0.-3.14159265j, 0.+0.j        , 0.+0.j        , 0.+0.j        ],\n",
       "       [0.+0.j        , 0.+0.j        , 0.+0.j        , 0.+0.j        ,\n",
       "        0.+0.j        , 0.-3.14159265j, 0.+0.j        , 0.+0.j        ],\n",
       "       [0.+0.j        , 0.+0.j        , 0.+3.14159265j, 0.+0.j        ,\n",
       "        0.+0.j        , 0.+0.j        , 0.+0.j        , 0.+0.j        ],\n",
       "       [0.+0.j        , 0.+0.j        , 0.+0.j        , 0.+3.14159265j,\n",
       "        0.+0.j        , 0.+0.j        , 0.+0.j        , 0.+0.j        ],\n",
       "       [0.+0.j        , 0.+0.j        , 0.+0.j        , 0.+0.j        ,\n",
       "        0.+0.j        , 0.+0.j        , 0.+0.j        , 0.+0.j        ],\n",
       "       [0.+0.j        , 0.+0.j        , 0.+0.j        , 0.+0.j        ,\n",
       "        0.+0.j        , 0.+0.j        , 0.+0.j        , 0.+0.j        ]])"
      ]
     },
     "execution_count": 67,
     "metadata": {},
     "output_type": "execute_result"
    }
   ],
   "source": [
    "basis = []\n",
    "for i in range(len(one_body_biglist)):\n",
    "    for j in range(len(one_body_biglist[i])):\n",
    "        basis.append(one_body_biglist[i][j])\n",
    "\n",
    "coeffs_list = [me.mod_HS_inner_prod(op1, commutator(H_H, op2)) for op1 in basis for op2 in basis]\n",
    "coeffs_list\n",
    "\n",
    "# convert list to numpy array\n",
    "coeffs_matrix = np.asarray(coeffs_list)\n",
    "# reshape array into 4 rows x 2 columns, and transpose the result\n",
    "coeffs_matrix = coeffs_matrix.reshape(8, 8).T \n",
    "coeffs_matrix * np.full((8,8), 2)"
   ]
  },
  {
   "cell_type": "code",
   "execution_count": 32,
   "id": "41d9d2d4",
   "metadata": {},
   "outputs": [],
   "source": [
    "N = 2\n",
    "coeff_matrix = [(\"<O\",i, \"[H, Q\", j,\"]>\") for i in range(N) for j in range(N)]\n",
    "coeffs_matrix = [i*j for i in range(N) for j in range(N)]"
   ]
  },
  {
   "cell_type": "code",
   "execution_count": 40,
   "id": "f7318c95",
   "metadata": {
    "scrolled": false
   },
   "outputs": [
    {
     "data": {
      "text/plain": [
       "array([0, 2, 7, 6])"
      ]
     },
     "execution_count": 40,
     "metadata": {},
     "output_type": "execute_result"
    }
   ],
   "source": [
    "data = np.array( [0, 2, 7, 6] )\n",
    "shape = ( 2, 2 )\n",
    "data.reshape( shape )\n",
    "data\n"
   ]
  },
  {
   "cell_type": "code",
   "execution_count": 27,
   "id": "2de24a35",
   "metadata": {
    "scrolled": true
   },
   "outputs": [
    {
     "data": {
      "text/plain": [
       "array([[   2,   10,   20],\n",
       "       [ 200, 4000,  500]])"
      ]
     },
     "execution_count": 27,
     "metadata": {},
     "output_type": "execute_result"
    }
   ],
   "source": [
    "np.array(mat)"
   ]
  },
  {
   "cell_type": "code",
   "execution_count": null,
   "id": "6f5af542",
   "metadata": {},
   "outputs": [],
   "source": []
  }
 ],
 "metadata": {
  "kernelspec": {
   "display_name": "Python 3 (ipykernel)",
   "language": "python",
   "name": "python3"
  },
  "language_info": {
   "codemirror_mode": {
    "name": "ipython",
    "version": 3
   },
   "file_extension": ".py",
   "mimetype": "text/x-python",
   "name": "python",
   "nbconvert_exporter": "python",
   "pygments_lexer": "ipython3",
   "version": "3.9.12"
  }
 },
 "nbformat": 4,
 "nbformat_minor": 5
}
