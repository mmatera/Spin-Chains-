{
 "cells": [
  {
   "cell_type": "code",
   "execution_count": 1,
   "id": "49fe5b4d",
   "metadata": {
    "scrolled": true
   },
   "outputs": [],
   "source": [
    "import qutip\n",
    "import matplotlib.pyplot as plt \n",
    "import numpy as np\n",
    "import scipy.optimize as opt \n",
    "import scipy.linalg as linalg\n",
    "import pickle\n",
    "import time as time\n",
    "import math, cmath\n",
    "import sys\n",
    "import auxiliary_library as me\n",
    "\n",
    "from IPython.display import display, Math, Latex"
   ]
  },
  {
   "cell_type": "code",
   "execution_count": 2,
   "id": "97ff62ab",
   "metadata": {},
   "outputs": [
    {
     "data": {
      "text/latex": [
       "$\\langle \\sigma^x_0 \\sigma^x_1 \\rangle^\\rho = .5 Tr \\bigg(\\rho (A^\\dagger A + A A^\\dagger)\\bigg)$"
      ],
      "text/plain": [
       "<IPython.core.display.Latex object>"
      ]
     },
     "metadata": {},
     "output_type": "display_data"
    }
   ],
   "source": [
    "### 1. armar un test que chequee que la base sea ortonormal y hermÃ­tica y que den \n",
    "       ## reales los productos. \n",
    "### 2. chequar que la semilla y la identidad no cambien en lo posible.\n",
    "### 3. fijarse de agregar un coeficiente inicial a la base que acompaÃ±e a la identidad global \n",
    "### 4. \n",
    "\n",
    "display(Latex(f'$\\\\langle \\\\sigma^x_0 \\\\sigma^x_1 \\\\rangle^\\\\rho = .5 Tr \\\\bigg(\\\\rho (A^\\\\dagger A + A A^\\\\dagger)\\\\bigg)$')) "
   ]
  },
  {
   "cell_type": "code",
   "execution_count": 7,
   "id": "fa45a939",
   "metadata": {},
   "outputs": [
    {
     "data": {
      "text/latex": [
       "Quantum object: dims = [[2, 2, 2], [2, 2, 2]], shape = (8, 8), type = oper, isherm = False\\begin{equation*}\\left(\\begin{array}{*{11}c}0.0 & 0.0 & 0.0 & 0.079 & 0.0 & 0.0 & -0.079 & 0.0\\\\0.0 & 0.0 & 0.0 & 0.0 & 0.0 & 0.0 & 0.0 & -0.079\\\\0.0 & 0.0 & 0.0 & 0.0 & 0.0 & 0.0 & 0.0 & 0.0\\\\-0.079 & 0.0 & 0.0 & 0.0 & 0.0 & 0.0 & 0.0 & 0.0\\\\0.0 & 0.0 & 0.0 & 0.0 & 0.0 & 0.0 & 0.0 & 0.079\\\\0.0 & 0.0 & 0.0 & 0.0 & 0.0 & 0.0 & 0.0 & 0.0\\\\0.079 & 0.0 & 0.0 & 0.0 & 0.0 & 0.0 & 0.0 & 0.0\\\\0.0 & 0.079 & 0.0 & 0.0 & -0.079 & 0.0 & 0.0 & 0.0\\\\\\end{array}\\right)\\end{equation*}"
      ],
      "text/plain": [
       "Quantum object: dims = [[2, 2, 2], [2, 2, 2]], shape = (8, 8), type = oper, isherm = False\n",
       "Qobj data =\n",
       "[[ 0.          0.          0.          0.07853982  0.          0.\n",
       "  -0.07853982  0.        ]\n",
       " [ 0.          0.          0.          0.          0.          0.\n",
       "   0.         -0.07853982]\n",
       " [ 0.          0.          0.          0.          0.          0.\n",
       "   0.          0.        ]\n",
       " [-0.07853982  0.          0.          0.          0.          0.\n",
       "   0.          0.        ]\n",
       " [ 0.          0.          0.          0.          0.          0.\n",
       "   0.          0.07853982]\n",
       " [ 0.          0.          0.          0.          0.          0.\n",
       "   0.          0.        ]\n",
       " [ 0.07853982  0.          0.          0.          0.          0.\n",
       "   0.          0.        ]\n",
       " [ 0.          0.07853982  0.          0.         -0.07853982  0.\n",
       "   0.          0.        ]]"
      ]
     },
     "execution_count": 7,
     "metadata": {},
     "output_type": "execute_result"
    }
   ],
   "source": [
    "me.commutator(H_H, global_magnetization)"
   ]
  },
  {
   "cell_type": "code",
   "execution_count": 36,
   "id": "3ca37e13",
   "metadata": {
    "scrolled": true
   },
   "outputs": [
    {
     "name": "stdout",
     "output_type": "stream",
     "text": [
      "Seed operator is hermitian\n",
      "<sx0sx1>_rhoF =  0.031088250442899062\n",
      "<new(sx0sx1)>_rhoF =  0.0\n",
      "At this step, the (non-orthonormal)-basis has 7 non-zero operators\n",
      "At this step, the orthonormal-basis has 6 non-zero operators\n",
      "The 3 -th operator is non-hermitian \n",
      "\n",
      "The 4 -th operator is non-hermitian \n",
      "\n",
      "The 5 -th operator is non-hermitian \n",
      "\n",
      "Not mean-normalized operator at 1 -th level\n",
      "1.4142135623730943\n",
      "<rhoF * mk_basis[ 0 ] > =  0.0\n",
      "<rhoF * mk_basis[ 1 ] > =  1.4142135623730943\n",
      "<rhoF * mk_basis[ 2 ] > =  -6.938893903907228e-18j\n",
      "<rhoF * mk_basis[ 3 ] > =  -3.0531133177191805e-16\n",
      "<rhoF * mk_basis[ 4 ] > =  3.252606517456513e-17j\n",
      "<rhoF * mk_basis[ 5 ] > =  -4.510281037539698e-16\n"
     ]
    }
   ],
   "source": [
    "N = 5\n",
    "modified_HS_prod = False\n",
    "basis_depth = 5\n",
    "\n",
    "spin_ops_list = me.one_body_spin_ops(N)\n",
    "globalid = spin_ops_list[0][0]\n",
    "normalized_globalid = globalid/globalid.tr()\n",
    "\n",
    "global_magnetization = sum(spin_ops_list[3][a] for a in range(len(spin_ops_list[3])))\n",
    "Neel_operator = sum((-1)**(a) * spin_ops_list[3][a] for a in range(len(spin_ops_list[3])))\n",
    "\n",
    "chain_type = \"XYZ\"\n",
    "Hamiltonian_paras = [2., .15, .2, .3]\n",
    "H_H = me.Heisenberg_Hamiltonian(spin_ops_list, \"XYZ\", N, False, Hamiltonian_paras, True)\n",
    "\n",
    "### Hypothesized final density state\n",
    "\n",
    "sx0sx1 = spin_ops_list[1][0] * spin_ops_list[1][1]\n",
    "\n",
    "if qutip.isherm(sx0sx1):\n",
    "    print(\"Seed operator is hermitian\")\n",
    "else:\n",
    "    print(\"Seed operator not hermitian\")\n",
    "\n",
    "x = .5\n",
    "K = (x * sx0sx1 + (1-x) * globalid)\n",
    "rhoF = K.expm()\n",
    "rhoF = rhoF/rhoF.tr()\n",
    "inv_rhoF = (-K).expm()\n",
    "inv_rhoF = inv_rhoF/inv_rhoF.tr()\n",
    "\n",
    "if (me.is_density_op(rhoF)):\n",
    "    pass\n",
    "else:\n",
    "    sys.exit(\"rhoF is not a density op\") \n",
    "    \n",
    "if (me.is_density_op(inv_rhoF)):\n",
    "    pass\n",
    "else:\n",
    "    sys.exit(\"inv_rhoF is not a density op\") \n",
    "\n",
    "### Checking if the sx0sx1's rhoF-weighted average is zero:\n",
    "\n",
    "print(\"<sx0sx1>_rhoF = \", (rhoF * sx0sx1).tr())\n",
    "\n",
    "### It is not, so then I redefine it so that it has zero rhoF-weighted average\n",
    "\n",
    "sx0sx1 = (rhoF * sx0sx1).tr() - sx0sx1\n",
    "\n",
    "print(\"<new(sx0sx1)>_rhoF = \", (rhoF * sx0sx1).tr())\n",
    "\n",
    "### Then, the seed operator has zero rhoF-weighted average and sigma=1-standard deviation.\n",
    "### It's then chosen to be the seed operator\n",
    "\n",
    "seed_op = sx0sx1\n",
    "basis = []\n",
    "basis.append(seed_op)\n",
    "basis.append(globalid)\n",
    "\n",
    "basis += me.recursive_basis(N, basis_depth, H_H, seed_op, rhoF)\n",
    "print(\"At this step, the (non-orthonormal)-basis has\", len(basis), \"non-zero operators\")\n",
    "\n",
    "mk_basis = me.base_orth(basis, rhoF)\n",
    "\n",
    "print(\"At this step, the orthonormal-basis has\", len(mk_basis), \"non-zero operators\")\n",
    "\n",
    "gram_matrix = me.basis_orthonormality_check(mk_basis, rhoF)\n",
    "\n",
    "for i in range(len(mk_basis)):\n",
    "    print(\"<rhoF * mk_basis[\", i, \"] > = \",(mk_basis[i] * rhoF).tr())\n",
    "\n",
    "hij_tensor = me.H_ij_matrix(H_H, mk_basis, rhoF)[1]"
   ]
  },
  {
   "cell_type": "code",
   "execution_count": 37,
   "id": "318d9f8c",
   "metadata": {
    "scrolled": true
   },
   "outputs": [],
   "source": [
    "#basis\n",
    "mk_basis0_control = []\n",
    "rho0 = rhoF\n",
    "mk_basis0_control.append([me.HS_inner_prod(mk_basis[0], me.commutator(H_H, op2), rho0) for op2 in mk_basis])\n",
    "mk_basis0_control.append([me.HS_inner_prod(mk_basis[1], me.commutator(H_H, op2), rho0) for op2 in mk_basis])\n",
    "mk_basis0_control.append([me.HS_inner_prod(mk_basis[2], me.commutator(H_H, op2), rho0) for op2 in mk_basis])\n",
    "mk_basis0_control.append( [me.HS_inner_prod(mk_basis[3], me.commutator(H_H, op2), rho0) for op2 in mk_basis])\n",
    "mk_basis0_control.append([me.HS_inner_prod(mk_basis[4], me.commutator(H_H, op2), rho0) for op2 in mk_basis])\n",
    "mk_basis0_control.append( [me.HS_inner_prod(mk_basis[5], me.commutator(H_H, op2), rho0) for op2 in mk_basis])"
   ]
  },
  {
   "cell_type": "code",
   "execution_count": 38,
   "id": "f4b088e4",
   "metadata": {
    "scrolled": true
   },
   "outputs": [
    {
     "data": {
      "text/latex": [
       "Quantum object: dims = [[6], [6]], shape = (6, 6), type = oper, isherm = False\\begin{equation*}\\left(\\begin{array}{*{11}c}4.857\\times10^{-17} & 0.0 & -1.379j & -0.107 & 0.007j & -0.041\\\\0.0 & 0.0 & 0.173j & 0.013 & -8.319\\times10^{-04}j & 0.005\\\\1.400j & 0.0 & 0.364 & 4.681j & -1.298\\times10^{-15} & -4.114\\times10^{-04}j\\\\-2.637\\times10^{-16} & 0.0 & -4.681j & 0.030 & 6.362j & -0.017\\\\0.0 & 0.0 & -1.131\\times10^{-15} & -6.361j & 0.213 & 6.856j\\\\-3.608\\times10^{-16} & 0.0 & 0.0 & 1.707\\times10^{-15} & -6.857j & -0.519\\\\\\end{array}\\right)\\end{equation*}"
      ],
      "text/plain": [
       "Quantum object: dims = [[6], [6]], shape = (6, 6), type = oper, isherm = False\n",
       "Qobj data =\n",
       "[[ 4.85722573e-17+0.00000000e+00j  0.00000000e+00+0.00000000e+00j\n",
       "   0.00000000e+00-1.37872587e+00j -1.07120670e-01+0.00000000e+00j\n",
       "   0.00000000e+00+6.63775178e-03j -4.05038125e-02+0.00000000e+00j]\n",
       " [ 0.00000000e+00+0.00000000e+00j  0.00000000e+00+0.00000000e+00j\n",
       "   0.00000000e+00+1.72789888e-01j  1.34249810e-02+0.00000000e+00j\n",
       "   0.00000000e+00-8.31881388e-04j  5.07617170e-03+0.00000000e+00j]\n",
       " [ 0.00000000e+00+1.40038089e+00j  0.00000000e+00+0.00000000e+00j\n",
       "   3.63706746e-01+0.00000000e+00j  0.00000000e+00+4.68118710e+00j\n",
       "  -1.29757316e-15+0.00000000e+00j  0.00000000e+00-4.11449068e-04j]\n",
       " [-2.63677968e-16+0.00000000e+00j  0.00000000e+00+0.00000000e+00j\n",
       "   0.00000000e+00-4.68118710e+00j  3.04800051e-02+0.00000000e+00j\n",
       "   0.00000000e+00+6.36172461e+00j -1.73902019e-02+0.00000000e+00j]\n",
       " [ 0.00000000e+00-1.00787434e-15j  0.00000000e+00+0.00000000e+00j\n",
       "  -1.13103971e-15+0.00000000e+00j  0.00000000e+00-6.36142329e+00j\n",
       "   2.13060103e-01+0.00000000e+00j  0.00000000e+00+6.85606662e+00j]\n",
       " [-3.60822483e-16+0.00000000e+00j  0.00000000e+00+0.00000000e+00j\n",
       "   0.00000000e+00-1.76941795e-16j  1.70696790e-15+0.00000000e+00j\n",
       "   0.00000000e+00-6.85653761e+00j -5.18558381e-01+0.00000000e+00j]]"
      ]
     },
     "execution_count": 38,
     "metadata": {},
     "output_type": "execute_result"
    }
   ],
   "source": [
    "qutip.Qobj(mk_basis0_control)"
   ]
  },
  {
   "cell_type": "code",
   "execution_count": 39,
   "id": "eab6322c",
   "metadata": {
    "scrolled": true
   },
   "outputs": [
    {
     "data": {
      "text/latex": [
       "Quantum object: dims = [[6], [6]], shape = (6, 6), type = oper, isherm = False\\begin{equation*}\\left(\\begin{array}{*{11}c}4.857\\times10^{-17} & 0.0 & 0.0 & -0.107 & 0.0 & -0.041\\\\0.0 & 0.0 & 0.0 & 0.013 & 0.0 & 0.005\\\\0.0 & 0.0 & 0.364 & 0.0 & -1.298\\times10^{-15} & 0.0\\\\-2.637\\times10^{-16} & 0.0 & 0.0 & 0.030 & 0.0 & -0.017\\\\0.0 & 0.0 & -1.131\\times10^{-15} & 0.0 & 0.213 & 0.0\\\\-3.608\\times10^{-16} & 0.0 & 0.0 & 1.707\\times10^{-15} & 0.0 & -0.519\\\\\\end{array}\\right)\\end{equation*}"
      ],
      "text/plain": [
       "Quantum object: dims = [[6], [6]], shape = (6, 6), type = oper, isherm = False\n",
       "Qobj data =\n",
       "[[ 4.85722573e-17  0.00000000e+00  0.00000000e+00 -1.07120670e-01\n",
       "   0.00000000e+00 -4.05038125e-02]\n",
       " [ 0.00000000e+00  0.00000000e+00  0.00000000e+00  1.34249810e-02\n",
       "   0.00000000e+00  5.07617170e-03]\n",
       " [ 0.00000000e+00  0.00000000e+00  3.63706746e-01  0.00000000e+00\n",
       "  -1.29757316e-15  0.00000000e+00]\n",
       " [-2.63677968e-16  0.00000000e+00  0.00000000e+00  3.04800051e-02\n",
       "   0.00000000e+00 -1.73902019e-02]\n",
       " [ 0.00000000e+00  0.00000000e+00 -1.13103971e-15  0.00000000e+00\n",
       "   2.13060103e-01  0.00000000e+00]\n",
       " [-3.60822483e-16  0.00000000e+00  0.00000000e+00  1.70696790e-15\n",
       "   0.00000000e+00 -5.18558381e-01]]"
      ]
     },
     "execution_count": 39,
     "metadata": {},
     "output_type": "execute_result"
    }
   ],
   "source": [
    "qutip.Qobj(np.real(hij_tensor))"
   ]
  },
  {
   "cell_type": "code",
   "execution_count": 40,
   "id": "85df4821",
   "metadata": {},
   "outputs": [],
   "source": [
    "real_hij_tensor = (np.real(hij_tensor))"
   ]
  },
  {
   "cell_type": "code",
   "execution_count": 41,
   "id": "d649b31e",
   "metadata": {},
   "outputs": [],
   "source": [
    "from scipy.integrate import odeint\n",
    "\n",
    "def F(y, t, H_tensor):\n",
    "    return H_tensor.dot(y)"
   ]
  },
  {
   "cell_type": "code",
   "execution_count": 42,
   "id": "0c5d13d5",
   "metadata": {
    "scrolled": true
   },
   "outputs": [
    {
     "data": {
      "text/plain": [
       "<matplotlib.legend.Legend at 0x7fdf1bd43c70>"
      ]
     },
     "execution_count": 42,
     "metadata": {},
     "output_type": "execute_result"
    },
    {
     "data": {
      "image/png": "[encoded data removed]",
      "text/plain": [
       "<Figure size 504x288 with 1 Axes>"
      ]
     },
     "metadata": {
      "needs_background": "light"
     },
     "output_type": "display_data"
    }
   ],
   "source": [
    "from scipy.integrate import ode\n",
    "\n",
    "zero_list = [0 for i in range(len(mk_basis) - 1)]\n",
    "Phi0_vec = [.5] + zero_list\n",
    "\n",
    "t0 = 0\n",
    "ts1 = np.linspace(0, 500, 200)\n",
    "\n",
    "result = odeint(func=F, y0=Phi0_vec,t=ts1,args=(real_hij_tensor,))\n",
    "plt.figure(figsize=(7, 4))\n",
    "\n",
    "for i in range(len(mk_basis)):\n",
    "    plt.plot(ts1, result[:,i], label=r'$\\phi_{(%d)}(t)$'%i)\n",
    "\n",
    "plt.xlabel(\"t\")\n",
    "plt.ylabel(\"Phi(t)\")\n",
    "plt.legend()\n",
    "\n",
    "#r = ode(F).set_integrator('zvode', method='bdf', with_jacobian=None)\n",
    "#r.set_initial_value(Phi0_vec, t0).set_f_params(2.0).set_jac_params(2.0)\n",
    "\n",
    "#t1 = 10\n",
    "#dt = 1\n",
    "\n",
    "#while r.successful() and r.t < t1:\n",
    "#    r.integrate(r.t+dt)\n",
    "#    print(r.t, r.y)"
   ]
  },
  {
   "cell_type": "code",
   "execution_count": 55,
   "id": "fae50d37",
   "metadata": {},
   "outputs": [
    {
     "data": {
      "text/plain": [
       "0.5"
      ]
     },
     "execution_count": 55,
     "metadata": {},
     "output_type": "execute_result"
    }
   ],
   "source": [
    "result[:,0][0]"
   ]
  },
  {
   "cell_type": "code",
   "execution_count": 52,
   "id": "17ee5d26",
   "metadata": {},
   "outputs": [
    {
     "ename": "IndexError",
     "evalue": "index 6 is out of bounds for axis 1 with size 6",
     "output_type": "error",
     "traceback": [
      "\u001b[0;31m---------------------------------------------------------------------------\u001b[0m",
      "\u001b[0;31mIndexError\u001b[0m                                Traceback (most recent call last)",
      "Input \u001b[0;32mIn [52]\u001b[0m, in \u001b[0;36m<cell line: 3>\u001b[0;34m()\u001b[0m\n\u001b[1;32m      1\u001b[0m rhos_at_timet \u001b[38;5;241m=\u001b[39m []\n\u001b[1;32m      3\u001b[0m \u001b[38;5;28;01mfor\u001b[39;00m i \u001b[38;5;129;01min\u001b[39;00m \u001b[38;5;28mrange\u001b[39m(\u001b[38;5;28mlen\u001b[39m(result)):\n\u001b[0;32m----> 4\u001b[0m     loc_K \u001b[38;5;241m=\u001b[39m \u001b[38;5;28msum\u001b[39m([result[:,i][a] \u001b[38;5;241m*\u001b[39m mk_basis[a] \u001b[38;5;28;01mfor\u001b[39;00m a \u001b[38;5;129;01min\u001b[39;00m \u001b[38;5;28mrange\u001b[39m(\u001b[38;5;28mlen\u001b[39m(mk_basis))])\n\u001b[1;32m      5\u001b[0m     rhos_at_timet\u001b[38;5;241m.\u001b[39mappend(loc_K\u001b[38;5;241m.\u001b[39mexpm())\n\u001b[1;32m      6\u001b[0m     loc_K \u001b[38;5;241m=\u001b[39m \u001b[38;5;241m0\u001b[39m\n",
      "Input \u001b[0;32mIn [52]\u001b[0m, in \u001b[0;36m<listcomp>\u001b[0;34m(.0)\u001b[0m\n\u001b[1;32m      1\u001b[0m rhos_at_timet \u001b[38;5;241m=\u001b[39m []\n\u001b[1;32m      3\u001b[0m \u001b[38;5;28;01mfor\u001b[39;00m i \u001b[38;5;129;01min\u001b[39;00m \u001b[38;5;28mrange\u001b[39m(\u001b[38;5;28mlen\u001b[39m(result)):\n\u001b[0;32m----> 4\u001b[0m     loc_K \u001b[38;5;241m=\u001b[39m \u001b[38;5;28msum\u001b[39m([\u001b[43mresult\u001b[49m\u001b[43m[\u001b[49m\u001b[43m:\u001b[49m\u001b[43m,\u001b[49m\u001b[43mi\u001b[49m\u001b[43m]\u001b[49m[a] \u001b[38;5;241m*\u001b[39m mk_basis[a] \u001b[38;5;28;01mfor\u001b[39;00m a \u001b[38;5;129;01min\u001b[39;00m \u001b[38;5;28mrange\u001b[39m(\u001b[38;5;28mlen\u001b[39m(mk_basis))])\n\u001b[1;32m      5\u001b[0m     rhos_at_timet\u001b[38;5;241m.\u001b[39mappend(loc_K\u001b[38;5;241m.\u001b[39mexpm())\n\u001b[1;32m      6\u001b[0m     loc_K \u001b[38;5;241m=\u001b[39m \u001b[38;5;241m0\u001b[39m\n",
      "\u001b[0;31mIndexError\u001b[0m: index 6 is out of bounds for axis 1 with size 6"
     ]
    }
   ],
   "source": [
    "rhos_at_timet = []\n",
    "\n",
    "for i in range(len(result)):\n",
    "    loc_K = sum([result[:,i][a] * mk_basis[a] for a in range(len(mk_basis))])\n",
    "    rhos_at_timet.append(loc_K.expm())\n",
    "    loc_K = 0"
   ]
  },
  {
   "cell_type": "code",
   "execution_count": 114,
   "id": "70d50556",
   "metadata": {
    "scrolled": false
   },
   "outputs": [
    {
     "name": "stdout",
     "output_type": "stream",
     "text": [
      "At time = 0 density op\n"
     ]
    }
   ],
   "source": [
    "for i in range(len(rhos_at_timet)):\n",
    "    if (me.is_density_op(rhos_at_timet[i])):\n",
    "        print(\"At time =\", i, \"density op\")\n",
    "    else:\n",
    "        pass\n",
    "        #print(\"At time =\", i, \"not density op\")"
   ]
  },
  {
   "cell_type": "code",
   "execution_count": 7,
   "id": "f4e878ff",
   "metadata": {},
   "outputs": [
    {
     "data": {
      "text/plain": [
       "0.007759750761890424"
      ]
     },
     "execution_count": 7,
     "metadata": {},
     "output_type": "execute_result"
    }
   ],
   "source": [
    "def bures(rho, sigma):\n",
    "    if (me.is_density_op(rho) and me.is_density_op(sigma)):\n",
    "        val1 = abs((me.sqrtM(rho)*me.sqrtM(sigma)).tr())\n",
    "        val1 = max(min(val1,1.),-1.)\n",
    "        val1 = np.arccos(val1)/np.pi\n",
    "    else: \n",
    "        sys.exit(\"Singular input matrix\")\n",
    "    return val1\n",
    "\n",
    "rho1 = (.4*Sx0Sx1).expm()\n",
    "rho1 = rho1/rho1.tr()\n",
    "bures(rho0, rho1)"
   ]
  },
  {
   "cell_type": "code",
   "execution_count": 9,
   "id": "a19cfb8a",
   "metadata": {},
   "outputs": [],
   "source": [
    "bures_distance_list = [bures(rho0, resultsB[\"State ev\"][a]) for a in range(len(resultsB[\"State ev\"]))]"
   ]
  },
  {
   "cell_type": "code",
   "execution_count": 10,
   "id": "01259799",
   "metadata": {
    "scrolled": true
   },
   "outputs": [
    {
     "data": {
      "text/plain": [
       "[<matplotlib.lines.Line2D at 0x296e5a30bb0>]"
      ]
     },
     "execution_count": 10,
     "metadata": {},
     "output_type": "execute_result"
    },
    {
     "data": {
      "image/png": "[encoded data removed]",
      "text/plain": [
       "<Figure size 432x288 with 1 Axes>"
      ]
     },
     "metadata": {
      "needs_background": "light"
     },
     "output_type": "display_data"
    }
   ],
   "source": [
    "plt.plot(bures_distance_list)"
   ]
  },
  {
   "cell_type": "code",
   "execution_count": 8,
   "id": "ba04bc1a",
   "metadata": {
    "scrolled": true
   },
   "outputs": [
    {
     "data": {
      "text/plain": [
       "0.01428582964910818"
      ]
     },
     "execution_count": 8,
     "metadata": {},
     "output_type": "execute_result"
    }
   ],
   "source": [
    "bures(rho0, resultsB[\"State ev\"][4499])"
   ]
  },
  {
   "cell_type": "code",
   "execution_count": 64,
   "id": "bf2a5b2e",
   "metadata": {},
   "outputs": [
    {
     "data": {
      "text/latex": [
       "Quantum object: dims = [[2, 2, 2], [2, 2, 2]], shape = (8, 8), type = oper, isherm = True\\begin{equation*}\\left(\\begin{array}{*{11}c}0.125 & 0.0 & 0.0 & 0.0 & 0.0 & -0.007j & (0.031+0.202j) & 0.0\\\\0.0 & 0.125 & 0.0 & 0.0 & 0.007j & 0.0 & 0.0 & (0.031+0.183j)\\\\0.0 & 0.0 & 0.125 & 0.0 & (0.031-0.010j) & 0.0 & 0.0 & 0.007j\\\\0.0 & 0.0 & 0.0 & 0.125 & 0.0 & (0.031+0.010j) & -0.007j & 0.0\\\\0.0 & -0.007j & (0.031+0.010j) & 0.0 & 0.125 & 0.0 & 0.0 & 0.0\\\\0.007j & 0.0 & 0.0 & (0.031-0.010j) & 0.0 & 0.125 & 0.0 & 0.0\\\\(0.031-0.202j) & 0.0 & 0.0 & 0.007j & 0.0 & 0.0 & 0.125 & 0.0\\\\0.0 & (0.031-0.183j) & -0.007j & 0.0 & 0.0 & 0.0 & 0.0 & 0.125\\\\\\end{array}\\right)\\end{equation*}"
      ],
      "text/plain": [
       "Quantum object: dims = [[2, 2, 2], [2, 2, 2]], shape = (8, 8), type = oper, isherm = True\n",
       "Qobj data =\n",
       "[[0.125     +0.j         0.        +0.j         0.        +0.j\n",
       "  0.        +0.j         0.        +0.j         0.        -0.00721345j\n",
       "  0.03061483+0.2019766j  0.        +0.j        ]\n",
       " [0.        +0.j         0.125     +0.j         0.        +0.j\n",
       "  0.        +0.j         0.        +0.00721345j 0.        +0.j\n",
       "  0.        +0.j         0.03061483+0.18274073j]\n",
       " [0.        +0.j         0.        +0.j         0.125     +0.j\n",
       "  0.        +0.j         0.03061483-0.00961793j 0.        +0.j\n",
       "  0.        +0.j         0.        +0.00721345j]\n",
       " [0.        +0.j         0.        +0.j         0.        +0.j\n",
       "  0.125     +0.j         0.        +0.j         0.03061483+0.00961793j\n",
       "  0.        -0.00721345j 0.        +0.j        ]\n",
       " [0.        +0.j         0.        -0.00721345j 0.03061483+0.00961793j\n",
       "  0.        +0.j         0.125     +0.j         0.        +0.j\n",
       "  0.        +0.j         0.        +0.j        ]\n",
       " [0.        +0.00721345j 0.        +0.j         0.        +0.j\n",
       "  0.03061483-0.00961793j 0.        +0.j         0.125     +0.j\n",
       "  0.        +0.j         0.        +0.j        ]\n",
       " [0.03061483-0.2019766j  0.        +0.j         0.        +0.j\n",
       "  0.        +0.00721345j 0.        +0.j         0.        +0.j\n",
       "  0.125     +0.j         0.        +0.j        ]\n",
       " [0.        +0.j         0.03061483-0.18274073j 0.        -0.00721345j\n",
       "  0.        +0.j         0.        +0.j         0.        +0.j\n",
       "  0.        +0.j         0.125     +0.j        ]]"
      ]
     },
     "execution_count": 64,
     "metadata": {},
     "output_type": "execute_result"
    }
   ],
   "source": []
  },
  {
   "cell_type": "code",
   "execution_count": 73,
   "id": "8b9c4c8c",
   "metadata": {
    "scrolled": false
   },
   "outputs": [
    {
     "name": "stdout",
     "output_type": "stream",
     "text": [
      "Processing custom initial state\n",
      "Processing default observable basis\n",
      "sampling: 30\n",
      "Open evolution chosen\n",
      "--- 52.11599588394165 seconds ---\n"
     ]
    },
    {
     "ename": "IndexError",
     "evalue": "index 5 is out of bounds for axis 1 with size 5",
     "output_type": "error",
     "traceback": [
      "\u001b[1;31m---------------------------------------------------------------------------\u001b[0m",
      "\u001b[1;31mIndexError\u001b[0m                                Traceback (most recent call last)",
      "Input \u001b[1;32mIn [73]\u001b[0m, in \u001b[0;36m<cell line: 35>\u001b[1;34m()\u001b[0m\n\u001b[0;32m     33\u001b[0m plot_labels \u001b[38;5;241m=\u001b[39m [\u001b[38;5;124m\"\u001b[39m\u001b[38;5;124mSx0Sx1 \u001b[39m\u001b[38;5;124m\"\u001b[39m, \u001b[38;5;124m\"\u001b[39m\u001b[38;5;124mSx1Sx2 \u001b[39m\u001b[38;5;124m\"\u001b[39m, \u001b[38;5;124m\"\u001b[39m\u001b[38;5;124mSx2Sx3 \u001b[39m\u001b[38;5;124m\"\u001b[39m, \u001b[38;5;124m\"\u001b[39m\u001b[38;5;124mSx3Sx0 \u001b[39m\u001b[38;5;124m\"\u001b[39m]\n\u001b[0;32m     35\u001b[0m \u001b[38;5;28;01mfor\u001b[39;00m n \u001b[38;5;129;01min\u001b[39;00m \u001b[38;5;28mrange\u001b[39m(N\u001b[38;5;241m-\u001b[39m\u001b[38;5;241m1\u001b[39m):\n\u001b[1;32m---> 36\u001b[0m     plt\u001b[38;5;241m.\u001b[39mscatter(resultsB[\u001b[38;5;124m\"\u001b[39m\u001b[38;5;124mts\u001b[39m\u001b[38;5;124m\"\u001b[39m], \u001b[43mresultsB\u001b[49m\u001b[43m[\u001b[49m\u001b[38;5;124;43m\"\u001b[39;49m\u001b[38;5;124;43maverages\u001b[39;49m\u001b[38;5;124;43m\"\u001b[39;49m\u001b[43m]\u001b[49m\u001b[43m[\u001b[49m\u001b[43m:\u001b[49m\u001b[43m,\u001b[49m\u001b[43mn\u001b[49m\u001b[43m]\u001b[49m) \u001b[38;5;66;03m#label=plot_labels[n] + \"Exact\")\u001b[39;00m\n\u001b[0;32m     38\u001b[0m plt\u001b[38;5;241m.\u001b[39mxlabel(\u001b[38;5;124m\"\u001b[39m\u001b[38;5;124mt\u001b[39m\u001b[38;5;124m\"\u001b[39m)\n\u001b[0;32m     39\u001b[0m plt\u001b[38;5;241m.\u001b[39mylabel(\u001b[38;5;124m\"\u001b[39m\u001b[38;5;124mAvgs\u001b[39m\u001b[38;5;124m\"\u001b[39m)\n",
      "\u001b[1;31mIndexError\u001b[0m: index 5 is out of bounds for axis 1 with size 5"
     ]
    },
    {
     "data": {
      "image/png": "[encoded data removed]",
      "text/plain": [
       "<Figure size 576x432 with 1 Axes>"
      ]
     },
     "metadata": {
      "needs_background": "light"
     },
     "output_type": "display_data"
    }
   ],
   "source": [
    "start_time = time.time()\n",
    "unitary_ev = False; gamma = 3*np.pi**-1\n",
    "size = N; gaussian = True; gr = 2; xng = .7\n",
    "\n",
    "spin_ops_list = me.one_body_spin_ops(size)\n",
    "seed_op1 = Mz = sum(spin_ops_list[3][i] for i in range(size))\n",
    "seed_op2 = Sx0Sx1 = spin_ops_list[1][0]*spin_ops_list[1][0+1] + spin_ops_list[1][1]*spin_ops_list[1][0] \n",
    "\n",
    "NN_interactions_on_x = [spin_ops_list[1][a]*spin_ops_list[1][a+1] for a in range(N-1)] \n",
    "NN_interactions_on_x + [spin_ops_list[1][N-1]*spin_ops_list[1][0]] \n",
    "\n",
    "obs_basis = spin_ops_list[2]\n",
    "#NN_interactions_on_x\n",
    "\n",
    "rho0 = (.5 * qutip.tensor([qutip.qeye(2) for k in range(N)]) + .5*seed_op2).expm()\n",
    "rho0 = rho0/rho0.tr()\n",
    "\n",
    "Hamiltonian_paras = [.75, .65, .5, 1.]\n",
    "\n",
    "chain_type = \"XXZ\"\n",
    "\n",
    "title, ev_paras, resultsB = me.spin_chain_ev(size = size, init_state = rho0, chain_type = chain_type, \n",
    "                                             Hamiltonian_paras = Hamiltonian_paras, omega_1=3., omega_2=3., \n",
    "                                             temp=1, tmax = 150, deltat = 1, two_body_basis = True, \n",
    "                                             unitary_ev = unitary_ev, gamma = gamma, gaussian = gaussian, \n",
    "                                             gr = gr, xng = xng, obs_basis = None, do_project = False)\n",
    "\n",
    "print(\"--- %s seconds ---\" % (time.time() - start_time))\n",
    "\n",
    "ev_paras[\"Time elapsed\"] = time.time() - start_time\n",
    "\n",
    "plt.figure(figsize=(8, 6))\n",
    "plot_labels = [\"Sx0Sx1 \", \"Sx1Sx2 \", \"Sx2Sx3 \", \"Sx3Sx0 \"]\n",
    "\n",
    "for n in range(N-1):\n",
    "    plt.scatter(resultsB[\"ts\"], resultsB[\"averages\"][:,n]) #label=plot_labels[n] + \"Exact\")\n",
    "    \n",
    "plt.xlabel(\"t\")\n",
    "plt.ylabel(\"Avgs\")\n",
    "plt.title(title)\n",
    "plt.legend()"
   ]
  },
  {
   "cell_type": "code",
   "execution_count": null,
   "id": "cb71eff8",
   "metadata": {
    "scrolled": false
   },
   "outputs": [],
   "source": [
    "<O>(t)\n",
    "\n",
    "d/dt <O> = <[H,O]>\n",
    "d/dt <[H,O]> = <[H, [H,O]]>\n",
    "d/dt <[H,[H,O]]> = <[H, [H,[H,O]]>\n"
   ]
  }
 ],
 "metadata": {
  "kernelspec": {
   "display_name": "Python 3 (ipykernel)",
   "language": "python",
   "name": "python3"
  },
  "language_info": {
   "codemirror_mode": {
    "name": "ipython",
    "version": 3
   },
   "file_extension": ".py",
   "mimetype": "text/x-python",
   "name": "python",
   "nbconvert_exporter": "python",
   "pygments_lexer": "ipython3",
   "version": "3.10.4"
  }
 },
 "nbformat": 4,
 "nbformat_minor": 5
}
