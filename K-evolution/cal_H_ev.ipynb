{
 "cells": [
  {
   "cell_type": "code",
   "execution_count": 4,
   "id": "49fe5b4d",
   "metadata": {
    "scrolled": false
   },
   "outputs": [],
   "source": [
    "import qutip\n",
    "import matplotlib.pyplot as plt \n",
    "import numpy as np\n",
    "import scipy.optimize as opt \n",
    "import scipy.linalg as linalg\n",
    "import pickle\n",
    "import time as timess\n",
    "import math, cmath\n",
    "import sys\n",
    "import auxiliary_library as me\n",
    "\n",
    "from IPython.display import display, Math, Latex\n",
    "np.set_printoptions(threshold=1.e-9,linewidth=120,precision=3, formatter={\"float\":lambda x: str(.001*int(1000*x)) })"
   ]
  },
  {
   "cell_type": "code",
   "execution_count": 14,
   "id": "5b1ce2be",
   "metadata": {
    "scrolled": true
   },
   "outputs": [
    {
     "name": "stdout",
     "output_type": "stream",
     "text": [
      "Are all the operators Hermitian?: True\n",
      "[H,  x_op ] = 0?:  False\n",
      "[H,  p_op ] = 0?:  False\n",
      "[H,  n_oc_op ] = 0?:  False\n",
      "[H,  comm_xp ] = 0?:  False\n",
      "[H,  corr_xp ] = 0?:  False\n",
      "[H,  p_dot ] = 0?:  False\n",
      "[H,  magnetization ] = 0?:  True\n",
      "magnetization basis element deleted\n",
      "[H,  Neel_op ] = 0?:  False\n"
     ]
    }
   ],
   "source": [
    "N = 3\n",
    "spin_ops_list = me.one_body_spin_ops(N)\n",
    "\n",
    "### Heisenberg Hamiltonian\n",
    "chain_type = \"XXZ\"; Hamiltonian_paras = [.2, .15, .1, 1.]\n",
    "H_H = me.Heisenberg_Hamiltonian(op_list = spin_ops_list, chain_type = chain_type,\n",
    "                                size = N, Hamiltonian_paras = Hamiltonian_paras,\n",
    "                                closed_bcs = True, visualization = False)\n",
    "\n",
    "### Basis operators \n",
    "\n",
    "cl_ops, label_ops = me.classical_ops(H_H, N, spin_ops_list, False)\n",
    "magnetization = sum(spin_ops_list[3][a] for a in range(len(spin_ops_list[3])))\n",
    "neel_operator = sum((-1)**a * spin_ops_list[3][a] for a in range(len(spin_ops_list[3])))\n",
    "identity_op = spin_ops_list[0][0]\n",
    "\n",
    "label_ops.append(\"magnetization\"); label_ops.append(\"Neel_op\"); \n",
    "cl_ops[label_ops[6]] = magnetization; cl_ops[label_ops[7]] = neel_operator; \n",
    "\n",
    "print(\"Are all the operators Hermitian?:\", me.basis_hermitian_check(cl_ops))\n",
    "cl_ops = me.Hamiltonian_comm_check(H_H, cl_ops, None, True)\n",
    "\n",
    "rho_ref = (-H_H - .5*(cl_ops[\"n_oc_op\"] - identity_op)**2).expm()\n",
    "rho_ref = rho_ref/rho_ref.tr()\n",
    "\n",
    "basis = list(cl_ops.values())"
   ]
  },
  {
   "cell_type": "code",
   "execution_count": 17,
   "id": "e1e73fe0",
   "metadata": {},
   "outputs": [],
   "source": [
    "basis2 = me.base_orth(basis, rho_ref, me.HS_inner_prod_t)"
   ]
  },
  {
   "cell_type": "code",
   "execution_count": 54,
   "id": "f999ff08",
   "metadata": {
    "scrolled": false
   },
   "outputs": [
    {
     "ename": "SystemExit",
     "evalue": "rho0 is not a density op",
     "output_type": "error",
     "traceback": [
      "An exception has occurred, use %tb to see the full traceback.\n",
      "\u001b[1;31mSystemExit\u001b[0m\u001b[1;31m:\u001b[0m rho0 is not a density op\n"
     ]
    }
   ],
   "source": [
    "rho0 = psi0 * psi0.dag()\n",
    "rho_ref = (-H_H - .5*(cl_ops[\"n_oc_op\"] - spin_ops_list[0][0])**2).expm()\n",
    "rho_ref = rho_ref/rho_ref.tr()\n",
    "\n",
    "op_basis = gs_basis(cl_ops, rho_ref, me.HS_inner_prod_t)\n",
    "\n",
    "# initial conditions \n",
    "\n",
    "phi0 = [0., 0., 2., 2., .1, .0, -2] # for i in range(len(op_basis))]\n",
    "rho0 = (-sum( f*op for f,op in zip(phi0, op_basis))).expm()\n",
    "#phi0[0] = np.log(rho0.tr())\n",
    "#rho0 = (-sum( f*op for f,op in zip(phi0, op_basis))).expm()\n",
    "\n",
    "#print(\"valores medios iniciales:\",{name:qutip.expect(op, rho0) for name, op in zip([\"n_oc\",\"x\",\"p\", \"[x,p]/I\", \n",
    "#                                                                         \"I [H,p]\"],[n_oc, x,p,comm, ac])})\n",
    "\n",
    "H_ij_tensor = me.H_ij_matrix(H_H, op_basis, rho0, me.HS_inner_prod_t)\n",
    "plt.plot(qutip.Qobj(HijT).eigenenergies().real)\n",
    "plt.plot(sorted(qutip.Qobj(HijT).eigenenergies().imag))"
   ]
  },
  {
   "cell_type": "code",
   "execution_count": null,
   "id": "cdea4ad2",
   "metadata": {},
   "outputs": [],
   "source": []
  },
  {
   "cell_type": "code",
   "execution_count": null,
   "id": "d8a45555",
   "metadata": {},
   "outputs": [],
   "source": []
  },
  {
   "cell_type": "code",
   "execution_count": null,
   "id": "aaeabc99",
   "metadata": {},
   "outputs": [],
   "source": []
  },
  {
   "cell_type": "code",
   "execution_count": null,
   "id": "fe6d0336",
   "metadata": {},
   "outputs": [],
   "source": [
    "### Init state \n",
    "psi0 = ((1-.1j)*qutip.tensor([qutip.basis(2,1) for k in range(int(N/2)-1)]+\n",
    "                    [qutip.basis(2,0)]+\n",
    "                    [qutip.basis(2,1) for k in range(int(N/2+.5))])\n",
    "        -\n",
    "        (1+.1j)*qutip.tensor([qutip.basis(2,1) for k in range(int(N/2))]+\n",
    "                    [qutip.basis(2,0)]+\n",
    "                    [qutip.basis(2,1) for k in range(int(N/2+.5)-1)]))*np.sqrt(.5/1.01)\n",
    "\n",
    "print(\"initial mean values:\",{name:qutip.expect(op, psi0) for name, op in zip(list(cl_ops.keys()), list(cl_ops.values()))})"
   ]
  }
 ],
 "metadata": {
  "kernelspec": {
   "display_name": "Python 3 (ipykernel)",
   "language": "python",
   "name": "python3"
  },
  "language_info": {
   "codemirror_mode": {
    "name": "ipython",
    "version": 3
   },
   "file_extension": ".py",
   "mimetype": "text/x-python",
   "name": "python",
   "nbconvert_exporter": "python",
   "pygments_lexer": "ipython3",
   "version": "3.9.12"
  }
 },
 "nbformat": 4,
 "nbformat_minor": 5
}
