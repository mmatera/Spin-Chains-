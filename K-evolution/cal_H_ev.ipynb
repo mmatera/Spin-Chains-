{
 "cells": [
  {
   "cell_type": "code",
   "execution_count": 182,
   "id": "49fe5b4d",
   "metadata": {
    "scrolled": false
   },
   "outputs": [],
   "source": [
    "import qutip\n",
    "import matplotlib.pyplot as plt \n",
    "import numpy as np\n",
    "import scipy.optimize as opt \n",
    "import scipy.linalg as linalg\n",
    "import pickle\n",
    "import time as timess\n",
    "import math, cmath\n",
    "import sys; import time as time\n",
    "import auxiliary_library as me\n",
    "\n",
    "from IPython.display import display, Math, Latex\n",
    "np.set_printoptions(threshold=1.e-9,linewidth=120,precision=3, formatter={\"float\":lambda x: str(.001*int(1000*x)) })"
   ]
  },
  {
   "cell_type": "code",
   "execution_count": 183,
   "id": "109131c8",
   "metadata": {},
   "outputs": [
    {
     "name": "stdout",
     "output_type": "stream",
     "text": [
      "Are all the operators Hermitian?: True\n"
     ]
    }
   ],
   "source": [
    "N = 5; k_B = 1; temp = 5e-01; ts = np.linspace(0, 10,200)\n",
    "\n",
    "spin_ops_list = me.one_body_spin_ops(N)\n",
    "identity_op = spin_ops_list[0][0]\n",
    "\n",
    "### Heisenberg Hamiltonian\n",
    "chain_type = \"XXX\"; Hamiltonian_paras = [.2, .15, .1, 1.]\n",
    "H_H = me.Heisenberg_Hamiltonian(op_list = spin_ops_list, chain_type = chain_type,\n",
    "                                size = N, Hamiltonian_paras = Hamiltonian_paras,\n",
    "                                closed_bcs = True, visualization = False)\n",
    "\n",
    "### classical operators \n",
    "\n",
    "cl_ops, label_ops = me.classical_ops(H_H, N, spin_ops_list, False)\n",
    "print(\"Are all the operators Hermitian?:\", me.basis_hermitian_check(cl_ops))\n",
    "basis = [identity_op, cl_ops[\"x_op\"]]"
   ]
  },
  {
   "cell_type": "code",
   "execution_count": 237,
   "id": "7d795d17",
   "metadata": {},
   "outputs": [],
   "source": [
    "def build_rho0_from_basis(basis):\n",
    "    \n",
    "    phi0 = [0] + [np.random.rand() for i in range(len(basis)-1)]\n",
    "    rho0 = (-sum( f*op for f,op in zip(phi0, basis))).expm()\n",
    "    phi0[0] = np.log(rho0.tr())\n",
    "    rho0 = (-sum( f*op for f,op in zip(phi0, basis))).expm()\n",
    "    \n",
    "    if (me.is_density_op(rho0)):\n",
    "        pass\n",
    "    else:\n",
    "        sys.exit(\"Not a valid density op\")\n",
    "    return phi0, rho0\n",
    "\n",
    "def semigroup_phit_sol(phi0, Htensor, ts):\n",
    "    \n",
    "    Phi_vector_solution = []\n",
    "    Phi_vector_solution.append(np.array(phi0))\n",
    "    \n",
    "    for i in range(len(ts)-1):\n",
    "        a = (ts[i+1] * Htensor).expm() * Phi_vector_solution[0]\n",
    "        Phi_vector_solution.append(a)\n",
    "    \n",
    "    return Phi_vector_solution\n",
    "\n",
    "def semigroup_rhot_sol(rho0, Phi_vector, basis):\n",
    "    \n",
    "    rho_at_timet = []\n",
    "    rho_at_timet.append(rho0)\n",
    "    \n",
    "    for i in range(len(Phi_vector)):\n",
    "        rhot= (-sum( f*op for f,op in zip(Phi_vector[i], basis))).expm()\n",
    "        rhot = rhot/rhot.tr()\n",
    "        rho_at_timet.append(rhot)\n",
    "    \n",
    "    return rho_at_timet\n",
    "\n",
    "def semigroup_rhos_test(rho_list, visualization_nonherm, ts):\n",
    "    \n",
    "    non_densitiness = []\n",
    "    for t in range(len(rho_list)-1):\n",
    "        non_densitiness.append(linalg.norm(rho_list[t] - rho_list[t].dag())/(linalg.norm(rho_list[t])))\n",
    "        rho_list[t] = .5 * (rho_list[t] + rho_list[t].dag())\n",
    "            \n",
    "    if visualization_nonherm:\n",
    "        x2 = np.arange(len(non_densitiness))\n",
    "        y2 = non_densitiness\n",
    "        fig2, ax2 = plt.subplots()\n",
    "        ax2.plot(x2,y2)\n",
    "        ax2.legend(loc=0)\n",
    "        ax2.set_title(\"Non-hermitian measure for semigroup states\")\n",
    "    \n",
    "    return rho_list\n",
    "\n",
    "def find_optimal_depth(max_dif_tolerance, size, Hamiltonian, basis, cl_ops_list, temp, initial_d, ts,\n",
    "                      visualize_H_evs, visualization_nonherm, visualize_expt_vals):\n",
    "    \n",
    "    ts = np.linspace(0, 10,200)\n",
    "    \n",
    "    ### useful constants \n",
    "    k_B = 1; beta = 1/(k_B * temp); x = .5\n",
    "    \n",
    "    ### building the reference state\n",
    "        \n",
    "    k_B = 1; temp = 5.; x = .5\n",
    "    beta = 1/(k_B * temp)\n",
    "    K = -beta * (1-x) * H_H - x * (cl_ops[\"n_oc_op\"] - 1)**2\n",
    "    Kmax = max(linalg.eigvals(K).real)\n",
    "    K = K - Kmax * qutip.tensor([qutip.qeye(2) for k in range(size)]) \n",
    "    rho_ref = (K).expm()\n",
    "    rho_ref = rho_ref/rho_ref.tr()\n",
    "    \n",
    "    ### test 1\n",
    "    if (me.is_density_op(rho_ref)):\n",
    "        pass\n",
    "    else:\n",
    "        sys.exit(\"Not a valid density op\")\n",
    "        \n",
    "    basis_incursive = basis + me.recursive_basis(N, initial_d, Hamiltonian, cl_ops[\"x_op\"], rho_ref) \n",
    "    basis_orth = me.base_orth(basis_incursive, rho_ref, me.HS_inner_prod_r, False) \n",
    "    \n",
    "    ### test 2\n",
    "    \n",
    "    basis_orth, gram_matrix = me.basis_orthonormality_check(basis_orth, rho_ref, me.HS_inner_prod_r)\n",
    "    \n",
    "    ### constructing the initial state and H-tensor\n",
    "    \n",
    "    phi0, rho0 = build_rho0_from_basis(basis_orth)\n",
    "    Hijtensor = qutip.Qobj(me.H_ij_matrix(Hamiltonian, basis_orth, rho_ref, me.HS_inner_prod_r)[1])\n",
    "    \n",
    "    if visualize_H_evs: \n",
    "        x = sorted(np.array(qutip.Qobj(Hijtensor).eigenenergies().real))\n",
    "        y = sorted(np.array(qutip.Qobj(Hijtensor).eigenenergies().imag))\n",
    "        z = np.arange(len(x))\n",
    "        fig1, ax1 = plt.subplots()\n",
    "        ax1.plot(z,x, label = \"Real Part evs\")\n",
    "        ax1.plot(z,y, label = \"Iamg part evs\")\n",
    "        ax1.legend(loc=0)\n",
    "        ax1.set_title(\"H-tensor's eigenvalues' real and imag part\")\n",
    "        \n",
    "    ### constructing the coefficient arrays and the physical states \n",
    "    \n",
    "    Phit_list = semigroup_phit_sol(phi0, Hijtensor, ts)\n",
    "    rhot_list = semigroup_rhot_sol(rho0, Phit_list, basis_orth)\n",
    "    \n",
    "    ### test 3\n",
    "    \n",
    "    herm_rhot_list = semigroup_rhos_test(rhot_list, visualization_nonherm, ts)\n",
    "    herm_rhot_list.pop()\n",
    "    ### Exact solution \n",
    "    \n",
    "    res_exact = qutip.mesolve(H_H, rho0, ts, c_ops=None, e_ops=cl_ops[\"x_op\"])\n",
    "    res_proj_ev = [qutip.expect(cl_ops[\"x_op\"], rhot) for rhot in herm_rhot_list]\n",
    "    \n",
    "    if visualize_expt_vals:\n",
    "        z = np.arange(len(res_exact.times))\n",
    "        fig3, ax3 = plt.subplots()\n",
    "        ax3.plot(z, res_exact.expect[0], label = \"Exact\")\n",
    "        ax3.plot(z, res_proj_ev, label = \"Manifold-proj\")\n",
    "        ax3.legend(loc=0)\n",
    "        ax3.set_title(\"Expected values for x_op - Exact v. Proj. ev. \")\n",
    "     \n",
    "    max_diff = max(res_exact.expect[0] - res_proj_ev)\n",
    "    print(max_diff)\n",
    "    \n",
    "    ### plotear una bures de los estados vs t. \n",
    "    \n",
    "    return res_exact, res_proj_ev"
   ]
  },
  {
   "cell_type": "code",
   "execution_count": 239,
   "id": "eeaae056",
   "metadata": {
    "scrolled": false
   },
   "outputs": [
    {
     "name": "stdout",
     "output_type": "stream",
     "text": [
      "Not mean-normalized operator at 0 -th level\n",
      "1.0000000000000002\n",
      "The basis is orthonormal\n"
     ]
    },
    {
     "name": "stderr",
     "output_type": "stream",
     "text": [
      "WARNING:matplotlib.legend:No artists with labels found to put in legend.  Note that artists whose label start with an underscore are ignored when legend() is called with no argument.\n"
     ]
    },
    {
     "name": "stdout",
     "output_type": "stream",
     "text": [
      "0.022164757018237058\n"
     ]
    },
    {
     "data": {
      "image/png": "[encoded data removed]",
      "text/plain": [
       "<Figure size 432x288 with 1 Axes>"
      ]
     },
     "metadata": {
      "needs_background": "light"
     },
     "output_type": "display_data"
    },
    {
     "data": {
      "image/png": "[encoded data removed]",
      "text/plain": [
       "<Figure size 432x288 with 1 Axes>"
      ]
     },
     "metadata": {
      "needs_background": "light"
     },
     "output_type": "display_data"
    },
    {
     "data": {
      "image/png": "[encoded data removed]",
      "text/plain": [
       "<Figure size 432x288 with 1 Axes>"
      ]
     },
     "metadata": {
      "needs_background": "light"
     },
     "output_type": "display_data"
    }
   ],
   "source": [
    "res_exact, res_proj_ev = find_optimal_depth(.1, N, H_H, basis, cl_ops, temp, 16, ts, True, True,True)"
   ]
  },
  {
   "cell_type": "markdown",
   "id": "9ffca3d4",
   "metadata": {},
   "source": [
    "# Exact solution using semigroups"
   ]
  },
  {
   "cell_type": "code",
   "execution_count": 225,
   "id": "df5fbe72",
   "metadata": {},
   "outputs": [
    {
     "data": {
      "text/plain": [
       "-1.2000000000000002"
      ]
     },
     "execution_count": 225,
     "metadata": {},
     "output_type": "execute_result"
    }
   ],
   "source": [
    "-1.8 - (-.6)"
   ]
  },
  {
   "cell_type": "code",
   "execution_count": 218,
   "id": "eedcd40e",
   "metadata": {
    "scrolled": true
   },
   "outputs": [
    {
     "data": {
      "text/plain": [
       "[<matplotlib.lines.Line2D at 0x1d094a10550>]"
      ]
     },
     "execution_count": 218,
     "metadata": {},
     "output_type": "execute_result"
    },
    {
     "data": {
      "image/png": "[encoded data removed]",
      "text/plain": [
       "<Figure size 432x288 with 1 Axes>"
      ]
     },
     "metadata": {
      "needs_background": "light"
     },
     "output_type": "display_data"
    },
    {
     "data": {
      "image/png": "[encoded data removed]",
      "text/plain": [
       "<Figure size 432x288 with 2 Axes>"
      ]
     },
     "metadata": {
      "needs_background": "light"
     },
     "output_type": "display_data"
    }
   ],
   "source": [
    "import matplotlib.pyplot as plt\n",
    "import numpy as np\n",
    "\n",
    "x = np.arange(5)\n",
    "y = np.exp(x)\n",
    "fig1, ax1 = plt.subplots()\n",
    "ax1.plot(x, y)\n",
    "ax1.set_title(\"Axis 1 title\")\n",
    "ax1.set_xlabel(\"X-label for axis 1\")\n",
    "\n",
    "z = np.sin(x)\n",
    "fig2, (ax2, ax3) = plt.subplots(nrows=2, ncols=1) # two axes on figure\n",
    "ax2.plot(x, z)\n",
    "ax3.plot(x, -z)\n",
    "\n",
    "w = np.cos(x)\n",
    "ax1.plot(x, w) # can continue plotting on the first axis"
   ]
  },
  {
   "cell_type": "code",
   "execution_count": null,
   "id": "bac4495e",
   "metadata": {},
   "outputs": [],
   "source": [
    "basis = [cl_ops[\"identity\"], cl_ops[\"n_oc_op\"], cl_ops[\"n_oc_op\"]**2, cl_ops[\"x_op\"], cl_ops[\"p_op\"], \n",
    "         cl_ops[\"p_dot\"], cl_ops[\"comm_xp\"], cl_ops[\"corr_xp\"], cl_ops[\"Neel_op\"], H_H]"
   ]
  },
  {
   "cell_type": "code",
   "execution_count": null,
   "id": "30d616bc",
   "metadata": {},
   "outputs": [],
   "source": [
    "res=qutip.mesolve(H_H, rho0, np.linspace(0,200,850), c_ops=None, e_ops=basis[3])\n",
    "plt.scatter(res.times, res.expect[0], label = \"x_op\")\n",
    "\n",
    "plt.scatter(ts1, (qutip.expect(cl_ops[\"x_op\"], rho_at_timet)[:-1]), label = \"x_op Proj ev\")\n",
    "\n",
    "plt.xlabel(\"t\")\n",
    "plt.ylabel(\"Avgs\")\n",
    "plt.legend()"
   ]
  },
  {
   "cell_type": "code",
   "execution_count": null,
   "id": "c8b597f9",
   "metadata": {},
   "outputs": [],
   "source": [
    "res=qutip.mesolve(H_H, rho0, np.linspace(0,200,850), c_ops=None, e_ops=basis[1])\n",
    "plt.scatter(res.times, res.expect[0], label = \"n_oc_op\")\n",
    "\n",
    "plt.scatter(ts1, (qutip.expect(cl_ops[\"n_oc_op\"], rho_at_timet)[:-1]), label = \"n_oc_op Proj ev\")\n",
    "\n",
    "plt.xlabel(\"t\")\n",
    "plt.ylabel(\"Avgs\")\n",
    "plt.legend()"
   ]
  },
  {
   "cell_type": "code",
   "execution_count": null,
   "id": "0d938840",
   "metadata": {},
   "outputs": [],
   "source": [
    "res=qutip.mesolve(H_H, rho0, np.linspace(0,200,850), c_ops=None, e_ops=basis[7])\n",
    "plt.scatter(res.times, res.expect[0], label = \"corr_xp Exact\")\n",
    "\n",
    "plt.scatter(ts1, (qutip.expect(cl_ops[\"corr_xp\"], rho_at_timet)[:-1]), label = \"corr_xp Proj ev\")\n",
    "\n",
    "plt.xlabel(\"t\")\n",
    "plt.ylabel(\"Avgs\")\n",
    "plt.legend()"
   ]
  },
  {
   "cell_type": "code",
   "execution_count": null,
   "id": "6cb8baf2",
   "metadata": {},
   "outputs": [],
   "source": [
    "\n",
    "res=qutip.mesolve(H_H, rho0, ts1, c_ops=None, e_ops=basis[5])\n",
    "plt.scatter(res.times, res.expect[0], label = \"p_dot E\")\n",
    "plt.scatter(ts1, (qutip.expect(cl_ops[\"p_dot\"], rho_at_timet)[:-1]), label = \"p_dot Proj ev\")\n",
    "\n",
    "plt.xlabel(\"t\")\n",
    "plt.ylabel(\"Avgs\")\n",
    "plt.legend()"
   ]
  },
  {
   "cell_type": "code",
   "execution_count": null,
   "id": "b2321c01",
   "metadata": {
    "scrolled": true
   },
   "outputs": [],
   "source": [
    "res=qutip.mesolve(H_H, rho0, np.linspace(0,200,850), c_ops=None, e_ops=basis[8])\n",
    "plt.scatter(res.times, res.expect[0], label = \"Neel_op\")\n",
    "\n",
    "plt.scatter(ts1, (qutip.expect(cl_ops[\"Neel_op\"], rho_at_timet)[:-1]), label = \"Neel_op Proj ev\")\n",
    "    \n",
    "plt.xlabel(\"t\")\n",
    "plt.ylabel(\"Avgs\")\n",
    "plt.legend()\n"
   ]
  },
  {
   "cell_type": "markdown",
   "id": "7f041a0b",
   "metadata": {},
   "source": [
    "# Entropía"
   ]
  },
  {
   "cell_type": "markdown",
   "id": "eb42c4e4",
   "metadata": {},
   "source": [
    "### "
   ]
  },
  {
   "cell_type": "code",
   "execution_count": null,
   "id": "c1b1b644",
   "metadata": {},
   "outputs": [],
   "source": [
    "len(ts1)"
   ]
  },
  {
   "cell_type": "code",
   "execution_count": null,
   "id": "e5c8c5cd",
   "metadata": {
    "scrolled": true
   },
   "outputs": [],
   "source": [
    "res=qutip.mesolve(H_H, rho0, ts1, c_ops=None, e_ops=None)\n",
    "plt.scatter(ts1, [qutip.entropy_vn(rho) for rho in res.states], label = \"Entropy\")\n",
    "\n",
    "plt.scatter(ts1, [qutip.entropy_vn(rho) for rho in rho_at_timet[:-1]], label = \"Entropy apprx\")\n",
    "plt.legend()\n"
   ]
  },
  {
   "cell_type": "code",
   "execution_count": null,
   "id": "fd02d149",
   "metadata": {},
   "outputs": [],
   "source": [
    "\n",
    "res=qutip.mesolve(H_H, rho0, np.linspace(0,200,850), c_ops=None, e_ops=cl_ops(\"magnetization\"))\n",
    "plt.scatter(res.times, res.expect[0], label = \"Mz\")\n",
    "\n",
    "plt.scatter(ts1, (qutip.expect(cl_ops[\"magnetization\"], rho_at_timet)[:-1]), label = \"Mz Proj ev\")\n",
    "\n",
    "plt.xlabel(\"t\")\n",
    "plt.ylabel(\"Avgs\")\n",
    "plt.legend()"
   ]
  },
  {
   "cell_type": "code",
   "execution_count": null,
   "id": "77e7f1b6",
   "metadata": {
    "scrolled": false
   },
   "outputs": [],
   "source": [
    "me.bures(rho_ref, rho0)"
   ]
  },
  {
   "cell_type": "code",
   "execution_count": null,
   "id": "450a8541",
   "metadata": {},
   "outputs": [],
   "source": [
    "#me.bures(rho_ref, rho_at_timet[500])\n",
    "#rho_ref = (-.1 * H_H -.9 * (cl_ops[\"n_oc_op\"] - cl_ops[\"Neel_op\"])**2).expm()# .5*(cl_ops[\"n_oc_op\"])**2).expm()\n"
   ]
  },
  {
   "cell_type": "markdown",
   "id": "be456782",
   "metadata": {},
   "source": [
    "# Numerical Solution with ODEINT"
   ]
  },
  {
   "cell_type": "code",
   "execution_count": null,
   "id": "8ec6325e",
   "metadata": {},
   "outputs": [],
   "source": [
    "len(ts1)"
   ]
  },
  {
   "cell_type": "code",
   "execution_count": null,
   "id": "6cdd09f6",
   "metadata": {
    "scrolled": true
   },
   "outputs": [],
   "source": [
    "from scipy.integrate import odeint\n",
    "import random\n",
    "\n",
    "def F(y, t, H_tensor):\n",
    "    return H_tensor.dot(y)\n",
    "\n",
    "ts1 = np.linspace(0, 200, 500)\n",
    "result = odeint(func=F, y0=phi0,t=ts1,args=(np.real(Hijtensor),))\n",
    "plt.figure(figsize=(7, 4))\n",
    "\n",
    "for i in range(len(basis)):\n",
    "    plt.plot(ts1, result[:,i], label=r'$\\phi_{(%d)}(t)$'%i)\n",
    "\n",
    "plt.xlabel(\"t\")\n",
    "plt.ylabel(\"Phi(t)\")\n",
    "plt.legend()"
   ]
  },
  {
   "cell_type": "code",
   "execution_count": null,
   "id": "58ca04b2",
   "metadata": {},
   "outputs": [],
   "source": [
    "rho_at_timet_exact_ode = [rho0]\n",
    "\n",
    "for t in range(len(ts1)):\n",
    "    loc_K = sum([result[:,i][t] * basis_orth[i] for i in range(len(basis_orth))])\n",
    "    rhot = (loc_K).expm()\n",
    "    rhot = rhot/rhot.tr()\n",
    "    rho_at_timet_exact_ode.append(rhot)\n",
    "    loc_K = 0\n",
    "    \n",
    "res=qutip.mesolve(H_H, rho0, np.linspace(0,200,850), c_ops=None, e_ops=basis)\n",
    "for index, name in enumerate([\"x_op\"]):\n",
    "    plt.scatter(res.times, res.expect[index], label = name)\n",
    "\n",
    "plt.scatter(ts1, (qutip.expect(cl_ops[\"x_op\"], rho_at_timet_exact_ode )[:-1]), label = \"x_op Proj ev with ODE\")\n",
    "plt.scatter(ts1, (qutip.expect(cl_ops[\"x_op\"], rho_at_timet)[:-1]), label = \"x_op Proj ev without ODE\")\n",
    "\n",
    "plt.xlabel(\"t\")\n",
    "plt.ylabel(\"Avgs\")\n",
    "plt.legend()"
   ]
  },
  {
   "cell_type": "markdown",
   "id": "5579ca2b",
   "metadata": {},
   "source": [
    "# Spin chain exact evolution "
   ]
  },
  {
   "cell_type": "code",
   "execution_count": null,
   "id": "55584990",
   "metadata": {},
   "outputs": [],
   "source": [
    "start_time = time.time()\n",
    "unitary_ev = True; gamma = None; size = N; gaussian = None; gr = None; xng = None\n",
    "chain_types = \"XXX\"; Hamiltonian_paras = [.2, .15, .1, 1.]\n",
    "obs_basis = basis; ts = np.linspace(0,200,850)\n",
    "\n",
    "title, ev_paras, resultsB = me.spin_chain_ev(closed_bcs = True, size = size, init_state = rho0, chain_type = chain_types, \n",
    "                                             Hamiltonian_paras = Hamiltonian_paras, omega_1=3., omega_2=3., \n",
    "                                             temp=1, tmax = 200, deltat = 1, two_body_basis = True, \n",
    "                                             unitary_ev = unitary_ev, gamma = gamma, gaussian = gaussian, \n",
    "                                             gr = gr, xng = xng, sc_prod = me.HS_inner_prod_r, obs_basis = basis, \n",
    "                                             do_project = False)\n",
    "\n",
    "print(\"--- %s seconds ---\" % (time.time() - start_time))\n",
    "\n",
    "ev_paras[\"Time elapsed\"] = time.time() - start_time"
   ]
  },
  {
   "cell_type": "code",
   "execution_count": null,
   "id": "872414e9",
   "metadata": {},
   "outputs": [],
   "source": [
    "plot_labels1 = [\"id_Manifold\", \"n_oc_op\", \"n_oc_op^2\", \"x_op\", \"p_op\"] \n",
    "plot_labels2 = [\"p_dot\", \"comm_xp\", \"corr_xp\", \"Neel_op\", \"H\"]\n",
    "\n",
    "plt.figure(figsize=(10, 8))\n",
    "\n",
    "for n in range(len(plot_labels1)):\n",
    "    plt.scatter(resultsB[\"ts\"], resultsB[\"averages\"][:,n], label=plot_labels1[n] + \" Exact\")\n",
    "\n",
    "plt.xlabel(\"t\")\n",
    "plt.ylabel(\"Avgs\")\n",
    "plt.title(title)\n",
    "plt.legend()"
   ]
  },
  {
   "cell_type": "code",
   "execution_count": null,
   "id": "f5db2507",
   "metadata": {},
   "outputs": [],
   "source": [
    "### dinÃƒÂ¡mica \n",
    "\n",
    "res=qutip.mesolve(H_H, rho0, np.linspace(0,200,850), c_ops=None, e_ops=basis)\n",
    "plt.figure(figsize=(10, 8))\n",
    "\n",
    "for index, name in enumerate([\"id_Manifold\", \"n_oc_op\", \"n_oc_op^2\", \"x_op\", \"p_op\"]): #+ [\"p_dot\", \"comm_xp\", \"corr_xp\", \"Neel_op\",\"H\"]):\n",
    "    plt.scatter(res.times, res.expect[index], label = name)\n",
    "    \n",
    "plt.xlabel(\"t\")\n",
    "plt.ylabel(\"Avgs\")\n",
    "plt.legend()\n"
   ]
  },
  {
   "cell_type": "code",
   "execution_count": null,
   "id": "88f15984",
   "metadata": {
    "scrolled": true
   },
   "outputs": [],
   "source": [
    "### dinÃƒÂ¡mica \n",
    "\n",
    "res=qutip.mesolve(H_H, rho0, np.linspace(0,200,850), c_ops=None, e_ops=basis)\n",
    "plt.figure(figsize=(10, 8))\n",
    "\n",
    "for index, name in enumerate([\"p_dot\", \"comm_xp\", \"corr_xp\", \"Neel_op\",\"H\"]):\n",
    "    plt.scatter(res.times, res.expect[index], label = name)\n",
    "    \n",
    "plt.xlabel(\"t\")\n",
    "plt.ylabel(\"Avgs\")\n",
    "plt.legend()"
   ]
  },
  {
   "cell_type": "code",
   "execution_count": null,
   "id": "14d85ee3",
   "metadata": {},
   "outputs": [],
   "source": [
    "plt.figure(figsize=(10, 8))\n",
    "\n",
    "for n in range(len(plot_labels2)):\n",
    "    plt.scatter(resultsB[\"ts\"], resultsB[\"averages\"][:,n], label=plot_labels2[n] + \" Exact\")\n",
    "\n",
    "plt.xlabel(\"t\")\n",
    "plt.ylabel(\"Avgs\")\n",
    "plt.title(title)\n",
    "plt.legend()"
   ]
  },
  {
   "cell_type": "code",
   "execution_count": null,
   "id": "772b6964",
   "metadata": {},
   "outputs": [],
   "source": []
  },
  {
   "cell_type": "code",
   "execution_count": null,
   "id": "1dbf5b25",
   "metadata": {},
   "outputs": [],
   "source": [
    "nabla_t = [[0, -1, 1, 0, 0, 0], [-1, 0, 1, 0, 0, 0], [-1, 1, 0, 0, 0, 0],\n",
    "          [0, 0, 0, 0, 1, -1], [0,0,0, 1, 0, -1], [0,0,0, 1, -1, 0]]\n",
    "qutip.Qobj(qutip.Qobj(nabla_t).eigenenergies())"
   ]
  },
  {
   "cell_type": "code",
   "execution_count": null,
   "id": "cffcd6ef",
   "metadata": {},
   "outputs": [],
   "source": []
  }
 ],
 "metadata": {
  "kernelspec": {
   "display_name": "Python 3 (ipykernel)",
   "language": "python",
   "name": "python3"
  },
  "language_info": {
   "codemirror_mode": {
    "name": "ipython",
    "version": 3
   },
   "file_extension": ".py",
   "mimetype": "text/x-python",
   "name": "python",
   "nbconvert_exporter": "python",
   "pygments_lexer": "ipython3",
   "version": "3.9.12"
  }
 },
 "nbformat": 4,
 "nbformat_minor": 5
}
