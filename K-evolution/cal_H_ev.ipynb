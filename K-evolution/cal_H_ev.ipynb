{
 "cells": [
  {
   "cell_type": "code",
   "execution_count": 1,
   "id": "49fe5b4d",
   "metadata": {
    "scrolled": false
   },
   "outputs": [],
   "source": [
    "import qutip\n",
    "import matplotlib.pyplot as plt \n",
    "import numpy as np\n",
    "import scipy.optimize as opt \n",
    "import scipy.linalg as linalg\n",
    "import pickle\n",
    "import time as timess\n",
    "import math, cmath\n",
    "import sys\n",
    "import auxiliary_library as me\n",
    "\n",
    "from IPython.display import display, Math, Latex"
   ]
  },
  {
   "cell_type": "code",
   "execution_count": 3,
   "id": "a6a4d922",
   "metadata": {
    "scrolled": false
   },
   "outputs": [
    {
     "name": "stdout",
     "output_type": "stream",
     "text": [
      "[H,  x_op ] = 0?:  False\n",
      "[H,  p_op ] = 0?:  False\n",
      "[H,  n_oc_op ] = 0?:  False\n",
      "[H,  comm_xp ] = 0?:  False\n",
      "[H,  corr_xp ] = 0?:  False\n",
      "[H,  p_dot ] = 0?:  False\n",
      "[H,  Neel_op ] = 0?:  False\n"
     ]
    }
   ],
   "source": [
    "N = 6\n",
    "spin_ops_list = me.one_body_spin_ops(N)\n",
    "\n",
    "### Heisenberg Hamiltonian\n",
    "chain_type = \"XXZ\"; Hamiltonian_paras = [.2, .15, .1, 1.]\n",
    "H_H = me.Heisenberg_Hamiltonian(spin_ops_list, chain_type, N, False, Hamiltonian_paras, False)\n",
    "\n",
    "### \n",
    "\n",
    "magnetization = sum(spin_ops_list[3][a] for a in range(len(spin_ops_list[3])))\n",
    "neel_operator = sum((-1)**a * spin_ops_list[3][a] for a in range(len(spin_ops_list[3])))\n",
    "\n",
    "### n_oc_op = sum((spin_ops_list[3][a] + .5 * qutip))\n",
    "cl_ops, label_ops = me.classical_ops(H_H, N, spin_ops_list, False)\n",
    "cl_ops[\"Neel_op\"] = neel_operator; label_ops.append(\"Neel_op\")\n",
    "me.hamiltonian_comm_check(H_H, cl_ops)\n",
    "\n",
    "psi0 = ((1-.1j)*qutip.tensor([qutip.basis(2,1) for k in range(int(N/2)-1)]+\n",
    "                    [qutip.basis(2,0)]+\n",
    "                    [qutip.basis(2,1) for k in range(int(N/2+.5))])\n",
    "        -\n",
    "        (1+.1j)*qutip.tensor([qutip.basis(2,1) for k in range(int(N/2))]+\n",
    "                    [qutip.basis(2,0)]+\n",
    "                    [qutip.basis(2,1) for k in range(int(N/2+.5)-1)]))*np.sqrt(.5/1.01)"
   ]
  },
  {
   "cell_type": "code",
   "execution_count": null,
   "id": "46b7afff",
   "metadata": {},
   "outputs": [],
   "source": []
  }
 ],
 "metadata": {
  "kernelspec": {
   "display_name": "Python 3 (ipykernel)",
   "language": "python",
   "name": "python3"
  },
  "language_info": {
   "codemirror_mode": {
    "name": "ipython",
    "version": 3
   },
   "file_extension": ".py",
   "mimetype": "text/x-python",
   "name": "python",
   "nbconvert_exporter": "python",
   "pygments_lexer": "ipython3",
   "version": "3.9.12"
  }
 },
 "nbformat": 4,
 "nbformat_minor": 5
}

