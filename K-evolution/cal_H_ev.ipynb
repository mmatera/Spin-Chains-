{
 "cells": [
  {
   "cell_type": "code",
   "execution_count": 1,
   "id": "49fe5b4d",
   "metadata": {
    "scrolled": false
   },
   "outputs": [],
   "source": [
    "import qutip\n",
    "import matplotlib.pyplot as plt \n",
    "import numpy as np\n",
    "import scipy.optimize as opt \n",
    "import scipy.linalg as linalg\n",
    "import pickle\n",
    "import time as timess\n",
    "import math, cmath\n",
    "import sys; import time as time\n",
    "import auxiliary_library as me\n",
    "\n",
    "from IPython.display import display, Math, Latex\n",
    "np.set_printoptions(threshold=1.e-9,linewidth=120,precision=3, formatter={\"float\":lambda x: str(.001*int(1000*x)) })"
   ]
  },
  {
   "cell_type": "code",
   "execution_count": 2,
   "id": "f6baa86a",
   "metadata": {
    "scrolled": true
   },
   "outputs": [
    {
     "name": "stdout",
     "output_type": "stream",
     "text": [
      "Are all the operators Hermitian?: True\n",
      "[H,  x_op ] = 0?:  False\n",
      "[H,  p_op ] = 0?:  False\n",
      "[H,  n_oc_op ] = 0?:  False\n",
      "[H,  comm_xp ] = 0?:  False\n",
      "[H,  corr_xp ] = 0?:  False\n",
      "[H,  p_dot ] = 0?:  False\n",
      "[H,  magnetization ] = 0?:  True\n",
      "magnetization basis element deleted\n",
      "[H,  Neel_op ] = 0?:  False\n"
     ]
    }
   ],
   "source": [
    "N = 6\n",
    "spin_ops_list = me.one_body_spin_ops(N)\n",
    "\n",
    "### Heisenberg Hamiltonian\n",
    "chain_type = \"XXX\"; Hamiltonian_paras = [.2, .15, .1, 1.]\n",
    "H_H = me.Heisenberg_Hamiltonian(op_list = spin_ops_list, chain_type = chain_type,\n",
    "                                size = N, Hamiltonian_paras = Hamiltonian_paras,\n",
    "                                closed_bcs = True, visualization = False)\n",
    "\n",
    "### Basis operators \n",
    "\n",
    "cl_ops, label_ops = me.classical_ops(H_H, N, spin_ops_list, False)\n",
    "magnetization = sum(spin_ops_list[3][a] for a in range(len(spin_ops_list[3])))\n",
    "neel_operator = sum((-1)**a * spin_ops_list[3][a] for a in range(len(spin_ops_list[3])))\n",
    "identity_op = spin_ops_list[0][0]\n",
    "\n",
    "label_ops.append(\"magnetization\"); label_ops.append(\"Neel_op\"); \n",
    "cl_ops[label_ops[6]] = magnetization; cl_ops[label_ops[7]] = neel_operator; \n",
    "\n",
    "print(\"Are all the operators Hermitian?:\", me.basis_hermitian_check(cl_ops))\n",
    "cl_ops = me.Hamiltonian_comm_check(H_H, cl_ops, None, True)\n",
    "cl_ops[\"identity\"] = identity_op\n",
    "\n",
    "# Note that this is not the initial state but, ideally, the final state. \n",
    "\n",
    "k_B = 1; temp = 5**10-2; x = .9\n",
    "beta = 1/(k_B * temp)\n",
    "rho_ref = (-beta * (1-x) * H_H - x * (cl_ops[\"n_oc_op\"] - 1)**2).expm()\n",
    "rho_ref = rho_ref/rho_ref.tr()\n",
    "\n",
    "if (me.is_density_op(rho_ref)):\n",
    "    pass\n",
    "else:\n",
    "    sys.exit(\"Not a valid density op\")\n",
    "\n",
    "### Chosen basis and operators ### ops=[id_glob, n_oc, n_oc**2, x, p , ac, comm, corr, H]\n",
    "\n",
    "basis = [cl_ops[\"identity\"], cl_ops[\"n_oc_op\"], cl_ops[\"n_oc_op\"]**2, cl_ops[\"x_op\"], cl_ops[\"p_op\"], \n",
    "         cl_ops[\"p_dot\"], cl_ops[\"comm_xp\"], cl_ops[\"corr_xp\"], cl_ops[\"Neel_op\"], H_H]\n",
    "\n",
    "basis_orth = me.base_orth(basis, rho_ref, me.HS_inner_prod_r, False)\n",
    "\n",
    "### Evolution \n",
    "\n",
    "#phi0 = [0., .1, .1, 2., 1., -1., 1, .1, -2., .1]\n",
    "phi0 = [0] + [np.random.rand() for i in range(len(basis_orth)-1)]\n",
    "rho0 = (-sum( f*op for f,op in zip(phi0, basis_orth))).expm()\n",
    "phi0[0] = np.log(rho0.tr())\n",
    "rho0 = (-sum( f*op for f,op in zip(phi0, basis_orth))).expm()\n",
    "\n",
    "if (me.is_density_op(rho_ref)):\n",
    "    pass\n",
    "else:\n",
    "    sys.exit(\"Not a valid density op\")"
   ]
  },
  {
   "cell_type": "code",
   "execution_count": 3,
   "id": "fc5b3c8c",
   "metadata": {
    "scrolled": true
   },
   "outputs": [
    {
     "name": "stdout",
     "output_type": "stream",
     "text": [
      "<Op[ 0 ] rho0> = 0.9999999999999988\n",
      "<Op[ 1 ] rho0> = 0.1054301782933403\n",
      "<Op[ 2 ] rho0> = -0.12140604388240016\n",
      "<Op[ 3 ] rho0> = -0.8715454098287341\n",
      "<Op[ 4 ] rho0> = -0.2992128662300488\n",
      "<Op[ 5 ] rho0> = -0.4537719662462385\n",
      "<Op[ 6 ] rho0> = 0.15878247010184923\n",
      "<Op[ 7 ] rho0> = -0.37939057169119506\n",
      "<Op[ 8 ] rho0> = -0.1627207065787415\n",
      "<Op[ 9 ] rho0> = -0.7610910077701756\n"
     ]
    }
   ],
   "source": [
    "for i in range(len(basis_orth)):\n",
    "    print(\"<Op[\",i, \"] rho0> =\", qutip.expect(basis_orth[i], rho0))"
   ]
  },
  {
   "cell_type": "code",
   "execution_count": 4,
   "id": "d65de93b",
   "metadata": {},
   "outputs": [
    {
     "data": {
      "text/plain": [
       "<matplotlib.legend.Legend at 0x18b2c337e80>"
      ]
     },
     "execution_count": 4,
     "metadata": {},
     "output_type": "execute_result"
    },
    {
     "data": {
      "image/png": "[encoded data removed]",
      "text/plain": [
       "<Figure size 432x288 with 1 Axes>"
      ]
     },
     "metadata": {
      "needs_background": "light"
     },
     "output_type": "display_data"
    }
   ],
   "source": [
    "Hijtensor = qutip.Qobj(me.H_ij_matrix(H_H, basis_orth, rho_ref, me.HS_inner_prod_r)[1])\n",
    "plt.plot(qutip.Qobj(Hijtensor).eigenenergies().real, label = \"Real part eigenvalues\")\n",
    "plt.plot(sorted(qutip.Qobj(Hijtensor).eigenenergies().imag), label = \"Imag part eigenvalues\")\n",
    "\n",
    "plt.legend()"
   ]
  },
  {
   "cell_type": "code",
   "execution_count": 5,
   "id": "1a91cd81",
   "metadata": {},
   "outputs": [
    {
     "name": "stdout",
     "output_type": "stream",
     "text": [
      "At time 4 not density op\n",
      "At time 5 not density op\n",
      "At time 6 not density op\n",
      "At time 10 not density op\n",
      "At time 11 not density op\n",
      "At time 12 not density op\n",
      "At time 13 not density op\n",
      "At time 14 not density op\n",
      "At time 15 not density op\n",
      "At time 16 not density op\n",
      "At time 17 not density op\n",
      "At time 18 not density op\n",
      "At time 19 not density op\n",
      "At time 20 not density op\n",
      "At time 21 not density op\n",
      "At time 22 not density op\n",
      "At time 23 not density op\n",
      "At time 24 not density op\n",
      "At time 25 not density op\n",
      "At time 26 not density op\n",
      "At time 27 not density op\n",
      "At time 28 not density op\n",
      "At time 29 not density op\n",
      "At time 30 not density op\n",
      "At time 31 not density op\n",
      "At time 32 not density op\n",
      "At time 33 not density op\n",
      "At time 34 not density op\n",
      "At time 35 not density op\n",
      "At time 36 not density op\n",
      "At time 37 not density op\n",
      "At time 38 not density op\n",
      "At time 39 not density op\n",
      "At time 40 not density op\n",
      "At time 41 not density op\n",
      "At time 42 not density op\n",
      "At time 43 not density op\n",
      "At time 44 not density op\n",
      "At time 45 not density op\n",
      "At time 46 not density op\n",
      "At time 47 not density op\n",
      "At time 48 not density op\n",
      "At time 49 not density op\n",
      "At time 50 not density op\n",
      "At time 51 not density op\n",
      "At time 52 not density op\n",
      "At time 53 not density op\n",
      "At time 54 not density op\n",
      "At time 55 not density op\n",
      "At time 56 not density op\n",
      "At time 57 not density op\n",
      "At time 58 not density op\n",
      "At time 59 not density op\n",
      "At time 60 not density op\n",
      "At time 61 not density op\n",
      "At time 62 not density op\n",
      "At time 63 not density op\n",
      "At time 64 not density op\n",
      "At time 65 not density op\n",
      "At time 66 not density op\n",
      "At time 67 not density op\n",
      "At time 68 not density op\n",
      "At time 69 not density op\n",
      "At time 70 not density op\n",
      "At time 71 not density op\n",
      "At time 72 not density op\n",
      "At time 73 not density op\n",
      "At time 74 not density op\n",
      "At time 75 not density op\n",
      "At time 76 not density op\n",
      "At time 77 not density op\n",
      "At time 78 not density op\n",
      "At time 79 not density op\n",
      "At time 80 not density op\n",
      "At time 81 not density op\n",
      "At time 82 not density op\n",
      "At time 83 not density op\n",
      "At time 84 not density op\n",
      "At time 85 not density op\n",
      "At time 86 not density op\n",
      "At time 87 not density op\n",
      "At time 88 not density op\n",
      "At time 89 not density op\n",
      "At time 90 not density op\n",
      "At time 91 not density op\n",
      "At time 92 not density op\n",
      "At time 93 not density op\n",
      "At time 94 not density op\n",
      "At time 95 not density op\n",
      "At time 96 not density op\n",
      "At time 97 not density op\n",
      "At time 98 not density op\n",
      "At time 99 not density op\n",
      "At time 100 not density op\n",
      "At time 101 not density op\n",
      "At time 102 not density op\n",
      "At time 103 not density op\n",
      "At time 104 not density op\n",
      "At time 105 not density op\n",
      "At time 106 not density op\n",
      "At time 107 not density op\n",
      "At time 108 not density op\n",
      "At time 109 not density op\n",
      "At time 110 not density op\n",
      "At time 111 not density op\n",
      "At time 112 not density op\n",
      "At time 113 not density op\n",
      "At time 114 not density op\n",
      "At time 115 not density op\n",
      "At time 116 not density op\n",
      "At time 117 not density op\n",
      "At time 118 not density op\n",
      "At time 119 not density op\n",
      "At time 120 not density op\n",
      "At time 121 not density op\n",
      "At time 122 not density op\n",
      "At time 123 not density op\n",
      "At time 124 not density op\n",
      "At time 125 not density op\n",
      "At time 126 not density op\n",
      "At time 127 not density op\n",
      "At time 128 not density op\n",
      "At time 129 not density op\n",
      "At time 130 not density op\n",
      "At time 131 not density op\n",
      "At time 132 not density op\n",
      "At time 133 not density op\n",
      "At time 134 not density op\n",
      "At time 135 not density op\n",
      "At time 136 not density op\n",
      "At time 137 not density op\n",
      "At time 138 not density op\n",
      "At time 139 not density op\n",
      "At time 140 not density op\n",
      "At time 141 not density op\n",
      "At time 142 not density op\n",
      "At time 143 not density op\n",
      "At time 144 not density op\n",
      "At time 145 not density op\n",
      "At time 146 not density op\n",
      "At time 147 not density op\n",
      "At time 148 not density op\n",
      "At time 149 not density op\n",
      "At time 150 not density op\n",
      "At time 151 not density op\n",
      "At time 152 not density op\n",
      "At time 153 not density op\n",
      "At time 154 not density op\n",
      "At time 155 not density op\n",
      "At time 156 not density op\n",
      "At time 157 not density op\n",
      "At time 158 not density op\n",
      "At time 159 not density op\n",
      "At time 160 not density op\n",
      "At time 161 not density op\n",
      "At time 162 not density op\n",
      "At time 163 not density op\n",
      "At time 164 not density op\n",
      "At time 165 not density op\n",
      "At time 166 not density op\n",
      "At time 167 not density op\n",
      "At time 168 not density op\n",
      "At time 169 not density op\n",
      "At time 170 not density op\n",
      "At time 171 not density op\n",
      "At time 172 not density op\n",
      "At time 173 not density op\n",
      "At time 174 not density op\n",
      "At time 175 not density op\n",
      "At time 176 not density op\n",
      "At time 177 not density op\n",
      "At time 178 not density op\n",
      "At time 179 not density op\n",
      "At time 180 not density op\n",
      "At time 181 not density op\n",
      "At time 182 not density op\n",
      "At time 183 not density op\n",
      "At time 184 not density op\n",
      "At time 185 not density op\n",
      "At time 186 not density op\n",
      "At time 187 not density op\n",
      "At time 188 not density op\n",
      "At time 189 not density op\n",
      "At time 190 not density op\n",
      "At time 191 not density op\n",
      "At time 192 not density op\n",
      "At time 193 not density op\n",
      "At time 194 not density op\n",
      "At time 195 not density op\n",
      "At time 196 not density op\n",
      "At time 197 not density op\n",
      "At time 198 not density op\n",
      "At time 199 not density op\n",
      "At time 200 not density op\n",
      "At time 201 not density op\n",
      "At time 202 not density op\n",
      "At time 203 not density op\n",
      "At time 204 not density op\n",
      "At time 205 not density op\n",
      "At time 206 not density op\n",
      "At time 207 not density op\n",
      "At time 208 not density op\n",
      "At time 209 not density op\n",
      "At time 210 not density op\n",
      "At time 211 not density op\n",
      "At time 212 not density op\n",
      "At time 213 not density op\n",
      "At time 214 not density op\n",
      "At time 215 not density op\n",
      "At time 216 not density op\n",
      "At time 217 not density op\n",
      "At time 218 not density op\n",
      "At time 219 not density op\n",
      "At time 220 not density op\n",
      "At time 221 not density op\n",
      "At time 222 not density op\n",
      "At time 223 not density op\n",
      "At time 224 not density op\n",
      "At time 225 not density op\n",
      "At time 226 not density op\n",
      "At time 227 not density op\n",
      "At time 228 not density op\n",
      "At time 229 not density op\n",
      "At time 230 not density op\n",
      "At time 231 not density op\n",
      "At time 232 not density op\n",
      "At time 233 not density op\n",
      "At time 234 not density op\n",
      "At time 235 not density op\n",
      "At time 236 not density op\n",
      "At time 237 not density op\n",
      "At time 238 not density op\n",
      "At time 239 not density op\n",
      "At time 240 not density op\n",
      "At time 241 not density op\n",
      "At time 242 not density op\n",
      "At time 243 not density op\n",
      "At time 244 not density op\n",
      "At time 245 not density op\n",
      "At time 246 not density op\n",
      "At time 247 not density op\n",
      "At time 248 not density op\n",
      "At time 249 not density op\n",
      "At time 250 not density op\n",
      "At time 251 not density op\n",
      "At time 252 not density op\n",
      "At time 253 not density op\n",
      "At time 254 not density op\n",
      "At time 255 not density op\n",
      "At time 256 not density op\n",
      "At time 257 not density op\n",
      "At time 258 not density op\n",
      "At time 259 not density op\n",
      "At time 260 not density op\n",
      "At time 261 not density op\n",
      "At time 262 not density op\n",
      "At time 263 not density op\n",
      "At time 264 not density op\n",
      "At time 265 not density op\n",
      "At time 266 not density op\n",
      "At time 267 not density op\n",
      "At time 268 not density op\n",
      "At time 269 not density op\n",
      "At time 270 not density op\n",
      "At time 271 not density op\n",
      "At time 272 not density op\n",
      "At time 273 not density op\n",
      "At time 274 not density op\n",
      "At time 275 not density op\n",
      "At time 276 not density op\n",
      "At time 277 not density op\n",
      "At time 278 not density op\n",
      "At time 279 not density op\n",
      "At time 280 not density op\n",
      "At time 281 not density op\n",
      "At time 282 not density op\n",
      "At time 283 not density op\n",
      "At time 284 not density op\n",
      "At time 285 not density op\n",
      "At time 286 not density op\n",
      "At time 287 not density op\n",
      "At time 288 not density op\n",
      "At time 289 not density op\n",
      "At time 290 not density op\n",
      "At time 291 not density op\n",
      "At time 292 not density op\n",
      "At time 293 not density op\n",
      "At time 294 not density op\n",
      "At time 295 not density op\n",
      "At time 296 not density op\n",
      "At time 297 not density op\n",
      "At time 298 not density op\n",
      "At time 299 not density op\n",
      "At time 300 not density op\n",
      "At time 301 not density op\n",
      "At time 302 not density op\n",
      "At time 303 not density op\n",
      "At time 304 not density op\n",
      "At time 305 not density op\n",
      "At time 306 not density op\n",
      "At time 307 not density op\n",
      "At time 308 not density op\n",
      "At time 309 not density op\n",
      "At time 310 not density op\n",
      "At time 311 not density op\n",
      "At time 312 not density op\n",
      "At time 313 not density op\n",
      "At time 314 not density op\n",
      "At time 315 not density op\n",
      "At time 316 not density op\n",
      "At time 317 not density op\n",
      "At time 318 not density op\n",
      "At time 319 not density op\n",
      "At time 320 not density op\n",
      "At time 321 not density op\n",
      "At time 322 not density op\n",
      "At time 323 not density op\n",
      "At time 324 not density op\n",
      "At time 325 not density op\n",
      "At time 326 not density op\n",
      "At time 327 not density op\n",
      "At time 328 not density op\n",
      "At time 329 not density op\n",
      "At time 330 not density op\n",
      "At time 331 not density op\n",
      "At time 332 not density op\n",
      "At time 333 not density op\n",
      "At time 334 not density op\n",
      "At time 335 not density op\n",
      "At time 336 not density op\n",
      "At time 337 not density op\n",
      "At time 338 not density op\n",
      "At time 339 not density op\n",
      "At time 340 not density op\n",
      "At time 341 not density op\n",
      "At time 342 not density op\n",
      "At time 343 not density op\n",
      "At time 344 not density op\n",
      "At time 345 not density op\n",
      "At time 346 not density op\n",
      "At time 347 not density op\n",
      "At time 348 not density op\n",
      "At time 349 not density op\n",
      "At time 350 not density op\n",
      "At time 351 not density op\n",
      "At time 352 not density op\n",
      "At time 353 not density op\n",
      "At time 354 not density op\n",
      "At time 355 not density op\n",
      "At time 356 not density op\n",
      "At time 357 not density op\n",
      "At time 358 not density op\n",
      "At time 359 not density op\n",
      "At time 360 not density op\n",
      "At time 361 not density op\n",
      "At time 362 not density op\n",
      "At time 363 not density op\n",
      "At time 364 not density op\n",
      "At time 365 not density op\n",
      "At time 366 not density op\n",
      "At time 367 not density op\n",
      "At time 368 not density op\n",
      "At time 369 not density op\n",
      "At time 370 not density op\n",
      "At time 371 not density op\n",
      "At time 372 not density op\n",
      "At time 373 not density op\n",
      "At time 374 not density op\n",
      "At time 375 not density op\n",
      "At time 376 not density op\n",
      "At time 377 not density op\n",
      "At time 378 not density op\n",
      "At time 379 not density op\n",
      "At time 380 not density op\n",
      "At time 381 not density op\n",
      "At time 382 not density op\n",
      "At time 383 not density op\n",
      "At time 384 not density op\n",
      "At time 385 not density op\n",
      "At time 386 not density op\n",
      "At time 387 not density op\n",
      "At time 388 not density op\n",
      "At time 389 not density op\n",
      "At time 390 not density op\n",
      "At time 391 not density op\n",
      "At time 392 not density op\n",
      "At time 393 not density op\n",
      "At time 394 not density op\n",
      "At time 395 not density op\n",
      "At time 396 not density op\n",
      "At time 397 not density op\n",
      "At time 398 not density op\n",
      "At time 399 not density op\n",
      "At time 400 not density op\n",
      "At time 401 not density op\n",
      "At time 402 not density op\n",
      "At time 403 not density op\n",
      "At time 404 not density op\n",
      "At time 405 not density op\n",
      "At time 406 not density op\n",
      "At time 407 not density op\n",
      "At time 408 not density op\n",
      "At time 409 not density op\n",
      "At time 410 not density op\n",
      "At time 411 not density op\n",
      "At time 412 not density op\n",
      "At time 413 not density op\n",
      "At time 414 not density op\n",
      "At time 415 not density op\n",
      "At time 416 not density op\n",
      "At time 417 not density op\n",
      "At time 418 not density op\n",
      "At time 419 not density op\n",
      "At time 420 not density op\n",
      "At time 421 not density op\n",
      "At time 422 not density op\n",
      "At time 423 not density op\n",
      "At time 424 not density op\n",
      "At time 425 not density op\n",
      "At time 426 not density op\n",
      "At time 427 not density op\n",
      "At time 428 not density op\n",
      "At time 429 not density op\n",
      "At time 430 not density op\n",
      "At time 431 not density op\n",
      "At time 432 not density op\n",
      "At time 433 not density op\n",
      "At time 434 not density op\n",
      "At time 435 not density op\n",
      "At time 436 not density op\n",
      "At time 437 not density op\n",
      "At time 438 not density op\n",
      "At time 439 not density op\n",
      "At time 440 not density op\n",
      "At time 441 not density op\n",
      "At time 442 not density op\n",
      "At time 443 not density op\n",
      "At time 444 not density op\n",
      "At time 445 not density op\n",
      "At time 446 not density op\n",
      "At time 447 not density op\n",
      "At time 448 not density op\n",
      "At time 449 not density op\n",
      "At time 450 not density op\n",
      "At time 451 not density op\n",
      "At time 452 not density op\n",
      "At time 453 not density op\n",
      "At time 454 not density op\n",
      "At time 455 not density op\n",
      "At time 456 not density op\n",
      "At time 457 not density op\n",
      "At time 458 not density op\n",
      "At time 459 not density op\n",
      "At time 460 not density op\n",
      "At time 461 not density op\n",
      "At time 462 not density op\n",
      "At time 463 not density op\n",
      "At time 464 not density op\n",
      "At time 465 not density op\n",
      "At time 466 not density op\n",
      "At time 467 not density op\n",
      "At time 468 not density op\n",
      "At time 469 not density op\n",
      "At time 470 not density op\n",
      "At time 471 not density op\n",
      "At time 472 not density op\n",
      "At time 473 not density op\n",
      "At time 474 not density op\n",
      "At time 475 not density op\n",
      "At time 476 not density op\n",
      "At time 477 not density op\n",
      "At time 478 not density op\n",
      "At time 479 not density op\n",
      "At time 480 not density op\n",
      "At time 481 not density op\n",
      "At time 482 not density op\n",
      "At time 483 not density op\n",
      "At time 484 not density op\n",
      "At time 485 not density op\n",
      "At time 486 not density op\n",
      "At time 487 not density op\n",
      "At time 488 not density op\n",
      "At time 489 not density op\n",
      "At time 490 not density op\n",
      "At time 491 not density op\n",
      "At time 492 not density op\n",
      "At time 493 not density op\n",
      "At time 494 not density op\n",
      "At time 495 not density op\n",
      "At time 496 not density op\n",
      "At time 497 not density op\n",
      "At time 498 not density op\n",
      "At time 499 not density op\n",
      "At time 500 not density op\n"
     ]
    }
   ],
   "source": [
    "ts1 = np.linspace(0, 200, 500)\n",
    "Phi_vector_solution = []\n",
    "Phi_vector_solution.append(np.array(phi0))\n",
    "\n",
    "for i in range(len(ts1)-1):\n",
    "    a = ( ts1[i+1] * Hijtensor ).expm() * Phi_vector_solution[0]\n",
    "    Phi_vector_solution.append(a)\n",
    "    \n",
    "rho_at_timet = []\n",
    "rho_at_timet.append(rho0)\n",
    "\n",
    "for i in range(len(Phi_vector_solution)):\n",
    "    rhot= (-sum( f*op for f,op in zip(Phi_vector_solution[i], basis_orth))).expm()\n",
    "    rhot = rhot/rhot.tr()\n",
    "    rho_at_timet.append(rhot)\n",
    "\n",
    "for t in range(len(rho_at_timet)):\n",
    "    if not me.is_density_op(rho_at_timet[t]):\n",
    "        print(\"At time\", t, \"not density op\")\n",
    "        rho_at_timet[t] = .5 * (rho_at_timet[t] + rho_at_timet[t].dag())\n",
    "        #print(\"Moddified accordingly\")"
   ]
  },
  {
   "cell_type": "code",
   "execution_count": 6,
   "id": "f771b8d2",
   "metadata": {},
   "outputs": [
    {
     "data": {
      "text/plain": [
       "<matplotlib.collections.PathCollection at 0x18b33ccd640>"
      ]
     },
     "execution_count": 6,
     "metadata": {},
     "output_type": "execute_result"
    },
    {
     "data": {
      "image/png": "[encoded data removed]",
      "text/plain": [
       "<Figure size 432x288 with 1 Axes>"
      ]
     },
     "metadata": {
      "needs_background": "light"
     },
     "output_type": "display_data"
    }
   ],
   "source": [
    "non_densitiness = []\n",
    "for i in range(len(rho_at_timet)-1):\n",
    "    non_densitiness.append(linalg.norm(linalg.norm(rho_at_timet[i] - rho_at_timet[i].dag())/(linalg.norm(rho_at_timet[i]))))\n",
    "    \n",
    "plt.scatter(ts1, non_densitiness)"
   ]
  },
  {
   "cell_type": "code",
   "execution_count": 7,
   "id": "3d0448d4",
   "metadata": {},
   "outputs": [
    {
     "data": {
      "text/plain": [
       "<matplotlib.legend.Legend at 0x18b33cc2670>"
      ]
     },
     "execution_count": 7,
     "metadata": {},
     "output_type": "execute_result"
    },
    {
     "data": {
      "image/png": "[encoded data removed]",
      "text/plain": [
       "<Figure size 432x288 with 1 Axes>"
      ]
     },
     "metadata": {
      "needs_background": "light"
     },
     "output_type": "display_data"
    }
   ],
   "source": [
    "res=qutip.mesolve(H_H, rho0, np.linspace(0,200,850), c_ops=None, e_ops=basis)\n",
    "for index, name in enumerate([\"n_oc_op\"]):\n",
    "    plt.scatter(res.times, res.expect[index], label = name)\n",
    "\n",
    "plt.scatter(ts1, (qutip.expect(cl_ops[\"n_oc_op\"], rho_at_timet)[:-1]), label = \"n_oc_op Proj ev\")\n",
    "\n",
    "plt.xlabel(\"t\")\n",
    "plt.ylabel(\"Avgs\")\n",
    "plt.legend()\n"
   ]
  },
  {
   "cell_type": "code",
   "execution_count": 8,
   "id": "b2321c01",
   "metadata": {
    "scrolled": true
   },
   "outputs": [
    {
     "data": {
      "text/plain": [
       "<matplotlib.legend.Legend at 0x18b33dae130>"
      ]
     },
     "execution_count": 8,
     "metadata": {},
     "output_type": "execute_result"
    },
    {
     "data": {
      "image/png": "[encoded data removed]",
      "text/plain": [
       "<Figure size 432x288 with 1 Axes>"
      ]
     },
     "metadata": {
      "needs_background": "light"
     },
     "output_type": "display_data"
    }
   ],
   "source": [
    "res=qutip.mesolve(H_H, rho0, np.linspace(0,200,850), c_ops=None, e_ops=basis)\n",
    "for index, name in enumerate([\"comm_xp\"]):\n",
    "    plt.scatter(res.times, res.expect[index], label = name)\n",
    "\n",
    "plt.scatter(ts1, (qutip.expect(cl_ops[\"comm_xp\"], rho_at_timet)[:-1]), label = \"comm_xp Proj ev\")\n",
    "\n",
    "plt.xlabel(\"t\")\n",
    "plt.ylabel(\"Avgs\")\n",
    "plt.legend()\n"
   ]
  },
  {
   "cell_type": "code",
   "execution_count": 9,
   "id": "77e7f1b6",
   "metadata": {
    "scrolled": true
   },
   "outputs": [
    {
     "data": {
      "text/plain": [
       "0.22879204806755882"
      ]
     },
     "execution_count": 9,
     "metadata": {},
     "output_type": "execute_result"
    }
   ],
   "source": [
    "me.bures(rho_ref, rho0)"
   ]
  },
  {
   "cell_type": "code",
   "execution_count": 10,
   "id": "450a8541",
   "metadata": {},
   "outputs": [
    {
     "data": {
      "text/plain": [
       "0.2586286969759782"
      ]
     },
     "execution_count": 10,
     "metadata": {},
     "output_type": "execute_result"
    }
   ],
   "source": [
    "me.bures(rho_ref, rho_at_timet[500])\n",
    "#rho_ref = (-.1 * H_H -.9 * (cl_ops[\"n_oc_op\"] - cl_ops[\"Neel_op\"])**2).expm()# .5*(cl_ops[\"n_oc_op\"])**2).expm()\n"
   ]
  },
  {
   "cell_type": "code",
   "execution_count": 18,
   "id": "55584990",
   "metadata": {},
   "outputs": [
    {
     "name": "stdout",
     "output_type": "stream",
     "text": [
      "Processing custom initial state\n",
      "Processing custom observable basis\n",
      "sampling: 30\n",
      "Closed evolution chosen\n",
      "--- 5.4671642780303955 seconds ---\n"
     ]
    }
   ],
   "source": [
    "start_time = time.time()\n",
    "unitary_ev = True; gamma = None; size = N; gaussian = None; gr = None; xng = None\n",
    "chain_types = \"XXX\"; Hamiltonian_paras = [.2, .15, .1, 1.]\n",
    "obs_basis = basis; ts = np.linspace(0,200,850)\n",
    "\n",
    "title, ev_paras, resultsB = me.spin_chain_ev(closed_bcs = True, size = size, init_state = rho0, chain_type = chain_types, \n",
    "                                             Hamiltonian_paras = Hamiltonian_paras, omega_1=3., omega_2=3., \n",
    "                                             temp=1, tmax = 200, deltat = 1, two_body_basis = True, \n",
    "                                             unitary_ev = unitary_ev, gamma = gamma, gaussian = gaussian, \n",
    "                                             gr = gr, xng = xng, sc_prod = me.HS_inner_prod_r, obs_basis = basis, \n",
    "                                             do_project = False)\n",
    "\n",
    "print(\"--- %s seconds ---\" % (time.time() - start_time))\n",
    "\n",
    "ev_paras[\"Time elapsed\"] = time.time() - start_time"
   ]
  },
  {
   "cell_type": "code",
   "execution_count": 19,
   "id": "872414e9",
   "metadata": {},
   "outputs": [
    {
     "data": {
      "text/plain": [
       "<matplotlib.legend.Legend at 0x18b22897220>"
      ]
     },
     "execution_count": 19,
     "metadata": {},
     "output_type": "execute_result"
    },
    {
     "data": {
      "image/png": "[encoded data removed]",
      "text/plain": [
       "<Figure size 720x576 with 1 Axes>"
      ]
     },
     "metadata": {
      "needs_background": "light"
     },
     "output_type": "display_data"
    }
   ],
   "source": [
    "plot_labels1 = [\"id_Manifold\", \"n_oc_op\", \"n_oc_op^2\", \"x_op\", \"p_op\"] \n",
    "plot_labels2 = [\"p_dot\", \"comm_xp\", \"corr_xp\", \"Neel_op\", \"H\"]\n",
    "\n",
    "plt.figure(figsize=(10, 8))\n",
    "\n",
    "for n in range(len(plot_labels1)):\n",
    "    plt.scatter(resultsB[\"ts\"], resultsB[\"averages\"][:,n], label=plot_labels1[n] + \" Exact\")\n",
    "\n",
    "plt.xlabel(\"t\")\n",
    "plt.ylabel(\"Avgs\")\n",
    "plt.title(title)\n",
    "plt.legend()"
   ]
  },
  {
   "cell_type": "code",
   "execution_count": 20,
   "id": "f5db2507",
   "metadata": {},
   "outputs": [
    {
     "data": {
      "text/plain": [
       "<matplotlib.legend.Legend at 0x18b238ba160>"
      ]
     },
     "execution_count": 20,
     "metadata": {},
     "output_type": "execute_result"
    },
    {
     "data": {
      "image/png": "[encoded data removed]",
      "text/plain": [
       "<Figure size 720x576 with 1 Axes>"
      ]
     },
     "metadata": {
      "needs_background": "light"
     },
     "output_type": "display_data"
    }
   ],
   "source": [
    "### dinÃƒÂ¡mica \n",
    "\n",
    "res=qutip.mesolve(H_H, rho0, np.linspace(0,200,850), c_ops=None, e_ops=basis)\n",
    "plt.figure(figsize=(10, 8))\n",
    "\n",
    "for index, name in enumerate([\"id_Manifold\", \"n_oc_op\", \"n_oc_op^2\", \"x_op\", \"p_op\"]): #+ [\"p_dot\", \"comm_xp\", \"corr_xp\", \"Neel_op\",\"H\"]):\n",
    "    plt.scatter(res.times, res.expect[index], label = name)\n",
    "    \n",
    "plt.xlabel(\"t\")\n",
    "plt.ylabel(\"Avgs\")\n",
    "plt.legend()\n"
   ]
  },
  {
   "cell_type": "code",
   "execution_count": 21,
   "id": "88f15984",
   "metadata": {},
   "outputs": [
    {
     "data": {
      "text/plain": [
       "<matplotlib.legend.Legend at 0x18b238e66a0>"
      ]
     },
     "execution_count": 21,
     "metadata": {},
     "output_type": "execute_result"
    },
    {
     "data": {
      "image/png": "[encoded data removed]",
      "text/plain": [
       "<Figure size 720x576 with 1 Axes>"
      ]
     },
     "metadata": {
      "needs_background": "light"
     },
     "output_type": "display_data"
    }
   ],
   "source": [
    "### dinÃƒÂ¡mica \n",
    "\n",
    "res=qutip.mesolve(H_H, rho0, np.linspace(0,200,850), c_ops=None, e_ops=basis)\n",
    "plt.figure(figsize=(10, 8))\n",
    "\n",
    "for index, name in enumerate([\"p_dot\", \"comm_xp\", \"corr_xp\", \"Neel_op\",\"H\"]):\n",
    "    plt.scatter(res.times, res.expect[index], label = name)\n",
    "    \n",
    "plt.xlabel(\"t\")\n",
    "plt.ylabel(\"Avgs\")\n",
    "plt.legend()"
   ]
  },
  {
   "cell_type": "code",
   "execution_count": 22,
   "id": "14d85ee3",
   "metadata": {},
   "outputs": [
    {
     "data": {
      "text/plain": [
       "<matplotlib.legend.Legend at 0x18b23939700>"
      ]
     },
     "execution_count": 22,
     "metadata": {},
     "output_type": "execute_result"
    },
    {
     "data": {
      "image/png": "[encoded data removed]",
      "text/plain": [
       "<Figure size 720x576 with 1 Axes>"
      ]
     },
     "metadata": {
      "needs_background": "light"
     },
     "output_type": "display_data"
    }
   ],
   "source": [
    "plt.figure(figsize=(10, 8))\n",
    "\n",
    "for n in range(len(plot_labels2)):\n",
    "    plt.scatter(resultsB[\"ts\"], resultsB[\"averages\"][:,n], label=plot_labels2[n] + \" Exact\")\n",
    "\n",
    "plt.xlabel(\"t\")\n",
    "plt.ylabel(\"Avgs\")\n",
    "plt.title(title)\n",
    "plt.legend()"
   ]
  },
  {
   "cell_type": "code",
   "execution_count": null,
   "id": "772b6964",
   "metadata": {},
   "outputs": [],
   "source": []
  },
  {
   "cell_type": "code",
   "execution_count": null,
   "id": "1dbf5b25",
   "metadata": {},
   "outputs": [],
   "source": []
  },
  {
   "cell_type": "code",
   "execution_count": null,
   "id": "cffcd6ef",
   "metadata": {},
   "outputs": [],
   "source": []
  }
 ],
 "metadata": {
  "kernelspec": {
   "display_name": "Python 3 (ipykernel)",
   "language": "python",
   "name": "python3"
  },
  "language_info": {
   "codemirror_mode": {
    "name": "ipython",
    "version": 3
   },
   "file_extension": ".py",
   "mimetype": "text/x-python",
   "name": "python",
   "nbconvert_exporter": "python",
   "pygments_lexer": "ipython3",
   "version": "3.9.12"
  }
 },
 "nbformat": 4,
 "nbformat_minor": 5
}
