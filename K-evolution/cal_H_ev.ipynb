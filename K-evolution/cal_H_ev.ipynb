{
 "cells": [
  {
   "cell_type": "code",
   "execution_count": 1,
   "id": "49fe5b4d",
   "metadata": {
    "scrolled": true
   },
   "outputs": [],
   "source": [
    "import qutip\n",
    "import matplotlib.pyplot as plt \n",
    "import numpy as np\n",
    "import scipy.optimize as opt \n",
    "import scipy.linalg as linalg\n",
    "import pickle\n",
    "import time as time\n",
    "import math, cmath\n",
    "import sys\n",
    "import auxiliary_library as me\n",
    "\n",
    "from IPython.display import display, Math, Latex"
   ]
  },
  {
   "cell_type": "code",
   "execution_count": 47,
   "id": "a6a4d922",
   "metadata": {
    "scrolled": false
   },
   "outputs": [
    {
     "data": {
      "text/latex": [
       "Quantum object: dims = [[2, 2, 2, 2, 2, 2, 2], [2, 2, 2, 2, 2, 2, 2]], shape = (128, 128), type = oper, isherm = True\\begin{equation*}\\left(\\begin{array}{*{11}c}-9.896 & 0.0 & 0.0 & 0.0 & 0.0 & \\cdots & 0.0 & 0.0 & 0.0 & 0.0 & 0.0\\\\0.0 & -9.739 & -0.314 & 0.0 & 0.0 & \\cdots & 0.0 & 0.0 & 0.0 & 0.0 & 0.0\\\\0.0 & -0.314 & -6.440 & 0.0 & -0.314 & \\cdots & 0.0 & 0.0 & 0.0 & 0.0 & 0.0\\\\0.0 & 0.0 & 0.0 & -6.597 & 0.0 & \\cdots & 0.0 & 0.0 & 0.0 & 0.0 & 0.0\\\\0.0 & 0.0 & -0.314 & 0.0 & -6.440 & \\cdots & 0.0 & 0.0 & 0.0 & 0.0 & 0.0\\\\\\vdots & \\vdots & \\vdots & \\vdots & \\vdots & \\ddots & \\vdots & \\vdots & \\vdots & \\vdots & \\vdots\\\\0.0 & 0.0 & 0.0 & 0.0 & 0.0 & \\cdots & 6.126 & 0.0 & -0.314 & 0.0 & 0.0\\\\0.0 & 0.0 & 0.0 & 0.0 & 0.0 & \\cdots & 0.0 & 5.969 & 0.0 & 0.0 & 0.0\\\\0.0 & 0.0 & 0.0 & 0.0 & 0.0 & \\cdots & -0.314 & 0.0 & 6.126 & -0.314 & 0.0\\\\0.0 & 0.0 & 0.0 & 0.0 & 0.0 & \\cdots & 0.0 & 0.0 & -0.314 & 9.111 & 0.0\\\\0.0 & 0.0 & 0.0 & 0.0 & 0.0 & \\cdots & 0.0 & 0.0 & 0.0 & 0.0 & 8.954\\\\\\end{array}\\right)\\end{equation*}"
      ],
      "text/plain": [
       "Quantum object: dims = [[2, 2, 2, 2, 2, 2, 2], [2, 2, 2, 2, 2, 2, 2]], shape = (128, 128), type = oper, isherm = True\n",
       "Qobj data =\n",
       "[[-9.89601686  0.          0.         ...  0.          0.\n",
       "   0.        ]\n",
       " [ 0.         -9.73893723 -0.31415927 ...  0.          0.\n",
       "   0.        ]\n",
       " [ 0.         -0.31415927 -6.44026494 ...  0.          0.\n",
       "   0.        ]\n",
       " ...\n",
       " [ 0.          0.          0.         ...  6.12610567 -0.31415927\n",
       "   0.        ]\n",
       " [ 0.          0.          0.         ... -0.31415927  9.1106187\n",
       "   0.        ]\n",
       " [ 0.          0.          0.         ...  0.          0.\n",
       "   8.95353906]]"
      ]
     },
     "execution_count": 47,
     "metadata": {},
     "output_type": "execute_result"
    }
   ],
   "source": [
    "N = 7\n",
    "\n",
    "spin_ops_list = me.one_body_spin_ops(N)\n",
    "Heisenberg_Hamiltonian_tests(spin_ops_list, N)\n",
    "\n",
    "magnetization = sum(spin_ops_list[3][a] for a in range(len(spin_ops_list[3])))\n",
    "\n",
    "chain_type = \"XXZ\"; Hamiltonian_paras = [.2, .15, .1, 1.]\n",
    "H_H = Heisenberg_Hamiltonian(spin_ops_list, chain_type, N, False, Hamiltonian_paras, False)\n",
    "H_H"
   ]
  },
  {
   "cell_type": "code",
   "execution_count": null,
   "id": "152642fe",
   "metadata": {},
   "outputs": [],
   "source": [
    "\n",
    "me.commutator(H_H, magnetization)"
   ]
  }
 ],
 "metadata": {
  "kernelspec": {
   "display_name": "Python 3 (ipykernel)",
   "language": "python",
   "name": "python3"
  },
  "language_info": {
   "codemirror_mode": {
    "name": "ipython",
    "version": 3
   },
   "file_extension": ".py",
   "mimetype": "text/x-python",
   "name": "python",
   "nbconvert_exporter": "python",
   "pygments_lexer": "ipython3",
   "version": "3.9.12"
  }
 },
 "nbformat": 4,
 "nbformat_minor": 5
}
