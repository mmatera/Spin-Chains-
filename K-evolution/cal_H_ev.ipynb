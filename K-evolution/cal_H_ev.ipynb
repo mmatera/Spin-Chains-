{
 "cells": [
  {
   "cell_type": "code",
   "execution_count": 1,
   "id": "49fe5b4d",
   "metadata": {
    "scrolled": true
   },
   "outputs": [],
   "source": [
    "import qutip\n",
    "import matplotlib.pyplot as plt \n",
    "import numpy as np\n",
    "import scipy.optimize as opt \n",
    "import scipy.linalg as linalg\n",
    "import pickle\n",
    "import time as time\n",
    "import math, cmath\n",
    "import sys\n",
    "import auxiliary_library as me\n",
    "\n",
    "from IPython.display import display, Math, Latex"
   ]
  },
  {
   "cell_type": "code",
   "execution_count": 2,
   "id": "a6a4d922",
   "metadata": {
    "scrolled": false
   },
   "outputs": [
    {
     "name": "stdout",
     "output_type": "stream",
     "text": [
      "x_op not hermitian\n",
      "p_op not hermitian\n",
      "comm_xp not hermitian\n",
      "corr_xp not hermitian\n",
      "p_dot not hermitian\n"
     ]
    }
   ],
   "source": [
    "N = 7\n",
    "spin_ops_list = me.one_body_spin_ops(N)\n",
    "\n",
    "### Heisenberg Hamiltonian\n",
    "chain_type = \"XXZ\"; Hamiltonian_paras = [.2, .15, .1, 1.]\n",
    "H_H = me.Heisenberg_Hamiltonian(spin_ops_list, chain_type, N, False, Hamiltonian_paras, False)\n",
    "\n",
    "### \n",
    "\n",
    "magnetization = sum(spin_ops_list[3][a] for a in range(len(spin_ops_list[3])))\n",
    "neel_operator = sum((-1)**a * spin_ops_list[3][a] for a in range(len(spin_ops_list[3])))\n",
    "### n_oc_op = sum((spin_ops_list[3][a] + .5 * qutip))\n",
    "A = [x_op, p_op, comm_xp_op, corr_xp_op, p_dot] = me.classical_ops(H_H, spin_ops_list, chain_type, N, Hamiltonian_paras)\n"
   ]
  },
  {
   "cell_type": "code",
   "execution_count": null,
   "id": "aeec858a",
   "metadata": {},
   "outputs": [],
   "source": []
  }
 ],
 "metadata": {
  "kernelspec": {
   "display_name": "Python 3 (ipykernel)",
   "language": "python",
   "name": "python3"
  },
  "language_info": {
   "codemirror_mode": {
    "name": "ipython",
    "version": 3
   },
   "file_extension": ".py",
   "mimetype": "text/x-python",
   "name": "python",
   "nbconvert_exporter": "python",
   "pygments_lexer": "ipython3",
   "version": "3.10.4"
  }
 },
 "nbformat": 4,
 "nbformat_minor": 5
}
