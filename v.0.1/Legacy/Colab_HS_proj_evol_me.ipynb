{
  "nbformat": 4,
  "nbformat_minor": 0,
  "metadata": {
    "colab": {
      "name": "Untitled2.ipynb",
      "provenance": [],
      "authorship_tag": "ABX9TyO6YysLlHnFpzsALdYjXZgz",
      "include_colab_link": true
    },
    "kernelspec": {
      "name": "python3",
      "display_name": "Python 3"
    },
    "language_info": {
      "name": "python"
    }
  },
  "cells": [
    {
      "cell_type": "markdown",
      "metadata": {
        "id": "view-in-github",
        "colab_type": "text"
      },
      "source": [
        "<a href=\"https://colab.research.google.com/github/licTomasPerez/Spin-Chains-/blob/main/Colab_HS_proj_evol_me.ipynb\" target=\"_parent\"><img src=\"https://colab.research.google.com/assets/colab-badge.svg\" alt=\"Open In Colab\"/></a>"
      ]
    },
    {
      "cell_type": "code",
      "execution_count": 1,
      "metadata": {
        "colab": {
          "base_uri": "https://localhost:8080/"
        },
        "id": "B3uVcSYxGxm2",
        "outputId": "08cc3342-be52-45c8-f5e7-3786239d0783"
      },
      "outputs": [
        {
          "output_type": "stream",
          "name": "stdout",
          "text": [
            "Looking in indexes: https://pypi.org/simple, https://us-python.pkg.dev/colab-wheels/public/simple/\n",
            "Collecting qutip\n",
            "  Downloading qutip-4.7.0-cp37-cp37m-manylinux_2_5_x86_64.manylinux1_x86_64.manylinux_2_12_x86_64.manylinux2010_x86_64.whl (14.7 MB)\n",
            "\u001b[K     |████████████████████████████████| 14.7 MB 4.6 MB/s \n",
            "\u001b[?25hRequirement already satisfied: numpy>=1.16.6 in /usr/local/lib/python3.7/dist-packages (from qutip) (1.21.6)\n",
            "Requirement already satisfied: packaging in /usr/local/lib/python3.7/dist-packages (from qutip) (21.3)\n",
            "Requirement already satisfied: scipy>=1.0 in /usr/local/lib/python3.7/dist-packages (from qutip) (1.4.1)\n",
            "Requirement already satisfied: pyparsing!=3.0.5,>=2.0.2 in /usr/local/lib/python3.7/dist-packages (from packaging->qutip) (3.0.9)\n",
            "Installing collected packages: qutip\n",
            "Successfully installed qutip-4.7.0\n",
            "Looking in indexes: https://pypi.org/simple, https://us-python.pkg.dev/colab-wheels/public/simple/\n",
            "Requirement already satisfied: scipy in /usr/local/lib/python3.7/dist-packages (1.4.1)\n",
            "Requirement already satisfied: numpy>=1.13.3 in /usr/local/lib/python3.7/dist-packages (from scipy) (1.21.6)\n",
            "Looking in indexes: https://pypi.org/simple, https://us-python.pkg.dev/colab-wheels/public/simple/\n",
            "Requirement already satisfied: matplotlib.inline in /usr/local/lib/python3.7/dist-packages (0.1.3)\n",
            "Requirement already satisfied: traitlets in /usr/local/lib/python3.7/dist-packages (from matplotlib.inline) (5.1.1)\n",
            "Looking in indexes: https://pypi.org/simple, https://us-python.pkg.dev/colab-wheels/public/simple/\n",
            "Requirement already satisfied: numpy in /usr/local/lib/python3.7/dist-packages (1.21.6)\n"
          ]
        }
      ],
      "source": [
        "!pip install qutip\n",
        "!pip install scipy\n",
        "!pip install matplotlib.inline\n",
        "!pip install numpy"
      ]
    },
    {
      "cell_type": "code",
      "source": [
        "import qutip\n",
        "import matplotlib.pyplot as plt \n",
        "import numpy as np\n",
        "import scipy.optimize as opt \n",
        "import pickle\n",
        "import math, cmath\n",
        "\n",
        "from IPython.display import display, Math, Latex"
      ],
      "metadata": {
        "id": "Tdf0hBGBGzaA"
      },
      "execution_count": 2,
      "outputs": []
    },
    {
      "cell_type": "code",
      "source": [
        "N = 3            # número de spines\n",
        "\n",
        "h  = 1.0 * 2 * np.pi * np.ones(N) \n",
        "Jx = 0.15 * 2 * np.pi * np.ones(N)\n",
        "Jy = 0.25 * 2 * np.pi * np.ones(N)\n",
        "Jz = 0.1 * 2 * np.pi * np.ones(N)"
      ],
      "metadata": {
        "id": "9u-L7e-XHE7x"
      },
      "execution_count": 4,
      "outputs": []
    },
    {
      "cell_type": "code",
      "source": [
        "id2 = qutip.qeye(2)\n",
        "sx = .5*qutip.sigmax()\n",
        "sy = .5*qutip.sigmay()\n",
        "sz = .5*qutip.sigmaz()\n",
        "\n",
        "def one_body_spin_ops(N):\n",
        "    loc_sx_list = []\n",
        "    loc_sy_list = []\n",
        "    loc_sz_list = []\n",
        "    for n in range(N):\n",
        "        operator_list = []\n",
        "        for m in range(N):\n",
        "            operator_list.append(id2)\n",
        "        operator_list[n] = sx\n",
        "        loc_sx_list.append(qutip.tensor(operator_list))\n",
        "        operator_list[n] = sy\n",
        "        loc_sy_list.append(qutip.tensor(operator_list))\n",
        "        operator_list[n] = sz\n",
        "        loc_sz_list.append(qutip.tensor(operator_list))\n",
        "    return loc_sx_list, loc_sy_list, loc_sz_list\n",
        "\n",
        "def Heisenberg_hamiltonian (N, Jx, Jy, Jz, h, sx_list, sy_list, sz_list):\n",
        "    H = 0;\n",
        "    for n in range(N):\n",
        "        H += -0.5*h[n]*sz_list[n]\n",
        "        \n",
        "    for n in range(N-1):\n",
        "        H += -0.5 * Jx[n] * sx_list[n] * sx_list[n+1]\n",
        "        H += -0.5 * Jy[n] * sy_list[n] * sy_list[n+1]\n",
        "        H += -0.5 * Jz[n] * sz_list[n] * sz_list[n+1]\n",
        "    return H\n",
        "\n",
        "def free_particle_ops(N, sz_list):\n",
        "    H_H = Heisenberg_hamiltonian (N, Jx, Jy, Jz, h, sx_list, sy_list, sz_list)\n",
        "    loc_x_op = sum((.5 - sz_list[a])*(a+1) for a in range(N))\n",
        "    loc_p_op = 1j * (loc_x_op*H_H - H_H*loc_x_op)\n",
        "    loc_comm_xp = .5*(loc_x_op*loc_p_op + loc_p_op*loc_x_op)\n",
        "    loc_corr_xp = -1j*(loc_x_op*loc_p_op - loc_p_op*loc_x_op)\n",
        "    loc_p_dot = 1j*(H_H * loc_p_op - loc_p_op * H_H)\n",
        "    return loc_x_op, loc_p_op, loc_comm_xp, loc_corr_xp, loc_p_dot"
      ],
      "metadata": {
        "id": "4NObYrj2HFSx"
      },
      "execution_count": 29,
      "outputs": []
    },
    {
      "cell_type": "code",
      "source": [
        "spin_list = one_body_spin_ops(N)\n",
        "sx_list = spin_list[0]\n",
        "sy_list = spin_list[1]\n",
        "sz_list = spin_list[2]"
      ],
      "metadata": {
        "id": "tFprtaJnHOz-"
      },
      "execution_count": 30,
      "outputs": []
    },
    {
      "cell_type": "code",
      "source": [
        "H_H = Heisenberg_hamiltonian(N, Jx, Jy, Jz, h, sx_list, sy_list, sz_list)\n",
        "H_H"
      ],
      "metadata": {
        "colab": {
          "base_uri": "https://localhost:8080/",
          "height": 54
        },
        "id": "gj4T77N2HPE3",
        "outputId": "0c0c45ea-3fd3-4fe3-d2da-cf38e0ca41dd"
      },
      "execution_count": 31,
      "outputs": [
        {
          "output_type": "execute_result",
          "data": {
            "text/plain": [
              "Quantum object: dims = [[2, 2, 2], [2, 2, 2]], shape = (8, 8), type = oper, isherm = True\n",
              "Qobj data =\n",
              "[[-4.86946861  0.          0.          0.07853982  0.          0.\n",
              "   0.07853982  0.        ]\n",
              " [ 0.         -1.57079633 -0.31415927  0.          0.          0.\n",
              "   0.          0.07853982]\n",
              " [ 0.         -0.31415927 -1.41371669  0.         -0.31415927  0.\n",
              "   0.          0.        ]\n",
              " [ 0.07853982  0.          0.          1.57079633  0.         -0.31415927\n",
              "   0.          0.        ]\n",
              " [ 0.          0.         -0.31415927  0.         -1.57079633  0.\n",
              "   0.          0.07853982]\n",
              " [ 0.          0.          0.         -0.31415927  0.          1.72787596\n",
              "  -0.31415927  0.        ]\n",
              " [ 0.07853982  0.          0.          0.          0.         -0.31415927\n",
              "   1.57079633  0.        ]\n",
              " [ 0.          0.07853982  0.          0.          0.07853982  0.\n",
              "   0.          4.55530935]]"
            ],
            "text/latex": "Quantum object: dims = [[2, 2, 2], [2, 2, 2]], shape = (8, 8), type = oper, isherm = True\\begin{equation*}\\left(\\begin{array}{*{11}c}-4.869 & 0.0 & 0.0 & 0.079 & 0.0 & 0.0 & 0.079 & 0.0\\\\0.0 & -1.571 & -0.314 & 0.0 & 0.0 & 0.0 & 0.0 & 0.079\\\\0.0 & -0.314 & -1.414 & 0.0 & -0.314 & 0.0 & 0.0 & 0.0\\\\0.079 & 0.0 & 0.0 & 1.571 & 0.0 & -0.314 & 0.0 & 0.0\\\\0.0 & 0.0 & -0.314 & 0.0 & -1.571 & 0.0 & 0.0 & 0.079\\\\0.0 & 0.0 & 0.0 & -0.314 & 0.0 & 1.728 & -0.314 & 0.0\\\\0.079 & 0.0 & 0.0 & 0.0 & 0.0 & -0.314 & 1.571 & 0.0\\\\0.0 & 0.079 & 0.0 & 0.0 & 0.079 & 0.0 & 0.0 & 4.555\\\\\\end{array}\\right)\\end{equation*}"
          },
          "metadata": {},
          "execution_count": 31
        }
      ]
    },
    {
      "cell_type": "code",
      "source": [
        "## Free particles-Operators en términos de los operadores de spin\n",
        "fplists = free_particle_ops(N, sz_list)\n",
        "\n",
        "x_op = fplists[0]\n",
        "p_op = fplists[1]\n",
        "comm_xp = fplists[2]\n",
        "corr_xp = fplists[3]\n",
        "\n",
        "p_dot = fplists[4]"
      ],
      "metadata": {
        "id": "Uujd4QKzHPIB"
      },
      "execution_count": 32,
      "outputs": []
    },
    {
      "cell_type": "code",
      "source": [
        "entropy_VN = []\n",
        "def callback_entropy_VN (t,rhot):\n",
        "    entropy_VN.append(qutip.entropy_vn(rhot))"
      ],
      "metadata": {
        "id": "IEnVaEirHPNF"
      },
      "execution_count": 33,
      "outputs": []
    },
    {
      "cell_type": "code",
      "source": [
        "def prod_basis(b1, b2):\n",
        "    return [qutip.tensor(b,s) for b in b1 for s in b2]\n",
        "\n",
        "def scalar_prod(op1, op2, rho0 = None):\n",
        "    if op1.dims[0][0]!=op2.dims[0][0]:\n",
        "        return \"Incompatible Qobj dimensions\"\n",
        "    if rho0 is None:\n",
        "        rho0 = qutip.qeye(op1.dims[0])/op1.dims[0][0]\n",
        "    result = .5*(rho0*(op1*op2.dag()+op2.dag()*op1)).tr()\n",
        "    result = result.real\n",
        "    return result\n",
        "\n",
        "def base_orth(ops, rho0):\n",
        "    if isinstance(ops[0], list):\n",
        "        ops = [op for op1l in ops for op in op1l]\n",
        "      #print(type(ops),type(ops[0]))\n",
        "    dim = ops[0].dims[0][0]\n",
        "      #print(\"dim=\",dim)\n",
        "    basis = []\n",
        "    for i, op in enumerate(ops): \n",
        "        alpha = [scalar_prod(op2, op, rho0) for op2 in basis]\n",
        "        op_mod = op - sum([c*op2 for c, op2, in zip(alpha, basis)])\n",
        "        op_norm = np.sqrt(scalar_prod(op_mod,op_mod,rho0))\n",
        "        if op_norm<1.e-12:\n",
        "            continue\n",
        "        op_mod = op_mod/(op_norm)\n",
        "        basis.append(op_mod)\n",
        "    return basis\n",
        "\n",
        "def logM(rho):\n",
        "    eigvals, eigvecs = rho.eigenstates()\n",
        "    return sum([np.log(vl)*vc*vc.dag() for vl, vc in zip(eigvals, eigvecs) if vl > 0])\n",
        "\n",
        "def sqrtM(rho):\n",
        "    eigvals, eigvecs = rho.eigenstates()\n",
        "    return sum([(abs(vl)**.5)*vc*vc.dag() for vl, vc in zip(eigvals, eigvecs)])\n",
        "\n",
        "def proj_op(K, basis, rho0):\n",
        "    return sum([scalar_prod(b, K,rho0) * b for b in basis])\n",
        "\n",
        "def rel_entropy(rho, sigma):\n",
        "    val = (rho*(logM(rho)-logM(sigma))).tr()\n",
        "    if abs(val.imag)>1.e-6:\n",
        "        print(\"rho or sigma not positive\")\n",
        "        #print(rho.eigenstates())\n",
        "        #print(sigma.eigenstates())\n",
        "    return val.real\n",
        "\n",
        "def bures(rho, sigma):\n",
        "    val = abs((sqrtM(rho)*sqrtM(sigma)).tr())\n",
        "    val = max(min(val,1.),-1.)\n",
        "    return np.arccos(val)/np.pi\n",
        "        \n",
        "def maxent_rho(rho, basis):   \n",
        "    def test(x, rho, basis):\n",
        "        k = sum([-u*b for u,b in zip(x, basis)])        \n",
        "        sigma = (.5*(k+k.dag())).expm()\n",
        "        sigma = sigma/sigma.tr()\n",
        "        return rel_entropy(rho, sigma)    \n",
        "    res = opt.minimize(test,np.zeros(len(basis)),args=(rho,basis))\n",
        "    k = sum([-u*b for u,b in zip(res.x, basis)])        \n",
        "    sigma = (.5*(k+k.dag())).expm()\n",
        "    sigma = sigma/sigma.tr()\n",
        "    return sigma\n",
        " \n",
        "def error_maxent_state(rho, basis, distance=bures):\n",
        "    try:\n",
        "        sigma = maxent_rho(rho, basis)\n",
        "        return distance(rho,sigma)\n",
        "    except:\n",
        "        print(\"fail error max-ent state\")\n",
        "        return None\n",
        "       \n",
        "def error_proj_state(rho, rho0, basis, distance=bures):\n",
        "    try:\n",
        "        basis = base_orth(basis, rho0)\n",
        "    except:\n",
        "        print(\"orth error\")\n",
        "        raise\n",
        "    try:\n",
        "        sigma = proj_op(logM(rho), basis, rho0).expm()\n",
        "        sigma = (sigma+sigma.dag())/(2.*sigma.tr())\n",
        "    except:\n",
        "        print(\"gram error\")\n",
        "    try:\n",
        "        return distance(rho, sigma)\n",
        "    except:\n",
        "        print(\"fail error proj state\")\n",
        "        return None\n",
        "\n",
        "def spin_dephasing(gamma):\n",
        "    loc_c_op_list = []\n",
        "    collapse_weights = gamma * np.ones(N)\n",
        "    for n in range(N):\n",
        "        if collapse_weights[n] > 0.0:\n",
        "           loc_c_op_list.append(np.sqrt(collapse_weights[n]) * sz_list[n])\n",
        "    return loc_c_op_list"
      ],
      "metadata": {
        "id": "XiZ4Xt_9G3U8"
      },
      "execution_count": 34,
      "outputs": []
    },
    {
      "cell_type": "code",
      "source": [
        "# Estas definiciones quedaron obsoletas pero sirven para el testeo de la n_body_basis\n",
        "\n",
        "globalid = qutip.tensor([qutip.qeye(2) for k in range(N)])\n",
        "globalid_list = []\n",
        "\n",
        "one_site_basis = globalid_list + sx_list + sy_list + sz_list \n",
        "two_site_basis = [op1*op2 for op1 in one_site_basis for op2 in one_site_basis]\n",
        "\n",
        "tercera_base = [op*op3 for op in two_site_basis for op3 in one_site_basis]\n",
        "three_site_basis = [op1*op2*op3 for op1 in one_site_basis for op2 in one_site_basis for op3 in one_site_basis]\n",
        "\n",
        "cuarta_base = [op*op4 for op in three_site_basis for op4 in one_site_basis]\n",
        "four_site_basis = [op1*op2*op3*op4 for op1 in one_site_basis for op2 in one_site_basis for op3 in one_site_basis for op4 in one_site_basis]"
      ],
      "metadata": {
        "id": "K6DiWLRLHa0n"
      },
      "execution_count": 35,
      "outputs": []
    },
    {
      "cell_type": "code",
      "source": [
        "# def isnatural(x):\n",
        "#   return isinstance(x, int) and 0 <= x <= 9\n",
        "\n",
        "## globalid_list tiene N operadores anidados\n",
        "## sx_list, sy_list, sz_list ídem, N operadores c/u. \n",
        "## La 1-base completa tiene 4N operadores de 1-cuerpo\n",
        "## La 2-base completa tiene 4N*{4N} operadores de 2-cuerpos\n",
        "## La 3-base completa tiene {4N*{4N}}*4N} operadores \n",
        "\n",
        "for i in range(N):\n",
        "    globalid_list.append(globalid)\n",
        "\n",
        "natural = tuple('123456789')\n",
        "\n",
        "def n_body_basis(n):\n",
        "    basis = []\n",
        "    if (isinstance(n,int) and str(n) in natural):\n",
        "        if (n == 1):\n",
        "            basis = globalid_list + sx_list + sy_list + sz_list\n",
        "        elif (n > 1):\n",
        "            basis = [op1*op2 for op1 in n_body_basis(n-1) for op2 in n_body_basis(1)]\n",
        "    else:\n",
        "        basis = 'beep boop, n must be natural'\n",
        "    #return base_orth(basis, globalid)\n",
        "    return basis"
      ],
      "metadata": {
        "id": "qS2MLDM2HeRz"
      },
      "execution_count": 36,
      "outputs": []
    },
    {
      "cell_type": "code",
      "source": [
        "uno_a_cuatro_bases = []\n",
        "uno_a_cuatro_bases.append(one_site_basis)\n",
        "uno_a_cuatro_bases.append(two_site_basis)\n",
        "uno_a_cuatro_bases.append(three_site_basis)\n",
        "uno_a_cuatro_bases.append(four_site_basis)\n",
        "\n",
        "def basis_defs_test():\n",
        "    boolean = False \n",
        "    for n in range(4): \n",
        "        for m in range(3):\n",
        "            if (n_body_basis(n+1) == uno_a_cuatro_bases[m] and n != m):\n",
        "                print('Error: Two different index basis definitions equal', boolean)\n",
        "            if (n_body_basis(n+1) != uno_a_cuatro_bases[m] and n == m):\n",
        "                print('Error: Two same index basis definitions not equal', boolean)\n",
        "            else:\n",
        "                print('OK', True)\n",
        "    return None\n",
        "\n",
        "basis_defs_test()"
      ],
      "metadata": {
        "colab": {
          "base_uri": "https://localhost:8080/"
        },
        "id": "0UeMUB-PHhNQ",
        "outputId": "5f8a1e9e-e85a-463c-af51-52f68c0fb19a"
      },
      "execution_count": 37,
      "outputs": [
        {
          "output_type": "stream",
          "name": "stdout",
          "text": [
            "Error: Two same index basis definitions not equal False\n",
            "OK True\n",
            "OK True\n",
            "OK True\n",
            "Error: Two same index basis definitions not equal False\n",
            "OK True\n",
            "OK True\n",
            "OK True\n",
            "Error: Two same index basis definitions not equal False\n",
            "OK True\n",
            "OK True\n",
            "OK True\n"
          ]
        }
      ]
    },
    {
      "cell_type": "markdown",
      "source": [
        "%%latex\n",
        "\n",
        "Si quiero un estado gaussiano de operadores de un cuerpo, el más general es \n",
        "\n",
        "$$\n",
        "\\rho_{1,g} = \\exp\\bigg(\\alpha I_N + {\\bf a}_1 \\cdot {\\bf s}_x+{\\bf a}_2 \\cdot {\\bf s}_y+{\\bf a}_3 \\cdot {\\bf s}_z\\bigg) \n",
        "$$\n",
        "\n",
        "análogamente con estados gaussianos de operadores de dos cuerpos (pero ya ahí se me va al carajo).\n",
        "Si en cambio, considero un estado no gaussiano, puedo considerar un estado inicial descorrelacionado de la forma de \n",
        "\n",
        "$$\n",
        "\\rho_0 = x |\\Phi\\rangle \\langle\\Phi| + (1-x)\\frac{{I_d}}{d}\n",
        "$$"
      ],
      "metadata": {
        "id": "5fWk444pHnYq"
      }
    },
    {
      "cell_type": "code",
      "source": [
        "coeff_matrix = ((1,1,1),\n",
        "                 (1/3,1/3,1/3),\n",
        "                 (1/3,1/3,1/3),\n",
        "                 (1/3,1/3,1/3),)\n",
        "\n",
        "def initial_state_gng(x = .5, psi0 = None, gaussian = True):\n",
        "    K1 = 0; K2 = 0; K3 = 0; loc_rho0=0\n",
        "    if gaussian: \n",
        "        K1 = sum(coeff_matrix[1][a]*sx_list[a] for a in range(N))\n",
        "        K2 = sum(coeff_matrix[2][a]*sy_list[a] for a in range(N))\n",
        "        K3 = sum(coeff_matrix[3][a]*sz_list[a] for a in range(N))\n",
        "        loc_rho0 = (globalid+K1+K2+K3).expm()\n",
        "    else:\n",
        "        loc_rho0 = psi0 * psi0.dag()\n",
        "        loc_rho0 = x * rho0/rho0.tr() + (1-x) * globalid * .5**N\n",
        "    return loc_rho0"
      ],
      "metadata": {
        "id": "FOfU_8KpIcPv"
      },
      "execution_count": 38,
      "outputs": []
    },
    {
      "cell_type": "code",
      "source": [
        "psi1_list = []; psi2_list = []\n",
        "psi1_list.append(qutip.basis(2,1))\n",
        "for n in range(N-1):\n",
        "    psi1_list.append(qutip.basis(2,0))\n",
        "\n",
        "psi2_list.append(qutip.basis(2,0))\n",
        "psi2_list.append(qutip.basis(2,1))\n",
        "for n in range(N-2):\n",
        "    psi2_list.append(qutip.basis(2,0))\n",
        "\n",
        "psi01 = qutip.tensor(psi1_list); psi02 = qutip.tensor(psi2_list) \n",
        "psi0 = psi01+psi02 \n",
        "\n",
        "rho0 = initial_state_gng(.5, psi0, True)\n",
        "print(rho0)"
      ],
      "metadata": {
        "colab": {
          "base_uri": "https://localhost:8080/"
        },
        "id": "aZ4-dZDXHlev",
        "outputId": "e7078079-1165-4e2a-e5fe-702035c4cc5a"
      },
      "execution_count": 39,
      "outputs": [
        {
          "output_type": "stream",
          "name": "stdout",
          "text": [
            "Quantum object: dims = [[2, 2, 2], [2, 2, 2]], shape = (8, 8), type = oper, isherm = True\n",
            "Qobj data =\n",
            "[[ 4.82692923+0.j          0.67361135-0.67361135j  0.67361135-0.67361135j\n",
            "   0.        -0.18800866j  0.67361135-0.67361135j  0.        -0.18800866j\n",
            "   0.        -0.18800866j -0.02623713-0.02623713j]\n",
            " [ 0.67361135+0.67361135j  3.47970652+0.j          0.18800866+0.j\n",
            "   0.48560269-0.48560269j  0.18800866+0.j          0.48560269-0.48560269j\n",
            "   0.02623713-0.02623713j  0.        -0.1355344j ]\n",
            " [ 0.67361135+0.67361135j  0.18800866+0.j          3.47970652+0.j\n",
            "   0.48560269-0.48560269j  0.18800866+0.j          0.02623713-0.02623713j\n",
            "   0.48560269-0.48560269j  0.        -0.1355344j ]\n",
            " [ 0.        +0.18800866j  0.48560269+0.48560269j  0.48560269+0.48560269j\n",
            "   2.50850114+0.j          0.02623713+0.02623713j  0.1355344 +0.j\n",
            "   0.1355344 +0.j          0.35006829-0.35006829j]\n",
            " [ 0.67361135+0.67361135j  0.18800866+0.j          0.18800866+0.j\n",
            "   0.02623713-0.02623713j  3.47970652+0.j          0.48560269-0.48560269j\n",
            "   0.48560269-0.48560269j  0.        -0.1355344j ]\n",
            " [ 0.        +0.18800866j  0.48560269+0.48560269j  0.02623713+0.02623713j\n",
            "   0.1355344 +0.j          0.48560269+0.48560269j  2.50850114+0.j\n",
            "   0.1355344 +0.j          0.35006829-0.35006829j]\n",
            " [ 0.        +0.18800866j  0.02623713+0.02623713j  0.48560269+0.48560269j\n",
            "   0.1355344 +0.j          0.48560269+0.48560269j  0.1355344 +0.j\n",
            "   2.50850114+0.j          0.35006829-0.35006829j]\n",
            " [-0.02623713+0.02623713j  0.        +0.1355344j   0.        +0.1355344j\n",
            "   0.35006829+0.35006829j  0.        +0.1355344j   0.35006829+0.35006829j\n",
            "   0.35006829+0.35006829j  1.80836457+0.j        ]]\n"
          ]
        }
      ]
    },
    {
      "cell_type": "code",
      "source": [
        "class Result(object):\n",
        "    def __init__(self, ts=None, states=None):\n",
        "        self.ts = ts\n",
        "        self.states = states\n",
        "        self.projrho0_app = None   \n",
        "        self.projrho_inst_app = None \n",
        "\n",
        "def callback(t, rhot):\n",
        "  global rho\n",
        "  rho = rhot\n",
        "\n",
        "def projected_evolution(x=.5, gamma = 1*np.e*-2, omega_1=3., omega_2=3.,temp=1, gaussian=False, deltat=10., tmax = 500., distance=bures, do_project=True):\n",
        "    global rho\n",
        "    H_H = Heisenberg_hamiltonian(N, Jx, Jy, Jz, h, sx_list, sy_list, sz_list)\n",
        "    globalid = qutip.tensor([qutip.qeye(2) for k in range(N)])\n",
        "\n",
        "    # Algunos problemas que tiene el problema cómo está planteado ahora:\n",
        "    # * rho0 debería ser un estado descorrelacionado. Aquí estamos estando el estado inicial,\n",
        "    #   que es un estado entrelazado\n",
        "    # * El estado inicial no pertenece a la variedad Max-Ent: Para que esto funcione, deberíamos, o bien proyectar el estado inicial a la variedad,\n",
        "    # o bien agregar el log(rho0) a la base de operadores. \n",
        "\n",
        "    rho0 = initial_state_gng(.5, psi0, True)\n",
        "    #rho0 = x * rho0/rho0.tr() + (1-x) * globalid * .5**N\n",
        "    basis = base_orth(n_body_basis(2), globalid)\n",
        "    # Hamiltoniano    \n",
        "\n",
        "    obs = [x_op, p_op]\n",
        "           #, x_op**2,p_op**2, corr_op, p_dot]\n",
        "\n",
        "    sampling = max(int(10*max(1,omega_1, omega_2)*deltat), 10)\n",
        "    print(\"sampling:\", sampling)\n",
        "    c_op_list = spin_dephasing(gamma)\n",
        "    rho = rho0\n",
        "    approx_exp_vals = [[qutip.expect(op, rho) for op in obs]]\n",
        "    ts= [0]\n",
        "\n",
        "    for i in range(int(tmax/deltat)):\n",
        "        qutip.mesolve(H=H_H, \n",
        "                               rho0=rho, \n",
        "                               tlist=np.linspace(0,deltat, sampling), \n",
        "                               c_ops=c_op_list, \n",
        "                               e_ops=callback,\n",
        "                               args={'gamma': gamma,'omega_1': omega_1, 'omega_2': omega_2}\n",
        "                               )\n",
        "        ts.append(deltat*i)\n",
        "        if do_project:\n",
        "          rho = proj_op(logM(rho), basis, rho0)\n",
        "          e0 = max(rho.eigenenergies())\n",
        "          rho = rho - globalid * e0\n",
        "          rho = rho.expm()\n",
        "          trrho = (2.*rho.tr())\n",
        "          rho = (rho+rho.dag())/trrho\n",
        "\n",
        "        print(qutip.entropy.entropy_vn(rho))\n",
        "        newobs = [qutip.expect(rho, op) for op in obs]\n",
        "        approx_exp_vals.append(newobs)\n",
        "\n",
        "    result = {}\n",
        "    result[\"ts\"] = ts\n",
        "    result[\"averages\"] = np.array(approx_exp_vals)\n",
        "    \n",
        "    title = f\" BW Dinámica cerrada no gaussiana wb1={omega_1} wb2={omega_2}\" \n",
        "    if do_project:\n",
        "      title = title + \"_projected_\"\n",
        "\n",
        "    with open(title+\".pkl\",\"wb\") as f:\n",
        "        pickle.dump(result, f)\n",
        "    return result"
      ],
      "metadata": {
        "id": "t6T3QZFsHw66"
      },
      "execution_count": 42,
      "outputs": []
    },
    {
      "cell_type": "code",
      "source": [
        "results = projected_evolution(x=.001, gamma = 1*np.e*-10, omega_1=3., omega_2=3.,temp=1, gaussian=False, deltat=1, tmax = 20, distance=bures,do_project=True)\n",
        "\n",
        "plt.plot(results[\"ts\"], results[\"averages\"][:,0], label=\"x Projected\")\n",
        "results = projected_evolution(x=.001, gamma = 1*np.e*-10, omega_1=3., omega_2=3.,temp=1, gaussian=False, deltat=1, tmax = 20, distance=bures,do_project=False)\n",
        "plt.scatter(results[\"ts\"], results[\"averages\"][:,0], label=\"x exact\")\n",
        "plt.legend()\n"
      ],
      "metadata": {
        "colab": {
          "base_uri": "https://localhost:8080/",
          "height": 1000
        },
        "id": "q9s6L-iWHyxL",
        "outputId": "70574990-4946-4ab0-c9d1-b38a9ff99cd2"
      },
      "execution_count": 43,
      "outputs": [
        {
          "output_type": "stream",
          "name": "stdout",
          "text": [
            "sampling: 30\n",
            "0.6349835171200418\n",
            "0.015258278092563972\n",
            "0.29716559781307933\n",
            "0.005582285367797754\n",
            "2.0642631524154943e-08\n",
            "0.06834650709774995\n",
            "7.03953266720413e-07\n",
            "1.0964883943016042e-09\n",
            "1.163776563432409e-06\n",
            "0.0002214135595754499\n",
            "0.1534247822187492\n",
            "0.005150971914763155\n",
            "0.00010149146408965041\n",
            "8.954399612552566e-07\n",
            "9.07728795648103e-07\n",
            "7.995749310346336e-06\n",
            "3.5002921752228436e-06\n",
            "1.2439577886347454e-05\n",
            "7.106423899914128e-08\n",
            "2.495000229381427e-05\n",
            "sampling: 30\n",
            "-30.584570996266965\n",
            "-30.584570210146456\n",
            "-30.584569427351745\n",
            "-30.584568326042653\n",
            "-30.58456727910111\n",
            "-30.584566294765306\n",
            "-30.584565317974523\n",
            "-30.584564336336918\n",
            "-30.584563698286566\n",
            "-30.584563015523685\n",
            "-30.584562281656623\n",
            "-30.584561493518606\n",
            "-30.58456065651542\n",
            "-30.5845597756361\n",
            "-30.584558866629614\n",
            "-30.584557957643277\n",
            "-30.584557008970293\n",
            "-30.584556042453983\n",
            "-30.584555059275388\n",
            "-30.584554064296405\n"
          ]
        },
        {
          "output_type": "execute_result",
          "data": {
            "text/plain": [
              "<matplotlib.legend.Legend at 0x7f6e74939fd0>"
            ]
          },
          "metadata": {},
          "execution_count": 43
        },
        {
          "output_type": "display_data",
          "data": {
            "text/plain": [
              "<Figure size 432x288 with 1 Axes>"
            ],
            "image/png": "[encoded data removed]"
          },
          "metadata": {
            "needs_background": "light"
          }
        }
      ]
    },
    {
      "cell_type": "code",
      "source": [
        ""
      ],
      "metadata": {
        "id": "d7QLRkgdJO4O"
      },
      "execution_count": null,
      "outputs": []
    }
  ]
}
